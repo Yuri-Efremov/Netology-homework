{
 "cells": [
  {
   "cell_type": "markdown",
   "metadata": {
    "id": "_kX74ytuOfgy"
   },
   "source": [
    "# Домашнее задание \"Основные математические понятия\"."
   ]
  },
  {
   "cell_type": "markdown",
   "metadata": {
    "id": "t69IZulqTZMz"
   },
   "source": [
    "## Уровень 0:\n"
   ]
  },
  {
   "cell_type": "markdown",
   "metadata": {
    "id": "rzDIWhwiKxdO"
   },
   "source": [
    "Представим фильмы в виде бинарных векторов (numpy array) используя следующие признаки:\n",
    "\n",
    "[Комедия, Боевик, Исторический, Бред Питт, Бенедикт Камбербэтч, Квентин Тарантино]\n",
    "\n",
    "[Игра в имитацию](https://www.kinopoisk.ru/film/635772/)\n",
    "\n",
    "[Ярость](https://www.kinopoisk.ru/film/740644/)\n",
    "\n",
    "[12 лет рабства](https://www.kinopoisk.ru/film/606646/)\n",
    "\n",
    "[Однажды в Голливуде](https://www.kinopoisk.ru/film/1047883/)\n",
    "\n",
    "```\n",
    "film_1 = np.array([0,0,0,0,1,0])      # Игра в имитацию\n",
    "\n",
    "film_2 = np.array([0,1,0,1,0,0])      # Ярость\n",
    "\n",
    "film_3 = np.array([0,0,1,1,1,0])      # 12 лет рабства\n",
    "\n",
    "film_4 = np.array([1,0,0,1,0,1])      # Однажды в Голливуде\n",
    "```\n",
    "\n"
   ]
  },
  {
   "cell_type": "code",
   "execution_count": 1,
   "metadata": {},
   "outputs": [],
   "source": [
    "import numpy as np"
   ]
  },
  {
   "cell_type": "code",
   "execution_count": 2,
   "metadata": {
    "id": "eawtOZO0few8"
   },
   "outputs": [],
   "source": [
    "film_1 = np.array([0,0,0,0,1,0])      # Игра в имитацию\n",
    "\n",
    "film_2 = np.array([0,1,0,1,0,0])      # Ярость\n",
    "\n",
    "film_3 = np.array([0,0,1,1,1,0])      # 12 лет рабства\n",
    "\n",
    "film_4 = np.array([1,0,0,1,0,1])      # Однажды в Голливуде"
   ]
  },
  {
   "cell_type": "markdown",
   "metadata": {
    "id": "9JUikPzroAL8"
   },
   "source": [
    "### Задание 1"
   ]
  },
  {
   "cell_type": "markdown",
   "metadata": {
    "id": "ya8BlSO5nQ9a"
   },
   "source": [
    "Найти угол между векторами-фильмами \"Ярость\" и \"12 лет рабства\". Результатом будет являться косинусная мера, которую можно использовать для определения похожести векторов."
   ]
  },
  {
   "cell_type": "code",
   "execution_count": 3,
   "metadata": {
    "id": "p2gC3FEFnY08"
   },
   "outputs": [
    {
     "data": {
      "text/plain": [
       "0.40824829046386296"
      ]
     },
     "execution_count": 3,
     "metadata": {},
     "output_type": "execute_result"
    }
   ],
   "source": [
    "# косинус угла между векторами\n",
    "cos = np.dot(film_2, film_3) / (np.linalg.norm(film_2) * np.linalg.norm(film_3))\n",
    "cos"
   ]
  },
  {
   "cell_type": "code",
   "execution_count": 4,
   "metadata": {},
   "outputs": [
    {
     "data": {
      "text/plain": [
       "65.90515744788931"
      ]
     },
     "execution_count": 4,
     "metadata": {},
     "output_type": "execute_result"
    }
   ],
   "source": [
    "# угол между векторами\n",
    "np.rad2deg(np.arccos(cos))"
   ]
  },
  {
   "cell_type": "markdown",
   "metadata": {
    "id": "qZxS_tEVTapE"
   },
   "source": [
    "## Уровень 1:"
   ]
  },
  {
   "cell_type": "markdown",
   "metadata": {
    "id": "gUB5Tx31oDZB"
   },
   "source": [
    "### Задание 2"
   ]
  },
  {
   "cell_type": "markdown",
   "metadata": {
    "id": "Jh-pEPj-TcDQ"
   },
   "source": [
    "Вычислить с помощью Python значение первой производной для функции $8x(x+3)^2$ в точке $x=1$\n"
   ]
  },
  {
   "cell_type": "code",
   "execution_count": 5,
   "metadata": {
    "id": "uco5UzhWoHAP"
   },
   "outputs": [],
   "source": [
    "import sympy as sym"
   ]
  },
  {
   "cell_type": "code",
   "execution_count": 6,
   "metadata": {},
   "outputs": [],
   "source": [
    "# создание аналитического параметра\n",
    "x = sym.Symbol('x')"
   ]
  },
  {
   "cell_type": "code",
   "execution_count": 7,
   "metadata": {},
   "outputs": [
    {
     "data": {
      "text/latex": [
       "$\\displaystyle 8 x \\left(x + 3\\right)^{2}$"
      ],
      "text/plain": [
       "8*x*(x + 3)**2"
      ]
     },
     "execution_count": 7,
     "metadata": {},
     "output_type": "execute_result"
    }
   ],
   "source": [
    "# зададим функцию\n",
    "f = 8 * x * (x + 3)**2\n",
    "f"
   ]
  },
  {
   "cell_type": "code",
   "execution_count": 8,
   "metadata": {},
   "outputs": [
    {
     "data": {
      "text/latex": [
       "$\\displaystyle 8 x \\left(2 x + 6\\right) + 8 \\left(x + 3\\right)^{2}$"
      ],
      "text/plain": [
       "8*x*(2*x + 6) + 8*(x + 3)**2"
      ]
     },
     "execution_count": 8,
     "metadata": {},
     "output_type": "execute_result"
    }
   ],
   "source": [
    "# продифферинцируем по x, получив аналитическую производную\n",
    "res = sym.diff(f, x)\n",
    "res"
   ]
  },
  {
   "cell_type": "code",
   "execution_count": 9,
   "metadata": {},
   "outputs": [
    {
     "data": {
      "text/latex": [
       "$\\displaystyle 192$"
      ],
      "text/plain": [
       "192"
      ]
     },
     "execution_count": 9,
     "metadata": {},
     "output_type": "execute_result"
    }
   ],
   "source": [
    "# узнаем значение производной в точке x=1\n",
    "res.subs(x, 1)"
   ]
  },
  {
   "cell_type": "markdown",
   "metadata": {
    "id": "aHk7fBooosb6"
   },
   "source": [
    "### Задание 3\n"
   ]
  },
  {
   "cell_type": "markdown",
   "metadata": {
    "id": "0MFp0SProbiw"
   },
   "source": [
    "Объединить векторы фильмов в матрицу, где каждый вектор является строкой матрицы. Умножьте вектор [1,2,3,4] на полученную матрицу"
   ]
  },
  {
   "cell_type": "code",
   "execution_count": 10,
   "metadata": {
    "id": "1OeJWLrpobqU"
   },
   "outputs": [
    {
     "data": {
      "text/plain": [
       "array([[0, 0, 0, 0, 1, 0],\n",
       "       [0, 1, 0, 1, 0, 0],\n",
       "       [0, 0, 1, 1, 1, 0],\n",
       "       [1, 0, 0, 1, 0, 1]])"
      ]
     },
     "execution_count": 10,
     "metadata": {},
     "output_type": "execute_result"
    }
   ],
   "source": [
    "M = np.array([film_1, film_2, film_3, film_4])\n",
    "M"
   ]
  },
  {
   "cell_type": "code",
   "execution_count": 18,
   "metadata": {},
   "outputs": [
    {
     "data": {
      "text/plain": [
       "array([4, 2, 3, 9, 4, 4])"
      ]
     },
     "execution_count": 18,
     "metadata": {},
     "output_type": "execute_result"
    }
   ],
   "source": [
    "np.array([1,2,3,4])@M"
   ]
  }
 ],
 "metadata": {
  "colab": {
   "collapsed_sections": [],
   "name": "HW_1_upd",
   "provenance": []
  },
  "kernelspec": {
   "display_name": "Python 3 (ipykernel)",
   "language": "python",
   "name": "python3"
  },
  "language_info": {
   "codemirror_mode": {
    "name": "ipython",
    "version": 3
   },
   "file_extension": ".py",
   "mimetype": "text/x-python",
   "name": "python",
   "nbconvert_exporter": "python",
   "pygments_lexer": "ipython3",
   "version": "3.9.12"
  }
 },
 "nbformat": 4,
 "nbformat_minor": 1
}

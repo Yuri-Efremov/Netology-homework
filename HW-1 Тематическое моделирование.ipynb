{
 "cells": [
  {
   "cell_type": "markdown",
   "metadata": {
    "id": "UPMAfFl4GF2y"
   },
   "source": [
    "# Загрузка библиотек и данных"
   ]
  },
  {
   "cell_type": "code",
   "execution_count": 1,
   "metadata": {
    "id": "h1dvK7H_qauH"
   },
   "outputs": [],
   "source": [
    "import json\n",
    "import bz2\n",
    "import re\n",
    "from tqdm import tqdm\n",
    "from scipy import sparse\n",
    "import pandas as pd\n",
    "import numpy as np\n",
    "import nltk\n",
    "import matplotlib.pyplot as plt\n",
    "import seaborn as sns\n",
    "%matplotlib inline\n",
    "import warnings\n",
    "warnings.filterwarnings('ignore')"
   ]
  },
  {
   "cell_type": "code",
   "execution_count": 2,
   "metadata": {
    "colab": {
     "base_uri": "https://localhost:8080/"
    },
    "id": "UNHVsbPnqauL",
    "outputId": "5217a864-7533-4933-80c6-a71bb79cdf5a",
    "scrolled": true
   },
   "outputs": [
    {
     "name": "stderr",
     "output_type": "stream",
     "text": [
      "201030it [00:37, 5398.38it/s]\n"
     ]
    }
   ],
   "source": [
    "responses = []\n",
    "with bz2.BZ2File('banki_responses.json.bz2', 'r') as thefile:\n",
    "    for row in tqdm(thefile):\n",
    "        resp = json.loads(row)\n",
    "        if not resp['rating_not_checked'] and (len(resp['text'].split()) > 0):\n",
    "            responses.append(resp)"
   ]
  },
  {
   "cell_type": "markdown",
   "metadata": {
    "id": "F0ixYxfSqauM"
   },
   "source": [
    "\n",
    "Посмотрим на пример отзыва:"
   ]
  },
  {
   "cell_type": "code",
   "execution_count": 3,
   "metadata": {
    "colab": {
     "base_uri": "https://localhost:8080/"
    },
    "id": "IWc1rPc5GF21",
    "outputId": "42aaa478-89b2-42d4-fc96-7e64457b036f"
   },
   "outputs": [
    {
     "data": {
      "text/plain": [
       "{'city': 'г. Саратов',\n",
       " 'rating_not_checked': False,\n",
       " 'title': 'Карта ко вкладу',\n",
       " 'num_comments': 0,\n",
       " 'bank_license': 'лицензия № 880',\n",
       " 'author': 'ronnichka',\n",
       " 'bank_name': 'Югра',\n",
       " 'datetime': '2015-06-03 20:56:57',\n",
       " 'text': 'Здравствуйте! Хотела написать, что мне месяц не выдают карту ко вкладу, ссылаясь на \"нам же их из Самары везут\" (на секундочку 5 часов езды от нашего города). Но! Прочитала, что людям 3,5 месяцев не выдают карту, и поняла, что у меня все хорошо, пока что. И подарок мне дали, и кулер в отделении есть. Так что я, конечно, готова ждать. Правда хотелось бы не очень долго.',\n",
       " 'rating_grade': 3}"
      ]
     },
     "execution_count": 3,
     "metadata": {},
     "output_type": "execute_result"
    }
   ],
   "source": [
    "responses[99]"
   ]
  },
  {
   "cell_type": "code",
   "execution_count": 4,
   "metadata": {
    "id": "GxPaewePKgFp"
   },
   "outputs": [],
   "source": [
    "df = pd.DataFrame(responses)"
   ]
  },
  {
   "cell_type": "code",
   "execution_count": 5,
   "metadata": {
    "colab": {
     "base_uri": "https://localhost:8080/",
     "height": 293
    },
    "id": "jgTxuaMtLX2a",
    "outputId": "c5dd2da3-bede-48d0-980a-f01ea250453c"
   },
   "outputs": [
    {
     "data": {
      "text/html": [
       "<div>\n",
       "<style scoped>\n",
       "    .dataframe tbody tr th:only-of-type {\n",
       "        vertical-align: middle;\n",
       "    }\n",
       "\n",
       "    .dataframe tbody tr th {\n",
       "        vertical-align: top;\n",
       "    }\n",
       "\n",
       "    .dataframe thead th {\n",
       "        text-align: right;\n",
       "    }\n",
       "</style>\n",
       "<table border=\"1\" class=\"dataframe\">\n",
       "  <thead>\n",
       "    <tr style=\"text-align: right;\">\n",
       "      <th></th>\n",
       "      <th>city</th>\n",
       "      <th>rating_not_checked</th>\n",
       "      <th>title</th>\n",
       "      <th>num_comments</th>\n",
       "      <th>bank_license</th>\n",
       "      <th>author</th>\n",
       "      <th>bank_name</th>\n",
       "      <th>datetime</th>\n",
       "      <th>text</th>\n",
       "      <th>rating_grade</th>\n",
       "    </tr>\n",
       "  </thead>\n",
       "  <tbody>\n",
       "    <tr>\n",
       "      <th>0</th>\n",
       "      <td>г. Москва</td>\n",
       "      <td>False</td>\n",
       "      <td>Жалоба</td>\n",
       "      <td>0</td>\n",
       "      <td>лицензия № 2562</td>\n",
       "      <td>uhnov1</td>\n",
       "      <td>Бинбанк</td>\n",
       "      <td>2015-06-08 12:50:54</td>\n",
       "      <td>Добрый день! Я не являюсь клиентом банка и пор...</td>\n",
       "      <td>NaN</td>\n",
       "    </tr>\n",
       "    <tr>\n",
       "      <th>1</th>\n",
       "      <td>г. Новосибирск</td>\n",
       "      <td>False</td>\n",
       "      <td>Не могу пользоваться услугой Сбербанк он-лайн</td>\n",
       "      <td>0</td>\n",
       "      <td>лицензия № 1481</td>\n",
       "      <td>Foryou</td>\n",
       "      <td>Сбербанк России</td>\n",
       "      <td>2015-06-08 11:09:57</td>\n",
       "      <td>Доброго дня! Являюсь держателем зарплатной кар...</td>\n",
       "      <td>NaN</td>\n",
       "    </tr>\n",
       "    <tr>\n",
       "      <th>2</th>\n",
       "      <td>г. Москва</td>\n",
       "      <td>False</td>\n",
       "      <td>Двойное списание за один товар.</td>\n",
       "      <td>1</td>\n",
       "      <td>лицензия № 2562</td>\n",
       "      <td>Vladimir84</td>\n",
       "      <td>Бинбанк</td>\n",
       "      <td>2015-06-05 20:14:28</td>\n",
       "      <td>Здравствуйте!  Дублирую свое заявление от 03.0...</td>\n",
       "      <td>NaN</td>\n",
       "    </tr>\n",
       "    <tr>\n",
       "      <th>3</th>\n",
       "      <td>г. Ставрополь</td>\n",
       "      <td>False</td>\n",
       "      <td>Меняют проценты комиссии  не предупредив и не ...</td>\n",
       "      <td>2</td>\n",
       "      <td>лицензия № 1481</td>\n",
       "      <td>643609</td>\n",
       "      <td>Сбербанк России</td>\n",
       "      <td>2015-06-05 13:51:01</td>\n",
       "      <td>Добрый день!! Я открыл расчетный счет в СберБа...</td>\n",
       "      <td>NaN</td>\n",
       "    </tr>\n",
       "    <tr>\n",
       "      <th>4</th>\n",
       "      <td>г. Челябинск</td>\n",
       "      <td>False</td>\n",
       "      <td>Верните денежные средства за страховку</td>\n",
       "      <td>1</td>\n",
       "      <td>лицензия № 2766</td>\n",
       "      <td>anfisa-2003</td>\n",
       "      <td>ОТП Банк</td>\n",
       "      <td>2015-06-05 10:58:12</td>\n",
       "      <td>04.03.2015 г. взяла кредит в вашем банке, заяв...</td>\n",
       "      <td>NaN</td>\n",
       "    </tr>\n",
       "  </tbody>\n",
       "</table>\n",
       "</div>"
      ],
      "text/plain": [
       "             city  rating_not_checked  \\\n",
       "0       г. Москва               False   \n",
       "1  г. Новосибирск               False   \n",
       "2       г. Москва               False   \n",
       "3   г. Ставрополь               False   \n",
       "4    г. Челябинск               False   \n",
       "\n",
       "                                               title  num_comments  \\\n",
       "0                                             Жалоба             0   \n",
       "1      Не могу пользоваться услугой Сбербанк он-лайн             0   \n",
       "2                    Двойное списание за один товар.             1   \n",
       "3  Меняют проценты комиссии  не предупредив и не ...             2   \n",
       "4             Верните денежные средства за страховку             1   \n",
       "\n",
       "      bank_license       author        bank_name             datetime  \\\n",
       "0  лицензия № 2562       uhnov1          Бинбанк  2015-06-08 12:50:54   \n",
       "1  лицензия № 1481       Foryou  Сбербанк России  2015-06-08 11:09:57   \n",
       "2  лицензия № 2562   Vladimir84          Бинбанк  2015-06-05 20:14:28   \n",
       "3  лицензия № 1481       643609  Сбербанк России  2015-06-05 13:51:01   \n",
       "4  лицензия № 2766  anfisa-2003         ОТП Банк  2015-06-05 10:58:12   \n",
       "\n",
       "                                                text  rating_grade  \n",
       "0  Добрый день! Я не являюсь клиентом банка и пор...           NaN  \n",
       "1  Доброго дня! Являюсь держателем зарплатной кар...           NaN  \n",
       "2  Здравствуйте!  Дублирую свое заявление от 03.0...           NaN  \n",
       "3  Добрый день!! Я открыл расчетный счет в СберБа...           NaN  \n",
       "4  04.03.2015 г. взяла кредит в вашем банке, заяв...           NaN  "
      ]
     },
     "execution_count": 5,
     "metadata": {},
     "output_type": "execute_result"
    }
   ],
   "source": [
    "df.head()"
   ]
  },
  {
   "cell_type": "code",
   "execution_count": 6,
   "metadata": {
    "colab": {
     "base_uri": "https://localhost:8080/"
    },
    "id": "vem8qNk5Lstp",
    "outputId": "849e1268-e91a-4371-eb0e-951338165b8f"
   },
   "outputs": [
    {
     "name": "stdout",
     "output_type": "stream",
     "text": [
      "<class 'pandas.core.frame.DataFrame'>\n",
      "RangeIndex: 153499 entries, 0 to 153498\n",
      "Data columns (total 10 columns):\n",
      " #   Column              Non-Null Count   Dtype  \n",
      "---  ------              --------------   -----  \n",
      " 0   city                138325 non-null  object \n",
      " 1   rating_not_checked  153499 non-null  bool   \n",
      " 2   title               153499 non-null  object \n",
      " 3   num_comments        153499 non-null  int64  \n",
      " 4   bank_license        153498 non-null  object \n",
      " 5   author              153479 non-null  object \n",
      " 6   bank_name           153499 non-null  object \n",
      " 7   datetime            153499 non-null  object \n",
      " 8   text                153499 non-null  object \n",
      " 9   rating_grade        88658 non-null   float64\n",
      "dtypes: bool(1), float64(1), int64(1), object(7)\n",
      "memory usage: 10.7+ MB\n"
     ]
    }
   ],
   "source": [
    "df.info()"
   ]
  },
  {
   "cell_type": "markdown",
   "metadata": {
    "id": "yMxbmtXUGF21"
   },
   "source": [
    "# Часть 1. Анализ текстов"
   ]
  },
  {
   "cell_type": "markdown",
   "metadata": {
    "id": "c93Mx0IhIqgf"
   },
   "source": [
    "1. Посчитайте количество отзывов в разных городах и на разные банки"
   ]
  },
  {
   "cell_type": "code",
   "execution_count": 7,
   "metadata": {
    "id": "SiW3i-VDT-Cw"
   },
   "outputs": [],
   "source": [
    "df.city = df.city.apply(lambda x: re.sub('[^а-я]', ' ', x[3:].lower()) if x is not None else x)"
   ]
  },
  {
   "cell_type": "code",
   "execution_count": 8,
   "metadata": {
    "colab": {
     "base_uri": "https://localhost:8080/",
     "height": 452
    },
    "id": "SETGW2Z1NGOk",
    "outputId": "a08ce3c3-2cd4-47c3-e75e-15ed2f0ec58d"
   },
   "outputs": [
    {
     "data": {
      "image/png": "[encoded data removed]",
      "text/plain": [
       "<Figure size 640x480 with 1 Axes>"
      ]
     },
     "metadata": {},
     "output_type": "display_data"
    }
   ],
   "source": [
    "data = df.city.value_counts()\n",
    "top = 25\n",
    "other = data[top:].values.sum()\n",
    "nans = len(df) - data.values.sum()\n",
    "sns.barplot(x=list(data.values[:top])+[other, nans], y=list(data.index[:top])+['OTHER', 'NONE'])\n",
    "plt.title('Количество отзывов в разных городах');"
   ]
  },
  {
   "cell_type": "code",
   "execution_count": 9,
   "metadata": {
    "colab": {
     "base_uri": "https://localhost:8080/",
     "height": 452
    },
    "id": "mrjK-fiEd8hC",
    "outputId": "830c303a-e3da-4c5b-d76f-6a607532f6de"
   },
   "outputs": [
    {
     "data": {
      "image/png": "[encoded data removed]",
      "text/plain": [
       "<Figure size 640x480 with 1 Axes>"
      ]
     },
     "metadata": {},
     "output_type": "display_data"
    }
   ],
   "source": [
    "data = df.bank_name.value_counts()\n",
    "top = 25\n",
    "other = data[top:].values.sum()\n",
    "sns.barplot(x=list(data.values[:top])+[other], y=list(data.index[:top])+['OTHER'])\n",
    "plt.title('Количество отзывов на разные банки');"
   ]
  },
  {
   "cell_type": "markdown",
   "metadata": {
    "id": "OssHEj-3JLym"
   },
   "source": [
    "2. Постройте гистограмы длин отзывов в символах и в словах"
   ]
  },
  {
   "cell_type": "code",
   "execution_count": 10,
   "metadata": {
    "colab": {
     "base_uri": "https://localhost:8080/",
     "height": 452
    },
    "id": "b5G8Xn6KGF22",
    "outputId": "6dc7ec55-300f-420a-b2b2-88573729dc33"
   },
   "outputs": [
    {
     "data": {
      "image/png": "[encoded data removed]",
      "text/plain": [
       "<Figure size 640x480 with 1 Axes>"
      ]
     },
     "metadata": {},
     "output_type": "display_data"
    }
   ],
   "source": [
    "sns.histplot([len(x) for x in df.text])\n",
    "plt.title('Гистограмма длин отзывов в символах');"
   ]
  },
  {
   "cell_type": "code",
   "execution_count": 11,
   "metadata": {
    "colab": {
     "base_uri": "https://localhost:8080/",
     "height": 452
    },
    "id": "ay9fZXeKGF22",
    "outputId": "05b7af78-059b-496d-d797-34142a248848"
   },
   "outputs": [
    {
     "data": {
      "image/png": "[encoded data removed]",
      "text/plain": [
       "<Figure size 640x480 with 1 Axes>"
      ]
     },
     "metadata": {},
     "output_type": "display_data"
    }
   ],
   "source": [
    "sns.histplot([len(x.split(' ')) for x in df.text])\n",
    "plt.title('Гистограмма длин отзывов в словах');"
   ]
  },
  {
   "cell_type": "markdown",
   "metadata": {
    "id": "NEb9CcgiiWON"
   },
   "source": [
    "3. Найдите 10 самых частых:\n",
    "- слов\n",
    "- слов без стоп-слов\n",
    "- лемм\n",
    "- существительных"
   ]
  },
  {
   "cell_type": "code",
   "execution_count": 12,
   "metadata": {
    "colab": {
     "base_uri": "https://localhost:8080/"
    },
    "id": "raT5jf1EGF22",
    "outputId": "7dc08ad9-b413-43ab-99b0-934863765bea"
   },
   "outputs": [
    {
     "name": "stdout",
     "output_type": "stream",
     "text": [
      "36195788\n"
     ]
    }
   ],
   "source": [
    "# nltk.download('punkt')\n",
    "from string import punctuation\n",
    "from nltk.tokenize import word_tokenize\n",
    "\n",
    "corpus = [token for x in df.text for token in word_tokenize(x.lower(), language='russian')\n",
    "          if not all(c in punctuation for c in token)]\n",
    "print(len(corpus))"
   ]
  },
  {
   "cell_type": "code",
   "execution_count": 13,
   "metadata": {},
   "outputs": [
    {
     "name": "stdout",
     "output_type": "stream",
     "text": [
      "10 самых частых слов\n"
     ]
    },
    {
     "data": {
      "text/plain": [
       "[('в', 1322462),\n",
       " ('и', 1054460),\n",
       " ('не', 851739),\n",
       " ('на', 704396),\n",
       " ('что', 621783),\n",
       " ('я', 573896),\n",
       " ('с', 454471),\n",
       " ('по', 365188),\n",
       " ('мне', 320695),\n",
       " ('банка', 263957)]"
      ]
     },
     "execution_count": 13,
     "metadata": {},
     "output_type": "execute_result"
    }
   ],
   "source": [
    "from collections import Counter\n",
    "\n",
    "freq_dict = Counter(corpus)\n",
    "print('10 самых частых слов')\n",
    "freq_dict.most_common(10)"
   ]
  },
  {
   "cell_type": "code",
   "execution_count": 14,
   "metadata": {
    "colab": {
     "base_uri": "https://localhost:8080/"
    },
    "id": "n53FvxS_1nq5",
    "outputId": "e19f074a-e24e-46c7-ab04-af8052e103ae"
   },
   "outputs": [
    {
     "name": "stdout",
     "output_type": "stream",
     "text": [
      "10 самых частых слов без стоп-слов\n"
     ]
    },
    {
     "data": {
      "text/plain": [
       "[('банка', 263957),\n",
       " ('банк', 196303),\n",
       " ('это', 183054),\n",
       " ('деньги', 130062),\n",
       " ('карту', 104947),\n",
       " ('карты', 100877),\n",
       " ('кредит', 80282),\n",
       " ('день', 75996),\n",
       " ('заявление', 69524),\n",
       " ('отделение', 66468)]"
      ]
     },
     "execution_count": 14,
     "metadata": {},
     "output_type": "execute_result"
    }
   ],
   "source": [
    "# nltk.download('stopwords')\n",
    "from nltk.corpus import stopwords\n",
    "sw = stopwords.words('russian')\n",
    "\n",
    "freq_dict_no_stopwords = {k: v for k, v in freq_dict.items() if k not in sw}\n",
    "print('10 самых частых слов без стоп-слов')\n",
    "sorted(freq_dict_no_stopwords.items(), key=lambda x: x[1], reverse=True)[:10]"
   ]
  },
  {
   "cell_type": "code",
   "execution_count": 15,
   "metadata": {
    "colab": {
     "base_uri": "https://localhost:8080/"
    },
    "id": "YMaOsq1Q3Zww",
    "outputId": "87d07759-b36c-44e2-db80-b88e7258b1df"
   },
   "outputs": [
    {
     "name": "stdout",
     "output_type": "stream",
     "text": [
      "141293\n"
     ]
    }
   ],
   "source": [
    "from pymystem3 import Mystem\n",
    "import random\n",
    "mystem_analyzer = Mystem(entire_input=False)\n",
    "\n",
    "corpus_lemmas = [token for x in random.choices(df.text, k=1000) for\n",
    "                 token in mystem_analyzer.lemmatize(x) if token not in sw]\n",
    "print(len(corpus_lemmas))"
   ]
  },
  {
   "cell_type": "code",
   "execution_count": 16,
   "metadata": {
    "colab": {
     "base_uri": "https://localhost:8080/"
    },
    "id": "0va3_EpEB6Ri",
    "outputId": "ec0c44d4-8a4b-476a-bc79-075c99f6bf5f"
   },
   "outputs": [
    {
     "name": "stdout",
     "output_type": "stream",
     "text": [
      "10 самых частых лемм\n"
     ]
    },
    {
     "data": {
      "text/plain": [
       "[('банк', 3944),\n",
       " ('карта', 2144),\n",
       " ('это', 1505),\n",
       " ('деньги', 1137),\n",
       " ('день', 1106),\n",
       " ('кредит', 980),\n",
       " ('сотрудник', 926),\n",
       " ('весь', 894),\n",
       " ('который', 879),\n",
       " ('отделение', 877)]"
      ]
     },
     "execution_count": 16,
     "metadata": {},
     "output_type": "execute_result"
    }
   ],
   "source": [
    "freq_dict_lemmas = Counter(corpus_lemmas)\n",
    "print('10 самых частых лемм')\n",
    "freq_dict_lemmas.most_common(10)"
   ]
  },
  {
   "cell_type": "code",
   "execution_count": 17,
   "metadata": {},
   "outputs": [
    {
     "name": "stdout",
     "output_type": "stream",
     "text": [
      "10 самых частых существительных среди лемм\n",
      "\n",
      "('банк', 3944)\n",
      "('карта', 2144)\n",
      "('деньги', 1137)\n",
      "('день', 1106)\n",
      "('кредит', 980)\n",
      "('сотрудник', 926)\n",
      "('отделение', 877)\n",
      "('счет', 860)\n",
      "('клиент', 838)\n",
      "('мочь', 776)\n"
     ]
    }
   ],
   "source": [
    "print('10 самых частых существительных среди лемм\\n')\n",
    "x = 0\n",
    "for word in freq_dict_lemmas.most_common():\n",
    "    if mystem_analyzer.analyze(word[0])[0]['analysis'][0]['gr'][:2] == 'S,':\n",
    "        print(word),\n",
    "        x += 1\n",
    "        if x == 10: break"
   ]
  },
  {
   "cell_type": "markdown",
   "metadata": {
    "id": "1OcS-O3YHarZ"
   },
   "source": [
    "4. Постройте кривые Ципфа и Хипса"
   ]
  },
  {
   "cell_type": "code",
   "execution_count": 18,
   "metadata": {
    "colab": {
     "base_uri": "https://localhost:8080/",
     "height": 391
    },
    "id": "dlnnDBrN3YkI",
    "outputId": "98b54f34-e92e-4315-b6f2-8e641a13ce49"
   },
   "outputs": [
    {
     "data": {
      "image/png": "[encoded data removed]",
      "text/plain": [
       "<Figure size 1500x400 with 3 Axes>"
      ]
     },
     "metadata": {},
     "output_type": "display_data"
    }
   ],
   "source": [
    "n = 300\n",
    "fig, axs = plt.subplots(1, 3, figsize=(15,4))\n",
    "titles = ['Raw', 'No stopwords', 'Lemmatized no stopwords']\n",
    "\n",
    "for i, freq in enumerate([freq_dict, freq_dict_no_stopwords, freq_dict_lemmas]):\n",
    "    axs[i].plot(range(n), [max(freq.values())/i for i in range(1, n+1)])\n",
    "    axs[i].plot(range(n), sorted(freq.values(), reverse=True)[:n])\n",
    "    axs[i].set_title(titles[i])"
   ]
  },
  {
   "cell_type": "code",
   "execution_count": 19,
   "metadata": {
    "colab": {
     "base_uri": "https://localhost:8080/",
     "height": 483
    },
    "id": "P-vVzMZHX0AY",
    "outputId": "c1627836-6c0b-45d1-979e-767510d19fb0"
   },
   "outputs": [
    {
     "name": "stderr",
     "output_type": "stream",
     "text": [
      "100%|██████████| 153499/153499 [04:18<00:00, 593.66it/s] \n"
     ]
    },
    {
     "data": {
      "text/plain": [
       "<matplotlib.collections.PathCollection at 0x27b9978c050>"
      ]
     },
     "execution_count": 19,
     "metadata": {},
     "output_type": "execute_result"
    },
    {
     "data": {
      "image/png": "[encoded data removed]",
      "text/plain": [
       "<Figure size 640x480 with 1 Axes>"
      ]
     },
     "metadata": {},
     "output_type": "display_data"
    }
   ],
   "source": [
    "n_words = []\n",
    "n_tokens = []\n",
    "\n",
    "for index, row in tqdm(df.iterrows(), total=len(df)):\n",
    "    tokens = word_tokenize(row['text'].lower(), language='russian')\n",
    "    n_words.append(len(tokens))\n",
    "    n_tokens.append(len(set(tokens)))\n",
    "\n",
    "plt.scatter(n_tokens, n_words)"
   ]
  },
  {
   "cell_type": "markdown",
   "metadata": {},
   "source": [
    "5. Ответьте на следующие вопросы:\n",
    "- Какое слово встречается чаще, \"сотрудник\" или \"клиент\"?\n",
    "- Сколько раз встречается слова \"мошенничество\" и \"доверие\"?"
   ]
  },
  {
   "cell_type": "code",
   "execution_count": 20,
   "metadata": {},
   "outputs": [
    {
     "name": "stdout",
     "output_type": "stream",
     "text": [
      "Частотность среди всех слов:\n",
      "сотрудник: 30994 || клиент: 17754\n",
      "мошенничество: 1102 || доверие: 1153\n",
      "\n",
      "Частотность среди лемм\n",
      "сотрудник: 926 || клиент: 838\n",
      "мошенничество: 15 || доверие: 10\n"
     ]
    }
   ],
   "source": [
    "print('Частотность среди всех слов:')\n",
    "print('сотрудник:', freq_dict['сотрудник'], '||', 'клиент:', freq_dict['клиент'])\n",
    "print('мошенничество:', freq_dict['мошенничество'], '||',  'доверие:', freq_dict['доверие'])\n",
    "print()\n",
    "\n",
    "print('Частотность среди лемм')\n",
    "print('сотрудник:', freq_dict_lemmas['сотрудник'], '||',  'клиент:', freq_dict_lemmas['клиент'])\n",
    "print('мошенничество:', freq_dict_lemmas['мошенничество'], '||',  'доверие:', freq_dict_lemmas['доверие'])"
   ]
  },
  {
   "cell_type": "markdown",
   "metadata": {},
   "source": [
    "6. В поле \"rating_grade\" записана оценка отзыва по шкале от 1 до 5. Используйте меру **`tf-idf`**, для того, чтобы найти ключевые слова и биграмы для положительных отзывов (с оценкой 5) и отрицательных отзывов (с оценкой 1)"
   ]
  },
  {
   "cell_type": "code",
   "execution_count": 21,
   "metadata": {},
   "outputs": [],
   "source": [
    "from sklearn.feature_extraction.text import TfidfVectorizer\n",
    "\n",
    "tfidf = TfidfVectorizer(lowercase=True,\n",
    "                        tokenizer=word_tokenize,\n",
    "                        stop_words=sw + list(punctuation),\n",
    "                        ngram_range=(1, 2))"
   ]
  },
  {
   "cell_type": "code",
   "execution_count": 22,
   "metadata": {},
   "outputs": [],
   "source": [
    "bow = tfidf.fit_transform(df.text)\n",
    "vocab = {v: k for k, v in tfidf.vocabulary_.items()}"
   ]
  },
  {
   "cell_type": "code",
   "execution_count": 23,
   "metadata": {},
   "outputs": [],
   "source": [
    "words_rating_1 = np.empty((1, bow.shape[1]))\n",
    "words_rating_5 = np.empty((1, bow.shape[1]))\n",
    "\n",
    "for text in bow[df.rating_grade == 1]:\n",
    "    words_rating_1 += text\n",
    "\n",
    "for text in bow[df.rating_grade == 5]:\n",
    "    words_rating_5 += text"
   ]
  },
  {
   "cell_type": "code",
   "execution_count": 24,
   "metadata": {},
   "outputs": [],
   "source": [
    "top = 500\n",
    "rating_1 = np.argsort(np.array(words_rating_1)[0])[-top:][::-1]\n",
    "rating_5 = np.argsort(np.array(words_rating_5)[0])[-top:][::-1]\n",
    "\n",
    "top_words_rating_1 = [x for x in rating_1 if x not in rating_5]\n",
    "top_words_rating_5 = [x for x in rating_5 if x not in rating_1]"
   ]
  },
  {
   "cell_type": "code",
   "execution_count": 25,
   "metadata": {},
   "outputs": [
    {
     "name": "stdout",
     "output_type": "stream",
     "text": [
      "Топ-10 ключевых слов и биграм в отрицательных отзывах\n",
      "\n",
      "почему\n",
      "номер\n",
      "никто\n",
      "звоню\n",
      "снова\n",
      "заявления\n",
      "ответа\n",
      "говорят\n",
      "претензию\n",
      "могут\n",
      "сих пор\n",
      "отделение банка\n",
      "денежных средств\n",
      "денежные средства\n",
      "горячую линию\n",
      "сотрудник банка\n",
      "сотрудники банка\n",
      "рабочих дней\n",
      "горячей линии\n",
      "написать заявление\n"
     ]
    }
   ],
   "source": [
    "print('Топ-10 ключевых слов и биграм в отрицательных отзывах\\n')\n",
    "x = 0\n",
    "for word in top_words_rating_1:\n",
    "    if x < 10:\n",
    "        print(vocab[word])\n",
    "        x += 1\n",
    "    elif x < 20:\n",
    "        if len(vocab[word].split(' ')) > 1:\n",
    "            print(vocab[word])\n",
    "            x += 1\n",
    "    else: break"
   ]
  },
  {
   "cell_type": "code",
   "execution_count": 26,
   "metadata": {},
   "outputs": [
    {
     "name": "stdout",
     "output_type": "stream",
     "text": [
      "Топ-10 ключевых слов и биграм в положительных отзывах\n",
      "\n",
      "быстро\n",
      "приятно\n",
      "благодарность\n",
      "банков\n",
      "удобно\n",
      "пользуюсь\n",
      "оперативно\n",
      "доволен\n",
      "выразить\n",
      "очередей\n",
      "очень удобно\n",
      "очень быстро\n",
      "хочу выразить\n",
      "выразить благодарность\n",
      "являюсь клиентом\n",
      "клиентом банка\n",
      "большое спасибо\n",
      "огромное спасибо\n",
      "очень приятно\n",
      "других банках\n"
     ]
    }
   ],
   "source": [
    "print('Топ-10 ключевых слов и биграм в положительных отзывах\\n')\n",
    "x = 0\n",
    "for word in top_words_rating_5:\n",
    "    if x < 10:\n",
    "        print(vocab[word])\n",
    "        x += 1\n",
    "    elif x < 20:\n",
    "        if len(vocab[word].split(' ')) > 1:\n",
    "            print(vocab[word])\n",
    "            x += 1\n",
    "    else: break"
   ]
  },
  {
   "cell_type": "markdown",
   "metadata": {},
   "source": [
    "# Часть 2. Тематическое моделирование"
   ]
  },
  {
   "cell_type": "markdown",
   "metadata": {},
   "source": [
    "1. Постройте несколько тематических моделей коллекции документов с разным числом тем. Приведите примеры понятных (интерпретируемых) тем."
   ]
  },
  {
   "cell_type": "code",
   "execution_count": 27,
   "metadata": {},
   "outputs": [],
   "source": [
    "import pymorphy3\n",
    "m = pymorphy3.MorphAnalyzer()\n",
    "\n",
    "mystopwords = stopwords.words('russian') + ['это', 'наш', 'тыс', 'млн', 'млрд', 'также', 'т', 'д',\n",
    "                                            'который','прошлый','сей', 'свой', 'наш', 'мочь', 'такой']\n",
    "ru_words = re.compile('[А-Яа-я]+')\n",
    "\n",
    "def words_only(text):\n",
    "    return ' '.join(ru_words.findall(text))\n",
    "\n",
    "def lemmatize(text, mystem=m):\n",
    "    try:\n",
    "        return ' '.join([m.parse(w)[0].normal_form for w in text.split(' ')]).strip()\n",
    "    except:\n",
    "        return ' '\n",
    "\n",
    "def remove_stopwords(text, mystopwords=mystopwords):\n",
    "    try:\n",
    "        return ' '.join([w for w in text.split() if not w in mystopwords])\n",
    "    except:\n",
    "        return ' '\n",
    "\n",
    "def preprocess(text):\n",
    "    return remove_stopwords(lemmatize(words_only(text.lower())))"
   ]
  },
  {
   "cell_type": "code",
   "execution_count": 28,
   "metadata": {},
   "outputs": [],
   "source": [
    "# %%time\n",
    "# df.text = df.text.apply(preprocess)\n",
    "# df.to_csv('df.csv', index=False)"
   ]
  },
  {
   "cell_type": "code",
   "execution_count": 29,
   "metadata": {},
   "outputs": [],
   "source": [
    "df_saved = pd.read_csv('df.csv').dropna(subset='text')"
   ]
  },
  {
   "cell_type": "code",
   "execution_count": 30,
   "metadata": {},
   "outputs": [],
   "source": [
    "from gensim.corpora import Dictionary\n",
    "from gensim.models import TfidfModel\n",
    "from gensim.models import lsimodel"
   ]
  },
  {
   "cell_type": "code",
   "execution_count": 31,
   "metadata": {},
   "outputs": [],
   "source": [
    "texts = [text.split() for text in df_saved.text]\n",
    "dictionary = Dictionary(texts)\n",
    "corpus = [dictionary.doc2bow(text) for text in texts]"
   ]
  },
  {
   "cell_type": "code",
   "execution_count": 32,
   "metadata": {},
   "outputs": [],
   "source": [
    "tfidf = TfidfModel(corpus)\n",
    "corpus_tfidf = tfidf[corpus]"
   ]
  },
  {
   "cell_type": "code",
   "execution_count": 33,
   "metadata": {},
   "outputs": [
    {
     "data": {
      "text/plain": [
       "[(0,\n",
       "  '0.198*\"карта\" + 0.136*\"кредит\" + 0.116*\"деньга\" + 0.111*\"заявление\" + 0.108*\"счёт\" + 0.102*\"банкомат\" + 0.102*\"вклад\" + 0.102*\"отделение\" + 0.098*\"сбербанк\" + 0.098*\"сумма\"'),\n",
       " (1,\n",
       "  '-0.473*\"вклад\" + 0.336*\"кредит\" + 0.167*\"страховка\" + 0.146*\"платёж\" + 0.144*\"задолженность\" + 0.136*\"погашение\" + -0.134*\"банкомат\" + -0.127*\"карта\" + -0.126*\"очередь\" + -0.119*\"открыть\"'),\n",
       " (2,\n",
       "  '-0.412*\"вклад\" + 0.262*\"банкомат\" + 0.259*\"карта\" + -0.208*\"кредит\" + 0.205*\"сбербанк\" + -0.145*\"страховка\" + 0.139*\"операция\" + -0.137*\"договор\" + 0.126*\"средство\" + 0.124*\"заявление\"'),\n",
       " (3,\n",
       "  '-0.271*\"вклад\" + -0.211*\"сумма\" + 0.209*\"заявка\" + 0.197*\"номер\" + -0.180*\"руб\" + -0.165*\"договор\" + 0.157*\"звонок\" + -0.156*\"платёж\" + -0.149*\"средство\" + -0.148*\"погашение\"'),\n",
       " (4,\n",
       "  '0.279*\"номер\" + 0.274*\"вклад\" + 0.237*\"звонок\" + -0.230*\"страховка\" + -0.191*\"заявка\" + 0.172*\"ваш\" + 0.149*\"поступать\" + 0.139*\"персональный\" + 0.139*\"данные\" + 0.136*\"телефон\"')]"
      ]
     },
     "execution_count": 33,
     "metadata": {},
     "output_type": "execute_result"
    }
   ],
   "source": [
    "lsi_5 = lsimodel.LsiModel(corpus=corpus_tfidf, id2word=dictionary, num_topics=5)\n",
    "lsi_5.show_topics(5)"
   ]
  },
  {
   "cell_type": "markdown",
   "metadata": {},
   "source": [
    "**Здесь, пожалуй, можно однозначно интерпретировать тему номер 2. Речь может идти о карточных операциях в банкоматах Сбербанка:**\n",
    "\n",
    "`-0.412*\"вклад\" + 0.262*\"банкомат\" + 0.260*\"карта\" + -0.208*\"кредит\" + 0.205*\"сбербанк\" + -0.145*\"страховка\" + 0.139*\"операция\" + -0.137*\"договор\" + 0.126*\"средство\" + 0.124*\"заявление\"`\n",
    "\n",
    "**Под темой номер 5, возможно, собраны отзывы на тему телефонных звонков и персональных данных:**\n",
    "\n",
    "`0.279*\"номер\" + 0.275*\"вклад\" + 0.237*\"звонок\" + -0.231*\"страховка\" + -0.191*\"заявка\" + 0.172*\"ваш\" + 0.149*\"поступать\" + 0.139*\"персональный\" + 0.138*\"данные\" + 0.136*\"телефон\"`"
   ]
  },
  {
   "cell_type": "code",
   "execution_count": 34,
   "metadata": {},
   "outputs": [
    {
     "data": {
      "text/plain": [
       "[(0,\n",
       "  '0.197*\"карта\" + 0.135*\"кредит\" + 0.116*\"деньга\" + 0.111*\"заявление\" + 0.108*\"счёт\" + 0.103*\"банкомат\" + 0.102*\"вклад\" + 0.102*\"отделение\" + 0.098*\"сбербанк\" + 0.097*\"сумма\"'),\n",
       " (1,\n",
       "  '-0.382*\"вклад\" + 0.360*\"кредит\" + -0.214*\"банкомат\" + -0.171*\"карта\" + 0.169*\"страховка\" + 0.148*\"платёж\" + 0.147*\"задолженность\" + 0.142*\"погашение\" + -0.122*\"деньга\" + 0.116*\"звонок\"'),\n",
       " (2,\n",
       "  '-0.505*\"вклад\" + 0.274*\"банкомат\" + 0.216*\"карта\" + 0.184*\"сбербанк\" + 0.133*\"заявление\" + -0.128*\"кредит\" + 0.121*\"операция\" + -0.121*\"договор\" + 0.119*\"средство\" + 0.115*\"деньга\"'),\n",
       " (3,\n",
       "  '-0.277*\"вклад\" + -0.219*\"сумма\" + -0.190*\"руб\" + 0.189*\"номер\" + 0.176*\"заявка\" + -0.157*\"платёж\" + -0.154*\"договор\" + -0.149*\"погашение\" + -0.147*\"процент\" + -0.146*\"рубль\"'),\n",
       " (4,\n",
       "  '-0.350*\"карта\" + 0.277*\"вклад\" + 0.267*\"номер\" + 0.190*\"звонок\" + -0.190*\"страховка\" + -0.169*\"лимит\" + -0.158*\"кредитный\" + -0.147*\"заявка\" + 0.137*\"телефон\" + 0.136*\"ваш\"')]"
      ]
     },
     "execution_count": 34,
     "metadata": {},
     "output_type": "execute_result"
    }
   ],
   "source": [
    "lsi_15 = lsimodel.LsiModel(corpus=corpus_tfidf, id2word=dictionary, num_topics=15)\n",
    "lsi_15.show_topics(5)"
   ]
  },
  {
   "cell_type": "markdown",
   "metadata": {},
   "source": [
    "**В теме номер 0 опять фигурирует Сбербанк. Остальные ключевые слова видимо относятся к его банковским продуктам:**\n",
    "\n",
    "`'0.197*\"карта\" + 0.135*\"кредит\" + 0.116*\"деньга\" + 0.111*\"заявление\" + 0.108*\"счёт\" + 0.103*\"банкомат\" + 0.102*\"вклад\" + 0.102*\"отделение\" + 0.098*\"сбербанк\" + 0.097*\"сумма\"`"
   ]
  },
  {
   "cell_type": "code",
   "execution_count": 35,
   "metadata": {},
   "outputs": [
    {
     "data": {
      "text/plain": [
       "[(0,\n",
       "  '0.197*\"карта\" + 0.135*\"кредит\" + 0.117*\"деньга\" + 0.111*\"заявление\" + 0.108*\"счёт\" + 0.103*\"банкомат\" + 0.102*\"вклад\" + 0.102*\"отделение\" + 0.098*\"сбербанк\" + 0.098*\"сумма\"'),\n",
       " (1,\n",
       "  '0.365*\"кредит\" + -0.362*\"вклад\" + -0.225*\"банкомат\" + -0.180*\"карта\" + 0.169*\"страховка\" + 0.145*\"задолженность\" + 0.142*\"платёж\" + 0.140*\"погашение\" + -0.125*\"деньга\" + 0.117*\"звонок\"'),\n",
       " (2,\n",
       "  '-0.517*\"вклад\" + 0.270*\"банкомат\" + 0.209*\"карта\" + 0.182*\"сбербанк\" + 0.133*\"заявление\" + -0.120*\"очередь\" + 0.117*\"операция\" + -0.115*\"кредит\" + -0.114*\"договор\" + 0.113*\"средство\"'),\n",
       " (3,\n",
       "  '-0.264*\"вклад\" + -0.219*\"сумма\" + 0.196*\"номер\" + -0.184*\"руб\" + 0.180*\"заявка\" + -0.160*\"погашение\" + -0.159*\"платёж\" + -0.156*\"договор\" + 0.150*\"звонок\" + -0.145*\"рубль\"'),\n",
       " (4,\n",
       "  '0.325*\"вклад\" + 0.274*\"номер\" + -0.251*\"карта\" + -0.215*\"страховка\" + 0.195*\"звонок\" + -0.189*\"заявка\" + 0.143*\"ваш\" + 0.142*\"телефон\" + -0.141*\"кредит\" + -0.124*\"лимит\"')]"
      ]
     },
     "execution_count": 35,
     "metadata": {},
     "output_type": "execute_result"
    }
   ],
   "source": [
    "lsi_30 = lsimodel.LsiModel(corpus=corpus_tfidf, id2word=dictionary, num_topics=30)\n",
    "lsi_30.show_topics(5)"
   ]
  },
  {
   "cell_type": "markdown",
   "metadata": {},
   "source": [
    "**В теме номер 1 отзывы могут говорить о звонках, связанных с задолженностями по кредитам у клиентов**\n",
    "\n",
    "`0.365*\"кредит\" + -0.363*\"вклад\" + -0.225*\"банкомат\" + -0.179*\"карта\" + 0.169*\"страховка\" + 0.146*\"задолженность\" + 0.142*\"платёж\" + 0.140*\"погашение\" + -0.125*\"деньга\" + 0.117*\"звонок\"`"
   ]
  },
  {
   "cell_type": "markdown",
   "metadata": {},
   "source": [
    "2. Найдите темы, в которых упомянуты конкретные банки (Сбербанк, ВТБ, другой банк). Можете ли вы их прокомментировать / объяснить? Эта часть задания может быть сделана с использованием gensim."
   ]
  },
  {
   "cell_type": "code",
   "execution_count": 36,
   "metadata": {},
   "outputs": [
    {
     "name": "stdout",
     "output_type": "stream",
     "text": [
      "сбербанк \n",
      " 0.198*\"карта\" + 0.136*\"кредит\" + 0.116*\"деньга\" + 0.111*\"заявление\" + 0.108*\"счёт\" + 0.102*\"банкомат\" + 0.102*\"вклад\" + 0.102*\"отделение\" + 0.098*\"сбербанк\" + 0.098*\"сумма\" \n",
      "\n",
      "сбербанк \n",
      " -0.412*\"вклад\" + 0.262*\"банкомат\" + 0.259*\"карта\" + -0.208*\"кредит\" + 0.205*\"сбербанк\" + -0.145*\"страховка\" + 0.139*\"операция\" + -0.137*\"договор\" + 0.126*\"средство\" + 0.124*\"заявление\" \n",
      "\n",
      "сбербанк \n",
      " 0.197*\"карта\" + 0.135*\"кредит\" + 0.116*\"деньга\" + 0.111*\"заявление\" + 0.108*\"счёт\" + 0.103*\"банкомат\" + 0.102*\"вклад\" + 0.102*\"отделение\" + 0.098*\"сбербанк\" + 0.097*\"сумма\" \n",
      "\n",
      "сбербанк \n",
      " -0.505*\"вклад\" + 0.274*\"банкомат\" + 0.216*\"карта\" + 0.184*\"сбербанк\" + 0.133*\"заявление\" + -0.128*\"кредит\" + 0.121*\"операция\" + -0.121*\"договор\" + 0.119*\"средство\" + 0.115*\"деньга\" \n",
      "\n",
      "сбербанк \n",
      " 0.238*\"заявление\" + 0.228*\"сбербанк\" + 0.223*\"страховка\" + -0.213*\"платёж\" + 0.190*\"заявка\" + 0.174*\"страхование\" + 0.144*\"документ\" + -0.137*\"задолженность\" + 0.136*\"договор\" + 0.134*\"рассмотрение\" \n",
      "\n",
      "сбербанк \n",
      " -0.293*\"вклад\" + 0.266*\"перевод\" + 0.257*\"сбербанк\" + -0.245*\"карта\" + -0.198*\"банкомат\" + 0.141*\"платёж\" + 0.125*\"услуга\" + -0.123*\"заявление\" + -0.121*\"задолженность\" + -0.107*\"заявка\" \n",
      "\n",
      "сбербанк \n",
      " 0.324*\"банкомат\" + -0.297*\"сбербанк\" + 0.224*\"страховка\" + -0.201*\"платёж\" + 0.165*\"страхование\" + 0.158*\"альфа\" + 0.127*\"комиссия\" + -0.121*\"погашение\" + 0.118*\"услуга\" + 0.117*\"ваш\" \n",
      "\n",
      "альфа \n",
      " 0.324*\"банкомат\" + -0.297*\"сбербанк\" + 0.224*\"страховка\" + -0.201*\"платёж\" + 0.165*\"страхование\" + 0.158*\"альфа\" + 0.127*\"комиссия\" + -0.121*\"погашение\" + 0.118*\"услуга\" + 0.117*\"ваш\" \n",
      "\n",
      "сбербанк \n",
      " -0.396*\"страховка\" + -0.313*\"сбербанк\" + -0.208*\"номер\" + -0.183*\"смс\" + -0.172*\"вклад\" + -0.154*\"страхование\" + 0.147*\"документ\" + 0.129*\"справка\" + -0.127*\"мобильный\" + 0.122*\"счёт\" \n",
      "\n",
      "сбербанк \n",
      " 0.370*\"сбербанк\" + -0.292*\"заявка\" + -0.265*\"кошелёк\" + -0.208*\"киви\" + 0.202*\"карта\" + -0.169*\"перевод\" + -0.127*\"поддержка\" + 0.120*\"кредитный\" + 0.117*\"очередь\" + 0.113*\"отделение\" \n",
      "\n",
      "сбербанк \n",
      " -0.475*\"курс\" + -0.256*\"сбербанк\" + -0.249*\"валюта\" + -0.248*\"доллар\" + -0.240*\"евро\" + -0.189*\"рубль\" + -0.186*\"заявка\" + 0.135*\"страховка\" + 0.135*\"альфа\" + -0.122*\"конвертация\" \n",
      "\n",
      "альфа \n",
      " -0.475*\"курс\" + -0.256*\"сбербанк\" + -0.249*\"валюта\" + -0.248*\"доллар\" + -0.240*\"евро\" + -0.189*\"рубль\" + -0.186*\"заявка\" + 0.135*\"страховка\" + 0.135*\"альфа\" + -0.122*\"конвертация\" \n",
      "\n",
      "сбербанк \n",
      " 0.197*\"карта\" + 0.135*\"кредит\" + 0.117*\"деньга\" + 0.111*\"заявление\" + 0.108*\"счёт\" + 0.103*\"банкомат\" + 0.102*\"вклад\" + 0.102*\"отделение\" + 0.098*\"сбербанк\" + 0.098*\"сумма\" \n",
      "\n",
      "сбербанк \n",
      " -0.517*\"вклад\" + 0.270*\"банкомат\" + 0.209*\"карта\" + 0.182*\"сбербанк\" + 0.133*\"заявление\" + -0.120*\"очередь\" + 0.117*\"операция\" + -0.115*\"кредит\" + -0.114*\"договор\" + 0.113*\"средство\" \n",
      "\n",
      "сбербанк \n",
      " 0.248*\"сбербанк\" + 0.243*\"заявка\" + 0.207*\"заявление\" + 0.195*\"страховка\" + -0.188*\"платёж\" + 0.149*\"страхование\" + 0.148*\"документ\" + -0.146*\"задолженность\" + 0.145*\"рассмотрение\" + 0.134*\"вклад\" \n",
      "\n",
      "сбербанк \n",
      " 0.320*\"банкомат\" + -0.313*\"сбербанк\" + -0.285*\"перевод\" + 0.255*\"вклад\" + 0.254*\"карта\" + -0.215*\"платёж\" + -0.150*\"терминал\" + -0.132*\"очередь\" + -0.127*\"счёт\" + 0.118*\"звонок\" \n",
      "\n",
      "сбербанк \n",
      " 0.240*\"страховка\" + 0.227*\"банкомат\" + 0.184*\"страхование\" + 0.171*\"комиссия\" + 0.161*\"услуга\" + 0.160*\"альфа\" + -0.156*\"вклад\" + -0.146*\"заявление\" + -0.145*\"платёж\" + -0.122*\"сбербанк\" \n",
      "\n",
      "альфа \n",
      " 0.240*\"страховка\" + 0.227*\"банкомат\" + 0.184*\"страхование\" + 0.171*\"комиссия\" + 0.161*\"услуга\" + 0.160*\"альфа\" + -0.156*\"вклад\" + -0.146*\"заявление\" + -0.145*\"платёж\" + -0.122*\"сбербанк\" \n",
      "\n",
      "сбербанк \n",
      " -0.358*\"страховка\" + -0.325*\"сбербанк\" + 0.305*\"заявка\" + -0.175*\"страхование\" + -0.147*\"карта\" + 0.146*\"документ\" + 0.133*\"рассмотрение\" + -0.131*\"номер\" + -0.120*\"страховой\" + -0.113*\"заявление\" \n",
      "\n",
      "сбербанк \n",
      " 0.478*\"сбербанк\" + -0.223*\"счёт\" + -0.201*\"перевод\" + -0.195*\"страховка\" + -0.172*\"заявление\" + 0.156*\"заявка\" + 0.149*\"онлайн\" + 0.138*\"кредит\" + 0.135*\"вклад\" + 0.129*\"кредитный\" \n",
      "\n",
      "сбербанк \n",
      " 0.341*\"терминал\" + -0.288*\"сбербанк\" + -0.249*\"комиссия\" + -0.236*\"перевод\" + 0.227*\"кошелёк\" + 0.205*\"платёж\" + 0.189*\"киви\" + -0.158*\"счёт\" + 0.114*\"договор\" + -0.110*\"снять\" \n",
      "\n",
      "альфа \n",
      " 0.260*\"кошелёк\" + -0.206*\"альфа\" + 0.202*\"киви\" + -0.197*\"смс\" + -0.194*\"погашение\" + 0.191*\"терминал\" + -0.180*\"претензия\" + -0.178*\"услуга\" + -0.171*\"досрочный\" + 0.140*\"деньга\" \n",
      "\n",
      "альфа \n",
      " 0.322*\"руб\" + 0.283*\"терминал\" + 0.241*\"комиссия\" + -0.211*\"альфа\" + 0.203*\"заявка\" + 0.173*\"очередь\" + 0.157*\"касса\" + 0.138*\"лимит\" + 0.131*\"кассир\" + -0.126*\"банкомат\" \n",
      "\n",
      "альфа \n",
      " -0.473*\"альфа\" + -0.316*\"претензия\" + -0.290*\"терминал\" + 0.233*\"банкомат\" + 0.227*\"погашение\" + 0.212*\"досрочный\" + 0.159*\"кошелёк\" + 0.148*\"справка\" + 0.123*\"кредит\" + -0.107*\"рассмотрение\" \n",
      "\n",
      "альфа \n",
      " 0.326*\"альфа\" + 0.293*\"кредит\" + 0.260*\"справка\" + -0.216*\"платёж\" + 0.202*\"терминал\" + 0.193*\"счёт\" + 0.183*\"кошелёк\" + 0.161*\"киви\" + -0.143*\"курс\" + 0.140*\"закрытие\" \n",
      "\n",
      "сбербанк \n",
      " -0.331*\"альфа\" + 0.258*\"заявление\" + -0.218*\"курс\" + -0.201*\"кошелёк\" + 0.181*\"руб\" + 0.163*\"смс\" + -0.161*\"договор\" + -0.148*\"сбербанк\" + -0.144*\"карта\" + -0.142*\"киви\" \n",
      "\n",
      "альфа \n",
      " -0.331*\"альфа\" + 0.258*\"заявление\" + -0.218*\"курс\" + -0.201*\"кошелёк\" + 0.181*\"руб\" + 0.163*\"смс\" + -0.161*\"договор\" + -0.148*\"сбербанк\" + -0.144*\"карта\" + -0.142*\"киви\" \n",
      "\n",
      "сбербанк \n",
      " 0.331*\"руб\" + -0.220*\"средство\" + 0.215*\"справка\" + -0.197*\"денежный\" + -0.172*\"смс\" + 0.161*\"задолженность\" + 0.159*\"сбербанк\" + 0.152*\"претензия\" + 0.148*\"лимит\" + 0.145*\"страховка\" \n",
      "\n"
     ]
    }
   ],
   "source": [
    "bank_names = ['сбербанк', 'альфа', 'втб']\n",
    "models = [lsi_5, lsi_15, lsi_30]\n",
    "\n",
    "for model in models:\n",
    "    for topic in model.show_topics():\n",
    "        for name in bank_names:\n",
    "            if name in topic[1]:\n",
    "                print(name, '\\n', topic[1], '\\n')"
   ]
  },
  {
   "cell_type": "markdown",
   "metadata": {},
   "source": [
    "Довольно много тем включают название Сбербанка, некоторые темы также включают название Альфа-Банка. Отзывы по этим двум банкам в сумме составляют почти четверть от всех отзывов, значит можно предположить, что названия самих банков в текстах отзывов встречаются так же часто, как и обычные слова. При этом отзывы о конкретном банке вряд-ли будут часто содержать названия других банков. Модель скорее всего заметила, что слова `сбербанк` и `альфа` появляются только в определенных отзывах и включила их в качестве ключевых слов для тем, объединяющих такие отзывы. На мой взгляд это нормальное ожидаемое поведение модели."
   ]
  },
  {
   "cell_type": "code",
   "execution_count": 37,
   "metadata": {},
   "outputs": [
    {
     "data": {
      "text/plain": [
       "bank_name\n",
       "Сбербанк России     0.171515\n",
       "Альфа-Банк          0.066607\n",
       "ВТБ 24              0.053317\n",
       "Русский Стандарт    0.051747\n",
       "Хоум Кредит Банк    0.049180\n",
       "Name: proportion, dtype: float64"
      ]
     },
     "execution_count": 37,
     "metadata": {},
     "output_type": "execute_result"
    }
   ],
   "source": [
    "df_saved.bank_name.value_counts(normalize=True).head()"
   ]
  },
  {
   "cell_type": "markdown",
   "metadata": {},
   "source": [
    "# Часть 3. Классификация текстов\n",
    "Сформулируем для простоты задачу бинарной классификации: будем классифицировать на два класса, то есть, различать резко отрицательные отзывы (с оценкой 1) и положительные отзывы (с оценкой 5)."
   ]
  },
  {
   "cell_type": "markdown",
   "metadata": {},
   "source": [
    "1. Составьте обучающее и тестовое множество: выберите из всего набора данных N1 отзывов с оценкой 1 и N2 отзывов с оценкой 5 (значение N1 и N2 – на ваше усмотрение). Используйте sklearn.model_selection.train_test_split для разделения множества отобранных документов на обучающее и тестовое."
   ]
  },
  {
   "cell_type": "code",
   "execution_count": 38,
   "metadata": {},
   "outputs": [],
   "source": [
    "from sklearn.model_selection import train_test_split\n",
    "\n",
    "df_saved = pd.read_csv('df.csv').dropna(subset='text')\n",
    "data = df_saved[df_saved.rating_grade.isin([1, 5])][['text', 'rating_grade']].sample(frac=0.1, random_state=42)\n",
    "\n",
    "X_train, X_test, y_train, y_test = train_test_split(data.text,\n",
    "                                                    data.rating_grade.apply(lambda x: 0 if x == 5 else x),\n",
    "                                                    test_size=0.2,\n",
    "                                                    random_state=42,\n",
    "                                                    stratify=data.rating_grade)"
   ]
  },
  {
   "cell_type": "markdown",
   "metadata": {},
   "source": [
    "2. Используйте любой известный вам алгоритм классификации текстов для решения задачи и получите baseline. Сравните разные варианты векторизации текста: использование только униграм, пар или троек слов или с использованием символьных -грам."
   ]
  },
  {
   "cell_type": "code",
   "execution_count": 39,
   "metadata": {},
   "outputs": [
    {
     "name": "stdout",
     "output_type": "stream",
     "text": [
      "              precision    recall  f1-score   support\n",
      "\n",
      "         0.0       0.97      0.59      0.74       291\n",
      "         1.0       0.89      0.99      0.94       951\n",
      "\n",
      "    accuracy                           0.90      1242\n",
      "   macro avg       0.93      0.79      0.84      1242\n",
      "weighted avg       0.91      0.90      0.89      1242\n",
      "\n"
     ]
    }
   ],
   "source": [
    "from sklearn.feature_extraction.text import TfidfVectorizer\n",
    "from sklearn.ensemble import RandomForestClassifier\n",
    "from sklearn.metrics import classification_report\n",
    "\n",
    "def review_classifier(ngram_range=(1, 1), analyzer='word'):\n",
    "    tfidf = TfidfVectorizer(ngram_range=ngram_range, analyzer=analyzer)\n",
    "    X_train_tf = tfidf.fit_transform(X_train)\n",
    "\n",
    "    clf = RandomForestClassifier(random_state=42)\n",
    "    clf.fit(X_train_tf, y_train)\n",
    "\n",
    "    preds = clf.predict(tfidf.transform(X_test))\n",
    "    print(classification_report(y_test, preds))\n",
    "\n",
    "review_classifier(ngram_range=(1, 1))"
   ]
  },
  {
   "cell_type": "code",
   "execution_count": 40,
   "metadata": {},
   "outputs": [
    {
     "name": "stdout",
     "output_type": "stream",
     "text": [
      "              precision    recall  f1-score   support\n",
      "\n",
      "         0.0       0.96      0.47      0.63       291\n",
      "         1.0       0.86      0.99      0.92       951\n",
      "\n",
      "    accuracy                           0.87      1242\n",
      "   macro avg       0.91      0.73      0.77      1242\n",
      "weighted avg       0.88      0.87      0.85      1242\n",
      "\n"
     ]
    }
   ],
   "source": [
    "review_classifier(ngram_range=(2, 2))"
   ]
  },
  {
   "cell_type": "code",
   "execution_count": 41,
   "metadata": {},
   "outputs": [
    {
     "name": "stdout",
     "output_type": "stream",
     "text": [
      "              precision    recall  f1-score   support\n",
      "\n",
      "         0.0       0.89      0.09      0.16       291\n",
      "         1.0       0.78      1.00      0.88       951\n",
      "\n",
      "    accuracy                           0.78      1242\n",
      "   macro avg       0.84      0.54      0.52      1242\n",
      "weighted avg       0.81      0.78      0.71      1242\n",
      "\n"
     ]
    }
   ],
   "source": [
    "review_classifier(ngram_range=(3, 3))"
   ]
  },
  {
   "cell_type": "code",
   "execution_count": 42,
   "metadata": {},
   "outputs": [
    {
     "name": "stdout",
     "output_type": "stream",
     "text": [
      "              precision    recall  f1-score   support\n",
      "\n",
      "         0.0       0.96      0.66      0.79       291\n",
      "         1.0       0.91      0.99      0.95       951\n",
      "\n",
      "    accuracy                           0.92      1242\n",
      "   macro avg       0.94      0.83      0.87      1242\n",
      "weighted avg       0.92      0.92      0.91      1242\n",
      "\n"
     ]
    }
   ],
   "source": [
    "review_classifier(ngram_range=(3, 5), analyzer='char_wb')"
   ]
  },
  {
   "cell_type": "code",
   "execution_count": 43,
   "metadata": {},
   "outputs": [
    {
     "name": "stdout",
     "output_type": "stream",
     "text": [
      "              precision    recall  f1-score   support\n",
      "\n",
      "         0.0       0.95      0.71      0.81       291\n",
      "         1.0       0.92      0.99      0.95       951\n",
      "\n",
      "    accuracy                           0.92      1242\n",
      "   macro avg       0.93      0.85      0.88      1242\n",
      "weighted avg       0.92      0.92      0.92      1242\n",
      "\n"
     ]
    }
   ],
   "source": [
    "review_classifier(ngram_range=(3, 6), analyzer='char_wb')"
   ]
  },
  {
   "cell_type": "markdown",
   "metadata": {},
   "source": [
    "**Для сравнения моделей я взял 10% отзывов из исходных данных. Из построенных моделей наилучшее качество показал классификатор, обученный на символьных 3-6-граммах. Классификатор на словесных униграммах показал сравнимое качество. Модели на словесных биграммах и триграммах дают заметно более плохое качество.**"
   ]
  },
  {
   "cell_type": "markdown",
   "metadata": {},
   "source": [
    "3. Сравните, как изменяется качество решения задачи при использовании скрытых тем в качестве признаков:\n",
    "\n",
    "2-ой вариант: тематические модели LDA (sklearn.decomposition.LatentDirichletAllocation). Используйте accuracy и F-measure для оценки качества классификации."
   ]
  },
  {
   "cell_type": "code",
   "execution_count": 70,
   "metadata": {},
   "outputs": [
    {
     "name": "stdout",
     "output_type": "stream",
     "text": [
      "              precision    recall  f1-score   support\n",
      "\n",
      "         0.0       0.24      0.25      0.25       291\n",
      "         1.0       0.77      0.76      0.77       951\n",
      "\n",
      "    accuracy                           0.64      1242\n",
      "   macro avg       0.51      0.51      0.51      1242\n",
      "weighted avg       0.65      0.64      0.64      1242\n",
      "\n"
     ]
    }
   ],
   "source": [
    "from sklearn.decomposition import LatentDirichletAllocation\n",
    "\n",
    "def lda_review_classifier(n_components=5):\n",
    "    tfidf = TfidfVectorizer(ngram_range=(3, 6), analyzer='char_wb')\n",
    "    X_train_tf = tfidf.fit_transform(X_train)\n",
    "    lda = LatentDirichletAllocation(n_components=n_components, random_state=42)\n",
    "    lda.fit(X_train_tf)\n",
    "    \n",
    "    clf = RandomForestClassifier(random_state=42)\n",
    "    clf.fit(lda.transform(X_train_tf), y_train)\n",
    "    \n",
    "    X_test_lda = lda.transform(tfidf.transform(X_test))\n",
    "    preds = clf.predict(X_test_lda)\n",
    "    print(classification_report(y_test, preds))\n",
    "\n",
    "lda_review_classifier(n_components=5)"
   ]
  },
  {
   "cell_type": "code",
   "execution_count": 71,
   "metadata": {},
   "outputs": [
    {
     "name": "stdout",
     "output_type": "stream",
     "text": [
      "              precision    recall  f1-score   support\n",
      "\n",
      "         0.0       0.27      0.24      0.25       291\n",
      "         1.0       0.77      0.80      0.79       951\n",
      "\n",
      "    accuracy                           0.67      1242\n",
      "   macro avg       0.52      0.52      0.52      1242\n",
      "weighted avg       0.65      0.67      0.66      1242\n",
      "\n"
     ]
    }
   ],
   "source": [
    "lda_review_classifier(n_components=10)"
   ]
  },
  {
   "cell_type": "code",
   "execution_count": 72,
   "metadata": {},
   "outputs": [
    {
     "name": "stdout",
     "output_type": "stream",
     "text": [
      "              precision    recall  f1-score   support\n",
      "\n",
      "         0.0       0.24      0.02      0.03       291\n",
      "         1.0       0.77      0.98      0.86       951\n",
      "\n",
      "    accuracy                           0.76      1242\n",
      "   macro avg       0.50      0.50      0.45      1242\n",
      "weighted avg       0.64      0.76      0.67      1242\n",
      "\n"
     ]
    }
   ],
   "source": [
    "lda_review_classifier(n_components=20)"
   ]
  },
  {
   "cell_type": "code",
   "execution_count": 73,
   "metadata": {},
   "outputs": [
    {
     "name": "stdout",
     "output_type": "stream",
     "text": [
      "              precision    recall  f1-score   support\n",
      "\n",
      "         0.0       0.20      0.19      0.20       291\n",
      "         1.0       0.76      0.77      0.77       951\n",
      "\n",
      "    accuracy                           0.64      1242\n",
      "   macro avg       0.48      0.48      0.48      1242\n",
      "weighted avg       0.63      0.64      0.63      1242\n",
      "\n"
     ]
    }
   ],
   "source": [
    "lda_review_classifier(n_components=2)"
   ]
  },
  {
   "cell_type": "markdown",
   "metadata": {},
   "source": [
    "При использовании скрытых тем в качестве признаков качество работы модели заметно снизилось по сравнению с моделью, обученной на n-граммах. При этом я обучал LDA-модель на символьных 3-6-граммах, давших ранее наилучшее качество.\n",
    "\n",
    "По отчетам видно, что модель сильно переобучается на единичках (отрицательных отзывах), которых в три раза больше в корпусе, чем положительных отзывов. На мой взгляд это не настолько критический дисбаланс для столь сильного переобучения. При увеличении до 10 параметра `n_components`, отвечающего за количество скрытых тем, F1-мера для отрицательных отзывов незначительно возрастает. Увеличение гиперпараметра до 20 увеличивает переобучение, ведущее к резкому снижению F1-меры для положительных отзывов. Снижение этого параметра до 2 также не дает прироста в качестве, хотя оно и сравнимо с тем, что получается при дефолтном значении `n_components`, равным 5. При этом модель обучается значительно быстрее."
   ]
  }
 ],
 "metadata": {
  "colab": {
   "provenance": []
  },
  "kernelspec": {
   "display_name": "Python 3 (ipykernel)",
   "language": "python",
   "name": "python3"
  },
  "language_info": {
   "codemirror_mode": {
    "name": "ipython",
    "version": 3
   },
   "file_extension": ".py",
   "mimetype": "text/x-python",
   "name": "python",
   "nbconvert_exporter": "python",
   "pygments_lexer": "ipython3",
   "version": "3.11.5"
  }
 },
 "nbformat": 4,
 "nbformat_minor": 1
}

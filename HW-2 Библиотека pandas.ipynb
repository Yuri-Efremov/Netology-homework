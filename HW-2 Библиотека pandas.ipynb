{
 "cells": [
  {
   "cell_type": "code",
   "execution_count": 1,
   "id": "aea6731c",
   "metadata": {},
   "outputs": [],
   "source": [
    "import pandas as pd"
   ]
  },
  {
   "cell_type": "code",
   "execution_count": 2,
   "id": "8ae0f173",
   "metadata": {},
   "outputs": [
    {
     "data": {
      "text/plain": [
       "title\n",
       "Shawshank Redemption, The (1994)    48762\n",
       "dtype: int64"
      ]
     },
     "execution_count": 2,
     "metadata": {},
     "output_type": "execute_result"
    }
   ],
   "source": [
    "# Задание 1\n",
    "\n",
    "ratings = pd.read_csv('C:\\\\Users\\\\79111\\\\Notebooks\\\\ml-latest\\\\ratings.csv')\n",
    "movies = pd.read_csv('C:\\\\Users\\\\79111\\\\Notebooks\\\\ml-latest\\\\movies.csv')\n",
    "\n",
    "ratings[ratings['rating'] == 5.0].merge(movies, on='movieId', how='left').value_counts('title').head(1)"
   ]
  },
  {
   "cell_type": "code",
   "execution_count": 3,
   "id": "c8876d14",
   "metadata": {},
   "outputs": [
    {
     "data": {
      "text/plain": [
       "240580.0"
      ]
     },
     "execution_count": 3,
     "metadata": {},
     "output_type": "execute_result"
    }
   ],
   "source": [
    "# Задание 2\n",
    "\n",
    "power = pd.read_csv('C:\\\\Users\\\\79111\\\\Notebooks\\\\power.csv')\n",
    "\n",
    "countries = ['Latvia', 'Lithuania', 'Estonia']\n",
    "categories = [4, 12, 21]\n",
    "years = range(2005, 2011)\n",
    "\n",
    "power_filtered = power[ (power['country'].isin(countries)) & (power['category'].isin(categories)) &\n",
    "                       (power['year'].isin(years)) & (power['quantity'] > 0) ]\n",
    "\n",
    "power_filtered['quantity'].sum()"
   ]
  },
  {
   "cell_type": "code",
   "execution_count": 4,
   "id": "12961542",
   "metadata": {},
   "outputs": [
    {
     "data": {
      "text/html": [
       "<div>\n",
       "<style scoped>\n",
       "    .dataframe tbody tr th:only-of-type {\n",
       "        vertical-align: middle;\n",
       "    }\n",
       "\n",
       "    .dataframe tbody tr th {\n",
       "        vertical-align: top;\n",
       "    }\n",
       "\n",
       "    .dataframe thead th {\n",
       "        text-align: right;\n",
       "    }\n",
       "</style>\n",
       "<table border=\"1\" class=\"dataframe\">\n",
       "  <thead>\n",
       "    <tr style=\"text-align: right;\">\n",
       "      <th></th>\n",
       "      <th>Название</th>\n",
       "      <th>Цена</th>\n",
       "      <th>Изменение</th>\n",
       "      <th>Изменение(%)</th>\n",
       "      <th>Обновлено</th>\n",
       "    </tr>\n",
       "  </thead>\n",
       "  <tbody>\n",
       "    <tr>\n",
       "      <th>0</th>\n",
       "      <td>Золото Цена золота на бирже</td>\n",
       "      <td>1 760</td>\n",
       "      <td>33.00</td>\n",
       "      <td>2.00</td>\n",
       "      <td>NaN</td>\n",
       "    </tr>\n",
       "    <tr>\n",
       "      <th>1</th>\n",
       "      <td>Серебро Цена на серебро на бирже</td>\n",
       "      <td>20.26</td>\n",
       "      <td>1.65</td>\n",
       "      <td>8.89</td>\n",
       "      <td>NaN</td>\n",
       "    </tr>\n",
       "    <tr>\n",
       "      <th>2</th>\n",
       "      <td>Палладий Цена на Палладий</td>\n",
       "      <td>2 152</td>\n",
       "      <td>120.00</td>\n",
       "      <td>6.00</td>\n",
       "      <td>NaN</td>\n",
       "    </tr>\n",
       "    <tr>\n",
       "      <th>3</th>\n",
       "      <td>Платина Цены на платину</td>\n",
       "      <td>932</td>\n",
       "      <td>68.00</td>\n",
       "      <td>8.00</td>\n",
       "      <td>NaN</td>\n",
       "    </tr>\n",
       "    <tr>\n",
       "      <th>4</th>\n",
       "      <td>Медь Цена меди на бирже</td>\n",
       "      <td>3.60</td>\n",
       "      <td>0.28</td>\n",
       "      <td>8.46</td>\n",
       "      <td>NaN</td>\n",
       "    </tr>\n",
       "  </tbody>\n",
       "</table>\n",
       "</div>"
      ],
      "text/plain": [
       "                           Название   Цена  Изменение  Изменение(%)  Обновлено\n",
       "0       Золото Цена золота на бирже  1 760      33.00          2.00        NaN\n",
       "1  Серебро Цена на серебро на бирже  20.26       1.65          8.89        NaN\n",
       "2         Палладий Цена на Палладий  2 152     120.00          6.00        NaN\n",
       "3           Платина Цены на платину    932      68.00          8.00        NaN\n",
       "4           Медь Цена меди на бирже   3.60       0.28          8.46        NaN"
      ]
     },
     "execution_count": 4,
     "metadata": {},
     "output_type": "execute_result"
    }
   ],
   "source": [
    "# Задание 3\n",
    "\n",
    "eur_usd, raw_materials, metals, moex, usa, etf, indices, currencies, crypto = pd.read_html('https://fortrader.org/quotes')\n",
    "metals"
   ]
  }
 ],
 "metadata": {
  "kernelspec": {
   "display_name": "Python 3 (ipykernel)",
   "language": "python",
   "name": "python3"
  },
  "language_info": {
   "codemirror_mode": {
    "name": "ipython",
    "version": 3
   },
   "file_extension": ".py",
   "mimetype": "text/x-python",
   "name": "python",
   "nbconvert_exporter": "python",
   "pygments_lexer": "ipython3",
   "version": "3.9.12"
  }
 },
 "nbformat": 4,
 "nbformat_minor": 5
}

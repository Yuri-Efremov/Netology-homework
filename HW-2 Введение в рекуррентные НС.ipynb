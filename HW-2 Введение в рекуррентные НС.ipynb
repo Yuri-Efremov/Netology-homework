{
 "cells": [
  {
   "cell_type": "markdown",
   "metadata": {
    "collapsed": true,
    "id": "l4VAzKlG8aHj"
   },
   "source": [
    "## Neural Part Of Speech Tagging\n",
    "\n",
    "We're now going to solve the same problem of POS tagging with neural networks.\n",
    "<img src=https://i.stack.imgur.com/6pdIT.png width=320>\n",
    "\n",
    "From deep learning perspective, this is a task of predicting a sequence of outputs aligned to a sequence of inputs. There are several problems that match this formulation:\n",
    "* Part Of Speech Tagging -  an auxuliary task for many NLP problems\n",
    "* Named Entity Recognition - for chat bots and web crawlers\n",
    "* Protein structure prediction - for bioinformatics"
   ]
  },
  {
   "cell_type": "code",
   "execution_count": 1,
   "metadata": {},
   "outputs": [],
   "source": [
    "import warnings\n",
    "warnings.filterwarnings('ignore')"
   ]
  },
  {
   "cell_type": "code",
   "execution_count": 2,
   "metadata": {
    "id": "yxFUBtb88aHq",
    "scrolled": true
   },
   "outputs": [
    {
     "name": "stderr",
     "output_type": "stream",
     "text": [
      "[nltk_data] Downloading package brown to\n",
      "[nltk_data]     C:\\Users\\79111\\AppData\\Roaming\\nltk_data...\n",
      "[nltk_data]   Package brown is already up-to-date!\n",
      "[nltk_data] Downloading package universal_tagset to\n",
      "[nltk_data]     C:\\Users\\79111\\AppData\\Roaming\\nltk_data...\n",
      "[nltk_data]   Package universal_tagset is already up-to-date!\n"
     ]
    }
   ],
   "source": [
    "import nltk\n",
    "import sys\n",
    "import numpy as np\n",
    "\n",
    "nltk.download('brown')\n",
    "nltk.download('universal_tagset')\n",
    "data = nltk.corpus.brown.tagged_sents(tagset='universal')\n",
    "all_tags = ['#EOS#','#UNK#','ADV', 'NOUN', 'ADP', 'PRON', 'DET', '.', 'PRT', 'VERB', 'X', 'NUM', 'CONJ', 'ADJ']\n",
    "\n",
    "data = np.array([ [(word.lower(),tag) for word,tag in sentence] for sentence in data ])"
   ]
  },
  {
   "cell_type": "code",
   "execution_count": 3,
   "metadata": {
    "id": "Bq_OXuD38aHs"
   },
   "outputs": [],
   "source": [
    "from sklearn.model_selection import train_test_split\n",
    "train_data, test_data = train_test_split(data, test_size=0.25, random_state=42)"
   ]
  },
  {
   "cell_type": "code",
   "execution_count": 4,
   "metadata": {
    "id": "sAlXrDmU8aHs"
   },
   "outputs": [
    {
     "data": {
      "text/html": [
       "<table><tr><td>NOUN</td><td>ADP</td><td>NOUN</td><td>NOUN</td><td>NOUN</td><td>NOUN</td><td>VERB</td><td>ADV</td><td>VERB</td><td>ADP</td><td>DET</td><td>ADJ</td><td>NOUN</td><td>.</td></tr><td>implementation</td><td>of</td><td>georgia's</td><td>automobile</td><td>title</td><td>law</td><td>was</td><td>also</td><td>recommended</td><td>by</td><td>the</td><td>outgoing</td><td>jury</td><td>.</td><tr></table>"
      ],
      "text/plain": [
       "<IPython.core.display.HTML object>"
      ]
     },
     "metadata": {},
     "output_type": "display_data"
    },
    {
     "data": {
      "text/html": [
       "<table><tr><td>PRON</td><td>VERB</td><td>ADP</td><td>DET</td><td>NOUN</td><td>.</td><td>VERB</td><td>NOUN</td><td>PRT</td><td>VERB</td><td>.</td><td>DET</td><td>NOUN</td><td>.</td></tr><td>it</td><td>urged</td><td>that</td><td>the</td><td>city</td><td>``</td><td>take</td><td>steps</td><td>to</td><td>remedy</td><td>''</td><td>this</td><td>problem</td><td>.</td><tr></table>"
      ],
      "text/plain": [
       "<IPython.core.display.HTML object>"
      ]
     },
     "metadata": {},
     "output_type": "display_data"
    },
    {
     "data": {
      "text/html": [
       "<table><tr><td>NOUN</td><td>VERB</td></tr><td>merger</td><td>proposed</td><tr></table>"
      ],
      "text/plain": [
       "<IPython.core.display.HTML object>"
      ]
     },
     "metadata": {},
     "output_type": "display_data"
    }
   ],
   "source": [
    "from IPython.display import HTML, display\n",
    "def draw(sentence):\n",
    "    words, tags = zip(*sentence)\n",
    "    display(HTML('<table><tr>{tags}</tr>{words}<tr></table>'.format(\n",
    "                words = '<td>{}</td>'.format('</td><td>'.join(words)),\n",
    "                tags = '<td>{}</td>'.format('</td><td>'.join(tags)))))\n",
    "\n",
    "draw(data[11])\n",
    "draw(data[10])\n",
    "draw(data[7])"
   ]
  },
  {
   "cell_type": "markdown",
   "metadata": {
    "id": "LAViiL2C8aHt"
   },
   "source": [
    "### Building vocabularies\n",
    "\n",
    "Just like before, we have to build a mapping from tokens to integer ids. This time around, our model operates on a word level, processing one word per RNN step. This means we'll have to deal with far larger vocabulary.\n",
    "\n",
    "Luckily for us, we only receive those words as input i.e. we don't have to predict them. This means we can have a large vocabulary for free by using word embeddings."
   ]
  },
  {
   "cell_type": "code",
   "execution_count": 5,
   "metadata": {
    "id": "ZXK_k-mo8aHt"
   },
   "outputs": [
    {
     "name": "stdout",
     "output_type": "stream",
     "text": [
      "Coverage = 0.92876\n"
     ]
    }
   ],
   "source": [
    "from collections import Counter\n",
    "word_counts = Counter()\n",
    "for sentence in data:\n",
    "    words, tags = zip(*sentence)\n",
    "    word_counts.update(words)\n",
    "\n",
    "all_words = ['#EOS#', '#UNK#'] + list(list(zip(*word_counts.most_common(10000)))[0])\n",
    "\n",
    "#let's measure what fraction of data words are in the dictionary\n",
    "print(\"Coverage = %.5f\" % (float(sum(word_counts[w] for w in all_words)) / sum(word_counts.values())))"
   ]
  },
  {
   "cell_type": "code",
   "execution_count": 6,
   "metadata": {
    "id": "T0hee8L88aHt"
   },
   "outputs": [],
   "source": [
    "from collections import defaultdict\n",
    "word_to_id = defaultdict(lambda:1, { word: i for i, word in enumerate(all_words) })\n",
    "tag_to_id = { tag: i for i, tag in enumerate(all_tags)}"
   ]
  },
  {
   "cell_type": "markdown",
   "metadata": {
    "id": "RCmGbwpP8aHu"
   },
   "source": [
    "convert words and tags into fixed-size matrix"
   ]
  },
  {
   "cell_type": "code",
   "execution_count": 7,
   "metadata": {
    "id": "X7kx6jWn8aHu"
   },
   "outputs": [],
   "source": [
    "def to_matrix(lines, token_to_id, max_len=None, pad=0, dtype='int32', time_major=False):\n",
    "    \"\"\"Converts a list of names into rnn-digestable matrix with paddings added after the end\"\"\"\n",
    "\n",
    "    max_len = max_len or max(map(len,lines))\n",
    "    matrix = np.empty([len(lines), max_len],dtype)\n",
    "    matrix.fill(pad)\n",
    "\n",
    "    for i in range(len(lines)):\n",
    "        line_ix = list(map(token_to_id.__getitem__, lines[i]))[:max_len]\n",
    "        matrix[i,:len(line_ix)] = line_ix\n",
    "\n",
    "    return matrix.T if time_major else matrix"
   ]
  },
  {
   "cell_type": "code",
   "execution_count": 8,
   "metadata": {
    "id": "BCaE-i5u8aHu"
   },
   "outputs": [
    {
     "name": "stdout",
     "output_type": "stream",
     "text": [
      "Word ids:\n",
      "[[   2 3057    5    2 2238 1334 4238 2454    3    6   19   26 1070   69\n",
      "     8 2088    6    3    1    3  266   65  342    2    1    3    2  315\n",
      "     1    9   87  216 3322   69 1558    4    0    0    0    0    0    0\n",
      "     0    0    0    0    0    0    0    0    0    0    0]\n",
      " [  45   12    8  511 8419    6   60 3246   39    2    1    1    3    2\n",
      "   845    1    3    1    3   10 9910    2    1 3470    9   43    1    1\n",
      "     3    6    2 1046  385   73 4562    3    9    2    1    1 3250    3\n",
      "    12   10    2  861 5240   12    8 8936  121    1    4]\n",
      " [  33   64   26   12  445    7 7346    9    8 3337    3    1 2811    3\n",
      "     2  463  572    2    1    1 1649   12    1    4    0    0    0    0\n",
      "     0    0    0    0    0    0    0    0    0    0    0    0    0    0\n",
      "     0    0    0    0    0    0    0    0    0    0    0]]\n",
      "Tag ids:\n",
      "[[ 6  3  4  6  3  3  9  9  7 12  4  5  9  4  6  3 12  7  9  7  9  8  4  6\n",
      "   3  7  6 13  3  4  6  3  9  4  3  7  0  0  0  0  0  0  0  0  0  0  0  0\n",
      "   0  0  0  0  0]\n",
      " [ 5  9  6  9  3 12  6  3  7  6 13  3  7  6 13  3  7 13  7  5  9  6  3  3\n",
      "   4  6 13  3  7 12  6  3  6 13  3  7  4  6  3  9  3  7  9  4  6 13  3  9\n",
      "   6  3  2 13  7]\n",
      " [ 4  6  5  9 13  4  3  4  6 13  7 13  3  7  6  3  4  6 13  3  3  9  9  7\n",
      "   0  0  0  0  0  0  0  0  0  0  0  0  0  0  0  0  0  0  0  0  0  0  0  0\n",
      "   0  0  0  0  0]]\n"
     ]
    }
   ],
   "source": [
    "batch_words, batch_tags = zip(*[zip(*sentence) for sentence in data[-3:]])\n",
    "\n",
    "print(\"Word ids:\")\n",
    "print(to_matrix(batch_words, word_to_id))\n",
    "print(\"Tag ids:\")\n",
    "print(to_matrix(batch_tags, tag_to_id))"
   ]
  },
  {
   "cell_type": "markdown",
   "metadata": {
    "collapsed": true,
    "id": "_oK_i5Xa8aHv"
   },
   "source": [
    "### Build model\n",
    "\n",
    "Unlike our previous lab, this time we'll focus on a high-level keras interface to recurrent neural networks. It is as simple as you can get with RNN, allbeit somewhat constraining for complex tasks like seq2seq.\n",
    "\n",
    "By default, all keras RNNs apply to a whole sequence of inputs and produce a sequence of hidden states `(return_sequences=True` or just the last hidden state `(return_sequences=False)`. All the recurrence is happening under the hood.\n",
    "\n",
    "At the top of our model we need to apply a Dense layer to each time-step independently. As of now, by default keras.layers.Dense would apply once to all time-steps concatenated. We use __keras.layers.TimeDistributed__ to modify Dense layer so that it would apply across both batch and time axes."
   ]
  },
  {
   "cell_type": "code",
   "execution_count": 9,
   "metadata": {
    "id": "OQeb8d5j8aHv"
   },
   "outputs": [],
   "source": [
    "import keras\n",
    "import keras.layers as L\n",
    "\n",
    "model = keras.models.Sequential()\n",
    "model.add(L.InputLayer([None], dtype='int32'))\n",
    "model.add(L.Embedding(len(all_words), 50))\n",
    "model.add(L.SimpleRNN(64, return_sequences=True))\n",
    "\n",
    "#add top layer that predicts tag probabilities\n",
    "stepwise_dense = L.Dense(len(all_tags), activation='softmax')\n",
    "stepwise_dense = L.TimeDistributed(stepwise_dense)\n",
    "model.add(stepwise_dense)"
   ]
  },
  {
   "cell_type": "markdown",
   "metadata": {
    "id": "lQbJqM2n8aHv"
   },
   "source": [
    "__Training:__ in this case we don't want to prepare the whole training dataset in advance. The main cause is that the length of every batch depends on the maximum sentence length within the batch. This leaves us two options: use custom training code as in previous seminar or use generators.\n",
    "\n",
    "Keras models have a __`model.fit_generator`__ method that accepts a python generator yielding one batch at a time. But first we need to implement such generator:"
   ]
  },
  {
   "cell_type": "code",
   "execution_count": 10,
   "metadata": {
    "id": "kpeMsDi18aHw"
   },
   "outputs": [],
   "source": [
    "from keras.utils.np_utils import to_categorical\n",
    "BATCH_SIZE=32\n",
    "def generate_batches(sentences, batch_size=BATCH_SIZE, max_len=None, pad=0):\n",
    "    assert isinstance(sentences, np.ndarray),\"Make sure sentences is q numpy array\"\n",
    "\n",
    "    while True:\n",
    "        indices = np.random.permutation(np.arange(len(sentences)))\n",
    "        for start in range(0, len(indices)-1, batch_size):\n",
    "            batch_indices = indices[start:start+batch_size]\n",
    "            batch_words, batch_tags = [], []\n",
    "            for sent in sentences[batch_indices]:\n",
    "                words, tags = zip(*sent)\n",
    "                batch_words.append(words)\n",
    "                batch_tags.append(tags)\n",
    "\n",
    "            batch_words = to_matrix(batch_words, word_to_id, max_len, pad)\n",
    "            batch_tags = to_matrix(batch_tags, tag_to_id, max_len, pad)\n",
    "\n",
    "            batch_tags_1hot = to_categorical(batch_tags, len(all_tags)).reshape(batch_tags.shape+(-1,))\n",
    "            yield batch_words, batch_tags_1hot"
   ]
  },
  {
   "cell_type": "markdown",
   "metadata": {
    "id": "zYoR9vgn8aHw"
   },
   "source": [
    "__Callbacks:__ Another thing we need is to measure model performance. The tricky part is not to count accuracy after sentence ends (on padding) and making sure we count all the validation data exactly once.\n",
    "\n",
    "While it isn't impossible to persuade Keras to do all of that, we may as well write our own callback that does that.\n",
    "Keras callbacks allow you to write a custom code to be ran once every epoch or every minibatch. We'll define one via LambdaCallback"
   ]
  },
  {
   "cell_type": "code",
   "execution_count": 11,
   "metadata": {
    "id": "CC8woNtV8aHx"
   },
   "outputs": [],
   "source": [
    "def compute_test_accuracy(model):\n",
    "    test_words, test_tags = zip(*[zip(*sentence) for sentence in test_data])\n",
    "    test_words, test_tags = to_matrix(test_words, word_to_id), to_matrix(test_tags, tag_to_id)\n",
    "\n",
    "    #predict tag probabilities of shape [batch, time, n_tags]\n",
    "    predicted_tag_probabilities = model.predict(test_words, verbose=1)\n",
    "    predicted_tags = predicted_tag_probabilities.argmax(axis=-1)\n",
    "\n",
    "    #compute accurary excluding padding\n",
    "    numerator = np.sum(np.logical_and((predicted_tags == test_tags), (test_words != 0)))\n",
    "    denominator = np.sum(test_words != 0)\n",
    "    return float(numerator)/denominator\n",
    "\n",
    "\n",
    "class EvaluateAccuracy(keras.callbacks.Callback):\n",
    "    def on_epoch_end(self, epoch, logs=None, ):\n",
    "        sys.stdout.flush()\n",
    "        print(\"\\nMeasuring validation accuracy...\")\n",
    "        acc = compute_test_accuracy(self.model)\n",
    "        print(\"\\nValidation accuracy: %.5f\\n\"%acc)\n",
    "        sys.stdout.flush()"
   ]
  },
  {
   "cell_type": "code",
   "execution_count": 12,
   "metadata": {
    "id": "5eJGEWu58aHx"
   },
   "outputs": [
    {
     "name": "stdout",
     "output_type": "stream",
     "text": [
      "Epoch 1/5\n",
      "1341/1343 [============================>.] - ETA: 0s - loss: 0.2891\n",
      "Measuring validation accuracy...\n",
      "448/448 [==============================] - 3s 6ms/step\n",
      "\n",
      "Validation accuracy: 0.93886\n",
      "\n",
      "1343/1343 [==============================] - 13s 9ms/step - loss: 0.2886\n",
      "Epoch 2/5\n",
      "1342/1343 [============================>.] - ETA: 0s - loss: 0.0592\n",
      "Measuring validation accuracy...\n",
      "448/448 [==============================] - 3s 6ms/step\n",
      "\n",
      "Validation accuracy: 0.94361\n",
      "\n",
      "1343/1343 [==============================] - 13s 9ms/step - loss: 0.0592\n",
      "Epoch 3/5\n",
      "1344/1343 [==============================] - ETA: 0s - loss: 0.0525\n",
      "Measuring validation accuracy...\n",
      "448/448 [==============================] - 5s 10ms/step\n",
      "\n",
      "Validation accuracy: 0.94510\n",
      "\n",
      "1343/1343 [==============================] - 23s 17ms/step - loss: 0.0525\n",
      "Epoch 4/5\n",
      "1341/1343 [============================>.] - ETA: 0s - loss: 0.0474\n",
      "Measuring validation accuracy...\n",
      "448/448 [==============================] - 7s 15ms/step\n",
      "\n",
      "Validation accuracy: 0.94566\n",
      "\n",
      "1343/1343 [==============================] - 25s 19ms/step - loss: 0.0474\n",
      "Epoch 5/5\n",
      "1341/1343 [============================>.] - ETA: 0s - loss: 0.0430\n",
      "Measuring validation accuracy...\n",
      "448/448 [==============================] - 4s 9ms/step\n",
      "\n",
      "Validation accuracy: 0.94425\n",
      "\n",
      "1343/1343 [==============================] - 23s 17ms/step - loss: 0.0430\n"
     ]
    },
    {
     "data": {
      "text/plain": [
       "<keras.callbacks.History at 0x298e7c22850>"
      ]
     },
     "execution_count": 12,
     "metadata": {},
     "output_type": "execute_result"
    }
   ],
   "source": [
    "model.compile('adam', 'categorical_crossentropy')\n",
    "\n",
    "model.fit_generator(generate_batches(train_data), len(train_data)/BATCH_SIZE, callbacks=[EvaluateAccuracy()], epochs=5)"
   ]
  },
  {
   "cell_type": "markdown",
   "metadata": {
    "id": "TTN7C34V8aHy"
   },
   "source": [
    "Measure final accuracy on the whole test set."
   ]
  },
  {
   "cell_type": "code",
   "execution_count": 13,
   "metadata": {
    "id": "tHgxnYB68aHy"
   },
   "outputs": [
    {
     "name": "stdout",
     "output_type": "stream",
     "text": [
      "448/448 [==============================] - 5s 11ms/step\n",
      "Final accuracy: 0.94425\n"
     ]
    }
   ],
   "source": [
    "acc = compute_test_accuracy(model)\n",
    "print(\"Final accuracy: %.5f\"%acc)\n",
    "\n",
    "assert acc>0.94, \"Keras has gone on a rampage again, please contact course staff.\""
   ]
  },
  {
   "cell_type": "markdown",
   "metadata": {
    "id": "5L5Prr4I8aHy"
   },
   "source": [
    "### Going bidirectional\n",
    "\n",
    "Since we're analyzing a full sequence, it's legal for us to look into future data.\n",
    "\n",
    "A simple way to achieve that is to go both directions at once, making a __bidirectional RNN__.\n",
    "\n",
    "In Keras you can achieve that both manually (using two LSTMs and Concatenate) and by using __`keras.layers.Bidirectional`__.\n",
    "\n",
    "This one works just as `TimeDistributed` we saw before: you wrap it around a recurrent layer (SimpleRNN now and LSTM/GRU later) and it actually creates two layers under the hood.\n",
    "\n",
    "Your first task is to use such a layer our POS-tagger."
   ]
  },
  {
   "cell_type": "code",
   "execution_count": 14,
   "metadata": {
    "id": "xWfCrbh-8aHy"
   },
   "outputs": [
    {
     "name": "stdout",
     "output_type": "stream",
     "text": [
      "Epoch 1/5\n",
      "1340/1343 [============================>.] - ETA: 0s - loss: 0.1830\n",
      "Measuring validation accuracy...\n",
      "448/448 [==============================] - 4s 9ms/step\n",
      "\n",
      "Validation accuracy: 0.95664\n",
      "\n",
      "1343/1343 [==============================] - 26s 16ms/step - loss: 0.1827\n",
      "Epoch 2/5\n",
      "1343/1343 [============================>.] - ETA: 0s - loss: 0.0423\n",
      "Measuring validation accuracy...\n",
      "448/448 [==============================] - 4s 8ms/step\n",
      "\n",
      "Validation accuracy: 0.95991\n",
      "\n",
      "1343/1343 [==============================] - 23s 17ms/step - loss: 0.0423\n",
      "Epoch 3/5\n",
      "1340/1343 [============================>.] - ETA: 0s - loss: 0.0351\n",
      "Measuring validation accuracy...\n",
      "448/448 [==============================] - 4s 9ms/step\n",
      "\n",
      "Validation accuracy: 0.96166\n",
      "\n",
      "1343/1343 [==============================] - 22s 17ms/step - loss: 0.0351\n",
      "Epoch 4/5\n",
      "1343/1343 [============================>.] - ETA: 0s - loss: 0.0299\n",
      "Measuring validation accuracy...\n",
      "448/448 [==============================] - 6s 12ms/step\n",
      "\n",
      "Validation accuracy: 0.96237\n",
      "\n",
      "1343/1343 [==============================] - 25s 18ms/step - loss: 0.0299\n",
      "Epoch 5/5\n",
      "1343/1343 [============================>.] - ETA: 0s - loss: 0.0254\n",
      "Measuring validation accuracy...\n",
      "448/448 [==============================] - 5s 11ms/step\n",
      "\n",
      "Validation accuracy: 0.96107\n",
      "\n",
      "1343/1343 [==============================] - 22s 16ms/step - loss: 0.0254\n"
     ]
    },
    {
     "data": {
      "text/plain": [
       "<keras.callbacks.History at 0x298972c6550>"
      ]
     },
     "execution_count": 14,
     "metadata": {},
     "output_type": "execute_result"
    }
   ],
   "source": [
    "#Define a model that utilizes bidirectional SimpleRNN\n",
    "model = keras.models.Sequential()\n",
    "model.add(L.InputLayer([None], dtype='int32'))\n",
    "model.add(L.Embedding(len(all_words), 50))\n",
    "model.add(L.Bidirectional(L.SimpleRNN(64, return_sequences=True)))\n",
    "model.add(L.Dense(len(all_tags), activation='softmax'))\n",
    "\n",
    "model.compile('adam', 'categorical_crossentropy')\n",
    "\n",
    "model.fit_generator(generate_batches(train_data), len(train_data)/BATCH_SIZE, callbacks=[EvaluateAccuracy()], epochs=5)"
   ]
  },
  {
   "cell_type": "code",
   "execution_count": 15,
   "metadata": {
    "id": "iWHSkF648aHz"
   },
   "outputs": [
    {
     "name": "stdout",
     "output_type": "stream",
     "text": [
      "448/448 [==============================] - 5s 12ms/step\n",
      "\n",
      "Final accuracy: 0.96107\n",
      "Well done!\n"
     ]
    }
   ],
   "source": [
    "acc = compute_test_accuracy(model)\n",
    "print(\"\\nFinal accuracy: %.5f\"%acc)\n",
    "\n",
    "assert acc>0.96, \"Bidirectional RNNs are better than this!\"\n",
    "print(\"Well done!\")"
   ]
  },
  {
   "cell_type": "markdown",
   "metadata": {},
   "source": [
    "**Немного улучшить качество работы модели и довести точность на валидации до 97% мне удалось за счет использования двух двунаправленных рекуррентных `GRU` слоев с добавлением `Dropout` регуляризации в каждом из них и нормализации `LayerNormalization` между слоями. Также я заменил оптимизатор на `Nadam`, а количество эпох для сходимости потребовалось увеличить до 15.**"
   ]
  },
  {
   "cell_type": "code",
   "execution_count": 28,
   "metadata": {},
   "outputs": [
    {
     "name": "stdout",
     "output_type": "stream",
     "text": [
      "Epoch 1/16\n",
      "1344/1343 [==============================] - ETA: 0s - loss: 0.1209\n",
      "Measuring validation accuracy...\n",
      "448/448 [==============================] - 22s 48ms/step\n",
      "\n",
      "Validation accuracy: 0.95917\n",
      "\n",
      "1343/1343 [==============================] - 113s 80ms/step - loss: 0.1209\n",
      "Epoch 2/16\n",
      "1344/1343 [==============================] - ETA: 0s - loss: 0.0479\n",
      "Measuring validation accuracy...\n",
      "448/448 [==============================] - 22s 48ms/step\n",
      "\n",
      "Validation accuracy: 0.96365\n",
      "\n",
      "1343/1343 [==============================] - 111s 83ms/step - loss: 0.0479\n",
      "Epoch 3/16\n",
      "1344/1343 [==============================] - ETA: 0s - loss: 0.0418\n",
      "Measuring validation accuracy...\n",
      "448/448 [==============================] - 22s 49ms/step\n",
      "\n",
      "Validation accuracy: 0.96535\n",
      "\n",
      "1343/1343 [==============================] - 116s 86ms/step - loss: 0.0418\n",
      "Epoch 4/16\n",
      "1344/1343 [==============================] - ETA: 0s - loss: 0.0389\n",
      "Measuring validation accuracy...\n",
      "448/448 [==============================] - 22s 48ms/step\n",
      "\n",
      "Validation accuracy: 0.96721\n",
      "\n",
      "1343/1343 [==============================] - 112s 83ms/step - loss: 0.0389\n",
      "Epoch 5/16\n",
      "1344/1343 [==============================] - ETA: 0s - loss: 0.0364\n",
      "Measuring validation accuracy...\n",
      "448/448 [==============================] - 22s 48ms/step\n",
      "\n",
      "Validation accuracy: 0.96728\n",
      "\n",
      "1343/1343 [==============================] - 111s 83ms/step - loss: 0.0364\n",
      "Epoch 6/16\n",
      "1343/1343 [============================>.] - ETA: 0s - loss: 0.0349\n",
      "Measuring validation accuracy...\n",
      "448/448 [==============================] - 22s 48ms/step\n",
      "\n",
      "Validation accuracy: 0.96848\n",
      "\n",
      "1343/1343 [==============================] - 111s 83ms/step - loss: 0.0349\n",
      "Epoch 7/16\n",
      "1344/1343 [==============================] - ETA: 0s - loss: 0.0336\n",
      "Measuring validation accuracy...\n",
      "448/448 [==============================] - 22s 48ms/step\n",
      "\n",
      "Validation accuracy: 0.96876\n",
      "\n",
      "1343/1343 [==============================] - 112s 83ms/step - loss: 0.0336\n",
      "Epoch 8/16\n",
      "1344/1343 [==============================] - ETA: 0s - loss: 0.0323\n",
      "Measuring validation accuracy...\n",
      "448/448 [==============================] - 22s 50ms/step\n",
      "\n",
      "Validation accuracy: 0.96881\n",
      "\n",
      "1343/1343 [==============================] - 115s 86ms/step - loss: 0.0323\n",
      "Epoch 9/16\n",
      "1344/1343 [==============================] - ETA: 0s - loss: 0.0311\n",
      "Measuring validation accuracy...\n",
      "448/448 [==============================] - 21s 48ms/step\n",
      "\n",
      "Validation accuracy: 0.96898\n",
      "\n",
      "1343/1343 [==============================] - 111s 82ms/step - loss: 0.0311\n",
      "Epoch 10/16\n",
      "1344/1343 [==============================] - ETA: 0s - loss: 0.0301\n",
      "Measuring validation accuracy...\n",
      "448/448 [==============================] - 21s 48ms/step\n",
      "\n",
      "Validation accuracy: 0.96873\n",
      "\n",
      "1343/1343 [==============================] - 110s 82ms/step - loss: 0.0301\n",
      "Epoch 11/16\n",
      "1344/1343 [==============================] - ETA: 0s - loss: 0.0294\n",
      "Measuring validation accuracy...\n",
      "448/448 [==============================] - 21s 48ms/step\n",
      "\n",
      "Validation accuracy: 0.96944\n",
      "\n",
      "1343/1343 [==============================] - 110s 82ms/step - loss: 0.0294\n",
      "Epoch 12/16\n",
      "1344/1343 [==============================] - ETA: 0s - loss: 0.0290\n",
      "Measuring validation accuracy...\n",
      "448/448 [==============================] - 21s 47ms/step\n",
      "\n",
      "Validation accuracy: 0.96910\n",
      "\n",
      "1343/1343 [==============================] - 110s 82ms/step - loss: 0.0290\n",
      "Epoch 13/16\n",
      "1344/1343 [==============================] - ETA: 0s - loss: 0.0283\n",
      "Measuring validation accuracy...\n",
      "448/448 [==============================] - 22s 49ms/step\n",
      "\n",
      "Validation accuracy: 0.96948\n",
      "\n",
      "1343/1343 [==============================] - 111s 82ms/step - loss: 0.0283\n",
      "Epoch 14/16\n",
      "1344/1343 [==============================] - ETA: 0s - loss: 0.0276\n",
      "Measuring validation accuracy...\n",
      "448/448 [==============================] - 22s 48ms/step\n",
      "\n",
      "Validation accuracy: 0.96933\n",
      "\n",
      "1343/1343 [==============================] - 112s 83ms/step - loss: 0.0276\n",
      "Epoch 15/16\n",
      "1343/1343 [============================>.] - ETA: 0s - loss: 0.0270\n",
      "Measuring validation accuracy...\n",
      "448/448 [==============================] - 21s 48ms/step\n",
      "\n",
      "Validation accuracy: 0.96942\n",
      "\n",
      "1343/1343 [==============================] - 111s 83ms/step - loss: 0.0270\n",
      "Epoch 16/16\n",
      "1344/1343 [==============================] - ETA: 0s - loss: 0.0268\n",
      "Measuring validation accuracy...\n",
      "448/448 [==============================] - 21s 48ms/step\n",
      "\n",
      "Validation accuracy: 0.96982\n",
      "\n",
      "1343/1343 [==============================] - 111s 83ms/step - loss: 0.0268\n"
     ]
    },
    {
     "data": {
      "text/plain": [
       "<keras.callbacks.History at 0x29929f535b0>"
      ]
     },
     "execution_count": 28,
     "metadata": {},
     "output_type": "execute_result"
    }
   ],
   "source": [
    "model_3 = keras.models.Sequential()\n",
    "model_3.add(L.InputLayer([None], dtype='int32'))\n",
    "model_3.add(L.Embedding(len(all_words), 50))\n",
    "model_3.add(L.Bidirectional(L.GRU(64, return_sequences=True, dropout=0.5)))\n",
    "model_3.add(L.LayerNormalization())\n",
    "model_3.add(L.Bidirectional(L.GRU(64, return_sequences=True, dropout=0.5)))\n",
    "model_3.add(L.Dense(len(all_tags), activation='softmax'))\n",
    "\n",
    "model_3.compile('nadam', 'categorical_crossentropy')\n",
    "\n",
    "model_3.fit_generator(generate_batches(train_data), len(train_data)/BATCH_SIZE,\n",
    "                    callbacks=[EvaluateAccuracy()], epochs=16, workers=-1)"
   ]
  },
  {
   "cell_type": "code",
   "execution_count": 32,
   "metadata": {},
   "outputs": [
    {
     "name": "stdout",
     "output_type": "stream",
     "text": [
      "448/448 [==============================] - 27s 60ms/step\n",
      "\n",
      "Final accuracy: 0.96982\n",
      "Well done!\n"
     ]
    }
   ],
   "source": [
    "acc = compute_test_accuracy(model_3)\n",
    "print(\"\\nFinal accuracy: %.5f\"%acc)\n",
    "\n",
    "assert acc>0.96, \"Bidirectional RNNs are better than this!\"\n",
    "print(\"Well done!\")"
   ]
  },
  {
   "cell_type": "markdown",
   "metadata": {
    "id": "VW_nFppS8aH0"
   },
   "source": [
    "Task I: Structured loss functions (more bonus points)\n",
    "\n",
    "Since we're tagging the whole sequence at once, we might as well train our network to do so. Remember linear CRF from the lecture? You can also use it as a loss function for your RNN\n",
    "\n",
    "\n",
    "  * There's more than one way to do so, but we'd recommend starting with [Conditional Random Fields](http://blog.echen.me/2012/01/03/introduction-to-conditional-random-fields/)\n",
    "  * You can plug CRF as a loss function and still train by backprop. There's even some neat tensorflow [implementation](https://www.tensorflow.org/addons/api_docs/python/tfa/layers/CRF) for you.\n",
    "  * Alternatively, you can condition your model on previous tags (make it autoregressive) and perform __beam search__ over that model."
   ]
  },
  {
   "cell_type": "markdown",
   "metadata": {
    "id": "AG_wuMVf8aH0"
   },
   "source": [
    "\n",
    "#### Some tips\n",
    "Here there are a few more tips on how to improve training that are a bit trickier to impliment. We strongly suggest that you try them _after_ you've got a good initial model.\n",
    "* __Use pre-trained embeddings__: you can use pre-trained weights from [there](http://ahogrammer.com/2017/01/20/the-list-of-pretrained-word-embeddings/) to kickstart your Embedding layer.\n",
    "  * Embedding layer has a matrix W (layer.W) which contains word embeddings for each word in the dictionary. You can just overwrite them with tf.assign.\n",
    "  * When using pre-trained embeddings, pay attention to the fact that model's dictionary is different from your own.\n",
    "  * You may want to switch trainable=False for embedding layer in first few epochs as in regular fine-tuning.  \n",
    "* __Go beyond SimpleRNN__: there's `keras.layers.LSTM` and `keras.layers.GRU`\n",
    "  * If you want to use a custom recurrent Cell, read [this](https://keras.io/layers/recurrent/#rnn)\n",
    "  * You can also use 1D Convolutions (`keras.layers.Conv1D`). They are often as good as recurrent layers but with less overfitting.\n",
    "* __Stack more layers__: if there is a common motif to this course it's about stacking layers\n",
    "  * You can just add recurrent and 1dconv layers on top of one another and keras will understand it\n",
    "  * Just remember that bigger networks may need more epochs to train\n",
    "* __Regularization__: you can apply dropouts as usual but also in an RNN-specific way\n",
    "  * `keras.layers.Dropout` works inbetween RNN layers\n",
    "  * Recurrent layers also have `recurrent_dropout` parameter\n",
    "* __Gradient clipping__: If your training isn't as stable as you'd like, set `clipnorm` in your optimizer.\n",
    "  * Which is to say, it's a good idea to watch over your loss curve at each minibatch. Try tensorboard callback or something similar.\n",
    "* __Word Dropout__: tl;dr randomly replace words with UNK during training.\n",
    "  * This can also simulate increased amount of unknown words in the test set\n",
    "* __Larger vocabulary__: You can obtain greater performance by expanding your model's input dictionary from 5000 to up to every single word!\n",
    "  * Just make sure your model doesn't overfit due to so many parameters.\n",
    "  * Combined with regularizers or pre-trained word-vectors this could be really good cuz right now our model is blind to >5% of words.  \n",
    "* __More efficient batching__: right now TF spends a lot of time iterating over \"0\"s\n",
    "  * This happens because batch is always padded to the length of a longest sentence\n",
    "  * You can speed things up by pre-generating batches of similar lengths and feeding it with randomly chosen pre-generated batch.\n",
    "  * This technically breaks the i.i.d. assumption, but it works unless you come up with some insane rnn architectures.\n",
    "* __The most important advice__: don't cram in everything at once!\n",
    "  * If you stuff in a lot of modiffications, some of them almost inevitably gonna be detrimental and you'll never know which of them are.\n",
    "  * Try to instead go in small iterations and record experiment results to guide further search.\n",
    "    \n",
    "Good hunting!"
   ]
  }
 ],
 "metadata": {
  "accelerator": "GPU",
  "colab": {
   "provenance": []
  },
  "kernelspec": {
   "display_name": "Python 3 (ipykernel)",
   "language": "python",
   "name": "python3"
  },
  "language_info": {
   "codemirror_mode": {
    "name": "ipython",
    "version": 3
   },
   "file_extension": ".py",
   "mimetype": "text/x-python",
   "name": "python",
   "nbconvert_exporter": "python",
   "pygments_lexer": "ipython3",
   "version": "3.9.12"
  }
 },
 "nbformat": 4,
 "nbformat_minor": 1
}

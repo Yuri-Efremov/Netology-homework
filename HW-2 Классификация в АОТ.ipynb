{
 "cells": [
  {
   "cell_type": "markdown",
   "id": "dac3ef82",
   "metadata": {
    "id": "bSm0ju9puyiP"
   },
   "source": [
    "Предварительно про PyTorch:\n",
    "* [Про тензоры в pytorch](https://colab.research.google.com/github/pytorch/tutorials/blob/gh-pages/_downloads/tensor_tutorial.ipynb)\n",
    "* [Про автоматическое дифференцирование и что такое .backwards()](https://colab.research.google.com/github/pytorch/tutorials/blob/gh-pages/_downloads/autograd_tutorial.ipynb)\n",
    "* [Очень простая нейронка на pytorch](https://colab.research.google.com/drive/1RsZvw4KBGn5U5Aj5Ak7OG2pHx6z1OSlF)"
   ]
  },
  {
   "cell_type": "markdown",
   "id": "931a2d1e",
   "metadata": {
    "id": "BcgMmb-QuyiT"
   },
   "source": [
    "# Классификация текстов\n",
    "\n",
    "## Fakenews\n",
    "\n",
    "1. Мы будем работать с данными fakenews отсюда: https://raw.githubusercontent.com/diptamath/covid_fake_news/main/data/Constraint_Train.csv\n",
    "2. Проведите препроцессинг текста. Разбейте данные на train и test для задачи классификации.\n",
    "3. Векторизуйте.\n",
    "4. Обучите на полученных векторах алгоритм классификации.\n",
    "\n",
    "Мы уже видели как эта задача выполняется с помощью Word2vec. Давайте вспомним."
   ]
  },
  {
   "cell_type": "markdown",
   "id": "6d991280",
   "metadata": {},
   "source": [
    "# 1. Загрузка библиотек"
   ]
  },
  {
   "cell_type": "code",
   "execution_count": 1,
   "id": "8d0533ff",
   "metadata": {
    "executionInfo": {
     "elapsed": 245,
     "status": "ok",
     "timestamp": 1639834953488,
     "user": {
      "displayName": "Татьяна Розитис",
      "photoUrl": "https://lh3.googleusercontent.com/a-/AOh14GhQAtxbsmN0PY09aq0oqLn3JND0vuwIBQFwAwpM=s64",
      "userId": "03558129229986280864"
     },
     "user_tz": -180
    },
    "id": "5YCpo8FuuyiW"
   },
   "outputs": [
    {
     "name": "stderr",
     "output_type": "stream",
     "text": [
      "[nltk_data] Downloading package punkt to\n",
      "[nltk_data]     C:\\Users\\79111\\AppData\\Roaming\\nltk_data...\n",
      "[nltk_data]   Package punkt is already up-to-date!\n"
     ]
    }
   ],
   "source": [
    "import pandas as pd\n",
    "import numpy as np\n",
    "from tqdm import tqdm\n",
    "import optuna\n",
    "from copy import deepcopy\n",
    "\n",
    "from gensim.models.word2vec import Word2Vec\n",
    "from nltk.tokenize import word_tokenize\n",
    "import nltk\n",
    "nltk.download('punkt')\n",
    "\n",
    "from sklearn.feature_extraction.text import CountVectorizer\n",
    "from sklearn.model_selection import train_test_split\n",
    "from sklearn.linear_model import LogisticRegression\n",
    "from sklearn.ensemble import RandomForestClassifier\n",
    "from sklearn.metrics import precision_recall_curve, auc, classification_report, accuracy_score\n",
    "\n",
    "import torch\n",
    "import torch.nn as nn\n",
    "import torch.optim as optim\n",
    "\n",
    "import warnings\n",
    "warnings.filterwarnings('ignore')"
   ]
  },
  {
   "cell_type": "markdown",
   "id": "e90e8c39",
   "metadata": {},
   "source": [
    "# 2. Загрузка и подготовка данных"
   ]
  },
  {
   "cell_type": "code",
   "execution_count": 2,
   "id": "11c8a3d4",
   "metadata": {
    "colab": {
     "base_uri": "https://localhost:8080/"
    },
    "executionInfo": {
     "elapsed": 407,
     "status": "ok",
     "timestamp": 1639832634012,
     "user": {
      "displayName": "Татьяна Розитис",
      "photoUrl": "https://lh3.googleusercontent.com/a-/AOh14GhQAtxbsmN0PY09aq0oqLn3JND0vuwIBQFwAwpM=s64",
      "userId": "03558129229986280864"
     },
     "user_tz": -180
    },
    "id": "8EQ4-xO7uyiU",
    "outputId": "ed41a67c-92c6-4a3a-d863-bdc06e7eb587"
   },
   "outputs": [
    {
     "data": {
      "text/html": [
       "<div>\n",
       "<style scoped>\n",
       "    .dataframe tbody tr th:only-of-type {\n",
       "        vertical-align: middle;\n",
       "    }\n",
       "\n",
       "    .dataframe tbody tr th {\n",
       "        vertical-align: top;\n",
       "    }\n",
       "\n",
       "    .dataframe thead th {\n",
       "        text-align: right;\n",
       "    }\n",
       "</style>\n",
       "<table border=\"1\" class=\"dataframe\">\n",
       "  <thead>\n",
       "    <tr style=\"text-align: right;\">\n",
       "      <th></th>\n",
       "      <th>id</th>\n",
       "      <th>tweet</th>\n",
       "      <th>label</th>\n",
       "    </tr>\n",
       "  </thead>\n",
       "  <tbody>\n",
       "    <tr>\n",
       "      <th>0</th>\n",
       "      <td>1</td>\n",
       "      <td>The CDC currently reports 99031 deaths. In gen...</td>\n",
       "      <td>real</td>\n",
       "    </tr>\n",
       "    <tr>\n",
       "      <th>1</th>\n",
       "      <td>2</td>\n",
       "      <td>States reported 1121 deaths a small rise from ...</td>\n",
       "      <td>real</td>\n",
       "    </tr>\n",
       "    <tr>\n",
       "      <th>2</th>\n",
       "      <td>3</td>\n",
       "      <td>Politically Correct Woman (Almost) Uses Pandem...</td>\n",
       "      <td>fake</td>\n",
       "    </tr>\n",
       "    <tr>\n",
       "      <th>3</th>\n",
       "      <td>4</td>\n",
       "      <td>#IndiaFightsCorona: We have 1524 #COVID testin...</td>\n",
       "      <td>real</td>\n",
       "    </tr>\n",
       "    <tr>\n",
       "      <th>4</th>\n",
       "      <td>5</td>\n",
       "      <td>Populous states can generate large case counts...</td>\n",
       "      <td>real</td>\n",
       "    </tr>\n",
       "  </tbody>\n",
       "</table>\n",
       "</div>"
      ],
      "text/plain": [
       "   id                                              tweet label\n",
       "0   1  The CDC currently reports 99031 deaths. In gen...  real\n",
       "1   2  States reported 1121 deaths a small rise from ...  real\n",
       "2   3  Politically Correct Woman (Almost) Uses Pandem...  fake\n",
       "3   4  #IndiaFightsCorona: We have 1524 #COVID testin...  real\n",
       "4   5  Populous states can generate large case counts...  real"
      ]
     },
     "execution_count": 2,
     "metadata": {},
     "output_type": "execute_result"
    }
   ],
   "source": [
    "# https://raw.githubusercontent.com/diptamath/covid_fake_news/main/data/Constraint_Train.csv\n",
    "df = pd.read_csv('Constraint_Train.csv')\n",
    "df.head()"
   ]
  },
  {
   "cell_type": "markdown",
   "id": "ac5e8fc9",
   "metadata": {},
   "source": [
    "## 2.1 Данные на основе эмбеддингов слов"
   ]
  },
  {
   "cell_type": "code",
   "execution_count": 3,
   "id": "afa92364",
   "metadata": {},
   "outputs": [
    {
     "name": "stderr",
     "output_type": "stream",
     "text": [
      "100%|██████████| 6420/6420 [00:02<00:00, 2574.51it/s]\n"
     ]
    },
    {
     "data": {
      "text/plain": [
       "[('vaccines', 0.5229357481002808),\n",
       " ('drug', 0.4898321330547333),\n",
       " ('bharat', 0.42307907342910767),\n",
       " ('biotech', 0.42062073945999146),\n",
       " ('cure', 0.41453468799591064),\n",
       " ('trials', 0.3973405659198761),\n",
       " ('therapeutics', 0.3923570215702057),\n",
       " ('priority', 0.38474297523498535),\n",
       " ('developed', 0.3773641884326935),\n",
       " ('trial', 0.37083232402801514)]"
      ]
     },
     "execution_count": 3,
     "metadata": {},
     "output_type": "execute_result"
    }
   ],
   "source": [
    "sentences = [word_tokenize(text.lower()) for text in tqdm(df.tweet)]\n",
    "model_tweets = Word2Vec(sentences, workers=1, vector_size=300, min_count=3, window=5, epochs=50)\n",
    "model_tweets.wv.most_similar('vaccine')"
   ]
  },
  {
   "cell_type": "code",
   "execution_count": 4,
   "id": "9138cc24",
   "metadata": {},
   "outputs": [],
   "source": [
    "def get_text_embedding(text):\n",
    "    result = []\n",
    "    for word in text:\n",
    "        if word in model_tweets.wv:\n",
    "            result.append(model_tweets.wv[word])\n",
    "    if len(result):\n",
    "        return np.sum(result, axis=0)\n",
    "    else:\n",
    "        return np.zeros(300)"
   ]
  },
  {
   "cell_type": "code",
   "execution_count": 5,
   "id": "b256ceea",
   "metadata": {},
   "outputs": [],
   "source": [
    "features = [get_text_embedding(text) for text in sentences]\n",
    "features = np.array(features)\n",
    "\n",
    "labels = (df.label == 'real').astype(int).to_list()\n",
    "labels = np.array(labels)\n",
    "\n",
    "X_train_e, X_test_e, y_train_e, y_test_e = train_test_split(features, labels, test_size=0.33, stratify=labels, random_state=42)"
   ]
  },
  {
   "cell_type": "markdown",
   "id": "5b2f1a38",
   "metadata": {
    "id": "45OhRwtTuyic"
   },
   "source": [
    "## 2.2 Данные на основе мешка слов"
   ]
  },
  {
   "cell_type": "code",
   "execution_count": 6,
   "id": "995f4911",
   "metadata": {},
   "outputs": [],
   "source": [
    "vec = CountVectorizer()\n",
    "bow = vec.fit_transform(df.tweet)\n",
    "X_train_b, X_test_b, y_train_b, y_test_b = train_test_split(bow, labels, test_size=0.33, stratify=labels, random_state=42)"
   ]
  },
  {
   "cell_type": "markdown",
   "id": "7b0f029e",
   "metadata": {},
   "source": [
    "# 3. SKlearn"
   ]
  },
  {
   "cell_type": "markdown",
   "id": "22a7a5c8",
   "metadata": {},
   "source": [
    "## 3.1 Логистическая регрессия с подбором гиперпараметров"
   ]
  },
  {
   "cell_type": "code",
   "execution_count": 7,
   "id": "6f9e8cc5",
   "metadata": {},
   "outputs": [],
   "source": [
    "def objective_logreg(trial):\n",
    "    param = {\n",
    "        'C': trial.suggest_float('C', 0.001, 1.),\n",
    "        'solver': trial.suggest_categorical('solver', ['lbfgs', 'liblinear', 'newton-cg', 'newton-cholesky', 'sag', 'saga']),\n",
    "        'max_iter': 1000\n",
    "    }\n",
    "    if param['solver'] in ['lbfgs', 'newton-cg', 'newton-cholesky', 'sag']:\n",
    "        param['penalty'] = 'l2'\n",
    "    elif param['solver'] in ['liblinear', 'saga']:\n",
    "        param['penalty'] = trial.suggest_categorical('penalty', ['l1', 'l2'])\n",
    "    \n",
    "    model_cv = LogisticRegression(**param)\n",
    "    model_cv.fit(X_train_cv, y_train_cv)\n",
    "    \n",
    "    preds = model_cv.predict_proba(X_test_cv)[:, 1]\n",
    "    precision, recall, thresholds = precision_recall_curve(y_test_cv, preds)\n",
    "    pr_auc = auc(recall, precision)\n",
    "    return pr_auc"
   ]
  },
  {
   "cell_type": "markdown",
   "id": "5310235b",
   "metadata": {},
   "source": [
    "### 3.1.1 Данные на основе эмбеддингов слов"
   ]
  },
  {
   "cell_type": "code",
   "execution_count": 13,
   "id": "661bf4b8",
   "metadata": {
    "scrolled": true
   },
   "outputs": [
    {
     "name": "stderr",
     "output_type": "stream",
     "text": [
      "[I 2024-01-10 12:54:54,223] A new study created in memory with name: no-name-140f1b07-785b-4da9-9acc-9228a08e606c\n",
      "[I 2024-01-10 12:54:54,343] Trial 0 finished with value: 0.9821521533545223 and parameters: {'C': 0.44520073827364903, 'solver': 'newton-cholesky'}. Best is trial 0 with value: 0.9821521533545223.\n",
      "[I 2024-01-10 12:54:55,984] Trial 1 finished with value: 0.9822987906890318 and parameters: {'C': 0.9008443314477318, 'solver': 'liblinear', 'penalty': 'l2'}. Best is trial 1 with value: 0.9822987906890318.\n",
      "[I 2024-01-10 12:54:56,069] Trial 2 finished with value: 0.9827917359575997 and parameters: {'C': 0.057477884076623194, 'solver': 'newton-cholesky'}. Best is trial 2 with value: 0.9827917359575997.\n",
      "[I 2024-01-10 12:55:06,808] Trial 3 finished with value: 0.9830562882931673 and parameters: {'C': 0.5798986114854214, 'solver': 'sag'}. Best is trial 3 with value: 0.9830562882931673.\n",
      "[I 2024-01-10 12:55:08,627] Trial 4 finished with value: 0.9822159633498113 and parameters: {'C': 0.3284246584332327, 'solver': 'lbfgs'}. Best is trial 3 with value: 0.9830562882931673.\n",
      "[I 2024-01-10 12:55:32,403] Trial 5 finished with value: 0.9830596092268421 and parameters: {'C': 0.41174106069370525, 'solver': 'sag'}. Best is trial 5 with value: 0.9830596092268421.\n",
      "[I 2024-01-10 12:56:03,428] Trial 6 finished with value: 0.9817460827021266 and parameters: {'C': 0.6974576428426362, 'solver': 'saga', 'penalty': 'l1'}. Best is trial 5 with value: 0.9830596092268421.\n",
      "[I 2024-01-10 12:56:03,975] Trial 7 finished with value: 0.9824752990070442 and parameters: {'C': 0.1549649516400303, 'solver': 'newton-cg'}. Best is trial 5 with value: 0.9830596092268421.\n",
      "[I 2024-01-10 12:56:13,093] Trial 8 finished with value: 0.9830694327534324 and parameters: {'C': 0.13531861296255573, 'solver': 'sag'}. Best is trial 8 with value: 0.9830694327534324.\n",
      "[I 2024-01-10 12:56:26,761] Trial 9 finished with value: 0.9830596092268421 and parameters: {'C': 0.7416256491208952, 'solver': 'sag'}. Best is trial 8 with value: 0.9830694327534324.\n",
      "[I 2024-01-10 12:56:27,654] Trial 10 finished with value: 0.9833400601471607 and parameters: {'C': 0.17319763202873195, 'solver': 'liblinear', 'penalty': 'l1'}. Best is trial 10 with value: 0.9833400601471607.\n",
      "[I 2024-01-10 12:56:29,507] Trial 11 finished with value: 0.9830284687910884 and parameters: {'C': 0.21827352174718856, 'solver': 'liblinear', 'penalty': 'l1'}. Best is trial 10 with value: 0.9833400601471607.\n",
      "[I 2024-01-10 12:56:29,673] Trial 12 finished with value: 0.9820577119877604 and parameters: {'C': 0.0117228916780968, 'solver': 'liblinear', 'penalty': 'l1'}. Best is trial 10 with value: 0.9833400601471607.\n",
      "[I 2024-01-10 12:56:30,454] Trial 13 finished with value: 0.9823068222823002 and parameters: {'C': 0.23140299804633008, 'solver': 'newton-cg'}. Best is trial 10 with value: 0.9833400601471607.\n",
      "[I 2024-01-10 12:56:31,167] Trial 14 finished with value: 0.9825587769897456 and parameters: {'C': 0.117533224332938, 'solver': 'lbfgs'}. Best is trial 10 with value: 0.9833400601471607.\n",
      "[I 2024-01-10 12:56:40,794] Trial 15 finished with value: 0.9817416095287911 and parameters: {'C': 0.3051117561342618, 'solver': 'saga', 'penalty': 'l2'}. Best is trial 10 with value: 0.9833400601471607.\n",
      "[I 2024-01-10 12:56:49,774] Trial 16 finished with value: 0.983062778687961 and parameters: {'C': 0.5162373817423633, 'solver': 'sag'}. Best is trial 10 with value: 0.9833400601471607.\n",
      "[I 2024-01-10 12:56:56,834] Trial 17 finished with value: 0.9827262495079117 and parameters: {'C': 0.319611068404546, 'solver': 'liblinear', 'penalty': 'l1'}. Best is trial 10 with value: 0.9833400601471607.\n",
      "[I 2024-01-10 12:57:08,259] Trial 18 finished with value: 0.9830562882931673 and parameters: {'C': 0.12942479558602626, 'solver': 'sag'}. Best is trial 10 with value: 0.9833400601471607.\n",
      "[I 2024-01-10 12:57:08,335] Trial 19 finished with value: 0.9819174640101763 and parameters: {'C': 0.011641895057240836, 'solver': 'liblinear', 'penalty': 'l1'}. Best is trial 10 with value: 0.9833400601471607.\n",
      "[I 2024-01-10 12:57:08,817] Trial 20 finished with value: 0.9823657503943507 and parameters: {'C': 0.21567276178342915, 'solver': 'newton-cg'}. Best is trial 10 with value: 0.9833400601471607.\n",
      "[I 2024-01-10 12:57:17,902] Trial 21 finished with value: 0.983062778687961 and parameters: {'C': 0.5401594288938818, 'solver': 'sag'}. Best is trial 10 with value: 0.9833400601471607.\n",
      "[I 2024-01-10 12:57:40,473] Trial 22 finished with value: 0.9830596092268421 and parameters: {'C': 0.7001374755657994, 'solver': 'sag'}. Best is trial 10 with value: 0.9833400601471607.\n",
      "[I 2024-01-10 12:57:50,195] Trial 23 finished with value: 0.9830591443934766 and parameters: {'C': 0.6192801282818032, 'solver': 'sag'}. Best is trial 10 with value: 0.9833400601471607.\n",
      "[I 2024-01-10 12:58:09,787] Trial 24 finished with value: 0.9830660996216358 and parameters: {'C': 0.44987090782475403, 'solver': 'sag'}. Best is trial 10 with value: 0.9833400601471607.\n",
      "[I 2024-01-10 12:58:09,883] Trial 25 finished with value: 0.9821634717240573 and parameters: {'C': 0.44097652444065344, 'solver': 'newton-cholesky'}. Best is trial 10 with value: 0.9833400601471607.\n",
      "[I 2024-01-10 12:58:16,812] Trial 26 finished with value: 0.9817363547867712 and parameters: {'C': 0.8959984512877138, 'solver': 'saga', 'penalty': 'l2'}. Best is trial 10 with value: 0.9833400601471607.\n",
      "[I 2024-01-10 12:58:17,253] Trial 27 finished with value: 0.982230286559388 and parameters: {'C': 0.3865460794663127, 'solver': 'lbfgs'}. Best is trial 10 with value: 0.9833400601471607.\n",
      "[I 2024-01-10 12:58:18,102] Trial 28 finished with value: 0.9828588713687254 and parameters: {'C': 0.25373186916497936, 'solver': 'liblinear', 'penalty': 'l1'}. Best is trial 10 with value: 0.9833400601471607.\n",
      "[I 2024-01-10 12:58:18,179] Trial 29 finished with value: 0.9826688975340901 and parameters: {'C': 0.10661738646214781, 'solver': 'newton-cholesky'}. Best is trial 10 with value: 0.9833400601471607.\n",
      "[I 2024-01-10 12:58:25,777] Trial 30 finished with value: 0.9830562882931673 and parameters: {'C': 0.4626875698107811, 'solver': 'sag'}. Best is trial 10 with value: 0.9833400601471607.\n",
      "[I 2024-01-10 12:58:35,598] Trial 31 finished with value: 0.9830562882931673 and parameters: {'C': 0.8108729064718223, 'solver': 'sag'}. Best is trial 10 with value: 0.9833400601471607.\n",
      "[I 2024-01-10 12:58:41,502] Trial 32 finished with value: 0.9830591443934766 and parameters: {'C': 0.5416207972044614, 'solver': 'sag'}. Best is trial 10 with value: 0.9833400601471607.\n",
      "[I 2024-01-10 12:58:48,174] Trial 33 finished with value: 0.9830562882931673 and parameters: {'C': 0.9837736489190075, 'solver': 'sag'}. Best is trial 10 with value: 0.9833400601471607.\n",
      "[I 2024-01-10 12:58:58,164] Trial 34 finished with value: 0.9830562882931673 and parameters: {'C': 0.37485373929384613, 'solver': 'sag'}. Best is trial 10 with value: 0.9833400601471607.\n",
      "[I 2024-01-10 12:58:59,163] Trial 35 finished with value: 0.9824118695210661 and parameters: {'C': 0.4921943902289313, 'solver': 'liblinear', 'penalty': 'l2'}. Best is trial 10 with value: 0.9833400601471607.\n",
      "[I 2024-01-10 12:58:59,240] Trial 36 finished with value: 0.9821228351024238 and parameters: {'C': 0.6244290217142537, 'solver': 'newton-cholesky'}. Best is trial 10 with value: 0.9833400601471607.\n",
      "[I 2024-01-10 12:59:05,045] Trial 37 finished with value: 0.9830562882931673 and parameters: {'C': 0.06628330140025845, 'solver': 'sag'}. Best is trial 10 with value: 0.9833400601471607.\n",
      "[I 2024-01-10 12:59:05,475] Trial 38 finished with value: 0.9822209414504397 and parameters: {'C': 0.3505988964272694, 'solver': 'lbfgs'}. Best is trial 10 with value: 0.9833400601471607.\n",
      "[I 2024-01-10 12:59:12,173] Trial 39 finished with value: 0.9830562882931673 and parameters: {'C': 0.17831687781281919, 'solver': 'sag'}. Best is trial 10 with value: 0.9833400601471607.\n",
      "[I 2024-01-10 12:59:33,175] Trial 40 finished with value: 0.9817548471998345 and parameters: {'C': 0.2669340403335144, 'solver': 'saga', 'penalty': 'l1'}. Best is trial 10 with value: 0.9833400601471607.\n",
      "[I 2024-01-10 12:59:38,940] Trial 41 finished with value: 0.983062778687961 and parameters: {'C': 0.523924071385607, 'solver': 'sag'}. Best is trial 10 with value: 0.9833400601471607.\n"
     ]
    },
    {
     "name": "stderr",
     "output_type": "stream",
     "text": [
      "[I 2024-01-10 12:59:46,705] Trial 42 finished with value: 0.9830651743967154 and parameters: {'C': 0.5888041315842195, 'solver': 'sag'}. Best is trial 10 with value: 0.9833400601471607.\n",
      "[I 2024-01-10 12:59:57,240] Trial 43 finished with value: 0.983062778687961 and parameters: {'C': 0.6067119821506444, 'solver': 'sag'}. Best is trial 10 with value: 0.9833400601471607.\n",
      "[I 2024-01-10 12:59:57,795] Trial 44 finished with value: 0.9821615939495832 and parameters: {'C': 0.7023491404234278, 'solver': 'newton-cg'}. Best is trial 10 with value: 0.9833400601471607.\n",
      "[I 2024-01-10 13:00:03,617] Trial 45 finished with value: 0.983062778687961 and parameters: {'C': 0.656892765762819, 'solver': 'sag'}. Best is trial 10 with value: 0.9833400601471607.\n",
      "[I 2024-01-10 13:00:05,824] Trial 46 finished with value: 0.9825609391796143 and parameters: {'C': 0.4483345450884514, 'solver': 'liblinear', 'penalty': 'l1'}. Best is trial 10 with value: 0.9833400601471607.\n",
      "[I 2024-01-10 13:00:14,948] Trial 47 finished with value: 0.9830624110622318 and parameters: {'C': 0.07698916815340645, 'solver': 'sag'}. Best is trial 10 with value: 0.9833400601471607.\n",
      "[I 2024-01-10 13:00:16,332] Trial 48 finished with value: 0.9823090821742484 and parameters: {'C': 0.7985052073668669, 'solver': 'liblinear', 'penalty': 'l2'}. Best is trial 10 with value: 0.9833400601471607.\n",
      "[I 2024-01-10 13:00:22,333] Trial 49 finished with value: 0.9830694327534324 and parameters: {'C': 0.5683746639875369, 'solver': 'sag'}. Best is trial 10 with value: 0.9833400601471607.\n"
     ]
    }
   ],
   "source": [
    "X_train_cv, X_test_cv, y_train_cv, y_test_cv = train_test_split(X_train_e, y_train_e, test_size=0.2, stratify=y_train_e,\n",
    "                                                                random_state=42)\n",
    "study = optuna.create_study(direction='maximize')\n",
    "study.optimize(objective_logreg, n_trials=50)"
   ]
  },
  {
   "cell_type": "code",
   "execution_count": 14,
   "id": "ff42a344",
   "metadata": {},
   "outputs": [
    {
     "name": "stdout",
     "output_type": "stream",
     "text": [
      "              precision    recall  f1-score   support\n",
      "\n",
      "           0       0.92      0.93      0.93      1010\n",
      "           1       0.94      0.93      0.93      1109\n",
      "\n",
      "    accuracy                           0.93      2119\n",
      "   macro avg       0.93      0.93      0.93      2119\n",
      "weighted avg       0.93      0.93      0.93      2119\n",
      "\n"
     ]
    }
   ],
   "source": [
    "trial = study.best_trial\n",
    "model = LogisticRegression(**trial.params)\n",
    "model.fit(X_train_e, y_train_e)\n",
    "preds = model.predict(X_test_e)\n",
    "print(classification_report(y_test_e, preds))"
   ]
  },
  {
   "cell_type": "markdown",
   "id": "6f14f3b4",
   "metadata": {},
   "source": [
    "### 3.1.2 Данные на основе мешка слов"
   ]
  },
  {
   "cell_type": "code",
   "execution_count": 15,
   "id": "062ef233",
   "metadata": {
    "scrolled": true
   },
   "outputs": [
    {
     "name": "stderr",
     "output_type": "stream",
     "text": [
      "[I 2024-01-10 13:00:23,395] A new study created in memory with name: no-name-9a267fb1-60e4-4cb9-b536-6780085ce568\n",
      "[I 2024-01-10 13:00:24,792] Trial 0 finished with value: 0.9828698733810738 and parameters: {'C': 0.8693431650983111, 'solver': 'sag'}. Best is trial 0 with value: 0.9828698733810738.\n",
      "[I 2024-01-10 13:00:24,823] Trial 1 finished with value: 0.9850367274149501 and parameters: {'C': 0.9198241404525309, 'solver': 'liblinear', 'penalty': 'l2'}. Best is trial 1 with value: 0.9850367274149501.\n",
      "[I 2024-01-10 13:00:24,849] Trial 2 finished with value: 0.9849825794442911 and parameters: {'C': 0.4444860169701211, 'solver': 'liblinear', 'penalty': 'l2'}. Best is trial 1 with value: 0.9850367274149501.\n",
      "[I 2024-01-10 13:00:24,879] Trial 3 finished with value: 0.9848215217643891 and parameters: {'C': 0.3459900981787706, 'solver': 'liblinear', 'penalty': 'l2'}. Best is trial 1 with value: 0.9850367274149501.\n",
      "[I 2024-01-10 13:00:28,861] Trial 4 finished with value: 0.9625866413746507 and parameters: {'C': 0.16744471159074445, 'solver': 'saga', 'penalty': 'l1'}. Best is trial 1 with value: 0.9850367274149501.\n",
      "[I 2024-01-10 13:00:28,971] Trial 5 finished with value: 0.9846375844071482 and parameters: {'C': 0.4077360121468428, 'solver': 'newton-cg'}. Best is trial 1 with value: 0.9850367274149501.\n",
      "[I 2024-01-10 13:00:28,997] Trial 6 finished with value: 0.9845766503473801 and parameters: {'C': 0.27350233221520354, 'solver': 'liblinear', 'penalty': 'l2'}. Best is trial 1 with value: 0.9850367274149501.\n",
      "[I 2024-01-10 13:00:29,111] Trial 7 finished with value: 0.9848553254484369 and parameters: {'C': 0.73000034068666, 'solver': 'newton-cg'}. Best is trial 1 with value: 0.9850367274149501.\n",
      "[I 2024-01-10 13:00:29,206] Trial 8 finished with value: 0.9845635947088247 and parameters: {'C': 0.37888268677705467, 'solver': 'newton-cg'}. Best is trial 1 with value: 0.9850367274149501.\n",
      "[I 2024-01-10 13:00:29,308] Trial 9 finished with value: 0.9845108935312556 and parameters: {'C': 0.36444384224476345, 'solver': 'newton-cg'}. Best is trial 1 with value: 0.9850367274149501.\n",
      "[I 2024-01-10 13:00:29,479] Trial 10 finished with value: 0.984852928844668 and parameters: {'C': 0.9983920762143335, 'solver': 'lbfgs'}. Best is trial 1 with value: 0.9850367274149501.\n",
      "[I 2024-01-10 13:00:29,515] Trial 11 finished with value: 0.9851299989838139 and parameters: {'C': 0.608810934374451, 'solver': 'liblinear', 'penalty': 'l2'}. Best is trial 11 with value: 0.9851299989838139.\n",
      "[I 2024-01-10 13:05:34,676] Trial 12 finished with value: 0.9848664823770383 and parameters: {'C': 0.6435541256983652, 'solver': 'newton-cholesky'}. Best is trial 11 with value: 0.9851299989838139.\n",
      "[I 2024-01-10 13:05:34,712] Trial 13 finished with value: 0.9851466811721261 and parameters: {'C': 0.6329258716916158, 'solver': 'liblinear', 'penalty': 'l2'}. Best is trial 13 with value: 0.9851466811721261.\n",
      "[I 2024-01-10 13:05:34,747] Trial 14 finished with value: 0.9851153229063824 and parameters: {'C': 0.6145547889114215, 'solver': 'liblinear', 'penalty': 'l2'}. Best is trial 13 with value: 0.9851466811721261.\n",
      "[I 2024-01-10 13:05:34,807] Trial 15 finished with value: 0.9642221570825542 and parameters: {'C': 0.012919431292038985, 'solver': 'lbfgs'}. Best is trial 13 with value: 0.9851466811721261.\n",
      "[I 2024-01-10 13:09:52,596] Trial 16 finished with value: 0.9848647874055023 and parameters: {'C': 0.5817968893485284, 'solver': 'newton-cholesky'}. Best is trial 13 with value: 0.9851466811721261.\n",
      "[I 2024-01-10 13:09:54,050] Trial 17 finished with value: 0.9828647195624003 and parameters: {'C': 0.7670948450373916, 'solver': 'sag'}. Best is trial 13 with value: 0.9851466811721261.\n",
      "[I 2024-01-10 13:10:03,317] Trial 18 finished with value: 0.974413587356488 and parameters: {'C': 0.5626494242076342, 'solver': 'saga', 'penalty': 'l1'}. Best is trial 13 with value: 0.9851466811721261.\n",
      "[I 2024-01-10 13:10:03,383] Trial 19 finished with value: 0.9850691906759272 and parameters: {'C': 0.7620731572777862, 'solver': 'liblinear', 'penalty': 'l2'}. Best is trial 13 with value: 0.9851466811721261.\n",
      "[I 2024-01-10 13:10:03,451] Trial 20 finished with value: 0.9851544338588835 and parameters: {'C': 0.5044644686997826, 'solver': 'liblinear', 'penalty': 'l2'}. Best is trial 20 with value: 0.9851544338588835.\n",
      "[I 2024-01-10 13:10:03,510] Trial 21 finished with value: 0.9851238367544602 and parameters: {'C': 0.5014063622057392, 'solver': 'liblinear', 'penalty': 'l2'}. Best is trial 20 with value: 0.9851544338588835.\n",
      "[I 2024-01-10 13:10:03,570] Trial 22 finished with value: 0.9851450277001641 and parameters: {'C': 0.6784308765031737, 'solver': 'liblinear', 'penalty': 'l2'}. Best is trial 20 with value: 0.9851544338588835.\n",
      "[I 2024-01-10 13:10:03,630] Trial 23 finished with value: 0.985115154890402 and parameters: {'C': 0.7139027656084284, 'solver': 'liblinear', 'penalty': 'l2'}. Best is trial 20 with value: 0.9851544338588835.\n",
      "[I 2024-01-10 13:10:03,716] Trial 24 finished with value: 0.9800089703335458 and parameters: {'C': 0.5232877868832797, 'solver': 'liblinear', 'penalty': 'l1'}. Best is trial 20 with value: 0.9851544338588835.\n",
      "[I 2024-01-10 13:10:03,774] Trial 25 finished with value: 0.9851003906170965 and parameters: {'C': 0.8243831280553255, 'solver': 'liblinear', 'penalty': 'l2'}. Best is trial 20 with value: 0.9851544338588835.\n",
      "[I 2024-01-10 13:15:06,198] Trial 26 finished with value: 0.9848920804917807 and parameters: {'C': 0.6494944515808091, 'solver': 'newton-cholesky'}. Best is trial 20 with value: 0.9851544338588835.\n",
      "[I 2024-01-10 13:15:07,316] Trial 27 finished with value: 0.9826736185109656 and parameters: {'C': 0.48455659456387645, 'solver': 'sag'}. Best is trial 20 with value: 0.9851544338588835.\n",
      "[I 2024-01-10 13:15:07,454] Trial 28 finished with value: 0.9848811959436539 and parameters: {'C': 0.6860577019891044, 'solver': 'lbfgs'}. Best is trial 20 with value: 0.9851544338588835.\n",
      "[I 2024-01-10 13:15:08,682] Trial 29 finished with value: 0.9810680344026097 and parameters: {'C': 0.8240765813469537, 'solver': 'saga', 'penalty': 'l2'}. Best is trial 20 with value: 0.9851544338588835.\n",
      "[I 2024-01-10 13:15:09,795] Trial 30 finished with value: 0.9825079522784542 and parameters: {'C': 0.30067836272652393, 'solver': 'sag'}. Best is trial 20 with value: 0.9851544338588835.\n",
      "[I 2024-01-10 13:15:09,829] Trial 31 finished with value: 0.9851596490343856 and parameters: {'C': 0.5633165379048655, 'solver': 'liblinear', 'penalty': 'l2'}. Best is trial 31 with value: 0.9851596490343856.\n",
      "[I 2024-01-10 13:15:09,864] Trial 32 finished with value: 0.9851904244754348 and parameters: {'C': 0.5421619769540619, 'solver': 'liblinear', 'penalty': 'l2'}. Best is trial 32 with value: 0.9851904244754348.\n",
      "[I 2024-01-10 13:15:09,896] Trial 33 finished with value: 0.9850232117223986 and parameters: {'C': 0.451830999104222, 'solver': 'liblinear', 'penalty': 'l2'}. Best is trial 32 with value: 0.9851904244754348.\n",
      "[I 2024-01-10 13:15:09,936] Trial 34 finished with value: 0.9851593697697425 and parameters: {'C': 0.5580624897008774, 'solver': 'liblinear', 'penalty': 'l2'}. Best is trial 32 with value: 0.9851904244754348.\n",
      "[I 2024-01-10 13:15:09,967] Trial 35 finished with value: 0.9851975275859853 and parameters: {'C': 0.5176518600004034, 'solver': 'liblinear', 'penalty': 'l2'}. Best is trial 35 with value: 0.9851975275859853.\n",
      "[I 2024-01-10 13:15:09,997] Trial 36 finished with value: 0.9851596490343856 and parameters: {'C': 0.5623276605458508, 'solver': 'liblinear', 'penalty': 'l2'}. Best is trial 35 with value: 0.9851975275859853.\n",
      "[I 2024-01-10 13:15:10,043] Trial 37 finished with value: 0.9785713796388789 and parameters: {'C': 0.41492185514831215, 'solver': 'liblinear', 'penalty': 'l1'}. Best is trial 35 with value: 0.9851975275859853.\n",
      "[I 2024-01-10 13:15:10,075] Trial 38 finished with value: 0.9839515095330147 and parameters: {'C': 0.1952122455955459, 'solver': 'liblinear', 'penalty': 'l2'}. Best is trial 35 with value: 0.9851975275859853.\n",
      "[I 2024-01-10 13:15:11,287] Trial 39 finished with value: 0.9809902818094194 and parameters: {'C': 0.4578049177955843, 'solver': 'saga', 'penalty': 'l2'}. Best is trial 35 with value: 0.9851975275859853.\n",
      "[I 2024-01-10 13:15:11,318] Trial 40 finished with value: 0.9847346349114536 and parameters: {'C': 0.3237406718849193, 'solver': 'liblinear', 'penalty': 'l2'}. Best is trial 35 with value: 0.9851975275859853.\n"
     ]
    },
    {
     "name": "stderr",
     "output_type": "stream",
     "text": [
      "[I 2024-01-10 13:15:11,350] Trial 41 finished with value: 0.9851572355136117 and parameters: {'C': 0.5564706684348318, 'solver': 'liblinear', 'penalty': 'l2'}. Best is trial 35 with value: 0.9851975275859853.\n",
      "[I 2024-01-10 13:15:11,382] Trial 42 finished with value: 0.9851845256582701 and parameters: {'C': 0.5480582690152881, 'solver': 'liblinear', 'penalty': 'l2'}. Best is trial 35 with value: 0.9851975275859853.\n",
      "[I 2024-01-10 13:15:11,416] Trial 43 finished with value: 0.9849853611794486 and parameters: {'C': 0.4217503525991295, 'solver': 'liblinear', 'penalty': 'l2'}. Best is trial 35 with value: 0.9851975275859853.\n",
      "[I 2024-01-10 13:15:11,516] Trial 44 finished with value: 0.9848632961899934 and parameters: {'C': 0.5320002471962222, 'solver': 'newton-cg'}. Best is trial 35 with value: 0.9851975275859853.\n",
      "[I 2024-01-10 13:15:11,552] Trial 45 finished with value: 0.984845878047521 and parameters: {'C': 0.37388745918224586, 'solver': 'liblinear', 'penalty': 'l2'}. Best is trial 35 with value: 0.9851975275859853.\n",
      "[I 2024-01-10 13:15:11,695] Trial 46 finished with value: 0.9848387612357092 and parameters: {'C': 0.5957437975861378, 'solver': 'lbfgs'}. Best is trial 35 with value: 0.9851975275859853.\n",
      "[I 2024-01-10 13:15:11,732] Trial 47 finished with value: 0.9851246626674626 and parameters: {'C': 0.48462824465244353, 'solver': 'liblinear', 'penalty': 'l2'}. Best is trial 35 with value: 0.9851975275859853.\n",
      "[I 2024-01-10 13:19:52,571] Trial 48 finished with value: 0.984891471789049 and parameters: {'C': 0.6650842904728755, 'solver': 'newton-cholesky'}. Best is trial 35 with value: 0.9851975275859853.\n",
      "[I 2024-01-10 13:19:52,685] Trial 49 finished with value: 0.9848477015428854 and parameters: {'C': 0.611066450761613, 'solver': 'newton-cg'}. Best is trial 35 with value: 0.9851975275859853.\n"
     ]
    }
   ],
   "source": [
    "X_train_cv, X_test_cv, y_train_cv, y_test_cv = train_test_split(X_train_b, y_train_b, test_size=0.2, stratify=y_train_b,\n",
    "                                                                random_state=42)\n",
    "study = optuna.create_study(direction='maximize')\n",
    "study.optimize(objective_logreg, n_trials=50)"
   ]
  },
  {
   "cell_type": "code",
   "execution_count": 16,
   "id": "0e69d3de",
   "metadata": {},
   "outputs": [
    {
     "name": "stdout",
     "output_type": "stream",
     "text": [
      "              precision    recall  f1-score   support\n",
      "\n",
      "           0       0.91      0.94      0.92      1010\n",
      "           1       0.94      0.92      0.93      1109\n",
      "\n",
      "    accuracy                           0.93      2119\n",
      "   macro avg       0.93      0.93      0.93      2119\n",
      "weighted avg       0.93      0.93      0.93      2119\n",
      "\n"
     ]
    }
   ],
   "source": [
    "trial = study.best_trial\n",
    "model = LogisticRegression(**trial.params)\n",
    "model.fit(X_train_b, y_train_b)\n",
    "preds = model.predict(X_test_b)\n",
    "print(classification_report(y_test_b, preds))"
   ]
  },
  {
   "cell_type": "markdown",
   "id": "f8d7cd7c",
   "metadata": {},
   "source": [
    "## 3.2 Случайный лес с подбором гиперпараметров"
   ]
  },
  {
   "cell_type": "code",
   "execution_count": 17,
   "id": "b62087ac",
   "metadata": {},
   "outputs": [],
   "source": [
    "def objective_forest(trial):\n",
    "    param = {\n",
    "        'n_estimators': trial.suggest_int('n_estimators', 10, 100),\n",
    "        'criterion': trial.suggest_categorical('criterion', ['gini', 'entropy', 'log_loss']),\n",
    "        'min_samples_split': trial.suggest_int('min_samples_split', 2, 200),\n",
    "        'max_features': trial.suggest_categorical('max_features', ['sqrt', 'log2', None])\n",
    "    }\n",
    "    \n",
    "    model_cv = RandomForestClassifier(**param, random_state=42)\n",
    "    model_cv.fit(X_train_cv, y_train_cv)\n",
    "    \n",
    "    preds = model_cv.predict_proba(X_test_cv)[:, 1]\n",
    "    precision, recall, thresholds = precision_recall_curve(y_test_cv, preds)\n",
    "    pr_auc = auc(recall, precision)\n",
    "    return pr_auc"
   ]
  },
  {
   "cell_type": "markdown",
   "id": "952de028",
   "metadata": {},
   "source": [
    "### 3.2.1 Данные на основе эмбеддингов слов"
   ]
  },
  {
   "cell_type": "code",
   "execution_count": 18,
   "id": "769c0a37",
   "metadata": {
    "scrolled": true
   },
   "outputs": [
    {
     "name": "stderr",
     "output_type": "stream",
     "text": [
      "[I 2024-01-10 13:19:52,767] A new study created in memory with name: no-name-5419c724-1ba8-4deb-8978-96180755f2c1\n",
      "[I 2024-01-10 13:19:53,693] Trial 0 finished with value: 0.9779330088730348 and parameters: {'n_estimators': 43, 'criterion': 'log_loss', 'min_samples_split': 29, 'max_features': 'log2'}. Best is trial 0 with value: 0.9779330088730348.\n",
      "[I 2024-01-10 13:19:55,070] Trial 1 finished with value: 0.9706404952996375 and parameters: {'n_estimators': 87, 'criterion': 'entropy', 'min_samples_split': 150, 'max_features': 'log2'}. Best is trial 0 with value: 0.9779330088730348.\n",
      "[I 2024-01-10 13:19:56,333] Trial 2 finished with value: 0.9654519942081279 and parameters: {'n_estimators': 93, 'criterion': 'gini', 'min_samples_split': 183, 'max_features': 'log2'}. Best is trial 0 with value: 0.9779330088730348.\n",
      "[I 2024-01-10 13:19:58,709] Trial 3 finished with value: 0.9762885233716974 and parameters: {'n_estimators': 68, 'criterion': 'entropy', 'min_samples_split': 73, 'max_features': 'sqrt'}. Best is trial 0 with value: 0.9779330088730348.\n",
      "[I 2024-01-10 13:21:08,780] Trial 4 finished with value: 0.978291595755947 and parameters: {'n_estimators': 88, 'criterion': 'entropy', 'min_samples_split': 44, 'max_features': None}. Best is trial 4 with value: 0.978291595755947.\n",
      "[I 2024-01-10 13:21:11,290] Trial 5 finished with value: 0.983936825055791 and parameters: {'n_estimators': 95, 'criterion': 'gini', 'min_samples_split': 8, 'max_features': 'log2'}. Best is trial 5 with value: 0.983936825055791.\n",
      "[I 2024-01-10 13:21:36,152] Trial 6 finished with value: 0.9705901069173533 and parameters: {'n_estimators': 44, 'criterion': 'log_loss', 'min_samples_split': 110, 'max_features': None}. Best is trial 5 with value: 0.983936825055791.\n",
      "[I 2024-01-10 13:21:43,545] Trial 7 finished with value: 0.9652417500320528 and parameters: {'n_estimators': 13, 'criterion': 'entropy', 'min_samples_split': 146, 'max_features': None}. Best is trial 5 with value: 0.983936825055791.\n",
      "[I 2024-01-10 13:21:45,635] Trial 8 finished with value: 0.9767233284465962 and parameters: {'n_estimators': 61, 'criterion': 'entropy', 'min_samples_split': 80, 'max_features': 'sqrt'}. Best is trial 5 with value: 0.983936825055791.\n",
      "[I 2024-01-10 13:21:46,970] Trial 9 finished with value: 0.9730973088223758 and parameters: {'n_estimators': 81, 'criterion': 'log_loss', 'min_samples_split': 123, 'max_features': 'log2'}. Best is trial 5 with value: 0.983936825055791.\n",
      "[I 2024-01-10 13:21:48,786] Trial 10 finished with value: 0.9841865491451043 and parameters: {'n_estimators': 100, 'criterion': 'gini', 'min_samples_split': 8, 'max_features': 'log2'}. Best is trial 10 with value: 0.9841865491451043.\n",
      "[I 2024-01-10 13:21:51,110] Trial 11 finished with value: 0.9839520533253971 and parameters: {'n_estimators': 99, 'criterion': 'gini', 'min_samples_split': 7, 'max_features': 'log2'}. Best is trial 10 with value: 0.9841865491451043.\n",
      "[I 2024-01-10 13:21:52,873] Trial 12 finished with value: 0.9835040339610299 and parameters: {'n_estimators': 72, 'criterion': 'gini', 'min_samples_split': 8, 'max_features': 'log2'}. Best is trial 10 with value: 0.9841865491451043.\n",
      "[I 2024-01-10 13:21:55,133] Trial 13 finished with value: 0.9770033792116447 and parameters: {'n_estimators': 98, 'criterion': 'gini', 'min_samples_split': 49, 'max_features': 'log2'}. Best is trial 10 with value: 0.9841865491451043.\n",
      "[I 2024-01-10 13:21:55,593] Trial 14 finished with value: 0.9699421642727539 and parameters: {'n_estimators': 17, 'criterion': 'gini', 'min_samples_split': 2, 'max_features': 'log2'}. Best is trial 10 with value: 0.9841865491451043.\n",
      "[I 2024-01-10 13:21:59,807] Trial 15 finished with value: 0.9754993084270815 and parameters: {'n_estimators': 100, 'criterion': 'gini', 'min_samples_split': 59, 'max_features': 'sqrt'}. Best is trial 10 with value: 0.9841865491451043.\n",
      "[I 2024-01-10 13:22:01,138] Trial 16 finished with value: 0.9768072916925814 and parameters: {'n_estimators': 78, 'criterion': 'gini', 'min_samples_split': 34, 'max_features': 'log2'}. Best is trial 10 with value: 0.9841865491451043.\n",
      "[I 2024-01-10 13:22:01,930] Trial 17 finished with value: 0.9745072113928693 and parameters: {'n_estimators': 51, 'criterion': 'gini', 'min_samples_split': 92, 'max_features': 'log2'}. Best is trial 10 with value: 0.9841865491451043.\n",
      "[I 2024-01-10 13:22:02,882] Trial 18 finished with value: 0.9761667277668089 and parameters: {'n_estimators': 26, 'criterion': 'gini', 'min_samples_split': 23, 'max_features': 'sqrt'}. Best is trial 10 with value: 0.9841865491451043.\n",
      "[I 2024-01-10 13:22:56,842] Trial 19 finished with value: 0.9638192553471 and parameters: {'n_estimators': 62, 'criterion': 'gini', 'min_samples_split': 63, 'max_features': None}. Best is trial 10 with value: 0.9841865491451043.\n",
      "[I 2024-01-10 13:22:58,479] Trial 20 finished with value: 0.9809667312956492 and parameters: {'n_estimators': 81, 'criterion': 'log_loss', 'min_samples_split': 22, 'max_features': 'log2'}. Best is trial 10 with value: 0.9841865491451043.\n",
      "[I 2024-01-10 13:23:00,146] Trial 21 finished with value: 0.9838945561507642 and parameters: {'n_estimators': 92, 'criterion': 'gini', 'min_samples_split': 8, 'max_features': 'log2'}. Best is trial 10 with value: 0.9841865491451043.\n",
      "[I 2024-01-10 13:23:02,135] Trial 22 finished with value: 0.9803202596286311 and parameters: {'n_estimators': 98, 'criterion': 'gini', 'min_samples_split': 18, 'max_features': 'log2'}. Best is trial 10 with value: 0.9841865491451043.\n",
      "[I 2024-01-10 13:23:04,246] Trial 23 finished with value: 0.9764039248661267 and parameters: {'n_estimators': 86, 'criterion': 'gini', 'min_samples_split': 37, 'max_features': 'log2'}. Best is trial 10 with value: 0.9841865491451043.\n",
      "[I 2024-01-10 13:23:06,959] Trial 24 finished with value: 0.981568899770118 and parameters: {'n_estimators': 100, 'criterion': 'gini', 'min_samples_split': 4, 'max_features': 'log2'}. Best is trial 10 with value: 0.9841865491451043.\n",
      "[I 2024-01-10 13:23:09,005] Trial 25 finished with value: 0.9763450701104015 and parameters: {'n_estimators': 77, 'criterion': 'gini', 'min_samples_split': 44, 'max_features': 'log2'}. Best is trial 10 with value: 0.9841865491451043.\n",
      "[I 2024-01-10 13:23:11,166] Trial 26 finished with value: 0.9803309270041454 and parameters: {'n_estimators': 91, 'criterion': 'gini', 'min_samples_split': 18, 'max_features': 'log2'}. Best is trial 10 with value: 0.9841865491451043.\n",
      "[I 2024-01-10 13:23:12,664] Trial 27 finished with value: 0.9738826270422055 and parameters: {'n_estimators': 93, 'criterion': 'gini', 'min_samples_split': 60, 'max_features': 'log2'}. Best is trial 10 with value: 0.9841865491451043.\n",
      "[I 2024-01-10 13:23:15,048] Trial 28 finished with value: 0.9762071972460543 and parameters: {'n_estimators': 70, 'criterion': 'log_loss', 'min_samples_split': 83, 'max_features': 'sqrt'}. Best is trial 10 with value: 0.9841865491451043.\n",
      "[I 2024-01-10 13:23:44,728] Trial 29 finished with value: 0.9668684853087194 and parameters: {'n_estimators': 34, 'criterion': 'gini', 'min_samples_split': 30, 'max_features': None}. Best is trial 10 with value: 0.9841865491451043.\n",
      "[I 2024-01-10 13:23:46,018] Trial 30 finished with value: 0.9689594546196114 and parameters: {'n_estimators': 86, 'criterion': 'log_loss', 'min_samples_split': 190, 'max_features': 'log2'}. Best is trial 10 with value: 0.9841865491451043.\n",
      "[I 2024-01-10 13:23:47,666] Trial 31 finished with value: 0.9821273825268453 and parameters: {'n_estimators': 93, 'criterion': 'gini', 'min_samples_split': 11, 'max_features': 'log2'}. Best is trial 10 with value: 0.9841865491451043.\n",
      "[I 2024-01-10 13:23:49,488] Trial 32 finished with value: 0.9831984750547196 and parameters: {'n_estimators': 95, 'criterion': 'gini', 'min_samples_split': 2, 'max_features': 'log2'}. Best is trial 10 with value: 0.9841865491451043.\n",
      "[I 2024-01-10 13:23:51,505] Trial 33 finished with value: 0.9785672932687064 and parameters: {'n_estimators': 85, 'criterion': 'gini', 'min_samples_split': 26, 'max_features': 'log2'}. Best is trial 10 with value: 0.9841865491451043.\n",
      "[I 2024-01-10 13:23:53,850] Trial 34 finished with value: 0.9794473585520955 and parameters: {'n_estimators': 90, 'criterion': 'gini', 'min_samples_split': 14, 'max_features': 'log2'}. Best is trial 10 with value: 0.9841865491451043.\n"
     ]
    },
    {
     "name": "stderr",
     "output_type": "stream",
     "text": [
      "[I 2024-01-10 13:23:56,712] Trial 35 finished with value: 0.9790192762309 and parameters: {'n_estimators': 94, 'criterion': 'entropy', 'min_samples_split': 39, 'max_features': 'log2'}. Best is trial 10 with value: 0.9841865491451043.\n",
      "[I 2024-01-10 13:23:58,733] Trial 36 finished with value: 0.9766993764475018 and parameters: {'n_estimators': 75, 'criterion': 'gini', 'min_samples_split': 50, 'max_features': 'log2'}. Best is trial 10 with value: 0.9841865491451043.\n",
      "[I 2024-01-10 13:24:40,698] Trial 37 finished with value: 0.9675553568510521 and parameters: {'n_estimators': 83, 'criterion': 'entropy', 'min_samples_split': 161, 'max_features': None}. Best is trial 10 with value: 0.9841865491451043.\n",
      "[I 2024-01-10 13:24:41,647] Trial 38 finished with value: 0.9711652966583157 and parameters: {'n_estimators': 65, 'criterion': 'gini', 'min_samples_split': 125, 'max_features': 'log2'}. Best is trial 10 with value: 0.9841865491451043.\n",
      "[I 2024-01-10 13:24:43,842] Trial 39 finished with value: 0.9839521987450357 and parameters: {'n_estimators': 55, 'criterion': 'entropy', 'min_samples_split': 15, 'max_features': 'sqrt'}. Best is trial 10 with value: 0.9841865491451043.\n",
      "[I 2024-01-10 13:24:45,823] Trial 40 finished with value: 0.9812286924082598 and parameters: {'n_estimators': 51, 'criterion': 'entropy', 'min_samples_split': 29, 'max_features': 'sqrt'}. Best is trial 10 with value: 0.9841865491451043.\n",
      "[I 2024-01-10 13:24:48,088] Trial 41 finished with value: 0.9834821465219937 and parameters: {'n_estimators': 57, 'criterion': 'entropy', 'min_samples_split': 13, 'max_features': 'sqrt'}. Best is trial 10 with value: 0.9841865491451043.\n",
      "[I 2024-01-10 13:24:49,717] Trial 42 finished with value: 0.9821242896040245 and parameters: {'n_estimators': 41, 'criterion': 'entropy', 'min_samples_split': 11, 'max_features': 'sqrt'}. Best is trial 10 with value: 0.9841865491451043.\n",
      "[I 2024-01-10 13:24:53,438] Trial 43 finished with value: 0.9846520824883339 and parameters: {'n_estimators': 90, 'criterion': 'entropy', 'min_samples_split': 2, 'max_features': 'sqrt'}. Best is trial 43 with value: 0.9846520824883339.\n",
      "[I 2024-01-10 13:24:58,241] Trial 44 finished with value: 0.98499851232151 and parameters: {'n_estimators': 97, 'criterion': 'entropy', 'min_samples_split': 2, 'max_features': 'sqrt'}. Best is trial 44 with value: 0.98499851232151.\n",
      "[I 2024-01-10 13:25:03,182] Trial 45 finished with value: 0.9826486293599215 and parameters: {'n_estimators': 89, 'criterion': 'entropy', 'min_samples_split': 23, 'max_features': 'sqrt'}. Best is trial 44 with value: 0.98499851232151.\n",
      "[I 2024-01-10 13:25:07,470] Trial 46 finished with value: 0.9848161014271047 and parameters: {'n_estimators': 100, 'criterion': 'entropy', 'min_samples_split': 3, 'max_features': 'sqrt'}. Best is trial 44 with value: 0.98499851232151.\n",
      "[I 2024-01-10 13:25:09,282] Trial 47 finished with value: 0.9818241904049683 and parameters: {'n_estimators': 45, 'criterion': 'entropy', 'min_samples_split': 36, 'max_features': 'sqrt'}. Best is trial 44 with value: 0.98499851232151.\n",
      "[I 2024-01-10 13:25:13,226] Trial 48 finished with value: 0.98499851232151 and parameters: {'n_estimators': 97, 'criterion': 'entropy', 'min_samples_split': 2, 'max_features': 'sqrt'}. Best is trial 44 with value: 0.98499851232151.\n",
      "[I 2024-01-10 13:25:17,109] Trial 49 finished with value: 0.9847515823569357 and parameters: {'n_estimators': 96, 'criterion': 'entropy', 'min_samples_split': 3, 'max_features': 'sqrt'}. Best is trial 44 with value: 0.98499851232151.\n"
     ]
    }
   ],
   "source": [
    "X_train_cv, X_test_cv, y_train_cv, y_test_cv = train_test_split(X_train_e, y_train_e, test_size=0.2, stratify=y_train_e,\n",
    "                                                                random_state=42)\n",
    "study = optuna.create_study(direction='maximize')\n",
    "study.optimize(objective_forest, n_trials=50)"
   ]
  },
  {
   "cell_type": "code",
   "execution_count": 19,
   "id": "8fa5c68c",
   "metadata": {},
   "outputs": [
    {
     "name": "stdout",
     "output_type": "stream",
     "text": [
      "              precision    recall  f1-score   support\n",
      "\n",
      "           0       0.94      0.93      0.93      1010\n",
      "           1       0.94      0.94      0.94      1109\n",
      "\n",
      "    accuracy                           0.94      2119\n",
      "   macro avg       0.94      0.94      0.94      2119\n",
      "weighted avg       0.94      0.94      0.94      2119\n",
      "\n"
     ]
    }
   ],
   "source": [
    "trial = study.best_trial\n",
    "model = RandomForestClassifier(**trial.params, random_state=42)\n",
    "model.fit(X_train_e, y_train_e)\n",
    "preds = model.predict(X_test_e)\n",
    "print(classification_report(y_test_e, preds))"
   ]
  },
  {
   "cell_type": "markdown",
   "id": "9d29909f",
   "metadata": {},
   "source": [
    "### 3.2.2 Данные на основе мешка слов"
   ]
  },
  {
   "cell_type": "code",
   "execution_count": 20,
   "id": "3f37c006",
   "metadata": {
    "scrolled": true
   },
   "outputs": [
    {
     "name": "stderr",
     "output_type": "stream",
     "text": [
      "[I 2024-01-10 13:25:22,247] A new study created in memory with name: no-name-a7a9edda-2341-42bb-b421-a0e572d320aa\n",
      "[I 2024-01-10 13:25:23,794] Trial 0 finished with value: 0.9756986054995905 and parameters: {'n_estimators': 85, 'criterion': 'entropy', 'min_samples_split': 188, 'max_features': 'sqrt'}. Best is trial 0 with value: 0.9756986054995905.\n",
      "[I 2024-01-10 13:25:26,612] Trial 1 finished with value: 0.9790409175743976 and parameters: {'n_estimators': 95, 'criterion': 'entropy', 'min_samples_split': 40, 'max_features': 'sqrt'}. Best is trial 1 with value: 0.9790409175743976.\n",
      "[I 2024-01-10 13:25:36,785] Trial 2 finished with value: 0.9635052021547006 and parameters: {'n_estimators': 65, 'criterion': 'log_loss', 'min_samples_split': 177, 'max_features': None}. Best is trial 1 with value: 0.9790409175743976.\n",
      "[I 2024-01-10 13:25:38,961] Trial 3 finished with value: 0.980395691419845 and parameters: {'n_estimators': 83, 'criterion': 'log_loss', 'min_samples_split': 84, 'max_features': 'log2'}. Best is trial 3 with value: 0.980395691419845.\n",
      "[I 2024-01-10 13:25:39,937] Trial 4 finished with value: 0.9784822026959192 and parameters: {'n_estimators': 39, 'criterion': 'log_loss', 'min_samples_split': 147, 'max_features': 'log2'}. Best is trial 3 with value: 0.980395691419845.\n",
      "[I 2024-01-10 13:25:51,613] Trial 5 finished with value: 0.967540597553206 and parameters: {'n_estimators': 75, 'criterion': 'entropy', 'min_samples_split': 89, 'max_features': None}. Best is trial 3 with value: 0.980395691419845.\n",
      "[I 2024-01-10 13:26:05,916] Trial 6 finished with value: 0.9649309484822721 and parameters: {'n_estimators': 84, 'criterion': 'entropy', 'min_samples_split': 166, 'max_features': None}. Best is trial 3 with value: 0.980395691419845.\n",
      "[I 2024-01-10 13:26:06,887] Trial 7 finished with value: 0.976697174730445 and parameters: {'n_estimators': 41, 'criterion': 'log_loss', 'min_samples_split': 185, 'max_features': 'log2'}. Best is trial 3 with value: 0.980395691419845.\n",
      "[I 2024-01-10 13:26:16,110] Trial 8 finished with value: 0.9660698668486839 and parameters: {'n_estimators': 65, 'criterion': 'log_loss', 'min_samples_split': 134, 'max_features': None}. Best is trial 3 with value: 0.980395691419845.\n",
      "[I 2024-01-10 13:26:24,377] Trial 9 finished with value: 0.9676691174792399 and parameters: {'n_estimators': 33, 'criterion': 'entropy', 'min_samples_split': 78, 'max_features': None}. Best is trial 3 with value: 0.980395691419845.\n",
      "[I 2024-01-10 13:26:28,333] Trial 10 finished with value: 0.9807516970127416 and parameters: {'n_estimators': 100, 'criterion': 'gini', 'min_samples_split': 12, 'max_features': 'log2'}. Best is trial 10 with value: 0.9807516970127416.\n",
      "[I 2024-01-10 13:26:32,290] Trial 11 finished with value: 0.9814326266964217 and parameters: {'n_estimators': 99, 'criterion': 'gini', 'min_samples_split': 7, 'max_features': 'log2'}. Best is trial 11 with value: 0.9814326266964217.\n",
      "[I 2024-01-10 13:26:32,737] Trial 12 finished with value: 0.9642415590214097 and parameters: {'n_estimators': 11, 'criterion': 'gini', 'min_samples_split': 6, 'max_features': 'log2'}. Best is trial 11 with value: 0.9814326266964217.\n",
      "[I 2024-01-10 13:26:37,759] Trial 13 finished with value: 0.9824309811961789 and parameters: {'n_estimators': 99, 'criterion': 'gini', 'min_samples_split': 3, 'max_features': 'log2'}. Best is trial 13 with value: 0.9824309811961789.\n",
      "[I 2024-01-10 13:26:41,152] Trial 14 finished with value: 0.9789153596889234 and parameters: {'n_estimators': 99, 'criterion': 'gini', 'min_samples_split': 43, 'max_features': 'log2'}. Best is trial 13 with value: 0.9824309811961789.\n",
      "[I 2024-01-10 13:26:43,788] Trial 15 finished with value: 0.9784675067581619 and parameters: {'n_estimators': 69, 'criterion': 'gini', 'min_samples_split': 44, 'max_features': 'log2'}. Best is trial 13 with value: 0.9824309811961789.\n",
      "[I 2024-01-10 13:26:46,067] Trial 16 finished with value: 0.9793749184959943 and parameters: {'n_estimators': 52, 'criterion': 'gini', 'min_samples_split': 24, 'max_features': 'log2'}. Best is trial 13 with value: 0.9824309811961789.\n",
      "[I 2024-01-10 13:26:48,814] Trial 17 finished with value: 0.9780646773214783 and parameters: {'n_estimators': 91, 'criterion': 'gini', 'min_samples_split': 67, 'max_features': 'sqrt'}. Best is trial 13 with value: 0.9824309811961789.\n",
      "[I 2024-01-10 13:26:50,139] Trial 18 finished with value: 0.9755288619584606 and parameters: {'n_estimators': 55, 'criterion': 'gini', 'min_samples_split': 113, 'max_features': 'log2'}. Best is trial 13 with value: 0.9824309811961789.\n",
      "[I 2024-01-10 13:26:54,649] Trial 19 finished with value: 0.9796839677933497 and parameters: {'n_estimators': 76, 'criterion': 'gini', 'min_samples_split': 2, 'max_features': 'log2'}. Best is trial 13 with value: 0.9824309811961789.\n",
      "[I 2024-01-10 13:26:55,181] Trial 20 finished with value: 0.9740881180716281 and parameters: {'n_estimators': 20, 'criterion': 'gini', 'min_samples_split': 56, 'max_features': 'sqrt'}. Best is trial 13 with value: 0.9824309811961789.\n",
      "[I 2024-01-10 13:26:58,214] Trial 21 finished with value: 0.9799411085694169 and parameters: {'n_estimators': 99, 'criterion': 'gini', 'min_samples_split': 22, 'max_features': 'log2'}. Best is trial 13 with value: 0.9824309811961789.\n",
      "[I 2024-01-10 13:27:01,067] Trial 22 finished with value: 0.9819261623278746 and parameters: {'n_estimators': 91, 'criterion': 'gini', 'min_samples_split': 23, 'max_features': 'log2'}. Best is trial 13 with value: 0.9824309811961789.\n",
      "[I 2024-01-10 13:27:04,206] Trial 23 finished with value: 0.9809479060501827 and parameters: {'n_estimators': 91, 'criterion': 'gini', 'min_samples_split': 31, 'max_features': 'log2'}. Best is trial 13 with value: 0.9824309811961789.\n",
      "[I 2024-01-10 13:27:08,247] Trial 24 finished with value: 0.9799880791325759 and parameters: {'n_estimators': 88, 'criterion': 'gini', 'min_samples_split': 20, 'max_features': 'log2'}. Best is trial 13 with value: 0.9824309811961789.\n",
      "[I 2024-01-10 13:27:11,618] Trial 25 finished with value: 0.9763573999801483 and parameters: {'n_estimators': 78, 'criterion': 'gini', 'min_samples_split': 60, 'max_features': 'log2'}. Best is trial 13 with value: 0.9824309811961789.\n",
      "[I 2024-01-10 13:27:16,433] Trial 26 finished with value: 0.9826630011168641 and parameters: {'n_estimators': 93, 'criterion': 'gini', 'min_samples_split': 3, 'max_features': 'log2'}. Best is trial 26 with value: 0.9826630011168641.\n",
      "[I 2024-01-10 13:27:18,209] Trial 27 finished with value: 0.9767755712970002 and parameters: {'n_estimators': 71, 'criterion': 'gini', 'min_samples_split': 115, 'max_features': 'log2'}. Best is trial 26 with value: 0.9826630011168641.\n",
      "[I 2024-01-10 13:27:20,996] Trial 28 finished with value: 0.9810569900188443 and parameters: {'n_estimators': 92, 'criterion': 'gini', 'min_samples_split': 33, 'max_features': 'sqrt'}. Best is trial 26 with value: 0.9826630011168641.\n",
      "[I 2024-01-10 13:27:23,195] Trial 29 finished with value: 0.9787491351124792 and parameters: {'n_estimators': 82, 'criterion': 'gini', 'min_samples_split': 52, 'max_features': 'log2'}. Best is trial 26 with value: 0.9826630011168641.\n",
      "[I 2024-01-10 13:27:25,230] Trial 30 finished with value: 0.9813647090441435 and parameters: {'n_estimators': 58, 'criterion': 'entropy', 'min_samples_split': 16, 'max_features': 'sqrt'}. Best is trial 26 with value: 0.9826630011168641.\n",
      "[I 2024-01-10 13:27:32,765] Trial 31 finished with value: 0.9801753712836571 and parameters: {'n_estimators': 95, 'criterion': 'gini', 'min_samples_split': 2, 'max_features': 'log2'}. Best is trial 26 with value: 0.9826630011168641.\n",
      "[I 2024-01-10 13:27:36,451] Trial 32 finished with value: 0.9794261572770661 and parameters: {'n_estimators': 87, 'criterion': 'gini', 'min_samples_split': 34, 'max_features': 'log2'}. Best is trial 26 with value: 0.9826630011168641.\n",
      "[I 2024-01-10 13:27:39,565] Trial 33 finished with value: 0.9816616245817397 and parameters: {'n_estimators': 94, 'criterion': 'gini', 'min_samples_split': 14, 'max_features': 'log2'}. Best is trial 26 with value: 0.9826630011168641.\n",
      "[I 2024-01-10 13:27:41,990] Trial 34 finished with value: 0.9792780980623924 and parameters: {'n_estimators': 80, 'criterion': 'gini', 'min_samples_split': 22, 'max_features': 'log2'}. Best is trial 26 with value: 0.9826630011168641.\n"
     ]
    },
    {
     "name": "stderr",
     "output_type": "stream",
     "text": [
      "[I 2024-01-10 13:27:44,608] Trial 35 finished with value: 0.9809937739935392 and parameters: {'n_estimators': 93, 'criterion': 'log_loss', 'min_samples_split': 44, 'max_features': 'log2'}. Best is trial 26 with value: 0.9826630011168641.\n",
      "[I 2024-01-10 13:27:47,487] Trial 36 finished with value: 0.9839383906187165 and parameters: {'n_estimators': 87, 'criterion': 'entropy', 'min_samples_split': 16, 'max_features': 'log2'}. Best is trial 36 with value: 0.9839383906187165.\n",
      "[I 2024-01-10 13:28:04,915] Trial 37 finished with value: 0.9706361718090337 and parameters: {'n_estimators': 87, 'criterion': 'entropy', 'min_samples_split': 29, 'max_features': None}. Best is trial 36 with value: 0.9839383906187165.\n",
      "[I 2024-01-10 13:28:08,741] Trial 38 finished with value: 0.9785159286581282 and parameters: {'n_estimators': 85, 'criterion': 'entropy', 'min_samples_split': 72, 'max_features': 'sqrt'}. Best is trial 36 with value: 0.9839383906187165.\n",
      "[I 2024-01-10 13:28:11,321] Trial 39 finished with value: 0.9787774328694567 and parameters: {'n_estimators': 62, 'criterion': 'entropy', 'min_samples_split': 88, 'max_features': 'log2'}. Best is trial 36 with value: 0.9839383906187165.\n",
      "[I 2024-01-10 13:28:22,872] Trial 40 finished with value: 0.9671760359884994 and parameters: {'n_estimators': 72, 'criterion': 'entropy', 'min_samples_split': 99, 'max_features': None}. Best is trial 36 with value: 0.9839383906187165.\n",
      "[I 2024-01-10 13:28:26,120] Trial 41 finished with value: 0.9834789017339249 and parameters: {'n_estimators': 95, 'criterion': 'log_loss', 'min_samples_split': 13, 'max_features': 'log2'}. Best is trial 36 with value: 0.9839383906187165.\n",
      "[I 2024-01-10 13:28:29,126] Trial 42 finished with value: 0.985055876082081 and parameters: {'n_estimators': 82, 'criterion': 'log_loss', 'min_samples_split': 10, 'max_features': 'log2'}. Best is trial 42 with value: 0.985055876082081.\n",
      "[I 2024-01-10 13:28:32,847] Trial 43 finished with value: 0.983557540209302 and parameters: {'n_estimators': 96, 'criterion': 'log_loss', 'min_samples_split': 13, 'max_features': 'log2'}. Best is trial 42 with value: 0.985055876082081.\n",
      "[I 2024-01-10 13:28:36,752] Trial 44 finished with value: 0.9827963868421055 and parameters: {'n_estimators': 82, 'criterion': 'log_loss', 'min_samples_split': 14, 'max_features': 'log2'}. Best is trial 42 with value: 0.985055876082081.\n",
      "[I 2024-01-10 13:28:40,512] Trial 45 finished with value: 0.9827420965562257 and parameters: {'n_estimators': 80, 'criterion': 'log_loss', 'min_samples_split': 14, 'max_features': 'log2'}. Best is trial 42 with value: 0.985055876082081.\n",
      "[I 2024-01-10 13:28:55,045] Trial 46 finished with value: 0.9697226655822523 and parameters: {'n_estimators': 83, 'criterion': 'log_loss', 'min_samples_split': 37, 'max_features': None}. Best is trial 42 with value: 0.985055876082081.\n",
      "[I 2024-01-10 13:28:56,715] Trial 47 finished with value: 0.97835623959033 and parameters: {'n_estimators': 48, 'criterion': 'log_loss', 'min_samples_split': 162, 'max_features': 'log2'}. Best is trial 42 with value: 0.985055876082081.\n",
      "[I 2024-01-10 13:29:00,185] Trial 48 finished with value: 0.9812932714673188 and parameters: {'n_estimators': 77, 'criterion': 'log_loss', 'min_samples_split': 52, 'max_features': 'log2'}. Best is trial 42 with value: 0.985055876082081.\n",
      "[I 2024-01-10 13:29:03,707] Trial 49 finished with value: 0.9799660061783143 and parameters: {'n_estimators': 66, 'criterion': 'log_loss', 'min_samples_split': 44, 'max_features': 'log2'}. Best is trial 42 with value: 0.985055876082081.\n"
     ]
    }
   ],
   "source": [
    "X_train_cv, X_test_cv, y_train_cv, y_test_cv = train_test_split(X_train_b, y_train_b, test_size=0.2, stratify=y_train_b,\n",
    "                                                                random_state=42)\n",
    "study = optuna.create_study(direction='maximize')\n",
    "study.optimize(objective_forest, n_trials=50)"
   ]
  },
  {
   "cell_type": "code",
   "execution_count": 21,
   "id": "7b4f27bf",
   "metadata": {},
   "outputs": [
    {
     "name": "stdout",
     "output_type": "stream",
     "text": [
      "              precision    recall  f1-score   support\n",
      "\n",
      "           0       0.90      0.94      0.92      1010\n",
      "           1       0.95      0.90      0.92      1109\n",
      "\n",
      "    accuracy                           0.92      2119\n",
      "   macro avg       0.92      0.92      0.92      2119\n",
      "weighted avg       0.92      0.92      0.92      2119\n",
      "\n"
     ]
    }
   ],
   "source": [
    "trial = study.best_trial\n",
    "model = RandomForestClassifier(**trial.params, random_state=42)\n",
    "model.fit(X_train_b, y_train_b)\n",
    "preds = model.predict(X_test_b)\n",
    "print(classification_report(y_test_b, preds))"
   ]
  },
  {
   "cell_type": "markdown",
   "id": "bfe408c4",
   "metadata": {
    "id": "T6qOclJPuyif"
   },
   "source": [
    "# 4. PyTorch"
   ]
  },
  {
   "cell_type": "code",
   "execution_count": 22,
   "id": "6a6b31ab",
   "metadata": {},
   "outputs": [],
   "source": [
    "def get_word_embedding(tokens, max_len):\n",
    "    result = []\n",
    "    for i in range(max_len):\n",
    "        if i < len(tokens):\n",
    "            word = tokens[i]\n",
    "            if word in model_tweets.wv:\n",
    "                result.append(model_tweets.wv[word])\n",
    "            else:\n",
    "                result.append(np.zeros(300))\n",
    "        else:\n",
    "            result.append(np.zeros(300))\n",
    "    return result"
   ]
  },
  {
   "cell_type": "code",
   "execution_count": 23,
   "id": "8849e9c0",
   "metadata": {},
   "outputs": [
    {
     "name": "stderr",
     "output_type": "stream",
     "text": [
      "100%|██████████| 6420/6420 [00:01<00:00, 4390.25it/s]\n"
     ]
    },
    {
     "data": {
      "text/plain": [
       "torch.Size([4301, 200, 300])"
      ]
     },
     "execution_count": 23,
     "metadata": {},
     "output_type": "execute_result"
    }
   ],
   "source": [
    "features = [get_word_embedding(text, 200) for text in tqdm(sentences)]\n",
    "X_train, X_test, y_train, y_test = train_test_split(features, labels, test_size=0.33, stratify=labels, random_state=4)\n",
    "\n",
    "X_train = torch.tensor(X_train).float()\n",
    "y_train = torch.tensor(y_train).float()\n",
    "\n",
    "X_test = torch.tensor(X_test).float()\n",
    "y_test = torch.tensor(y_test).float()\n",
    "\n",
    "X_train.shape"
   ]
  },
  {
   "cell_type": "markdown",
   "id": "f5f761eb",
   "metadata": {},
   "source": [
    "## 4.1 RNN с LSTM слоем"
   ]
  },
  {
   "cell_type": "code",
   "execution_count": 24,
   "id": "7a597b9d",
   "metadata": {},
   "outputs": [],
   "source": [
    "class Net(nn.Module):\n",
    "    \n",
    "    def __init__(self):\n",
    "        super(Net, self).__init__()\n",
    "        self.lstm = nn.LSTM(300, 100)\n",
    "        self.out = nn.Linear(100, 1)\n",
    "    \n",
    "    def forward(self, x):\n",
    "        embeddings, (shortterm, longterm) = self.lstm(x.transpose(0, 1))\n",
    "        prediction = torch.sigmoid(self.out(longterm))\n",
    "        return prediction"
   ]
  },
  {
   "cell_type": "code",
   "execution_count": 25,
   "id": "a6295b5e",
   "metadata": {},
   "outputs": [],
   "source": [
    "def train_one_epoch(X_train, y_train, batch_size=16):\n",
    "    for i in tqdm(range(0, len(X_train), batch_size)):\n",
    "        batch_x = X_train[i:i + batch_size]\n",
    "        batch_y = y_train[i:i + batch_size]\n",
    "        optimizer.zero_grad()\n",
    "        output = net(batch_x)\n",
    "        loss = criterion(output.reshape(-1), batch_y)\n",
    "        loss.backward()\n",
    "        optimizer.step()\n",
    "    print(loss)"
   ]
  },
  {
   "cell_type": "code",
   "execution_count": 26,
   "id": "07e38794",
   "metadata": {
    "scrolled": true
   },
   "outputs": [
    {
     "name": "stdout",
     "output_type": "stream",
     "text": [
      "Net(\n",
      "  (lstm): LSTM(300, 100)\n",
      "  (out): Linear(in_features=100, out_features=1, bias=True)\n",
      ")\n"
     ]
    },
    {
     "name": "stderr",
     "output_type": "stream",
     "text": [
      "100%|██████████| 269/269 [00:05<00:00, 47.51it/s]\n"
     ]
    },
    {
     "name": "stdout",
     "output_type": "stream",
     "text": [
      "tensor(0.6829, grad_fn=<BinaryCrossEntropyBackward0>)\n",
      "Epoch 0 accuracy score: 0.5243039169419538\n",
      "Best epoch 0, Best score: 0.5243039169419538\n"
     ]
    },
    {
     "name": "stderr",
     "output_type": "stream",
     "text": [
      "100%|██████████| 269/269 [00:05<00:00, 51.24it/s]\n"
     ]
    },
    {
     "name": "stdout",
     "output_type": "stream",
     "text": [
      "tensor(0.6808, grad_fn=<BinaryCrossEntropyBackward0>)\n",
      "Epoch 1 accuracy score: 0.5243039169419538\n",
      "Best epoch 0, Best score: 0.5243039169419538\n"
     ]
    },
    {
     "name": "stderr",
     "output_type": "stream",
     "text": [
      "100%|██████████| 269/269 [00:06<00:00, 40.73it/s]\n"
     ]
    },
    {
     "name": "stdout",
     "output_type": "stream",
     "text": [
      "tensor(0.6796, grad_fn=<BinaryCrossEntropyBackward0>)\n",
      "Epoch 2 accuracy score: 0.5243039169419538\n",
      "Best epoch 0, Best score: 0.5243039169419538\n"
     ]
    },
    {
     "name": "stderr",
     "output_type": "stream",
     "text": [
      "100%|██████████| 269/269 [00:06<00:00, 41.10it/s]\n"
     ]
    },
    {
     "name": "stdout",
     "output_type": "stream",
     "text": [
      "tensor(0.6791, grad_fn=<BinaryCrossEntropyBackward0>)\n",
      "Epoch 3 accuracy score: 0.5243039169419538\n",
      "Best epoch 0, Best score: 0.5243039169419538\n"
     ]
    },
    {
     "name": "stderr",
     "output_type": "stream",
     "text": [
      "100%|██████████| 269/269 [00:05<00:00, 51.59it/s]\n"
     ]
    },
    {
     "name": "stdout",
     "output_type": "stream",
     "text": [
      "tensor(0.6786, grad_fn=<BinaryCrossEntropyBackward0>)\n",
      "Epoch 4 accuracy score: 0.5243039169419538\n",
      "Best epoch 0, Best score: 0.5243039169419538\n"
     ]
    },
    {
     "name": "stderr",
     "output_type": "stream",
     "text": [
      "100%|██████████| 269/269 [00:05<00:00, 47.69it/s]\n"
     ]
    },
    {
     "name": "stdout",
     "output_type": "stream",
     "text": [
      "tensor(0.6783, grad_fn=<BinaryCrossEntropyBackward0>)\n",
      "Epoch 5 accuracy score: 0.5243039169419538\n",
      "Best epoch 0, Best score: 0.5243039169419538\n"
     ]
    },
    {
     "name": "stderr",
     "output_type": "stream",
     "text": [
      "100%|██████████| 269/269 [00:09<00:00, 27.14it/s]\n"
     ]
    },
    {
     "name": "stdout",
     "output_type": "stream",
     "text": [
      "tensor(0.6784, grad_fn=<BinaryCrossEntropyBackward0>)\n",
      "Epoch 6 accuracy score: 0.5243039169419538\n",
      "Best epoch 0, Best score: 0.5243039169419538\n"
     ]
    },
    {
     "name": "stderr",
     "output_type": "stream",
     "text": [
      "100%|██████████| 269/269 [00:06<00:00, 40.54it/s]\n"
     ]
    },
    {
     "name": "stdout",
     "output_type": "stream",
     "text": [
      "tensor(0.6780, grad_fn=<BinaryCrossEntropyBackward0>)\n",
      "Epoch 7 accuracy score: 0.5243039169419538\n",
      "Best epoch 0, Best score: 0.5243039169419538\n"
     ]
    },
    {
     "name": "stderr",
     "output_type": "stream",
     "text": [
      "100%|██████████| 269/269 [00:05<00:00, 51.36it/s]\n"
     ]
    },
    {
     "name": "stdout",
     "output_type": "stream",
     "text": [
      "tensor(0.6776, grad_fn=<BinaryCrossEntropyBackward0>)\n",
      "Epoch 8 accuracy score: 0.5243039169419538\n",
      "Best epoch 0, Best score: 0.5243039169419538\n"
     ]
    },
    {
     "name": "stderr",
     "output_type": "stream",
     "text": [
      "100%|██████████| 269/269 [00:05<00:00, 50.77it/s]\n"
     ]
    },
    {
     "name": "stdout",
     "output_type": "stream",
     "text": [
      "tensor(0.7009, grad_fn=<BinaryCrossEntropyBackward0>)\n",
      "Epoch 9 accuracy score: 0.4756960830580462\n",
      "Best epoch 0, Best score: 0.5243039169419538\n"
     ]
    }
   ],
   "source": [
    "net = Net()\n",
    "print(net)\n",
    "optimizer = optim.Adam(net.parameters(), lr=0.003)\n",
    "criterion = nn.BCELoss()\n",
    "\n",
    "best_net = None\n",
    "best_epoch = None\n",
    "best_score = 0\n",
    "\n",
    "for epoch in range(10):\n",
    "    train_one_epoch(X_train, y_train, batch_size=16)\n",
    "    \n",
    "    with torch.no_grad():\n",
    "        output = net(X_test).reshape(-1)\n",
    "    preds = (output > 0.5).numpy().astype(int)\n",
    "    score = accuracy_score(y_test, preds)\n",
    "    print(f'Epoch {epoch} accuracy score:', score)\n",
    "    \n",
    "    if score > best_score:\n",
    "        best_net = deepcopy(net)\n",
    "        best_epoch = epoch\n",
    "        best_score = score\n",
    "    print(f'Best epoch {best_epoch}, Best score:', best_score)"
   ]
  },
  {
   "cell_type": "code",
   "execution_count": 27,
   "id": "61af13dd",
   "metadata": {},
   "outputs": [
    {
     "name": "stdout",
     "output_type": "stream",
     "text": [
      "              precision    recall  f1-score   support\n",
      "\n",
      "         0.0       1.00      0.00      0.00      1010\n",
      "         1.0       0.52      1.00      0.69      1109\n",
      "\n",
      "    accuracy                           0.52      2119\n",
      "   macro avg       0.76      0.50      0.35      2119\n",
      "weighted avg       0.75      0.52      0.36      2119\n",
      "\n"
     ]
    }
   ],
   "source": [
    "with torch.no_grad():\n",
    "    output = best_net(X_test).reshape(-1)\n",
    "preds = (output > 0.5).numpy().astype(int)\n",
    "print(classification_report(y_test, preds))"
   ]
  },
  {
   "cell_type": "markdown",
   "id": "783ba5d4",
   "metadata": {},
   "source": [
    "## 4.2 RNN с двунаправленным LSTM слоем и дропаутом"
   ]
  },
  {
   "cell_type": "code",
   "execution_count": 28,
   "id": "bf777f1d",
   "metadata": {},
   "outputs": [],
   "source": [
    "class Net(nn.Module):\n",
    "    \n",
    "    def __init__(self):\n",
    "        super(Net, self).__init__()\n",
    "        self.lstm = nn.LSTM(300, 100, dropout=0.5, bidirectional=True)\n",
    "        self.out = nn.Linear(100, 1)\n",
    "    \n",
    "    def forward(self, x):\n",
    "        embeddings, (shortterm, longterm) = self.lstm(x.transpose(0, 1))\n",
    "        prediction = torch.sigmoid(self.out(longterm))\n",
    "        return prediction"
   ]
  },
  {
   "cell_type": "code",
   "execution_count": 29,
   "id": "3681f467",
   "metadata": {},
   "outputs": [],
   "source": [
    "def train_one_epoch(X_train, y_train, batch_size=16):\n",
    "    for i in tqdm(range(0, len(X_train), batch_size)):\n",
    "        batch_x = X_train[i:i + batch_size]\n",
    "        batch_y = y_train[i:i + batch_size]\n",
    "        batch_y = torch.concat((batch_y, torch.flip(batch_y, [0])))\n",
    "        optimizer.zero_grad()\n",
    "        output = net(batch_x)\n",
    "        loss = criterion(output.reshape(-1), batch_y)\n",
    "        loss.backward()\n",
    "        optimizer.step()\n",
    "    print(loss)"
   ]
  },
  {
   "cell_type": "code",
   "execution_count": 30,
   "id": "38c4b5f7",
   "metadata": {
    "scrolled": true
   },
   "outputs": [
    {
     "name": "stdout",
     "output_type": "stream",
     "text": [
      "Net(\n",
      "  (lstm): LSTM(300, 100, dropout=0.5, bidirectional=True)\n",
      "  (out): Linear(in_features=100, out_features=1, bias=True)\n",
      ")\n"
     ]
    },
    {
     "name": "stderr",
     "output_type": "stream",
     "text": [
      "100%|██████████| 269/269 [00:17<00:00, 15.79it/s]\n"
     ]
    },
    {
     "name": "stdout",
     "output_type": "stream",
     "text": [
      "tensor(0.6792, grad_fn=<BinaryCrossEntropyBackward0>)\n",
      "Epoch 0 accuracy score: 0.6857008022652195\n",
      "Best epoch 0, Best score: 0.6857008022652195\n"
     ]
    },
    {
     "name": "stderr",
     "output_type": "stream",
     "text": [
      "100%|██████████| 269/269 [00:10<00:00, 25.90it/s]\n"
     ]
    },
    {
     "name": "stdout",
     "output_type": "stream",
     "text": [
      "tensor(0.6583, grad_fn=<BinaryCrossEntropyBackward0>)\n",
      "Epoch 1 accuracy score: 0.6781500707881076\n",
      "Best epoch 0, Best score: 0.6857008022652195\n"
     ]
    },
    {
     "name": "stderr",
     "output_type": "stream",
     "text": [
      "100%|██████████| 269/269 [00:19<00:00, 13.89it/s]\n"
     ]
    },
    {
     "name": "stdout",
     "output_type": "stream",
     "text": [
      "tensor(0.6443, grad_fn=<BinaryCrossEntropyBackward0>)\n",
      "Epoch 2 accuracy score: 0.6319018404907976\n",
      "Best epoch 0, Best score: 0.6857008022652195\n"
     ]
    },
    {
     "name": "stderr",
     "output_type": "stream",
     "text": [
      "100%|██████████| 269/269 [00:10<00:00, 25.62it/s]\n"
     ]
    },
    {
     "name": "stdout",
     "output_type": "stream",
     "text": [
      "tensor(0.6050, grad_fn=<BinaryCrossEntropyBackward0>)\n",
      "Epoch 3 accuracy score: 0.6238791882963662\n",
      "Best epoch 0, Best score: 0.6857008022652195\n"
     ]
    },
    {
     "name": "stderr",
     "output_type": "stream",
     "text": [
      "100%|██████████| 269/269 [00:17<00:00, 15.07it/s]\n"
     ]
    },
    {
     "name": "stdout",
     "output_type": "stream",
     "text": [
      "tensor(0.5894, grad_fn=<BinaryCrossEntropyBackward0>)\n",
      "Epoch 4 accuracy score: 0.6219915054270883\n",
      "Best epoch 0, Best score: 0.6857008022652195\n"
     ]
    },
    {
     "name": "stderr",
     "output_type": "stream",
     "text": [
      "100%|██████████| 269/269 [00:10<00:00, 26.07it/s]\n"
     ]
    },
    {
     "name": "stdout",
     "output_type": "stream",
     "text": [
      "tensor(0.5739, grad_fn=<BinaryCrossEntropyBackward0>)\n",
      "Epoch 5 accuracy score: 0.5946201038225578\n",
      "Best epoch 0, Best score: 0.6857008022652195\n"
     ]
    },
    {
     "name": "stderr",
     "output_type": "stream",
     "text": [
      "100%|██████████| 269/269 [00:21<00:00, 12.66it/s]\n"
     ]
    },
    {
     "name": "stdout",
     "output_type": "stream",
     "text": [
      "tensor(0.5348, grad_fn=<BinaryCrossEntropyBackward0>)\n",
      "Epoch 6 accuracy score: 0.5663048607833884\n",
      "Best epoch 0, Best score: 0.6857008022652195\n"
     ]
    },
    {
     "name": "stderr",
     "output_type": "stream",
     "text": [
      "100%|██████████| 269/269 [00:10<00:00, 25.66it/s]\n"
     ]
    },
    {
     "name": "stdout",
     "output_type": "stream",
     "text": [
      "tensor(0.5090, grad_fn=<BinaryCrossEntropyBackward0>)\n",
      "Epoch 7 accuracy score: 0.5516753185464842\n",
      "Best epoch 0, Best score: 0.6857008022652195\n"
     ]
    },
    {
     "name": "stderr",
     "output_type": "stream",
     "text": [
      "100%|██████████| 269/269 [00:17<00:00, 15.73it/s]\n"
     ]
    },
    {
     "name": "stdout",
     "output_type": "stream",
     "text": [
      "tensor(0.4485, grad_fn=<BinaryCrossEntropyBackward0>)\n",
      "Epoch 8 accuracy score: 0.5507314771118452\n",
      "Best epoch 0, Best score: 0.6857008022652195\n"
     ]
    },
    {
     "name": "stderr",
     "output_type": "stream",
     "text": [
      "100%|██████████| 269/269 [00:10<00:00, 26.15it/s]\n"
     ]
    },
    {
     "name": "stdout",
     "output_type": "stream",
     "text": [
      "tensor(0.4184, grad_fn=<BinaryCrossEntropyBackward0>)\n",
      "Epoch 9 accuracy score: 0.5412930627654554\n",
      "Best epoch 0, Best score: 0.6857008022652195\n"
     ]
    }
   ],
   "source": [
    "net = Net()\n",
    "print(net)\n",
    "optimizer = optim.Adam(net.parameters(), lr=0.003)\n",
    "criterion = nn.BCELoss()\n",
    "\n",
    "best_net = None\n",
    "best_epoch = None\n",
    "best_score = 0\n",
    "\n",
    "for epoch in range(10):\n",
    "    train_one_epoch(X_train, y_train, batch_size=16)\n",
    "    \n",
    "    with torch.no_grad():\n",
    "        output = net(X_test).reshape(-1)\n",
    "    preds = (output > 0.5).numpy().astype(int)[len(y_test):]\n",
    "    score = accuracy_score(y_test, preds)\n",
    "    print(f'Epoch {epoch} accuracy score:', score)\n",
    "    \n",
    "    if score > best_score:\n",
    "        best_net = deepcopy(net)\n",
    "        best_epoch = epoch\n",
    "        best_score = score\n",
    "    print(f'Best epoch {best_epoch}, Best score:', best_score)"
   ]
  },
  {
   "cell_type": "code",
   "execution_count": 31,
   "id": "13896fca",
   "metadata": {},
   "outputs": [
    {
     "name": "stdout",
     "output_type": "stream",
     "text": [
      "              precision    recall  f1-score   support\n",
      "\n",
      "         0.0       0.66      0.70      0.68      1010\n",
      "         1.0       0.71      0.67      0.69      1109\n",
      "\n",
      "    accuracy                           0.69      2119\n",
      "   macro avg       0.69      0.69      0.69      2119\n",
      "weighted avg       0.69      0.69      0.69      2119\n",
      "\n"
     ]
    }
   ],
   "source": [
    "with torch.no_grad():\n",
    "    output = best_net(X_test).reshape(-1)\n",
    "preds = (output > 0.5).numpy().astype(int)[len(y_test):]\n",
    "print(classification_report(y_test, preds))"
   ]
  },
  {
   "cell_type": "markdown",
   "id": "e424d9f7",
   "metadata": {},
   "source": [
    "## 4.3 Полносвязная нейросеть, обученная на усредненных текстовых эмбеддингах"
   ]
  },
  {
   "cell_type": "code",
   "execution_count": 32,
   "id": "15634078",
   "metadata": {},
   "outputs": [
    {
     "data": {
      "text/plain": [
       "torch.Size([4301, 300])"
      ]
     },
     "execution_count": 32,
     "metadata": {},
     "output_type": "execute_result"
    }
   ],
   "source": [
    "X_train = torch.tensor(X_train_e).float()\n",
    "y_train = torch.tensor(y_train_e).float()\n",
    "\n",
    "X_test = torch.tensor(X_test_e).float()\n",
    "y_test = torch.tensor(y_test_e).float()\n",
    "\n",
    "X_train.shape"
   ]
  },
  {
   "cell_type": "code",
   "execution_count": 33,
   "id": "b615e385",
   "metadata": {},
   "outputs": [],
   "source": [
    "class Net(nn.Module):\n",
    "    \n",
    "    def __init__(self):\n",
    "        super(Net, self).__init__()\n",
    "        self.out = nn.Linear(300, 1)\n",
    "    \n",
    "    def forward(self, x):\n",
    "        return torch.sigmoid(self.out(x))"
   ]
  },
  {
   "cell_type": "code",
   "execution_count": 34,
   "id": "f01aa106",
   "metadata": {},
   "outputs": [],
   "source": [
    "def train_one_epoch(X_train, y_train, batch_size=16):\n",
    "    for i in tqdm(range(0, len(X_train), batch_size)):\n",
    "        batch_x = X_train[i:i + batch_size]\n",
    "        batch_y = y_train[i:i + batch_size]\n",
    "        optimizer.zero_grad()\n",
    "        output = net(batch_x)\n",
    "        loss = criterion(output.reshape(-1), batch_y)\n",
    "        loss.backward()\n",
    "        optimizer.step()\n",
    "    print(loss)"
   ]
  },
  {
   "cell_type": "code",
   "execution_count": 35,
   "id": "2e780f95",
   "metadata": {},
   "outputs": [
    {
     "name": "stdout",
     "output_type": "stream",
     "text": [
      "Net(\n",
      "  (out): Linear(in_features=300, out_features=1, bias=True)\n",
      ")\n"
     ]
    },
    {
     "name": "stderr",
     "output_type": "stream",
     "text": [
      "100%|██████████| 269/269 [00:00<00:00, 636.53it/s]\n"
     ]
    },
    {
     "name": "stdout",
     "output_type": "stream",
     "text": [
      "tensor(0.5189, grad_fn=<BinaryCrossEntropyWithLogitsBackward0>)\n",
      "Epoch 0 accuracy score: 0.89806512505899\n",
      "Best epoch 0, Best score: 0.89806512505899\n"
     ]
    },
    {
     "name": "stderr",
     "output_type": "stream",
     "text": [
      "100%|██████████| 269/269 [00:00<00:00, 707.90it/s]\n"
     ]
    },
    {
     "name": "stdout",
     "output_type": "stream",
     "text": [
      "tensor(0.5133, grad_fn=<BinaryCrossEntropyWithLogitsBackward0>)\n",
      "Epoch 1 accuracy score: 0.8994808872109485\n",
      "Best epoch 1, Best score: 0.8994808872109485\n"
     ]
    },
    {
     "name": "stderr",
     "output_type": "stream",
     "text": [
      "100%|██████████| 269/269 [00:00<00:00, 707.75it/s]\n"
     ]
    },
    {
     "name": "stdout",
     "output_type": "stream",
     "text": [
      "tensor(0.4913, grad_fn=<BinaryCrossEntropyWithLogitsBackward0>)\n",
      "Epoch 2 accuracy score: 0.8961774421897122\n",
      "Best epoch 1, Best score: 0.8994808872109485\n"
     ]
    },
    {
     "name": "stderr",
     "output_type": "stream",
     "text": [
      "100%|██████████| 269/269 [00:00<00:00, 704.62it/s]\n"
     ]
    },
    {
     "name": "stdout",
     "output_type": "stream",
     "text": [
      "tensor(0.4920, grad_fn=<BinaryCrossEntropyWithLogitsBackward0>)\n",
      "Epoch 3 accuracy score: 0.9075035394053799\n",
      "Best epoch 3, Best score: 0.9075035394053799\n"
     ]
    },
    {
     "name": "stderr",
     "output_type": "stream",
     "text": [
      "100%|██████████| 269/269 [00:00<00:00, 632.91it/s]\n"
     ]
    },
    {
     "name": "stdout",
     "output_type": "stream",
     "text": [
      "tensor(0.4890, grad_fn=<BinaryCrossEntropyWithLogitsBackward0>)\n",
      "Epoch 4 accuracy score: 0.9098631429919773\n",
      "Best epoch 4, Best score: 0.9098631429919773\n"
     ]
    },
    {
     "name": "stderr",
     "output_type": "stream",
     "text": [
      "100%|██████████| 269/269 [00:00<00:00, 356.61it/s]\n"
     ]
    },
    {
     "name": "stdout",
     "output_type": "stream",
     "text": [
      "tensor(0.4886, grad_fn=<BinaryCrossEntropyWithLogitsBackward0>)\n",
      "Epoch 5 accuracy score: 0.9089193015573384\n",
      "Best epoch 4, Best score: 0.9098631429919773\n"
     ]
    },
    {
     "name": "stderr",
     "output_type": "stream",
     "text": [
      "100%|██████████| 269/269 [00:00<00:00, 355.50it/s]\n"
     ]
    },
    {
     "name": "stdout",
     "output_type": "stream",
     "text": [
      "tensor(0.4890, grad_fn=<BinaryCrossEntropyWithLogitsBackward0>)\n",
      "Epoch 6 accuracy score: 0.9145823501651722\n",
      "Best epoch 6, Best score: 0.9145823501651722\n"
     ]
    },
    {
     "name": "stderr",
     "output_type": "stream",
     "text": [
      "100%|██████████| 269/269 [00:00<00:00, 353.15it/s]\n"
     ]
    },
    {
     "name": "stdout",
     "output_type": "stream",
     "text": [
      "tensor(0.4887, grad_fn=<BinaryCrossEntropyWithLogitsBackward0>)\n",
      "Epoch 7 accuracy score: 0.9159981123171307\n",
      "Best epoch 7, Best score: 0.9159981123171307\n"
     ]
    },
    {
     "name": "stderr",
     "output_type": "stream",
     "text": [
      "100%|██████████| 269/269 [00:00<00:00, 407.87it/s]\n"
     ]
    },
    {
     "name": "stdout",
     "output_type": "stream",
     "text": [
      "tensor(0.4889, grad_fn=<BinaryCrossEntropyWithLogitsBackward0>)\n",
      "Epoch 8 accuracy score: 0.9169419537517697\n",
      "Best epoch 8, Best score: 0.9169419537517697\n"
     ]
    },
    {
     "name": "stderr",
     "output_type": "stream",
     "text": [
      "100%|██████████| 269/269 [00:00<00:00, 783.54it/s]\n"
     ]
    },
    {
     "name": "stdout",
     "output_type": "stream",
     "text": [
      "tensor(0.4887, grad_fn=<BinaryCrossEntropyWithLogitsBackward0>)\n",
      "Epoch 9 accuracy score: 0.9065596979707409\n",
      "Best epoch 8, Best score: 0.9169419537517697\n"
     ]
    },
    {
     "name": "stderr",
     "output_type": "stream",
     "text": [
      "100%|██████████| 269/269 [00:00<00:00, 777.55it/s]\n"
     ]
    },
    {
     "name": "stdout",
     "output_type": "stream",
     "text": [
      "tensor(0.4889, grad_fn=<BinaryCrossEntropyWithLogitsBackward0>)\n",
      "Epoch 10 accuracy score: 0.9093912222746579\n",
      "Best epoch 8, Best score: 0.9169419537517697\n"
     ]
    },
    {
     "name": "stderr",
     "output_type": "stream",
     "text": [
      "100%|██████████| 269/269 [00:00<00:00, 776.58it/s]\n"
     ]
    },
    {
     "name": "stdout",
     "output_type": "stream",
     "text": [
      "tensor(0.4891, grad_fn=<BinaryCrossEntropyWithLogitsBackward0>)\n",
      "Epoch 11 accuracy score: 0.9122227465785748\n",
      "Best epoch 8, Best score: 0.9169419537517697\n"
     ]
    },
    {
     "name": "stderr",
     "output_type": "stream",
     "text": [
      "100%|██████████| 269/269 [00:00<00:00, 773.27it/s]\n"
     ]
    },
    {
     "name": "stdout",
     "output_type": "stream",
     "text": [
      "tensor(0.4922, grad_fn=<BinaryCrossEntropyWithLogitsBackward0>)\n",
      "Epoch 12 accuracy score: 0.9145823501651722\n",
      "Best epoch 8, Best score: 0.9169419537517697\n"
     ]
    },
    {
     "name": "stderr",
     "output_type": "stream",
     "text": [
      "100%|██████████| 269/269 [00:00<00:00, 783.95it/s]\n"
     ]
    },
    {
     "name": "stdout",
     "output_type": "stream",
     "text": [
      "tensor(0.4886, grad_fn=<BinaryCrossEntropyWithLogitsBackward0>)\n",
      "Epoch 13 accuracy score: 0.9103350637092968\n",
      "Best epoch 8, Best score: 0.9169419537517697\n"
     ]
    },
    {
     "name": "stderr",
     "output_type": "stream",
     "text": [
      "100%|██████████| 269/269 [00:00<00:00, 748.43it/s]\n"
     ]
    },
    {
     "name": "stdout",
     "output_type": "stream",
     "text": [
      "tensor(0.4886, grad_fn=<BinaryCrossEntropyWithLogitsBackward0>)\n",
      "Epoch 14 accuracy score: 0.9164700330344502\n",
      "Best epoch 8, Best score: 0.9169419537517697\n"
     ]
    },
    {
     "name": "stderr",
     "output_type": "stream",
     "text": [
      "100%|██████████| 269/269 [00:00<00:00, 765.84it/s]\n"
     ]
    },
    {
     "name": "stdout",
     "output_type": "stream",
     "text": [
      "tensor(0.4886, grad_fn=<BinaryCrossEntropyWithLogitsBackward0>)\n",
      "Epoch 15 accuracy score: 0.9193015573383672\n",
      "Best epoch 15, Best score: 0.9193015573383672\n"
     ]
    },
    {
     "name": "stderr",
     "output_type": "stream",
     "text": [
      "100%|██████████| 269/269 [00:00<00:00, 778.85it/s]\n"
     ]
    },
    {
     "name": "stdout",
     "output_type": "stream",
     "text": [
      "tensor(0.4886, grad_fn=<BinaryCrossEntropyWithLogitsBackward0>)\n",
      "Epoch 16 accuracy score: 0.9098631429919773\n",
      "Best epoch 15, Best score: 0.9193015573383672\n"
     ]
    },
    {
     "name": "stderr",
     "output_type": "stream",
     "text": [
      "100%|██████████| 269/269 [00:00<00:00, 864.00it/s]\n"
     ]
    },
    {
     "name": "stdout",
     "output_type": "stream",
     "text": [
      "tensor(0.4886, grad_fn=<BinaryCrossEntropyWithLogitsBackward0>)\n",
      "Epoch 17 accuracy score: 0.9141104294478528\n",
      "Best epoch 15, Best score: 0.9193015573383672\n"
     ]
    },
    {
     "name": "stderr",
     "output_type": "stream",
     "text": [
      "100%|██████████| 269/269 [00:00<00:00, 878.29it/s]\n"
     ]
    },
    {
     "name": "stdout",
     "output_type": "stream",
     "text": [
      "tensor(0.4886, grad_fn=<BinaryCrossEntropyWithLogitsBackward0>)\n",
      "Epoch 18 accuracy score: 0.9159981123171307\n",
      "Best epoch 15, Best score: 0.9193015573383672\n"
     ]
    },
    {
     "name": "stderr",
     "output_type": "stream",
     "text": [
      "100%|██████████| 269/269 [00:00<00:00, 880.93it/s]\n"
     ]
    },
    {
     "name": "stdout",
     "output_type": "stream",
     "text": [
      "tensor(0.4886, grad_fn=<BinaryCrossEntropyWithLogitsBackward0>)\n",
      "Epoch 19 accuracy score: 0.9174138744690892\n",
      "Best epoch 15, Best score: 0.9193015573383672\n"
     ]
    },
    {
     "name": "stderr",
     "output_type": "stream",
     "text": [
      "100%|██████████| 269/269 [00:00<00:00, 881.85it/s]\n"
     ]
    },
    {
     "name": "stdout",
     "output_type": "stream",
     "text": [
      "tensor(0.4886, grad_fn=<BinaryCrossEntropyWithLogitsBackward0>)\n",
      "Epoch 20 accuracy score: 0.9145823501651722\n",
      "Best epoch 15, Best score: 0.9193015573383672\n"
     ]
    },
    {
     "name": "stderr",
     "output_type": "stream",
     "text": [
      "100%|██████████| 269/269 [00:00<00:00, 893.03it/s]\n"
     ]
    },
    {
     "name": "stdout",
     "output_type": "stream",
     "text": [
      "tensor(0.4886, grad_fn=<BinaryCrossEntropyWithLogitsBackward0>)\n",
      "Epoch 21 accuracy score: 0.9164700330344502\n",
      "Best epoch 15, Best score: 0.9193015573383672\n"
     ]
    },
    {
     "name": "stderr",
     "output_type": "stream",
     "text": [
      "100%|██████████| 269/269 [00:00<00:00, 895.30it/s]\n"
     ]
    },
    {
     "name": "stdout",
     "output_type": "stream",
     "text": [
      "tensor(0.4886, grad_fn=<BinaryCrossEntropyWithLogitsBackward0>)\n",
      "Epoch 22 accuracy score: 0.9122227465785748\n",
      "Best epoch 15, Best score: 0.9193015573383672\n"
     ]
    },
    {
     "name": "stderr",
     "output_type": "stream",
     "text": [
      "100%|██████████| 269/269 [00:00<00:00, 862.76it/s]\n"
     ]
    },
    {
     "name": "stdout",
     "output_type": "stream",
     "text": [
      "tensor(0.4891, grad_fn=<BinaryCrossEntropyWithLogitsBackward0>)\n",
      "Epoch 23 accuracy score: 0.9164700330344502\n",
      "Best epoch 15, Best score: 0.9193015573383672\n"
     ]
    },
    {
     "name": "stderr",
     "output_type": "stream",
     "text": [
      "100%|██████████| 269/269 [00:00<00:00, 900.40it/s]\n"
     ]
    },
    {
     "name": "stdout",
     "output_type": "stream",
     "text": [
      "tensor(0.4886, grad_fn=<BinaryCrossEntropyWithLogitsBackward0>)\n",
      "Epoch 24 accuracy score: 0.9193015573383672\n",
      "Best epoch 15, Best score: 0.9193015573383672\n"
     ]
    },
    {
     "name": "stderr",
     "output_type": "stream",
     "text": [
      "100%|██████████| 269/269 [00:00<00:00, 729.99it/s]\n"
     ]
    },
    {
     "name": "stdout",
     "output_type": "stream",
     "text": [
      "tensor(0.4886, grad_fn=<BinaryCrossEntropyWithLogitsBackward0>)\n",
      "Epoch 25 accuracy score: 0.9136385087305333\n",
      "Best epoch 15, Best score: 0.9193015573383672\n"
     ]
    },
    {
     "name": "stderr",
     "output_type": "stream",
     "text": [
      "100%|██████████| 269/269 [00:00<00:00, 732.33it/s]\n"
     ]
    },
    {
     "name": "stdout",
     "output_type": "stream",
     "text": [
      "tensor(0.4886, grad_fn=<BinaryCrossEntropyWithLogitsBackward0>)\n",
      "Epoch 26 accuracy score: 0.9098631429919773\n",
      "Best epoch 15, Best score: 0.9193015573383672\n"
     ]
    },
    {
     "name": "stderr",
     "output_type": "stream",
     "text": [
      "100%|██████████| 269/269 [00:00<00:00, 985.91it/s]\n"
     ]
    },
    {
     "name": "stdout",
     "output_type": "stream",
     "text": [
      "tensor(0.4886, grad_fn=<BinaryCrossEntropyWithLogitsBackward0>)\n",
      "Epoch 27 accuracy score: 0.9174138744690892\n",
      "Best epoch 15, Best score: 0.9193015573383672\n"
     ]
    },
    {
     "name": "stderr",
     "output_type": "stream",
     "text": [
      "100%|██████████| 269/269 [00:00<00:00, 1000.37it/s]\n"
     ]
    },
    {
     "name": "stdout",
     "output_type": "stream",
     "text": [
      "tensor(0.4886, grad_fn=<BinaryCrossEntropyWithLogitsBackward0>)\n",
      "Epoch 28 accuracy score: 0.9117508258612553\n",
      "Best epoch 15, Best score: 0.9193015573383672\n"
     ]
    },
    {
     "name": "stderr",
     "output_type": "stream",
     "text": [
      "100%|██████████| 269/269 [00:00<00:00, 1000.91it/s]\n"
     ]
    },
    {
     "name": "stdout",
     "output_type": "stream",
     "text": [
      "tensor(0.4886, grad_fn=<BinaryCrossEntropyWithLogitsBackward0>)\n",
      "Epoch 29 accuracy score: 0.9193015573383672\n",
      "Best epoch 15, Best score: 0.9193015573383672\n"
     ]
    },
    {
     "name": "stderr",
     "output_type": "stream",
     "text": [
      "100%|██████████| 269/269 [00:00<00:00, 1008.01it/s]\n"
     ]
    },
    {
     "name": "stdout",
     "output_type": "stream",
     "text": [
      "tensor(0.4886, grad_fn=<BinaryCrossEntropyWithLogitsBackward0>)\n",
      "Epoch 30 accuracy score: 0.9183577159037282\n",
      "Best epoch 15, Best score: 0.9193015573383672\n"
     ]
    },
    {
     "name": "stderr",
     "output_type": "stream",
     "text": [
      "100%|██████████| 269/269 [00:00<00:00, 999.20it/s] \n"
     ]
    },
    {
     "name": "stdout",
     "output_type": "stream",
     "text": [
      "tensor(0.4886, grad_fn=<BinaryCrossEntropyWithLogitsBackward0>)\n",
      "Epoch 31 accuracy score: 0.9159981123171307\n",
      "Best epoch 15, Best score: 0.9193015573383672\n"
     ]
    },
    {
     "name": "stderr",
     "output_type": "stream",
     "text": [
      "100%|██████████| 269/269 [00:00<00:00, 1003.25it/s]\n"
     ]
    },
    {
     "name": "stdout",
     "output_type": "stream",
     "text": [
      "tensor(0.4886, grad_fn=<BinaryCrossEntropyWithLogitsBackward0>)\n",
      "Epoch 32 accuracy score: 0.9159981123171307\n",
      "Best epoch 15, Best score: 0.9193015573383672\n"
     ]
    },
    {
     "name": "stderr",
     "output_type": "stream",
     "text": [
      "100%|██████████| 269/269 [00:00<00:00, 1004.04it/s]\n"
     ]
    },
    {
     "name": "stdout",
     "output_type": "stream",
     "text": [
      "tensor(0.4886, grad_fn=<BinaryCrossEntropyWithLogitsBackward0>)\n",
      "Epoch 33 accuracy score: 0.9178857951864087\n",
      "Best epoch 15, Best score: 0.9193015573383672\n"
     ]
    },
    {
     "name": "stderr",
     "output_type": "stream",
     "text": [
      "100%|██████████| 269/269 [00:00<00:00, 999.74it/s] \n"
     ]
    },
    {
     "name": "stdout",
     "output_type": "stream",
     "text": [
      "tensor(0.4886, grad_fn=<BinaryCrossEntropyWithLogitsBackward0>)\n",
      "Epoch 34 accuracy score: 0.9197734780556867\n",
      "Best epoch 34, Best score: 0.9197734780556867\n"
     ]
    },
    {
     "name": "stderr",
     "output_type": "stream",
     "text": [
      "100%|██████████| 269/269 [00:00<00:00, 999.34it/s] \n"
     ]
    },
    {
     "name": "stdout",
     "output_type": "stream",
     "text": [
      "tensor(0.4886, grad_fn=<BinaryCrossEntropyWithLogitsBackward0>)\n",
      "Epoch 35 accuracy score: 0.9122227465785748\n",
      "Best epoch 34, Best score: 0.9197734780556867\n"
     ]
    },
    {
     "name": "stderr",
     "output_type": "stream",
     "text": [
      "100%|██████████| 269/269 [00:00<00:00, 993.89it/s]\n"
     ]
    },
    {
     "name": "stdout",
     "output_type": "stream",
     "text": [
      "tensor(0.4886, grad_fn=<BinaryCrossEntropyWithLogitsBackward0>)\n",
      "Epoch 36 accuracy score: 0.9131665880132138\n",
      "Best epoch 34, Best score: 0.9197734780556867\n"
     ]
    },
    {
     "name": "stderr",
     "output_type": "stream",
     "text": [
      "100%|██████████| 269/269 [00:00<00:00, 1282.59it/s]\n"
     ]
    },
    {
     "name": "stdout",
     "output_type": "stream",
     "text": [
      "tensor(0.4886, grad_fn=<BinaryCrossEntropyWithLogitsBackward0>)\n",
      "Epoch 37 accuracy score: 0.9197734780556867\n",
      "Best epoch 34, Best score: 0.9197734780556867\n"
     ]
    },
    {
     "name": "stderr",
     "output_type": "stream",
     "text": [
      "100%|██████████| 269/269 [00:00<00:00, 1445.39it/s]\n"
     ]
    },
    {
     "name": "stdout",
     "output_type": "stream",
     "text": [
      "tensor(0.4886, grad_fn=<BinaryCrossEntropyWithLogitsBackward0>)\n",
      "Epoch 38 accuracy score: 0.9188296366210477\n",
      "Best epoch 34, Best score: 0.9197734780556867\n"
     ]
    },
    {
     "name": "stderr",
     "output_type": "stream",
     "text": [
      "100%|██████████| 269/269 [00:00<00:00, 1363.49it/s]\n"
     ]
    },
    {
     "name": "stdout",
     "output_type": "stream",
     "text": [
      "tensor(0.4886, grad_fn=<BinaryCrossEntropyWithLogitsBackward0>)\n",
      "Epoch 39 accuracy score: 0.9221330816422841\n",
      "Best epoch 39, Best score: 0.9221330816422841\n"
     ]
    },
    {
     "name": "stderr",
     "output_type": "stream",
     "text": [
      "100%|██████████| 269/269 [00:00<00:00, 1446.97it/s]\n"
     ]
    },
    {
     "name": "stdout",
     "output_type": "stream",
     "text": [
      "tensor(0.4886, grad_fn=<BinaryCrossEntropyWithLogitsBackward0>)\n",
      "Epoch 40 accuracy score: 0.9221330816422841\n",
      "Best epoch 39, Best score: 0.9221330816422841\n"
     ]
    },
    {
     "name": "stderr",
     "output_type": "stream",
     "text": [
      "100%|██████████| 269/269 [00:00<00:00, 1442.84it/s]\n"
     ]
    },
    {
     "name": "stdout",
     "output_type": "stream",
     "text": [
      "tensor(0.4886, grad_fn=<BinaryCrossEntropyWithLogitsBackward0>)\n",
      "Epoch 41 accuracy score: 0.9226050023596036\n",
      "Best epoch 41, Best score: 0.9226050023596036\n"
     ]
    },
    {
     "name": "stderr",
     "output_type": "stream",
     "text": [
      "100%|██████████| 269/269 [00:00<00:00, 1439.83it/s]\n"
     ]
    },
    {
     "name": "stdout",
     "output_type": "stream",
     "text": [
      "tensor(0.4886, grad_fn=<BinaryCrossEntropyWithLogitsBackward0>)\n",
      "Epoch 42 accuracy score: 0.9193015573383672\n",
      "Best epoch 41, Best score: 0.9226050023596036\n"
     ]
    },
    {
     "name": "stderr",
     "output_type": "stream",
     "text": [
      "100%|██████████| 269/269 [00:00<00:00, 1429.98it/s]\n"
     ]
    },
    {
     "name": "stdout",
     "output_type": "stream",
     "text": [
      "tensor(0.4886, grad_fn=<BinaryCrossEntropyWithLogitsBackward0>)\n",
      "Epoch 43 accuracy score: 0.9197734780556867\n",
      "Best epoch 41, Best score: 0.9226050023596036\n"
     ]
    },
    {
     "name": "stderr",
     "output_type": "stream",
     "text": [
      "100%|██████████| 269/269 [00:00<00:00, 1435.94it/s]\n"
     ]
    },
    {
     "name": "stdout",
     "output_type": "stream",
     "text": [
      "tensor(0.4888, grad_fn=<BinaryCrossEntropyWithLogitsBackward0>)\n",
      "Epoch 44 accuracy score: 0.9183577159037282\n",
      "Best epoch 41, Best score: 0.9226050023596036\n"
     ]
    },
    {
     "name": "stderr",
     "output_type": "stream",
     "text": [
      "100%|██████████| 269/269 [00:00<00:00, 1433.29it/s]\n"
     ]
    },
    {
     "name": "stdout",
     "output_type": "stream",
     "text": [
      "tensor(0.4886, grad_fn=<BinaryCrossEntropyWithLogitsBackward0>)\n",
      "Epoch 45 accuracy score: 0.9221330816422841\n",
      "Best epoch 41, Best score: 0.9226050023596036\n"
     ]
    },
    {
     "name": "stderr",
     "output_type": "stream",
     "text": [
      "100%|██████████| 269/269 [00:00<00:00, 1444.28it/s]\n"
     ]
    },
    {
     "name": "stdout",
     "output_type": "stream",
     "text": [
      "tensor(0.4886, grad_fn=<BinaryCrossEntropyWithLogitsBackward0>)\n",
      "Epoch 46 accuracy score: 0.9188296366210477\n",
      "Best epoch 41, Best score: 0.9226050023596036\n"
     ]
    },
    {
     "name": "stderr",
     "output_type": "stream",
     "text": [
      "100%|██████████| 269/269 [00:00<00:00, 1428.13it/s]\n"
     ]
    },
    {
     "name": "stdout",
     "output_type": "stream",
     "text": [
      "tensor(0.4886, grad_fn=<BinaryCrossEntropyWithLogitsBackward0>)\n",
      "Epoch 47 accuracy score: 0.9202453987730062\n",
      "Best epoch 41, Best score: 0.9226050023596036\n"
     ]
    },
    {
     "name": "stderr",
     "output_type": "stream",
     "text": [
      "100%|██████████| 269/269 [00:00<00:00, 1424.45it/s]\n"
     ]
    },
    {
     "name": "stdout",
     "output_type": "stream",
     "text": [
      "tensor(0.4886, grad_fn=<BinaryCrossEntropyWithLogitsBackward0>)\n",
      "Epoch 48 accuracy score: 0.924020764511562\n",
      "Best epoch 48, Best score: 0.924020764511562\n"
     ]
    },
    {
     "name": "stderr",
     "output_type": "stream",
     "text": [
      "100%|██████████| 269/269 [00:00<00:00, 1436.67it/s]"
     ]
    },
    {
     "name": "stdout",
     "output_type": "stream",
     "text": [
      "tensor(0.4886, grad_fn=<BinaryCrossEntropyWithLogitsBackward0>)\n",
      "Epoch 49 accuracy score: 0.9183577159037282\n",
      "Best epoch 48, Best score: 0.924020764511562\n"
     ]
    },
    {
     "name": "stderr",
     "output_type": "stream",
     "text": [
      "\n"
     ]
    }
   ],
   "source": [
    "net = Net()\n",
    "print(net)\n",
    "optimizer = optim.Adam(net.parameters(), lr=0.003)\n",
    "criterion = nn.BCEWithLogitsLoss()\n",
    "\n",
    "best_net = None\n",
    "best_epoch = None\n",
    "best_score = 0\n",
    "\n",
    "for epoch in range(50):\n",
    "    train_one_epoch(X_train, y_train, batch_size=16)\n",
    "    \n",
    "    with torch.no_grad():\n",
    "        output = net(X_test).reshape(-1)\n",
    "    preds = (output > 0.5).numpy().astype(int)\n",
    "    score = accuracy_score(y_test, preds)\n",
    "    print(f'Epoch {epoch} accuracy score:', score)\n",
    "    \n",
    "    if score > best_score:\n",
    "        best_net = deepcopy(net)\n",
    "        best_epoch = epoch\n",
    "        best_score = score\n",
    "    print(f'Best epoch {best_epoch}, Best score:', best_score)"
   ]
  },
  {
   "cell_type": "code",
   "execution_count": 36,
   "id": "d1634fd8",
   "metadata": {},
   "outputs": [
    {
     "name": "stdout",
     "output_type": "stream",
     "text": [
      "              precision    recall  f1-score   support\n",
      "\n",
      "         0.0       0.91      0.94      0.92      1010\n",
      "         1.0       0.94      0.91      0.93      1109\n",
      "\n",
      "    accuracy                           0.92      2119\n",
      "   macro avg       0.92      0.92      0.92      2119\n",
      "weighted avg       0.92      0.92      0.92      2119\n",
      "\n"
     ]
    }
   ],
   "source": [
    "with torch.no_grad():\n",
    "    output = best_net(X_test).reshape(-1)\n",
    "preds = (output > 0.5).numpy().astype(int)\n",
    "print(classification_report(y_test, preds))"
   ]
  }
 ],
 "metadata": {
  "kernelspec": {
   "display_name": "Python 3 (ipykernel)",
   "language": "python",
   "name": "python3"
  },
  "language_info": {
   "codemirror_mode": {
    "name": "ipython",
    "version": 3
   },
   "file_extension": ".py",
   "mimetype": "text/x-python",
   "name": "python",
   "nbconvert_exporter": "python",
   "pygments_lexer": "ipython3",
   "version": "3.11.5"
  }
 },
 "nbformat": 4,
 "nbformat_minor": 5
}

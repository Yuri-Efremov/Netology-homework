{
  "nbformat": 4,
  "nbformat_minor": 0,
  "metadata": {
    "colab": {
      "provenance": []
    },
    "kernelspec": {
      "name": "python3",
      "display_name": "Python 3"
    },
    "language_info": {
      "name": "python"
    },
    "accelerator": "TPU"
  },
  "cells": [
    {
      "cell_type": "code",
      "execution_count": 1,
      "metadata": {
        "id": "6-_NeqRT6u12"
      },
      "outputs": [],
      "source": [
        "# !pip install surprise"
      ]
    },
    {
      "cell_type": "code",
      "source": [
        "!wget https://files.grouplens.org/datasets/movielens/ml-latest.zip\n",
        "!unzip ml-latest.zip"
      ],
      "metadata": {
        "id": "uIbNazli7Ypp",
        "colab": {
          "base_uri": "https://localhost:8080/"
        },
        "outputId": "9a305d54-edfe-4d22-a088-22f3a9cc7699"
      },
      "execution_count": 2,
      "outputs": [
        {
          "output_type": "stream",
          "name": "stdout",
          "text": [
            "--2023-08-20 13:09:32--  https://files.grouplens.org/datasets/movielens/ml-latest.zip\n",
            "Resolving files.grouplens.org (files.grouplens.org)... 128.101.65.152\n",
            "Connecting to files.grouplens.org (files.grouplens.org)|128.101.65.152|:443... connected.\n",
            "HTTP request sent, awaiting response... 200 OK\n",
            "Length: 350896731 (335M) [application/zip]\n",
            "Saving to: ‘ml-latest.zip’\n",
            "\n",
            "ml-latest.zip       100%[===================>] 334.64M   108MB/s    in 3.2s    \n",
            "\n",
            "2023-08-20 13:09:36 (104 MB/s) - ‘ml-latest.zip’ saved [350896731/350896731]\n",
            "\n",
            "Archive:  ml-latest.zip\n",
            "   creating: ml-latest/\n",
            "  inflating: ml-latest/tags.csv      \n",
            "  inflating: ml-latest/links.csv     \n",
            "  inflating: ml-latest/README.txt    \n",
            "  inflating: ml-latest/ratings.csv   \n",
            "  inflating: ml-latest/genome-tags.csv  \n",
            "  inflating: ml-latest/genome-scores.csv  \n",
            "  inflating: ml-latest/movies.csv    \n"
          ]
        }
      ]
    },
    {
      "cell_type": "code",
      "source": [
        "from surprise import Dataset\n",
        "from surprise import Reader\n",
        "from surprise.model_selection import cross_validate\n",
        "import pandas as pd"
      ],
      "metadata": {
        "id": "5lkQPNto7o9e"
      },
      "execution_count": 3,
      "outputs": []
    },
    {
      "cell_type": "code",
      "source": [
        "movies = pd.read_csv('ml-latest/movies.csv')\n",
        "ratings = pd.read_csv('ml-latest/ratings.csv').sample(frac=0.24)\n",
        "movies_with_ratings = movies.join(ratings.set_index('movieId'), on='movieId').reset_index(drop=True)\n",
        "movies_with_ratings.dropna(inplace=True)"
      ],
      "metadata": {
        "id": "V-4-49IOGbfk"
      },
      "execution_count": 4,
      "outputs": []
    },
    {
      "cell_type": "code",
      "source": [
        "dataset = pd.DataFrame({\n",
        "    'uid': movies_with_ratings.userId,\n",
        "    'iid': movies_with_ratings.movieId,\n",
        "    'rating': movies_with_ratings.rating\n",
        "})\n",
        "reader = Reader(rating_scale=(ratings.rating.min(), ratings.rating.max()))\n",
        "data = Dataset.load_from_df(dataset, reader)"
      ],
      "metadata": {
        "id": "fmRhSILg9Hp1"
      },
      "execution_count": 5,
      "outputs": []
    },
    {
      "cell_type": "code",
      "source": [
        "from surprise import SVD\n",
        "\n",
        "algo = SVD(n_factors=3, n_epochs=30, random_state=42,\n",
        "           lr_bu=0.007, lr_bi=0.003, lr_pu=0.01, lr_qi=0.3,\n",
        "           reg_bu=0.1, reg_bi=0.0001, reg_pu=0.1, reg_qi=1)\n",
        "crossval = cross_validate(algo, data, measures=['RMSE'], cv=5, verbose=True, n_jobs=-1)\n",
        "crossval['test_rmse'].mean()"
      ],
      "metadata": {
        "id": "vSnNbbTzZ6hW",
        "colab": {
          "base_uri": "https://localhost:8080/"
        },
        "outputId": "e426297b-24da-46b8-a815-241872bb8883"
      },
      "execution_count": 7,
      "outputs": [
        {
          "output_type": "stream",
          "name": "stdout",
          "text": [
            "Evaluating RMSE of algorithm SVD on 5 split(s).\n",
            "\n",
            "                  Fold 1  Fold 2  Fold 3  Fold 4  Fold 5  Mean    Std     \n",
            "RMSE (testset)    0.8767  0.8757  0.8762  0.8770  0.8758  0.8763  0.0005  \n",
            "Fit time          111.76  112.67  100.24  90.95   55.60   94.25   20.91   \n",
            "Test time         54.18   42.45   33.38   39.88   22.54   38.48   10.43   \n"
          ]
        },
        {
          "output_type": "execute_result",
          "data": {
            "text/plain": [
              "0.8763044681639787"
            ]
          },
          "metadata": {},
          "execution_count": 7
        }
      ]
    },
    {
      "cell_type": "markdown",
      "source": [
        "Мне удалось лишь приблизиться к желаемому уровню метрики RMSE равному 0.87, но не достичь его. Наилучший показатель 0.876 после подбора гиперпараметров получился у SVD модели. Также, поскольку в бесплатной версии Колаба доступная память ограничена 12.7 Гб, я не смог обработать весь датасет, оставив только 24% данных таблицы ratings. Таблицу movies я оставил целиком. Хороший результат SVD в том числе обеспечен тем, что он эффективнее других алгоритмов расходует память в процессе обучения. Он смог принять в себя наибольший процент данных таблицы ratings и поэтому дал наилучшие предсказания, в то время как остальные алгоритмы обрушали сессию за недостатком памяти на меньшем объеме данных. Кроме того предсказания SVD модели оказались наиболее постоянными, стандартное отклонение у RMSE по 5 фолдам всего 0.0005."
      ],
      "metadata": {
        "id": "f2cBMTkKrEV3"
      }
    }
  ]
}
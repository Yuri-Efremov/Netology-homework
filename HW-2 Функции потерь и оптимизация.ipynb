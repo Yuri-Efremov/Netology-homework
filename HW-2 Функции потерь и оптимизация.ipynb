{
 "cells": [
  {
   "cell_type": "markdown",
   "id": "d8bbee22",
   "metadata": {},
   "source": [
    "### 1. Загрузите данные. Используйте датасет с ирисами. Его можно загрузить непосредственно из библиотеки Sklearn. В данных оставьте только 2 класса: Iris Versicolor, Iris Virginica."
   ]
  },
  {
   "cell_type": "code",
   "execution_count": 1,
   "id": "6cd326c2",
   "metadata": {},
   "outputs": [],
   "source": [
    "import pandas as pd\n",
    "import numpy as np\n",
    "from sklearn.datasets import load_iris\n",
    "import time\n",
    "import matplotlib.pyplot as plt"
   ]
  },
  {
   "cell_type": "code",
   "execution_count": 2,
   "id": "2ba4628e",
   "metadata": {},
   "outputs": [
    {
     "data": {
      "text/html": [
       "<div>\n",
       "<style scoped>\n",
       "    .dataframe tbody tr th:only-of-type {\n",
       "        vertical-align: middle;\n",
       "    }\n",
       "\n",
       "    .dataframe tbody tr th {\n",
       "        vertical-align: top;\n",
       "    }\n",
       "\n",
       "    .dataframe thead th {\n",
       "        text-align: right;\n",
       "    }\n",
       "</style>\n",
       "<table border=\"1\" class=\"dataframe\">\n",
       "  <thead>\n",
       "    <tr style=\"text-align: right;\">\n",
       "      <th></th>\n",
       "      <th>sepal length (cm)</th>\n",
       "      <th>sepal width (cm)</th>\n",
       "      <th>petal length (cm)</th>\n",
       "      <th>petal width (cm)</th>\n",
       "      <th>target</th>\n",
       "      <th>target_names</th>\n",
       "    </tr>\n",
       "  </thead>\n",
       "  <tbody>\n",
       "    <tr>\n",
       "      <th>0</th>\n",
       "      <td>7.0</td>\n",
       "      <td>3.2</td>\n",
       "      <td>4.7</td>\n",
       "      <td>1.4</td>\n",
       "      <td>0</td>\n",
       "      <td>versicolor</td>\n",
       "    </tr>\n",
       "    <tr>\n",
       "      <th>1</th>\n",
       "      <td>6.4</td>\n",
       "      <td>3.2</td>\n",
       "      <td>4.5</td>\n",
       "      <td>1.5</td>\n",
       "      <td>0</td>\n",
       "      <td>versicolor</td>\n",
       "    </tr>\n",
       "    <tr>\n",
       "      <th>2</th>\n",
       "      <td>6.9</td>\n",
       "      <td>3.1</td>\n",
       "      <td>4.9</td>\n",
       "      <td>1.5</td>\n",
       "      <td>0</td>\n",
       "      <td>versicolor</td>\n",
       "    </tr>\n",
       "    <tr>\n",
       "      <th>3</th>\n",
       "      <td>5.5</td>\n",
       "      <td>2.3</td>\n",
       "      <td>4.0</td>\n",
       "      <td>1.3</td>\n",
       "      <td>0</td>\n",
       "      <td>versicolor</td>\n",
       "    </tr>\n",
       "    <tr>\n",
       "      <th>4</th>\n",
       "      <td>6.5</td>\n",
       "      <td>2.8</td>\n",
       "      <td>4.6</td>\n",
       "      <td>1.5</td>\n",
       "      <td>0</td>\n",
       "      <td>versicolor</td>\n",
       "    </tr>\n",
       "    <tr>\n",
       "      <th>...</th>\n",
       "      <td>...</td>\n",
       "      <td>...</td>\n",
       "      <td>...</td>\n",
       "      <td>...</td>\n",
       "      <td>...</td>\n",
       "      <td>...</td>\n",
       "    </tr>\n",
       "    <tr>\n",
       "      <th>95</th>\n",
       "      <td>6.7</td>\n",
       "      <td>3.0</td>\n",
       "      <td>5.2</td>\n",
       "      <td>2.3</td>\n",
       "      <td>1</td>\n",
       "      <td>virginica</td>\n",
       "    </tr>\n",
       "    <tr>\n",
       "      <th>96</th>\n",
       "      <td>6.3</td>\n",
       "      <td>2.5</td>\n",
       "      <td>5.0</td>\n",
       "      <td>1.9</td>\n",
       "      <td>1</td>\n",
       "      <td>virginica</td>\n",
       "    </tr>\n",
       "    <tr>\n",
       "      <th>97</th>\n",
       "      <td>6.5</td>\n",
       "      <td>3.0</td>\n",
       "      <td>5.2</td>\n",
       "      <td>2.0</td>\n",
       "      <td>1</td>\n",
       "      <td>virginica</td>\n",
       "    </tr>\n",
       "    <tr>\n",
       "      <th>98</th>\n",
       "      <td>6.2</td>\n",
       "      <td>3.4</td>\n",
       "      <td>5.4</td>\n",
       "      <td>2.3</td>\n",
       "      <td>1</td>\n",
       "      <td>virginica</td>\n",
       "    </tr>\n",
       "    <tr>\n",
       "      <th>99</th>\n",
       "      <td>5.9</td>\n",
       "      <td>3.0</td>\n",
       "      <td>5.1</td>\n",
       "      <td>1.8</td>\n",
       "      <td>1</td>\n",
       "      <td>virginica</td>\n",
       "    </tr>\n",
       "  </tbody>\n",
       "</table>\n",
       "<p>100 rows × 6 columns</p>\n",
       "</div>"
      ],
      "text/plain": [
       "    sepal length (cm)  sepal width (cm)  petal length (cm)  petal width (cm)  \\\n",
       "0                 7.0               3.2                4.7               1.4   \n",
       "1                 6.4               3.2                4.5               1.5   \n",
       "2                 6.9               3.1                4.9               1.5   \n",
       "3                 5.5               2.3                4.0               1.3   \n",
       "4                 6.5               2.8                4.6               1.5   \n",
       "..                ...               ...                ...               ...   \n",
       "95                6.7               3.0                5.2               2.3   \n",
       "96                6.3               2.5                5.0               1.9   \n",
       "97                6.5               3.0                5.2               2.0   \n",
       "98                6.2               3.4                5.4               2.3   \n",
       "99                5.9               3.0                5.1               1.8   \n",
       "\n",
       "    target target_names  \n",
       "0        0   versicolor  \n",
       "1        0   versicolor  \n",
       "2        0   versicolor  \n",
       "3        0   versicolor  \n",
       "4        0   versicolor  \n",
       "..     ...          ...  \n",
       "95       1    virginica  \n",
       "96       1    virginica  \n",
       "97       1    virginica  \n",
       "98       1    virginica  \n",
       "99       1    virginica  \n",
       "\n",
       "[100 rows x 6 columns]"
      ]
     },
     "execution_count": 2,
     "metadata": {},
     "output_type": "execute_result"
    }
   ],
   "source": [
    "data = load_iris()\n",
    "\n",
    "df = pd.DataFrame(data['data'], columns=data['feature_names'])\n",
    "df['target'] = data['target']\n",
    "df = df.merge(pd.DataFrame(data['target_names'], columns=['target_names']), left_on='target', right_index=True)\n",
    "df = df[df.target != 0].reset_index(drop=True)\n",
    "df.target = df.target - 1\n",
    "df"
   ]
  },
  {
   "cell_type": "code",
   "execution_count": 3,
   "id": "e0f0cb97",
   "metadata": {},
   "outputs": [
    {
     "data": {
      "text/plain": [
       "array([0, 0, 0, 0, 0, 0, 0, 0, 0, 0, 0, 0, 0, 0, 0, 0, 0, 0, 0, 0, 0, 0,\n",
       "       0, 0, 0, 0, 0, 0, 0, 0, 0, 0, 0, 0, 0, 0, 0, 0, 0, 0, 0, 0, 0, 0,\n",
       "       0, 0, 0, 0, 0, 0, 1, 1, 1, 1, 1, 1, 1, 1, 1, 1, 1, 1, 1, 1, 1, 1,\n",
       "       1, 1, 1, 1, 1, 1, 1, 1, 1, 1, 1, 1, 1, 1, 1, 1, 1, 1, 1, 1, 1, 1,\n",
       "       1, 1, 1, 1, 1, 1, 1, 1, 1, 1, 1, 1])"
      ]
     },
     "execution_count": 3,
     "metadata": {},
     "output_type": "execute_result"
    }
   ],
   "source": [
    "features = np.array(df.iloc[:,:-2])\n",
    "targets = np.array(df.iloc[:,-2])\n",
    "targets"
   ]
  },
  {
   "cell_type": "markdown",
   "id": "8dbf6b0a",
   "metadata": {},
   "source": [
    "### 2. Самостоятельно реализуйте логистическую регрессию, без использования метода LogisticRegression из библиотеки. Можете использовать библиотеки pandas, numpy, math для реализации. Оформите в виде функции."
   ]
  },
  {
   "cell_type": "code",
   "execution_count": 4,
   "id": "43592db3",
   "metadata": {},
   "outputs": [],
   "source": [
    "def logistic_regression(features, weights):\n",
    "    probabilities = 1 / (1 + np.e**-(weights[0] + features@weights[1:]))\n",
    "    return probabilities"
   ]
  },
  {
   "cell_type": "markdown",
   "id": "348dfc93",
   "metadata": {},
   "source": [
    "### 3. Реализуйте метод градиентного спуска. Обучите логистическую регрессию этим методом. Выберете и посчитайте метрику качества. Метрика должна быть одинакова для всех пунктов домашнего задания. Для упрощения сравнения выберете только одну метрику."
   ]
  },
  {
   "cell_type": "markdown",
   "id": "28c454af",
   "metadata": {},
   "source": [
    "$$Loss = -\\sum_{i=1}^N y_i \\cdot log(\\frac{1}{1 + e^{-(w_0 + w_1{x_i}_1...)}}) + (1 - y_i)  \\cdot log(1 - \\frac{1}{1 + e^{-(w_0 + w_1{x_i}_1...)}}) $$\n",
    "\n",
    "$$\\frac{dLoss}{dw_0} = \\frac{1}{1 + e^{-(w_0 + w_1x_1...)}} - y $$\n",
    "\n",
    "\n",
    "$$\\frac{dLoss}{dw_{1...n}} = (\\frac{1}{1 + e^{-(w_0 + w_1x_1...)}} - y) \\cdot x_{1...n}$$"
   ]
  },
  {
   "cell_type": "code",
   "execution_count": 5,
   "id": "a4311e32",
   "metadata": {},
   "outputs": [],
   "source": [
    "def binary_cross_entropy(probabilities, targets):\n",
    "    total_cost = np.log(probabilities)@targets + np.log(1 - probabilities)@(1 - targets)\n",
    "    return float(-total_cost)"
   ]
  },
  {
   "cell_type": "code",
   "execution_count": 6,
   "id": "debf73df",
   "metadata": {},
   "outputs": [],
   "source": [
    "def der_w0(features, targets, weights):\n",
    "    total_cost = 1 / (1 + np.e**-(weights[0] + features@weights[1:])) - targets\n",
    "    return np.sum(total_cost) / len(targets)"
   ]
  },
  {
   "cell_type": "code",
   "execution_count": 7,
   "id": "ff511560",
   "metadata": {},
   "outputs": [],
   "source": [
    "def der_w(features, targets, weights, weight_no):\n",
    "    total_cost = (1 / (1 + np.e**-(weights[0] + features@weights[1:])) - targets) @ features.T[weight_no-1]\n",
    "    return np.sum(total_cost) / len(targets)"
   ]
  },
  {
   "cell_type": "code",
   "execution_count": 8,
   "id": "3bfde3a4",
   "metadata": {},
   "outputs": [],
   "source": [
    "np.random.seed(1)\n",
    "starting_weights = np.random.uniform(-1, 1, 5)"
   ]
  },
  {
   "cell_type": "code",
   "execution_count": 9,
   "id": "75f1eaf8",
   "metadata": {},
   "outputs": [],
   "source": [
    "EPOCHS = 100\n",
    "LEARNING_RATE = 0.1\n",
    "w0, w1, w2, w3, w4 = starting_weights\n",
    "weights = [w0, w1, w2, w3, w4]\n",
    "\n",
    "losses_gd = []\n",
    "probabilities_gd = logistic_regression(features, weights)\n",
    "losses_gd.append(binary_cross_entropy(probabilities_gd, targets))\n",
    "\n",
    "start_time = time.time()\n",
    "for i in range(EPOCHS):\n",
    "    \n",
    "    w0 -= LEARNING_RATE * der_w0(features, targets, weights)\n",
    "    w1 -= LEARNING_RATE * der_w(features, targets, weights, 1)\n",
    "    w2 -= LEARNING_RATE * der_w(features, targets, weights, 2)\n",
    "    w3 -= LEARNING_RATE * der_w(features, targets, weights, 3)\n",
    "    w4 -= LEARNING_RATE * der_w(features, targets, weights, 4)\n",
    "    \n",
    "    weights = [w0, w1, w2, w3, w4]\n",
    "    \n",
    "    probabilities_gd = logistic_regression(features, weights)\n",
    "    losses_gd.append(binary_cross_entropy(probabilities_gd, targets))\n",
    "\n",
    "time_gd = time.time() - start_time"
   ]
  },
  {
   "cell_type": "code",
   "execution_count": 10,
   "id": "e73a846a",
   "metadata": {},
   "outputs": [],
   "source": [
    "predictions_gd = [0 if i < 0.5 else 1 for i in probabilities_gd]\n",
    "accuracy_score_gd = sum(predictions_gd == targets)/len(targets)"
   ]
  },
  {
   "cell_type": "markdown",
   "id": "f2864819",
   "metadata": {},
   "source": [
    "### 4. Повторите п. 3 для метода скользящего среднего (Root Mean Square Propagation, RMSProp).\n",
    "![](https://tex.s2cms.ru/svg/%0AE%5Bg%5E2%5D_t%20%3D%20%5Cgamma%20E%5Bg%5E2%5D_%7Bt-1%7D%20%2B%20(1%20-%20%5Cgamma)%20g%5E2_t%0A)\n",
    "![](https://tex.s2cms.ru/svg/%0A%5Ctheta_%7Bt%2B1%7D%20%3D%20%5Ctheta_%7Bt%7D%20-%20%5Cfrac%7B%5Ceta%7D%7B%5Csqrt%7BE%5Bg%5E2%5D_t%20%2B%20%5Cepsilon%7D%7D%20g_%7Bt%7D%0A)"
   ]
  },
  {
   "cell_type": "code",
   "execution_count": 11,
   "id": "55dfefd7",
   "metadata": {},
   "outputs": [],
   "source": [
    "EPOCHS = 100\n",
    "LEARNING_RATE = 0.1\n",
    "w0, w1, w2, w3, w4 = starting_weights\n",
    "weights = [w0, w1, w2, w3, w4]\n",
    "\n",
    "E0, E1, E2, E3, E4 = [0]*5\n",
    "gamma = 0.9\n",
    "epsilon = 10**-6\n",
    "\n",
    "losses_rmsp = []\n",
    "probabilities_rmsp = logistic_regression(features, weights)\n",
    "losses_rmsp.append(binary_cross_entropy(probabilities_rmsp, targets))\n",
    "\n",
    "start_time = time.time()\n",
    "for i in range(EPOCHS):\n",
    "    \n",
    "    dw0 = der_w0(features, targets, weights)\n",
    "    E0 = gamma*E0 + (1 - gamma)*dw0**2\n",
    "    w0 -= LEARNING_RATE * dw0 / np.sqrt(E0 + epsilon)\n",
    "    \n",
    "    dw1 = der_w(features, targets, weights, 1)\n",
    "    E1 = gamma*E1 + (1 - gamma)*dw1**2\n",
    "    w1 -= LEARNING_RATE * dw1 / np.sqrt(E1 + epsilon)\n",
    "    \n",
    "    dw2 = der_w(features, targets, weights, 2)\n",
    "    E2 = gamma*E2 + (1 - gamma)*dw2**2\n",
    "    w2 -= LEARNING_RATE * dw2 / np.sqrt(E2 + epsilon)\n",
    "    \n",
    "    dw3 = der_w(features, targets, weights, 3)\n",
    "    E3 = gamma*E3 + (1 - gamma)*dw3**2\n",
    "    w3 -= LEARNING_RATE * dw3 / np.sqrt(E3 + epsilon)\n",
    "    \n",
    "    dw4 = der_w(features, targets, weights, 4)\n",
    "    E4 = gamma*E4 + (1 - gamma)*dw4**2\n",
    "    w4 -= LEARNING_RATE * dw4 / np.sqrt(E4 + epsilon)\n",
    "    \n",
    "    weights = [w0, w1, w2, w3, w4]\n",
    "    \n",
    "    probabilities_rmsp = logistic_regression(features, weights)\n",
    "    losses_rmsp.append(binary_cross_entropy(probabilities_rmsp, targets))\n",
    "\n",
    "time_rmsp = time.time() - start_time"
   ]
  },
  {
   "cell_type": "code",
   "execution_count": 12,
   "id": "afe0fdd0",
   "metadata": {},
   "outputs": [],
   "source": [
    "predictions_rmsp = [0 if i < 0.5 else 1 for i in probabilities_rmsp]\n",
    "accuracy_score_rmsp = sum(predictions_rmsp == targets)/len(targets)"
   ]
  },
  {
   "attachments": {
    "%D0%A1%D0%BD%D0%B8%D0%BC%D0%BE%D0%BA%20%D1%8D%D0%BA%D1%80%D0%B0%D0%BD%D0%B0%202023-05-08%20225342-2.jpg": {
     "image/jpeg": "[encoded data removed]"
    }
   },
   "cell_type": "markdown",
   "id": "ae70aebf",
   "metadata": {},
   "source": [
    "### 5. Повторите п. 3 для ускоренного по Нестерову метода адаптивной оценки моментов (Nesterov–accelerated Adaptive Moment Estimation, Nadam).\n",
    "![%D0%A1%D0%BD%D0%B8%D0%BC%D0%BE%D0%BA%20%D1%8D%D0%BA%D1%80%D0%B0%D0%BD%D0%B0%202023-05-08%20225342-2.jpg](attachment:%D0%A1%D0%BD%D0%B8%D0%BC%D0%BE%D0%BA%20%D1%8D%D0%BA%D1%80%D0%B0%D0%BD%D0%B0%202023-05-08%20225342-2.jpg)"
   ]
  },
  {
   "cell_type": "code",
   "execution_count": 13,
   "id": "ce512ae0",
   "metadata": {},
   "outputs": [],
   "source": [
    "EPOCHS = 100\n",
    "LEARNING_RATE = 0.1\n",
    "w0, w1, w2, w3, w4 = starting_weights\n",
    "weights = [w0, w1, w2, w3, w4]\n",
    "\n",
    "m0, m1, m2, m3, m4 = [0]*5\n",
    "v0, v1, v2, v3, v4 = [0]*5\n",
    "rho1 = 0.9\n",
    "rho2 = 0.999\n",
    "epsilon = 10**-8\n",
    "\n",
    "losses_nadam = []\n",
    "probabilities_nadam = logistic_regression(features, weights)\n",
    "losses_nadam.append(binary_cross_entropy(probabilities_nadam, targets))\n",
    "\n",
    "start_time = time.time()\n",
    "for i in range(EPOCHS):\n",
    "    \n",
    "    dw0 = der_w0(features, targets, weights)\n",
    "    m0 = rho1*m0 + (1 - rho1)*dw0\n",
    "    v0 = rho2*v0 + (1 - rho2)*dw0**2\n",
    "    w0 -= LEARNING_RATE * (rho1*m0 / (1 - rho1**(i+1)) + (1 - rho1)*dw0) / np.sqrt(v0 / (1 - rho2**(i+1)) + epsilon)\n",
    "    \n",
    "    dw1 = der_w(features, targets, weights, 1)\n",
    "    m1 = rho1*m1 + (1 - rho1)*dw1\n",
    "    v1 = rho2*v1 + (1 - rho2)*dw1**2\n",
    "    w1 -= LEARNING_RATE * (rho1*m1 / (1 - rho1**(i+1)) + (1 - rho1)*dw1) / np.sqrt(v1 / (1 - rho2**(i+1)) + epsilon)\n",
    "    \n",
    "    dw2 = der_w(features, targets, weights, 2)\n",
    "    m2 = rho1*m2 + (1 - rho1)*dw2\n",
    "    v2 = rho2*v2 + (1 - rho2)*dw2**2\n",
    "    w2 -= LEARNING_RATE * (rho1*m2 / (1 - rho1**(i+1)) + (1 - rho1)*dw2) / np.sqrt(v2 / (1 - rho2**(i+1)) + epsilon)\n",
    "    \n",
    "    dw3 = der_w(features, targets, weights, 3)\n",
    "    m3 = rho1*m3 + (1 - rho1)*dw3\n",
    "    v3 = rho2*v3 + (1 - rho2)*dw3**2\n",
    "    w3 -= LEARNING_RATE * (rho1*m3 / (1 - rho1**(i+1)) + (1 - rho1)*dw3) / np.sqrt(v3 / (1 - rho2**(i+1)) + epsilon)\n",
    "    \n",
    "    dw4 = der_w(features, targets, weights, 4)\n",
    "    m4 = rho1*m4 + (1 - rho1)*dw4\n",
    "    v4 = rho2*v4 + (1 - rho2)*dw4**2\n",
    "    w4 -= LEARNING_RATE * (rho1*m4 / (1 - rho1**(i+1)) + (1 - rho1)*dw4) / np.sqrt(v4 / (1 - rho2**(i+1)) + epsilon)\n",
    "    \n",
    "    weights = [w0, w1, w2, w3, w4]\n",
    "    \n",
    "    probabilities_nadam = logistic_regression(features, weights)\n",
    "    losses_nadam.append(binary_cross_entropy(probabilities_nadam, targets))\n",
    "\n",
    "time_nadam = time.time() - start_time"
   ]
  },
  {
   "cell_type": "code",
   "execution_count": 14,
   "id": "34b3a798",
   "metadata": {},
   "outputs": [],
   "source": [
    "predictions_nadam = [0 if i < 0.5 else 1 for i in probabilities_nadam]\n",
    "accuracy_score_nadam = sum(predictions_nadam == targets)/len(targets)"
   ]
  },
  {
   "cell_type": "markdown",
   "id": "9e6afcff",
   "metadata": {},
   "source": [
    "### 6. Сравните значение метрик для реализованных методов оптимизации. Можно оформить в виде таблицы вида |метод|метрика|время работы| (время работы опционально). Напишите вывод."
   ]
  },
  {
   "cell_type": "code",
   "execution_count": 15,
   "id": "e0e098e7",
   "metadata": {},
   "outputs": [
    {
     "data": {
      "text/html": [
       "<div>\n",
       "<style scoped>\n",
       "    .dataframe tbody tr th:only-of-type {\n",
       "        vertical-align: middle;\n",
       "    }\n",
       "\n",
       "    .dataframe tbody tr th {\n",
       "        vertical-align: top;\n",
       "    }\n",
       "\n",
       "    .dataframe thead th {\n",
       "        text-align: right;\n",
       "    }\n",
       "</style>\n",
       "<table border=\"1\" class=\"dataframe\">\n",
       "  <thead>\n",
       "    <tr style=\"text-align: right;\">\n",
       "      <th></th>\n",
       "      <th>Метод</th>\n",
       "      <th>Доля точных предсказаний</th>\n",
       "      <th>Потери после обучения</th>\n",
       "      <th>Время работы</th>\n",
       "    </tr>\n",
       "  </thead>\n",
       "  <tbody>\n",
       "    <tr>\n",
       "      <th>0</th>\n",
       "      <td>Gradient descent</td>\n",
       "      <td>0.93</td>\n",
       "      <td>47.911055</td>\n",
       "      <td>0.015903</td>\n",
       "    </tr>\n",
       "    <tr>\n",
       "      <th>1</th>\n",
       "      <td>Root Mean Square Propagation</td>\n",
       "      <td>0.83</td>\n",
       "      <td>41.075177</td>\n",
       "      <td>0.012258</td>\n",
       "    </tr>\n",
       "    <tr>\n",
       "      <th>2</th>\n",
       "      <td>Nesterov–accelerated Adaptive Moment Estimation</td>\n",
       "      <td>0.96</td>\n",
       "      <td>29.636760</td>\n",
       "      <td>0.012081</td>\n",
       "    </tr>\n",
       "  </tbody>\n",
       "</table>\n",
       "</div>"
      ],
      "text/plain": [
       "                                             Метод  Доля точных предсказаний  \\\n",
       "0                                 Gradient descent                      0.93   \n",
       "1                     Root Mean Square Propagation                      0.83   \n",
       "2  Nesterov–accelerated Adaptive Moment Estimation                      0.96   \n",
       "\n",
       "   Потери после обучения  Время работы  \n",
       "0              47.911055      0.015903  \n",
       "1              41.075177      0.012258  \n",
       "2              29.636760      0.012081  "
      ]
     },
     "execution_count": 15,
     "metadata": {},
     "output_type": "execute_result"
    }
   ],
   "source": [
    "pd.DataFrame({'Метод': ['Gradient descent', 'Root Mean Square Propagation', 'Nesterov–accelerated Adaptive Moment Estimation'],\n",
    "              'Доля точных предсказаний': [accuracy_score_gd, accuracy_score_rmsp, accuracy_score_nadam],\n",
    "              'Потери после обучения': [losses_gd[-1], losses_rmsp[-1], losses_nadam[-1]],\n",
    "              'Время работы': [time_gd, time_rmsp, time_nadam]})"
   ]
  },
  {
   "cell_type": "code",
   "execution_count": 16,
   "id": "94672eaa",
   "metadata": {},
   "outputs": [
    {
     "data": {
      "image/png": "[encoded data removed]",
      "text/plain": [
       "<Figure size 720x432 with 1 Axes>"
      ]
     },
     "metadata": {
      "needs_background": "light"
     },
     "output_type": "display_data"
    }
   ],
   "source": [
    "plt.figure(figsize=(10, 6))\n",
    "plt.plot(range(len(losses_gd)), losses_gd, label='Gradient descent')\n",
    "plt.plot(range(len(losses_rmsp)), losses_rmsp, label='RMSProp')\n",
    "plt.plot(range(len(losses_nadam)), losses_nadam, label='Nadam')\n",
    "plt.legend()\n",
    "plt.title('Сравнительный график схождения функции потерь')\n",
    "plt.show()"
   ]
  },
  {
   "cell_type": "markdown",
   "id": "0d94ce14",
   "metadata": {},
   "source": [
    "### Выводы\n",
    "Все три рассмотренных метода приводят к оптимизации функции потерь. Темп обучения `LEARNING_RATE = 0.1` и количество эпох `EPOCHS = 100` были выбраны одинаковыми для каждого эксперимента, чтобы произвести более наглядное сравнение.\n",
    "\n",
    "Необходимо отметить, что специфика самого набора данных и его небольшой размер влияют на то, как показывает себя каждый из методов. Поэтому полученные выводы нельзя назвать обобщенными, так как для этого требуется произвести большое количество экспериментов на более объемном наборе данных.\n",
    "\n",
    "1. В полученных мною результатах можно заметить, что функция потерь поначалу сходится быстрее всего методом обыкновенного градиентного спуска, однако затем темп ее схождения снижается относительно других методов. Это можно объяснить тем, что данный метод работает \"без оглядки\" на предыдущие шаги, в то время как RMSProp и Nadam учитывают направление предыдущего движения в алгоритме обновления параметров. Несмотря на это обычный градиентный спуск показал второй результат по точности предсказаний, опередив в этом RMSProp.\n",
    "2. Метод RMSProp справляется лучше обычного градиентного спуска с оптимизацией функции потерь уже после примерно 30 итераций. Однако в этой серии экспериментов для рассматриваемого набора данных RMSProp показал наименьшую точность предсказаний. Получается, что меньшие потери не обязательно означают большую точность. Это можно объяснить тем, что RMSProp ошибался чаще градиентного спуска, но при этом выдавал большую уверенность для своих предсказаний. То есть определенные этим методом вероятности отнесения объекта к тому, или иному классу в среднем находились дальше от серединного значения 0.5, чем вероятности, полученные с помощью оптимизации обычным градиентным спуском. С увеличением количества эпох до 1000, RMSProp догоняет по точности градиентный спуск, при этом обеспечивая меньшие потери.\n",
    "3. Схождение функции для метода Nadam на дистанции до 10 эпох выглядит несколько хаотичным, но затем быстро выравнивается и стабильно начинает показывать лучший результат по уровню потерь. На мой взгляд такое поведение можно объяснить большим количеством дополнительных параметров для этого метода. Вероятно, из-за этого алгоритму требуется чуть больше итераций, чтобы нащупать правильное направление движения. В результате, по прошествии 100 эпох именно Nadam обеспечил минимальный уровень потерь и наибольший процент точных предсказаний."
   ]
  }
 ],
 "metadata": {
  "kernelspec": {
   "display_name": "Python 3 (ipykernel)",
   "language": "python",
   "name": "python3"
  },
  "language_info": {
   "codemirror_mode": {
    "name": "ipython",
    "version": 3
   },
   "file_extension": ".py",
   "mimetype": "text/x-python",
   "name": "python",
   "nbconvert_exporter": "python",
   "pygments_lexer": "ipython3",
   "version": "3.9.12"
  }
 },
 "nbformat": 4,
 "nbformat_minor": 5
}

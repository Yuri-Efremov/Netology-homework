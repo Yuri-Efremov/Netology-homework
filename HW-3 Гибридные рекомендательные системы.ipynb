{
  "nbformat": 4,
  "nbformat_minor": 0,
  "metadata": {
    "colab": {
      "provenance": []
    },
    "kernelspec": {
      "name": "python3",
      "display_name": "Python 3"
    },
    "language_info": {
      "name": "python"
    }
  },
  "cells": [
    {
      "cell_type": "code",
      "execution_count": 1,
      "metadata": {
        "id": "IJTYeuBNC-fR",
        "colab": {
          "base_uri": "https://localhost:8080/"
        },
        "outputId": "3854c8ba-aa05-43d4-bcb4-566abcf2259f"
      },
      "outputs": [
        {
          "output_type": "stream",
          "name": "stdout",
          "text": [
            "Collecting surprise\n",
            "  Downloading surprise-0.1-py2.py3-none-any.whl (1.8 kB)\n",
            "Collecting scikit-surprise (from surprise)\n",
            "  Downloading scikit-surprise-1.1.3.tar.gz (771 kB)\n",
            "\u001b[2K     \u001b[90m━━━━━━━━━━━━━━━━━━━━━━━━━━━━━━━━━━━━━━━\u001b[0m \u001b[32m772.0/772.0 kB\u001b[0m \u001b[31m6.5 MB/s\u001b[0m eta \u001b[36m0:00:00\u001b[0m\n",
            "\u001b[?25h  Preparing metadata (setup.py) ... \u001b[?25l\u001b[?25hdone\n",
            "Requirement already satisfied: joblib>=1.0.0 in /usr/local/lib/python3.10/dist-packages (from scikit-surprise->surprise) (1.3.2)\n",
            "Requirement already satisfied: numpy>=1.17.3 in /usr/local/lib/python3.10/dist-packages (from scikit-surprise->surprise) (1.23.5)\n",
            "Requirement already satisfied: scipy>=1.3.2 in /usr/local/lib/python3.10/dist-packages (from scikit-surprise->surprise) (1.10.1)\n",
            "Building wheels for collected packages: scikit-surprise\n",
            "  Building wheel for scikit-surprise (setup.py) ... \u001b[?25l\u001b[?25hdone\n",
            "  Created wheel for scikit-surprise: filename=scikit_surprise-1.1.3-cp310-cp310-linux_x86_64.whl size=2811596 sha256=b6107c038bea5ecda807b3995add4044501cc7813e388b08ae142ef8a4164ae8\n",
            "  Stored in directory: /root/.cache/pip/wheels/a5/ca/a8/4e28def53797fdc4363ca4af740db15a9c2f1595ebc51fb445\n",
            "Successfully built scikit-surprise\n",
            "Installing collected packages: scikit-surprise, surprise\n",
            "Successfully installed scikit-surprise-1.1.3 surprise-0.1\n"
          ]
        }
      ],
      "source": [
        "!pip install surprise"
      ]
    },
    {
      "cell_type": "code",
      "source": [
        "!wget https://files.grouplens.org/datasets/movielens/ml-latest.zip\n",
        "!unzip ml-latest.zip"
      ],
      "metadata": {
        "colab": {
          "base_uri": "https://localhost:8080/"
        },
        "id": "KLNbkBEoEnSo",
        "outputId": "ec24468a-b44a-426f-dace-59798926e3bd"
      },
      "execution_count": 2,
      "outputs": [
        {
          "output_type": "stream",
          "name": "stdout",
          "text": [
            "--2023-08-29 09:50:22--  https://files.grouplens.org/datasets/movielens/ml-latest.zip\n",
            "Resolving files.grouplens.org (files.grouplens.org)... 128.101.65.152\n",
            "Connecting to files.grouplens.org (files.grouplens.org)|128.101.65.152|:443... connected.\n",
            "HTTP request sent, awaiting response... 200 OK\n",
            "Length: 350896731 (335M) [application/zip]\n",
            "Saving to: ‘ml-latest.zip’\n",
            "\n",
            "ml-latest.zip       100%[===================>] 334.64M   132MB/s    in 2.5s    \n",
            "\n",
            "2023-08-29 09:50:25 (132 MB/s) - ‘ml-latest.zip’ saved [350896731/350896731]\n",
            "\n",
            "Archive:  ml-latest.zip\n",
            "   creating: ml-latest/\n",
            "  inflating: ml-latest/tags.csv      \n",
            "  inflating: ml-latest/links.csv     \n",
            "  inflating: ml-latest/README.txt    \n",
            "  inflating: ml-latest/ratings.csv   \n",
            "  inflating: ml-latest/genome-tags.csv  \n",
            "  inflating: ml-latest/genome-scores.csv  \n",
            "  inflating: ml-latest/movies.csv    \n"
          ]
        }
      ]
    },
    {
      "cell_type": "code",
      "source": [
        "from surprise import Dataset, Reader\n",
        "from surprise.model_selection import train_test_split\n",
        "import pandas as pd\n",
        "import numpy as np"
      ],
      "metadata": {
        "id": "s8aOyoweEpzv"
      },
      "execution_count": 3,
      "outputs": []
    },
    {
      "cell_type": "markdown",
      "source": [
        "**Для экономии памяти в процессе обучения моделей я возьму не полный датасет с рейтингами, а 50% от него.**"
      ],
      "metadata": {
        "id": "yBL_QA5ASb21"
      }
    },
    {
      "cell_type": "code",
      "source": [
        "movies = pd.read_csv('ml-latest/movies.csv')\n",
        "ratings = pd.read_csv('ml-latest/ratings.csv').sample(frac=0.50)\n",
        "movies_with_ratings = movies.join(ratings.set_index('movieId'), on='movieId').reset_index(drop=True)\n",
        "movies_with_ratings.dropna(inplace=True)"
      ],
      "metadata": {
        "id": "qb7_d6ZEFGIN"
      },
      "execution_count": 4,
      "outputs": []
    },
    {
      "cell_type": "code",
      "source": [
        "dataset = pd.DataFrame({\n",
        "    'uid': movies_with_ratings.userId,\n",
        "    'iid': movies_with_ratings.movieId,\n",
        "    'rating': movies_with_ratings.rating\n",
        "})\n",
        "reader = Reader(rating_scale=(ratings.rating.min(), ratings.rating.max()))\n",
        "data = Dataset.load_from_df(dataset, reader)\n",
        "trainset, testset = train_test_split(data, test_size=0.2, random_state=42)"
      ],
      "metadata": {
        "id": "mWPuNrzLFKDa"
      },
      "execution_count": 6,
      "outputs": []
    },
    {
      "cell_type": "markdown",
      "source": [
        "**Для построения гибридной модели я обучу пять различных алгоритмов, и в качестве конечного значения буду брать среднее от их предсказаний**"
      ],
      "metadata": {
        "id": "-Y9YTFJ_S2b5"
      }
    },
    {
      "cell_type": "code",
      "source": [
        "from surprise import SVD, BaselineOnly, NMF, SVDpp, CoClustering\n",
        "\n",
        "algos = [SVD, BaselineOnly, NMF, SVDpp, CoClustering]\n",
        "preds = np.zeros((len(algos), len(testset)))\n",
        "\n",
        "for i, algo in enumerate(algos):\n",
        "    algo = algo()\n",
        "    algo.fit(trainset)\n",
        "    preds[i] = [x.est for x in algo.test(testset)]"
      ],
      "metadata": {
        "id": "eMBRVIfo-_Zt"
      },
      "execution_count": null,
      "outputs": []
    },
    {
      "cell_type": "markdown",
      "source": [
        "**Для определения комбинации моделей, дающей наилучшее усредненное предсказание я посчитаю метрику RMSE для каждой возможной такой комбинации, включая одиночные алгоритмы. Комбинация с самым низким значением RMSE будет оптимальным гибридом выбранных алгоритмов в базовом виде.**"
      ],
      "metadata": {
        "id": "bkUREUbLEXvi"
      }
    },
    {
      "cell_type": "code",
      "source": [
        "from itertools import combinations\n",
        "from sklearn.metrics import mean_squared_error\n",
        "\n",
        "y_test = [x[2] for x in testset]\n",
        "\n",
        "min_rmse = np.inf\n",
        "best_combo = None\n",
        "\n",
        "for i in range(1, len(algos)+1):\n",
        "    for combo in combinations(preds, i):\n",
        "        rmse = mean_squared_error(y_test, np.mean(combo, axis=0), squared=False)\n",
        "        if rmse < min_rmse:\n",
        "            min_rmse = rmse\n",
        "            best_combo = combo\n",
        "\n",
        "best_hybrid = [algos[np.where(np.all(x == preds, axis=1))[0][0]].__name__ for x in best_combo]\n",
        "\n",
        "print('Best combination:', best_hybrid)\n",
        "print('Best RMSE score:', min_rmse)"
      ],
      "metadata": {
        "id": "tjB8gSHYBnvD",
        "colab": {
          "base_uri": "https://localhost:8080/"
        },
        "outputId": "ead3cf8e-2260-4fea-c8d5-3ff9ed0127d7"
      },
      "execution_count": 8,
      "outputs": [
        {
          "output_type": "stream",
          "name": "stdout",
          "text": [
            "Best combination: ['SVD', 'BaselineOnly', 'SVDpp']\n",
            "Best RMSE score: 0.811704197140381\n"
          ]
        }
      ]
    }
  ]
}
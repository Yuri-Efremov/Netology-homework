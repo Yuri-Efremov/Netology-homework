{
 "cells": [
  {
   "cell_type": "code",
   "execution_count": 1,
   "id": "f20b83fb",
   "metadata": {},
   "outputs": [],
   "source": [
    "import pandas as pd\n",
    "import numpy as np\n",
    "import matplotlib.pyplot as plt"
   ]
  },
  {
   "cell_type": "markdown",
   "id": "9ba905c3",
   "metadata": {},
   "source": [
    "### 1. Преобразуйте данные:\n",
    "- a. проверьте наличие пропущенных значений. Преобразуйте/удалите пропуски по необходимости;\n",
    "- b. закодируйте категориальные переменные числовыми значениями по необходимости."
   ]
  },
  {
   "cell_type": "code",
   "execution_count": 2,
   "id": "6830fcf2",
   "metadata": {},
   "outputs": [
    {
     "data": {
      "text/html": [
       "<div>\n",
       "<style scoped>\n",
       "    .dataframe tbody tr th:only-of-type {\n",
       "        vertical-align: middle;\n",
       "    }\n",
       "\n",
       "    .dataframe tbody tr th {\n",
       "        vertical-align: top;\n",
       "    }\n",
       "\n",
       "    .dataframe thead th {\n",
       "        text-align: right;\n",
       "    }\n",
       "</style>\n",
       "<table border=\"1\" class=\"dataframe\">\n",
       "  <thead>\n",
       "    <tr style=\"text-align: right;\">\n",
       "      <th></th>\n",
       "      <th>id</th>\n",
       "      <th>name</th>\n",
       "      <th>nationality</th>\n",
       "      <th>sex</th>\n",
       "      <th>dob</th>\n",
       "      <th>height</th>\n",
       "      <th>weight</th>\n",
       "      <th>sport</th>\n",
       "      <th>gold</th>\n",
       "      <th>silver</th>\n",
       "      <th>bronze</th>\n",
       "    </tr>\n",
       "  </thead>\n",
       "  <tbody>\n",
       "    <tr>\n",
       "      <th>0</th>\n",
       "      <td>736041664</td>\n",
       "      <td>A Jesus Garcia</td>\n",
       "      <td>ESP</td>\n",
       "      <td>male</td>\n",
       "      <td>10/17/69</td>\n",
       "      <td>1.72</td>\n",
       "      <td>64.0</td>\n",
       "      <td>athletics</td>\n",
       "      <td>0</td>\n",
       "      <td>0</td>\n",
       "      <td>0</td>\n",
       "    </tr>\n",
       "    <tr>\n",
       "      <th>1</th>\n",
       "      <td>532037425</td>\n",
       "      <td>A Lam Shin</td>\n",
       "      <td>KOR</td>\n",
       "      <td>female</td>\n",
       "      <td>9/23/86</td>\n",
       "      <td>1.68</td>\n",
       "      <td>56.0</td>\n",
       "      <td>fencing</td>\n",
       "      <td>0</td>\n",
       "      <td>0</td>\n",
       "      <td>0</td>\n",
       "    </tr>\n",
       "    <tr>\n",
       "      <th>2</th>\n",
       "      <td>435962603</td>\n",
       "      <td>Aaron Brown</td>\n",
       "      <td>CAN</td>\n",
       "      <td>male</td>\n",
       "      <td>5/27/92</td>\n",
       "      <td>1.98</td>\n",
       "      <td>79.0</td>\n",
       "      <td>athletics</td>\n",
       "      <td>0</td>\n",
       "      <td>0</td>\n",
       "      <td>1</td>\n",
       "    </tr>\n",
       "    <tr>\n",
       "      <th>3</th>\n",
       "      <td>521041435</td>\n",
       "      <td>Aaron Cook</td>\n",
       "      <td>MDA</td>\n",
       "      <td>male</td>\n",
       "      <td>1/2/91</td>\n",
       "      <td>1.83</td>\n",
       "      <td>80.0</td>\n",
       "      <td>taekwondo</td>\n",
       "      <td>0</td>\n",
       "      <td>0</td>\n",
       "      <td>0</td>\n",
       "    </tr>\n",
       "    <tr>\n",
       "      <th>4</th>\n",
       "      <td>33922579</td>\n",
       "      <td>Aaron Gate</td>\n",
       "      <td>NZL</td>\n",
       "      <td>male</td>\n",
       "      <td>11/26/90</td>\n",
       "      <td>1.81</td>\n",
       "      <td>71.0</td>\n",
       "      <td>cycling</td>\n",
       "      <td>0</td>\n",
       "      <td>0</td>\n",
       "      <td>0</td>\n",
       "    </tr>\n",
       "  </tbody>\n",
       "</table>\n",
       "</div>"
      ],
      "text/plain": [
       "          id            name nationality     sex       dob  height  weight  \\\n",
       "0  736041664  A Jesus Garcia         ESP    male  10/17/69    1.72    64.0   \n",
       "1  532037425      A Lam Shin         KOR  female   9/23/86    1.68    56.0   \n",
       "2  435962603     Aaron Brown         CAN    male   5/27/92    1.98    79.0   \n",
       "3  521041435      Aaron Cook         MDA    male    1/2/91    1.83    80.0   \n",
       "4   33922579      Aaron Gate         NZL    male  11/26/90    1.81    71.0   \n",
       "\n",
       "       sport  gold  silver  bronze  \n",
       "0  athletics     0       0       0  \n",
       "1    fencing     0       0       0  \n",
       "2  athletics     0       0       1  \n",
       "3  taekwondo     0       0       0  \n",
       "4    cycling     0       0       0  "
      ]
     },
     "execution_count": 2,
     "metadata": {},
     "output_type": "execute_result"
    }
   ],
   "source": [
    "df = pd.read_csv('athletes.csv')\n",
    "df.head()"
   ]
  },
  {
   "cell_type": "code",
   "execution_count": 3,
   "id": "c490920f",
   "metadata": {},
   "outputs": [
    {
     "name": "stdout",
     "output_type": "stream",
     "text": [
      "<class 'pandas.core.frame.DataFrame'>\n",
      "RangeIndex: 11538 entries, 0 to 11537\n",
      "Data columns (total 11 columns):\n",
      " #   Column       Non-Null Count  Dtype  \n",
      "---  ------       --------------  -----  \n",
      " 0   id           11538 non-null  int64  \n",
      " 1   name         11538 non-null  object \n",
      " 2   nationality  11538 non-null  object \n",
      " 3   sex          11538 non-null  object \n",
      " 4   dob          11537 non-null  object \n",
      " 5   height       11208 non-null  float64\n",
      " 6   weight       10879 non-null  float64\n",
      " 7   sport        11538 non-null  object \n",
      " 8   gold         11538 non-null  int64  \n",
      " 9   silver       11538 non-null  int64  \n",
      " 10  bronze       11538 non-null  int64  \n",
      "dtypes: float64(2), int64(4), object(5)\n",
      "memory usage: 991.7+ KB\n"
     ]
    }
   ],
   "source": [
    "df.info()"
   ]
  },
  {
   "cell_type": "code",
   "execution_count": 4,
   "id": "f2fa6b8e",
   "metadata": {},
   "outputs": [
    {
     "data": {
      "text/html": [
       "<div>\n",
       "<style scoped>\n",
       "    .dataframe tbody tr th:only-of-type {\n",
       "        vertical-align: middle;\n",
       "    }\n",
       "\n",
       "    .dataframe tbody tr th {\n",
       "        vertical-align: top;\n",
       "    }\n",
       "\n",
       "    .dataframe thead th {\n",
       "        text-align: right;\n",
       "    }\n",
       "</style>\n",
       "<table border=\"1\" class=\"dataframe\">\n",
       "  <thead>\n",
       "    <tr style=\"text-align: right;\">\n",
       "      <th></th>\n",
       "      <th>sex</th>\n",
       "      <th>height</th>\n",
       "      <th>weight</th>\n",
       "      <th>gold</th>\n",
       "      <th>silver</th>\n",
       "      <th>bronze</th>\n",
       "      <th>sport_aquatics</th>\n",
       "      <th>sport_archery</th>\n",
       "      <th>sport_athletics</th>\n",
       "      <th>sport_badminton</th>\n",
       "      <th>...</th>\n",
       "      <th>sport_rugby sevens</th>\n",
       "      <th>sport_sailing</th>\n",
       "      <th>sport_shooting</th>\n",
       "      <th>sport_table tennis</th>\n",
       "      <th>sport_taekwondo</th>\n",
       "      <th>sport_tennis</th>\n",
       "      <th>sport_triathlon</th>\n",
       "      <th>sport_volleyball</th>\n",
       "      <th>sport_weightlifting</th>\n",
       "      <th>sport_wrestling</th>\n",
       "    </tr>\n",
       "  </thead>\n",
       "  <tbody>\n",
       "    <tr>\n",
       "      <th>0</th>\n",
       "      <td>male</td>\n",
       "      <td>1.72</td>\n",
       "      <td>64.0</td>\n",
       "      <td>0</td>\n",
       "      <td>0</td>\n",
       "      <td>0</td>\n",
       "      <td>0</td>\n",
       "      <td>0</td>\n",
       "      <td>1</td>\n",
       "      <td>0</td>\n",
       "      <td>...</td>\n",
       "      <td>0</td>\n",
       "      <td>0</td>\n",
       "      <td>0</td>\n",
       "      <td>0</td>\n",
       "      <td>0</td>\n",
       "      <td>0</td>\n",
       "      <td>0</td>\n",
       "      <td>0</td>\n",
       "      <td>0</td>\n",
       "      <td>0</td>\n",
       "    </tr>\n",
       "    <tr>\n",
       "      <th>1</th>\n",
       "      <td>female</td>\n",
       "      <td>1.68</td>\n",
       "      <td>56.0</td>\n",
       "      <td>0</td>\n",
       "      <td>0</td>\n",
       "      <td>0</td>\n",
       "      <td>0</td>\n",
       "      <td>0</td>\n",
       "      <td>0</td>\n",
       "      <td>0</td>\n",
       "      <td>...</td>\n",
       "      <td>0</td>\n",
       "      <td>0</td>\n",
       "      <td>0</td>\n",
       "      <td>0</td>\n",
       "      <td>0</td>\n",
       "      <td>0</td>\n",
       "      <td>0</td>\n",
       "      <td>0</td>\n",
       "      <td>0</td>\n",
       "      <td>0</td>\n",
       "    </tr>\n",
       "    <tr>\n",
       "      <th>2</th>\n",
       "      <td>male</td>\n",
       "      <td>1.98</td>\n",
       "      <td>79.0</td>\n",
       "      <td>0</td>\n",
       "      <td>0</td>\n",
       "      <td>1</td>\n",
       "      <td>0</td>\n",
       "      <td>0</td>\n",
       "      <td>1</td>\n",
       "      <td>0</td>\n",
       "      <td>...</td>\n",
       "      <td>0</td>\n",
       "      <td>0</td>\n",
       "      <td>0</td>\n",
       "      <td>0</td>\n",
       "      <td>0</td>\n",
       "      <td>0</td>\n",
       "      <td>0</td>\n",
       "      <td>0</td>\n",
       "      <td>0</td>\n",
       "      <td>0</td>\n",
       "    </tr>\n",
       "    <tr>\n",
       "      <th>3</th>\n",
       "      <td>male</td>\n",
       "      <td>1.83</td>\n",
       "      <td>80.0</td>\n",
       "      <td>0</td>\n",
       "      <td>0</td>\n",
       "      <td>0</td>\n",
       "      <td>0</td>\n",
       "      <td>0</td>\n",
       "      <td>0</td>\n",
       "      <td>0</td>\n",
       "      <td>...</td>\n",
       "      <td>0</td>\n",
       "      <td>0</td>\n",
       "      <td>0</td>\n",
       "      <td>0</td>\n",
       "      <td>1</td>\n",
       "      <td>0</td>\n",
       "      <td>0</td>\n",
       "      <td>0</td>\n",
       "      <td>0</td>\n",
       "      <td>0</td>\n",
       "    </tr>\n",
       "    <tr>\n",
       "      <th>4</th>\n",
       "      <td>male</td>\n",
       "      <td>1.81</td>\n",
       "      <td>71.0</td>\n",
       "      <td>0</td>\n",
       "      <td>0</td>\n",
       "      <td>0</td>\n",
       "      <td>0</td>\n",
       "      <td>0</td>\n",
       "      <td>0</td>\n",
       "      <td>0</td>\n",
       "      <td>...</td>\n",
       "      <td>0</td>\n",
       "      <td>0</td>\n",
       "      <td>0</td>\n",
       "      <td>0</td>\n",
       "      <td>0</td>\n",
       "      <td>0</td>\n",
       "      <td>0</td>\n",
       "      <td>0</td>\n",
       "      <td>0</td>\n",
       "      <td>0</td>\n",
       "    </tr>\n",
       "  </tbody>\n",
       "</table>\n",
       "<p>5 rows × 33 columns</p>\n",
       "</div>"
      ],
      "text/plain": [
       "      sex  height  weight  gold  silver  bronze  sport_aquatics  \\\n",
       "0    male    1.72    64.0     0       0       0               0   \n",
       "1  female    1.68    56.0     0       0       0               0   \n",
       "2    male    1.98    79.0     0       0       1               0   \n",
       "3    male    1.83    80.0     0       0       0               0   \n",
       "4    male    1.81    71.0     0       0       0               0   \n",
       "\n",
       "   sport_archery  sport_athletics  sport_badminton  ...  sport_rugby sevens  \\\n",
       "0              0                1                0  ...                   0   \n",
       "1              0                0                0  ...                   0   \n",
       "2              0                1                0  ...                   0   \n",
       "3              0                0                0  ...                   0   \n",
       "4              0                0                0  ...                   0   \n",
       "\n",
       "   sport_sailing  sport_shooting  sport_table tennis  sport_taekwondo  \\\n",
       "0              0               0                   0                0   \n",
       "1              0               0                   0                0   \n",
       "2              0               0                   0                0   \n",
       "3              0               0                   0                1   \n",
       "4              0               0                   0                0   \n",
       "\n",
       "   sport_tennis  sport_triathlon  sport_volleyball  sport_weightlifting  \\\n",
       "0             0                0                 0                    0   \n",
       "1             0                0                 0                    0   \n",
       "2             0                0                 0                    0   \n",
       "3             0                0                 0                    0   \n",
       "4             0                0                 0                    0   \n",
       "\n",
       "   sport_wrestling  \n",
       "0                0  \n",
       "1                0  \n",
       "2                0  \n",
       "3                0  \n",
       "4                0  \n",
       "\n",
       "[5 rows x 33 columns]"
      ]
     },
     "execution_count": 4,
     "metadata": {},
     "output_type": "execute_result"
    }
   ],
   "source": [
    "df = df.dropna().drop(['id', 'name', 'dob', 'nationality'], axis=1)\n",
    "df = pd.get_dummies(df, columns=['sport'])\n",
    "df.head()"
   ]
  },
  {
   "cell_type": "markdown",
   "id": "da07190c",
   "metadata": {},
   "source": [
    "### 2. Разделите выборку на обучающее (80% данных) и тестовое (20% данных) подмножества"
   ]
  },
  {
   "cell_type": "code",
   "execution_count": 5,
   "id": "cd1c86a3",
   "metadata": {},
   "outputs": [
    {
     "data": {
      "text/html": [
       "<div>\n",
       "<style scoped>\n",
       "    .dataframe tbody tr th:only-of-type {\n",
       "        vertical-align: middle;\n",
       "    }\n",
       "\n",
       "    .dataframe tbody tr th {\n",
       "        vertical-align: top;\n",
       "    }\n",
       "\n",
       "    .dataframe thead th {\n",
       "        text-align: right;\n",
       "    }\n",
       "</style>\n",
       "<table border=\"1\" class=\"dataframe\">\n",
       "  <thead>\n",
       "    <tr style=\"text-align: right;\">\n",
       "      <th></th>\n",
       "      <th>height</th>\n",
       "      <th>weight</th>\n",
       "      <th>gold</th>\n",
       "      <th>silver</th>\n",
       "      <th>bronze</th>\n",
       "      <th>sport_aquatics</th>\n",
       "      <th>sport_archery</th>\n",
       "      <th>sport_athletics</th>\n",
       "      <th>sport_badminton</th>\n",
       "      <th>sport_basketball</th>\n",
       "      <th>...</th>\n",
       "      <th>sport_rugby sevens</th>\n",
       "      <th>sport_sailing</th>\n",
       "      <th>sport_shooting</th>\n",
       "      <th>sport_table tennis</th>\n",
       "      <th>sport_taekwondo</th>\n",
       "      <th>sport_tennis</th>\n",
       "      <th>sport_triathlon</th>\n",
       "      <th>sport_volleyball</th>\n",
       "      <th>sport_weightlifting</th>\n",
       "      <th>sport_wrestling</th>\n",
       "    </tr>\n",
       "  </thead>\n",
       "  <tbody>\n",
       "    <tr>\n",
       "      <th>0</th>\n",
       "      <td>1.72</td>\n",
       "      <td>64.0</td>\n",
       "      <td>0</td>\n",
       "      <td>0</td>\n",
       "      <td>0</td>\n",
       "      <td>0</td>\n",
       "      <td>0</td>\n",
       "      <td>1</td>\n",
       "      <td>0</td>\n",
       "      <td>0</td>\n",
       "      <td>...</td>\n",
       "      <td>0</td>\n",
       "      <td>0</td>\n",
       "      <td>0</td>\n",
       "      <td>0</td>\n",
       "      <td>0</td>\n",
       "      <td>0</td>\n",
       "      <td>0</td>\n",
       "      <td>0</td>\n",
       "      <td>0</td>\n",
       "      <td>0</td>\n",
       "    </tr>\n",
       "    <tr>\n",
       "      <th>1</th>\n",
       "      <td>1.68</td>\n",
       "      <td>56.0</td>\n",
       "      <td>0</td>\n",
       "      <td>0</td>\n",
       "      <td>0</td>\n",
       "      <td>0</td>\n",
       "      <td>0</td>\n",
       "      <td>0</td>\n",
       "      <td>0</td>\n",
       "      <td>0</td>\n",
       "      <td>...</td>\n",
       "      <td>0</td>\n",
       "      <td>0</td>\n",
       "      <td>0</td>\n",
       "      <td>0</td>\n",
       "      <td>0</td>\n",
       "      <td>0</td>\n",
       "      <td>0</td>\n",
       "      <td>0</td>\n",
       "      <td>0</td>\n",
       "      <td>0</td>\n",
       "    </tr>\n",
       "    <tr>\n",
       "      <th>2</th>\n",
       "      <td>1.98</td>\n",
       "      <td>79.0</td>\n",
       "      <td>0</td>\n",
       "      <td>0</td>\n",
       "      <td>1</td>\n",
       "      <td>0</td>\n",
       "      <td>0</td>\n",
       "      <td>1</td>\n",
       "      <td>0</td>\n",
       "      <td>0</td>\n",
       "      <td>...</td>\n",
       "      <td>0</td>\n",
       "      <td>0</td>\n",
       "      <td>0</td>\n",
       "      <td>0</td>\n",
       "      <td>0</td>\n",
       "      <td>0</td>\n",
       "      <td>0</td>\n",
       "      <td>0</td>\n",
       "      <td>0</td>\n",
       "      <td>0</td>\n",
       "    </tr>\n",
       "    <tr>\n",
       "      <th>3</th>\n",
       "      <td>1.83</td>\n",
       "      <td>80.0</td>\n",
       "      <td>0</td>\n",
       "      <td>0</td>\n",
       "      <td>0</td>\n",
       "      <td>0</td>\n",
       "      <td>0</td>\n",
       "      <td>0</td>\n",
       "      <td>0</td>\n",
       "      <td>0</td>\n",
       "      <td>...</td>\n",
       "      <td>0</td>\n",
       "      <td>0</td>\n",
       "      <td>0</td>\n",
       "      <td>0</td>\n",
       "      <td>1</td>\n",
       "      <td>0</td>\n",
       "      <td>0</td>\n",
       "      <td>0</td>\n",
       "      <td>0</td>\n",
       "      <td>0</td>\n",
       "    </tr>\n",
       "    <tr>\n",
       "      <th>4</th>\n",
       "      <td>1.81</td>\n",
       "      <td>71.0</td>\n",
       "      <td>0</td>\n",
       "      <td>0</td>\n",
       "      <td>0</td>\n",
       "      <td>0</td>\n",
       "      <td>0</td>\n",
       "      <td>0</td>\n",
       "      <td>0</td>\n",
       "      <td>0</td>\n",
       "      <td>...</td>\n",
       "      <td>0</td>\n",
       "      <td>0</td>\n",
       "      <td>0</td>\n",
       "      <td>0</td>\n",
       "      <td>0</td>\n",
       "      <td>0</td>\n",
       "      <td>0</td>\n",
       "      <td>0</td>\n",
       "      <td>0</td>\n",
       "      <td>0</td>\n",
       "    </tr>\n",
       "  </tbody>\n",
       "</table>\n",
       "<p>5 rows × 32 columns</p>\n",
       "</div>"
      ],
      "text/plain": [
       "   height  weight  gold  silver  bronze  sport_aquatics  sport_archery  \\\n",
       "0    1.72    64.0     0       0       0               0              0   \n",
       "1    1.68    56.0     0       0       0               0              0   \n",
       "2    1.98    79.0     0       0       1               0              0   \n",
       "3    1.83    80.0     0       0       0               0              0   \n",
       "4    1.81    71.0     0       0       0               0              0   \n",
       "\n",
       "   sport_athletics  sport_badminton  sport_basketball  ...  \\\n",
       "0                1                0                 0  ...   \n",
       "1                0                0                 0  ...   \n",
       "2                1                0                 0  ...   \n",
       "3                0                0                 0  ...   \n",
       "4                0                0                 0  ...   \n",
       "\n",
       "   sport_rugby sevens  sport_sailing  sport_shooting  sport_table tennis  \\\n",
       "0                   0              0               0                   0   \n",
       "1                   0              0               0                   0   \n",
       "2                   0              0               0                   0   \n",
       "3                   0              0               0                   0   \n",
       "4                   0              0               0                   0   \n",
       "\n",
       "   sport_taekwondo  sport_tennis  sport_triathlon  sport_volleyball  \\\n",
       "0                0             0                0                 0   \n",
       "1                0             0                0                 0   \n",
       "2                0             0                0                 0   \n",
       "3                1             0                0                 0   \n",
       "4                0             0                0                 0   \n",
       "\n",
       "   sport_weightlifting  sport_wrestling  \n",
       "0                    0                0  \n",
       "1                    0                0  \n",
       "2                    0                0  \n",
       "3                    0                0  \n",
       "4                    0                0  \n",
       "\n",
       "[5 rows x 32 columns]"
      ]
     },
     "execution_count": 5,
     "metadata": {},
     "output_type": "execute_result"
    }
   ],
   "source": [
    "X = df.iloc[:,1:]\n",
    "X.head()"
   ]
  },
  {
   "cell_type": "code",
   "execution_count": 6,
   "id": "33845bfb",
   "metadata": {},
   "outputs": [
    {
     "data": {
      "text/plain": [
       "array([0, 1, 0, ..., 0, 0, 0])"
      ]
     },
     "execution_count": 6,
     "metadata": {},
     "output_type": "execute_result"
    }
   ],
   "source": [
    "y = np.where(df.sex == 'female', 1, 0)\n",
    "y"
   ]
  },
  {
   "cell_type": "code",
   "execution_count": 7,
   "id": "6d1a2668",
   "metadata": {},
   "outputs": [],
   "source": [
    "from sklearn.linear_model import LogisticRegression\n",
    "from sklearn.preprocessing import StandardScaler\n",
    "from sklearn.pipeline import make_pipeline\n",
    "from sklearn.model_selection import train_test_split"
   ]
  },
  {
   "cell_type": "code",
   "execution_count": 8,
   "id": "bb6e26ca",
   "metadata": {},
   "outputs": [],
   "source": [
    "X_train, X_test, y_train, y_test = train_test_split(X, y, test_size=0.2, random_state=42, stratify=y)"
   ]
  },
  {
   "cell_type": "code",
   "execution_count": 9,
   "id": "7789a2ea",
   "metadata": {},
   "outputs": [],
   "source": [
    "model = make_pipeline(StandardScaler(), LogisticRegression())\n",
    "model.fit(X_train, y_train)\n",
    "predictions = model.predict_proba(X_test)"
   ]
  },
  {
   "cell_type": "markdown",
   "id": "99e6fb5a",
   "metadata": {},
   "source": [
    "### 3. Постройте ROC-кривую с помощью функции sklearn.metrics.roc_curve"
   ]
  },
  {
   "cell_type": "code",
   "execution_count": 10,
   "id": "3bc84214",
   "metadata": {},
   "outputs": [],
   "source": [
    "from sklearn.metrics import roc_curve"
   ]
  },
  {
   "cell_type": "code",
   "execution_count": 11,
   "id": "ec46171a",
   "metadata": {},
   "outputs": [
    {
     "data": {
      "image/png": "[encoded data removed]",
      "text/plain": [
       "<Figure size 720x432 with 1 Axes>"
      ]
     },
     "metadata": {
      "needs_background": "light"
     },
     "output_type": "display_data"
    }
   ],
   "source": [
    "fpr_skl, tpr_skl, thres_skl = roc_curve(y_test, predictions[:,1])\n",
    "\n",
    "plt.figure(figsize=(10,6))\n",
    "\n",
    "plt.plot(fpr_skl, tpr_skl, label='Scikit-learn')\n",
    "plt.plot([0,1],[0,1], '--', label='Random predictions')\n",
    "plt.legend()\n",
    "plt.grid()\n",
    "\n",
    "plt.xlabel('False positive rate')\n",
    "plt.ylabel('True positive rate')\n",
    "plt.title('Receiver Operating Characteristic Curve by Scikit-learn')\n",
    "plt.show()"
   ]
  },
  {
   "cell_type": "markdown",
   "id": "48ce69e4",
   "metadata": {},
   "source": [
    "### 4. Вычислите значение ROC-AUC метрики с помощью функции sklearn.metrics.roc_auc_score"
   ]
  },
  {
   "cell_type": "code",
   "execution_count": 12,
   "id": "afe947b6",
   "metadata": {},
   "outputs": [],
   "source": [
    "from sklearn.metrics import roc_auc_score"
   ]
  },
  {
   "cell_type": "code",
   "execution_count": 13,
   "id": "3c61f12a",
   "metadata": {},
   "outputs": [
    {
     "data": {
      "text/plain": [
       "0.9022564764252744"
      ]
     },
     "execution_count": 13,
     "metadata": {},
     "output_type": "execute_result"
    }
   ],
   "source": [
    "roc_auc_skl = roc_auc_score(y_test, predictions[:,1])\n",
    "roc_auc_skl"
   ]
  },
  {
   "cell_type": "markdown",
   "id": "8e1c8580",
   "metadata": {},
   "source": [
    "### 5. Реализуйте подсчет метрик TPR, FPR «вручную», без использования готовых функций из библиотеки sklearn"
   ]
  },
  {
   "cell_type": "code",
   "execution_count": 14,
   "id": "9f8cce4d",
   "metadata": {},
   "outputs": [],
   "source": [
    "thresholds = np.linspace(0, 0.99, 100)\n",
    "\n",
    "fpr_my, tpr_my, precision = [], [], []\n",
    "\n",
    "for thres in thresholds:\n",
    "    \n",
    "    preds = np.where(predictions[:,1] >= thres, 1, 0)\n",
    "    \n",
    "    tp = np.equal(preds, 1) & np.equal(y_test, 1)\n",
    "    fp = np.equal(preds, 1) & np.equal(y_test, 0)\n",
    "    tn = np.equal(preds, 0) & np.equal(y_test, 0)\n",
    "    fn = np.equal(preds, 0) & np.equal(y_test, 1)\n",
    "    \n",
    "    fpr_my.append(fp.sum() / (fp.sum() + tn.sum()))\n",
    "    tpr_my.append(tp.sum() / (tp.sum() + fn.sum()))\n",
    "    precision.append(tp.sum() / (tp.sum() + fp.sum()))\n",
    "\n",
    "recall = tpr_my.copy()"
   ]
  },
  {
   "cell_type": "markdown",
   "id": "530d0263",
   "metadata": {},
   "source": [
    "### 6. Постройте ROC-кривую с помощью вычисленных в п. 5 метрик: объедините графики из п. 3 и п. 6 в один. Сравните, сделайте вывод"
   ]
  },
  {
   "cell_type": "code",
   "execution_count": 15,
   "id": "ba37da03",
   "metadata": {},
   "outputs": [
    {
     "data": {
      "image/png": "[encoded data removed]",
      "text/plain": [
       "<Figure size 720x432 with 1 Axes>"
      ]
     },
     "metadata": {
      "needs_background": "light"
     },
     "output_type": "display_data"
    }
   ],
   "source": [
    "plt.figure(figsize=(10,6))\n",
    "\n",
    "plt.plot(fpr_skl, tpr_skl, lw=3, label=f'Scikit-learn. Thresholds used: {len(thres_skl)}')\n",
    "plt.plot(fpr_my, tpr_my, 'r:', lw=5, label=f'Self-made. Thresholds used: {len(thresholds)}')\n",
    "plt.plot([0,1],[0,1], '--', label='Random predictions')\n",
    "plt.legend()\n",
    "plt.grid()\n",
    "\n",
    "plt.xlabel('False positive rate')\n",
    "plt.ylabel('True positive rate')\n",
    "plt.title('ROC Curve by me VS Scikit-learn')\n",
    "plt.show()"
   ]
  },
  {
   "cell_type": "markdown",
   "id": "425b85ad",
   "metadata": {},
   "source": [
    "### Вывод\n",
    "\n",
    "ROC кривая, построенная с помощью вычисленных вручную метрик TPR и FPR практически идеально ложится на кривую, построенную с помощью функции `roc_curve` из `sklearn`. Это объясняется тем, что алгоритм построения кривой из `sklearn` использует те же формулы для рассчета метрик, что были использованы в ручном методе. Разница может быть в подходе к реализации, но фундаментально сами формулы расчета TPR и FPR не могут быть другими.\n",
    "\n",
    "В ручном методе я использовал 100 значений для параметра `threshold` от 0 до 0.99, тогда как функция `roc_curve` 692 значения. Можно добиваться более идеального совпадения кривых, увеличивая количество пороговых значений в ручном методе, и приближая сами значения к тем, что использует функция из `sklearn`."
   ]
  },
  {
   "cell_type": "markdown",
   "id": "b41f6c4d",
   "metadata": {},
   "source": [
    "### 7. Постройте график Precision-Recall, используя метрики, посчитанные в п. 5"
   ]
  },
  {
   "cell_type": "code",
   "execution_count": 16,
   "id": "46c039af",
   "metadata": {},
   "outputs": [
    {
     "data": {
      "image/png": "[encoded data removed]",
      "text/plain": [
       "<Figure size 720x432 with 1 Axes>"
      ]
     },
     "metadata": {
      "needs_background": "light"
     },
     "output_type": "display_data"
    }
   ],
   "source": [
    "plt.figure(figsize=(10,6))\n",
    "\n",
    "plt.plot(recall, precision)\n",
    "plt.grid()\n",
    "plt.ylim(0, 1)\n",
    "plt.xlim(0, 1)\n",
    "\n",
    "plt.xlabel('Recall')\n",
    "plt.ylabel('Precision')\n",
    "plt.title('Precision-Recall Curve')\n",
    "plt.show()"
   ]
  },
  {
   "cell_type": "markdown",
   "id": "04782309",
   "metadata": {},
   "source": [
    "### 8. Вычислите значение ROC-AUC метрики, используя метрики, посчитанные в п. 5"
   ]
  },
  {
   "cell_type": "code",
   "execution_count": 17,
   "id": "b9689be3",
   "metadata": {},
   "outputs": [
    {
     "name": "stdout",
     "output_type": "stream",
     "text": [
      "ROC-AUC score by Scikit-learn: 0.9022564764252744 \n",
      "ROC-AUC score manually calculated: 0.9021809533318493 \n",
      "Difference between 2 methods: 0.0000755230934251\n"
     ]
    }
   ],
   "source": [
    "fpr_my = np.array(fpr_my)\n",
    "tpr_my = np.array(tpr_my)\n",
    "\n",
    "triangles_area = sum((fpr_my[:-1] - fpr_my[1:]) * (tpr_my[:-1] - tpr_my[1:])) / 2\n",
    "rectangles_area = sum((fpr_my[:-2] - fpr_my[1:-1]) * tpr_my[1:-1])\n",
    "roc_auc_my = triangles_area + rectangles_area\n",
    "\n",
    "print('ROC-AUC score by Scikit-learn:', roc_auc_skl, '\\n'\n",
    "      'ROC-AUC score manually calculated:', roc_auc_my, '\\n'\n",
    "      'Difference between 2 methods:', '{:.16f}'.format(roc_auc_skl - roc_auc_my))"
   ]
  },
  {
   "cell_type": "markdown",
   "id": "1c8d53f1",
   "metadata": {},
   "source": [
    "### 9. Сформулируйте выводы по проделанной работе:\n",
    "\n",
    "Была обучена модель логистической регрессии для бинарной классификации пола атлетов, а также произведена оценка качества полученной модели. В качестве целевого класса для расчета метрик были взяты атлеты женского пола.\n",
    "\n",
    "- **Как по полученным графикам сделать вывод о качестве модели? Как вы оцениваете обученную модель исходя из подсчитанных метрик?**\n",
    "\n",
    "В идеальном случае график ROC-кривой будет проходить через точку `[0, 1]`, а фигура под такой \"кривой\" окажется квадратом. Соответственно площадь квадрата под этой линией будет равна 1. В реальности чем ближе изгиб ROC-кривой на основе модели смещается в верхний левый угол в сторону точки `[0, 1]`, тем больше площадь фигуры под такой кривой, а значит выше предсказательная способность построенной модели и ее качество. Это легко наблюдать визуально, сравнивая кривые, построенные на основе разных моделей.\n",
    "\n",
    "Похожим образом обстоит дело с Precision-Recall-кривой. В идеальном случае она будет прямой идущей от точки `[0, 1]` к точке `[1, 1]`. В реальности же модель тем лучше, чем ближе PR-кривая находится к верхней границе графика на всем своем протяжении.\n",
    "\n",
    "Исходя из посчитанных метрик, а также оценив получившиеся графики ROC и PR кривых можно сказать, что построенная модель логистической регрессии весьма успешно справилась с задачей бинарной классификации пола атлетов. Полученное значение `ROC AUC = 0.90` близкое к 1 говорит о высоких предсказательных способностях модели.\n",
    "\n",
    "- **Может ли ROC-кривая проходить ниже диагонали?**\n",
    "\n",
    "Может, если классификатор ошибается слишком часто. Диагональная линия говорит о том, что классификатор присваивает классы случайным образом, то есть метрика точности его работы равна 0.5. Если же ROC-кривая проходит под диагональю, то соответственно его точность меньше 0.5, что может говорить о неправильной настройке классификатора. Ниже приведен пример, в котором я намеренно инвертировал вероятности, определенные классификатором и получил кривую, проходящую под диагональю."
   ]
  },
  {
   "cell_type": "code",
   "execution_count": 18,
   "id": "28135a51",
   "metadata": {},
   "outputs": [
    {
     "data": {
      "image/png": "[encoded data removed]",
      "text/plain": [
       "<Figure size 720x432 with 1 Axes>"
      ]
     },
     "metadata": {
      "needs_background": "light"
     },
     "output_type": "display_data"
    }
   ],
   "source": [
    "fpr_bad, tpr_bad = [], []\n",
    "\n",
    "for thres in thresholds:\n",
    "    \n",
    "    preds = np.where((1 - predictions[:,1]) > thres, 1, 0)\n",
    "    \n",
    "    tp = np.equal(preds, 1) & np.equal(y_test, 1)\n",
    "    fp = np.equal(preds, 1) & np.equal(y_test, 0)\n",
    "    tn = np.equal(preds, 0) & np.equal(y_test, 0)\n",
    "    fn = np.equal(preds, 0) & np.equal(y_test, 1)\n",
    "    \n",
    "    fpr_bad.append(fp.sum() / (fp.sum() + tn.sum()))\n",
    "    tpr_bad.append(tp.sum() / (tp.sum() + fn.sum()))\n",
    "\n",
    "plt.figure(figsize=(10,6))\n",
    "\n",
    "plt.plot(fpr_bad, tpr_bad, label='Bad classifier')\n",
    "plt.plot([0,1],[0,1], '--', label='Random predictions')\n",
    "plt.legend()\n",
    "plt.grid()\n",
    "\n",
    "plt.xlabel('False positive rate')\n",
    "plt.ylabel('True positive rate')\n",
    "plt.title('Bad ROC Curve')\n",
    "plt.show()"
   ]
  }
 ],
 "metadata": {
  "kernelspec": {
   "display_name": "Python 3 (ipykernel)",
   "language": "python",
   "name": "python3"
  },
  "language_info": {
   "codemirror_mode": {
    "name": "ipython",
    "version": 3
   },
   "file_extension": ".py",
   "mimetype": "text/x-python",
   "name": "python",
   "nbconvert_exporter": "python",
   "pygments_lexer": "ipython3",
   "version": "3.9.12"
  }
 },
 "nbformat": 4,
 "nbformat_minor": 5
}

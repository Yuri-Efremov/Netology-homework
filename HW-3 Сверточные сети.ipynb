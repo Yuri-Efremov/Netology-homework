{
 "cells": [
  {
   "cell_type": "code",
   "execution_count": 1,
   "metadata": {
    "id": "WGoorsK6mPZP"
   },
   "outputs": [],
   "source": [
    "import numpy as np\n",
    "import pandas as pd\n",
    "import time\n",
    "import matplotlib.pyplot as plt\n",
    "%matplotlib inline\n",
    "\n",
    "import torch\n",
    "import torch.nn as nn\n",
    "import torchvision as tv\n",
    "from torchsummary import summary"
   ]
  },
  {
   "cell_type": "markdown",
   "metadata": {
    "id": "BQEb43_PmPZk"
   },
   "source": [
    "## Данные"
   ]
  },
  {
   "cell_type": "code",
   "execution_count": 2,
   "metadata": {
    "id": "qb_NW7cVmPZs"
   },
   "outputs": [],
   "source": [
    "BATCH_SIZE=256"
   ]
  },
  {
   "cell_type": "code",
   "execution_count": 3,
   "metadata": {
    "colab": {
     "base_uri": "https://localhost:8080/"
    },
    "id": "Kw5Kv2i6mPZu",
    "outputId": "abec58e9-6ac4-4622-af32-8d4ddc849f3d",
    "scrolled": true
   },
   "outputs": [],
   "source": [
    "train_dataset = tv.datasets.FashionMNIST('.', train=True, transform=tv.transforms.ToTensor(), download=True)\n",
    "test_dataset = tv.datasets.FashionMNIST('.', train=False, transform=tv.transforms.ToTensor(), download=True)\n",
    "train_iter = torch.utils.data.DataLoader(train_dataset, batch_size=BATCH_SIZE)\n",
    "test_iter = torch.utils.data.DataLoader(test_dataset, batch_size=BATCH_SIZE)"
   ]
  },
  {
   "cell_type": "markdown",
   "metadata": {
    "id": "BQEb43_PmPZk"
   },
   "source": [
    "## Функция для обучения"
   ]
  },
  {
   "cell_type": "code",
   "execution_count": 4,
   "metadata": {
    "id": "vVqz1hvTmPaA"
   },
   "outputs": [],
   "source": [
    "def evaluate_accuracy(data_iter, net):\n",
    "    acc_sum, n = torch.Tensor([0]), 0\n",
    "    for X, y in data_iter:\n",
    "        acc_sum += (net(X).argmax(axis=1) == y).sum()\n",
    "        n += y.shape[0]\n",
    "    return acc_sum.item() / n\n",
    "\n",
    "def train(net, train_iter, test_iter, optimizer, num_epochs):\n",
    "    loss = nn.CrossEntropyLoss()\n",
    "    \n",
    "    for epoch in range(num_epochs):\n",
    "        train_l_sum, train_acc_sum, n, start = 0.0, 0.0, 0, time.time()\n",
    "        \n",
    "        for X, y in train_iter:\n",
    "            optimizer.zero_grad()\n",
    "            y_hat = net(X)\n",
    "            l = loss(y_hat, y)\n",
    "            l.backward()\n",
    "            optimizer.step()\n",
    "            train_l_sum += l.item()\n",
    "            train_acc_sum += (y_hat.argmax(axis=1) == y).sum().item()\n",
    "            n += y.shape[0]\n",
    "        \n",
    "        test_acc = evaluate_accuracy(test_iter, net)\n",
    "        print(f'epoch {epoch + 1}, loss {train_l_sum / n:.4f}, train acc {train_acc_sum / n:.3f}' \\\n",
    "              f', test acc {test_acc:.3f}, time {time.time() - start:.1f} sec')"
   ]
  },
  {
   "cell_type": "markdown",
   "metadata": {
    "id": "-LcgNXwOmPZ5"
   },
   "source": [
    "## Модель"
   ]
  },
  {
   "cell_type": "code",
   "execution_count": 5,
   "metadata": {
    "id": "V7qWC2EbmPZ5"
   },
   "outputs": [
    {
     "name": "stdout",
     "output_type": "stream",
     "text": [
      "----------------------------------------------------------------\n",
      "        Layer (type)               Output Shape         Param #\n",
      "================================================================\n",
      "            Conv2d-1            [-1, 8, 28, 28]              80\n",
      "              ReLU-2            [-1, 8, 28, 28]               0\n",
      "         AvgPool2d-3            [-1, 8, 14, 14]               0\n",
      "            Conv2d-4           [-1, 16, 14, 14]           1,168\n",
      "              ReLU-5           [-1, 16, 14, 14]               0\n",
      "         AvgPool2d-6             [-1, 16, 7, 7]               0\n",
      "            Conv2d-7             [-1, 32, 7, 7]           4,640\n",
      "           Flatten-8                 [-1, 1568]               0\n",
      "            Linear-9                  [-1, 128]         200,832\n",
      "             ReLU-10                  [-1, 128]               0\n",
      "           Linear-11                   [-1, 10]           1,290\n",
      "================================================================\n",
      "Total params: 208,010\n",
      "Trainable params: 208,010\n",
      "Non-trainable params: 0\n",
      "----------------------------------------------------------------\n",
      "Input size (MB): 0.00\n",
      "Forward/backward pass size (MB): 0.19\n",
      "Params size (MB): 0.79\n",
      "Estimated Total Size (MB): 0.98\n",
      "----------------------------------------------------------------\n"
     ]
    }
   ],
   "source": [
    "model = nn.Sequential(\n",
    "    nn.Conv2d(1, 8, kernel_size=3, padding=1),\n",
    "    nn.ReLU(),\n",
    "    nn.AvgPool2d(2, stride=2),\n",
    "    nn.Conv2d(8, 16, kernel_size=3, padding=1),\n",
    "    nn.ReLU(),\n",
    "    nn.AvgPool2d(2, stride=2),\n",
    "    nn.Conv2d(16, 32, kernel_size=3, padding=1),\n",
    "    nn.Flatten(),\n",
    "    nn.Linear(1568, 128),\n",
    "    nn.ReLU(),\n",
    "    nn.Linear(128, 10)\n",
    ")\n",
    "\n",
    "summary(model, input_size=(1, 28, 28), device='cpu')"
   ]
  },
  {
   "cell_type": "code",
   "execution_count": 6,
   "metadata": {},
   "outputs": [
    {
     "name": "stdout",
     "output_type": "stream",
     "text": [
      "epoch 1, loss 0.0031, train acc 0.716, test acc 0.802, time 10.5 sec\n",
      "epoch 2, loss 0.0018, train acc 0.833, test acc 0.840, time 10.2 sec\n",
      "epoch 3, loss 0.0016, train acc 0.856, test acc 0.849, time 11.6 sec\n",
      "epoch 4, loss 0.0014, train acc 0.868, test acc 0.859, time 11.7 sec\n",
      "epoch 5, loss 0.0013, train acc 0.875, test acc 0.860, time 9.9 sec\n",
      "epoch 6, loss 0.0013, train acc 0.882, test acc 0.870, time 10.2 sec\n",
      "epoch 7, loss 0.0012, train acc 0.887, test acc 0.876, time 11.9 sec\n",
      "epoch 8, loss 0.0012, train acc 0.890, test acc 0.878, time 10.1 sec\n",
      "epoch 9, loss 0.0011, train acc 0.895, test acc 0.881, time 9.9 sec\n",
      "epoch 10, loss 0.0011, train acc 0.899, test acc 0.885, time 10.1 sec\n",
      "epoch 11, loss 0.0010, train acc 0.902, test acc 0.888, time 12.2 sec\n",
      "epoch 12, loss 0.0010, train acc 0.905, test acc 0.889, time 10.6 sec\n",
      "epoch 13, loss 0.0010, train acc 0.908, test acc 0.891, time 10.1 sec\n",
      "epoch 14, loss 0.0009, train acc 0.911, test acc 0.891, time 11.1 sec\n",
      "epoch 15, loss 0.0009, train acc 0.913, test acc 0.892, time 13.1 sec\n",
      "epoch 16, loss 0.0009, train acc 0.916, test acc 0.894, time 10.4 sec\n",
      "epoch 17, loss 0.0009, train acc 0.918, test acc 0.896, time 10.0 sec\n",
      "epoch 18, loss 0.0008, train acc 0.921, test acc 0.896, time 10.0 sec\n",
      "epoch 19, loss 0.0008, train acc 0.923, test acc 0.897, time 9.9 sec\n",
      "epoch 20, loss 0.0008, train acc 0.925, test acc 0.899, time 9.9 sec\n",
      "epoch 21, loss 0.0008, train acc 0.927, test acc 0.902, time 10.6 sec\n",
      "epoch 22, loss 0.0007, train acc 0.929, test acc 0.901, time 12.3 sec\n",
      "epoch 23, loss 0.0007, train acc 0.932, test acc 0.900, time 10.0 sec\n",
      "epoch 24, loss 0.0007, train acc 0.934, test acc 0.900, time 10.0 sec\n",
      "epoch 25, loss 0.0007, train acc 0.936, test acc 0.901, time 10.0 sec\n",
      "epoch 26, loss 0.0007, train acc 0.938, test acc 0.900, time 10.3 sec\n",
      "epoch 27, loss 0.0006, train acc 0.939, test acc 0.901, time 12.4 sec\n",
      "epoch 28, loss 0.0006, train acc 0.940, test acc 0.902, time 10.4 sec\n",
      "epoch 29, loss 0.0006, train acc 0.942, test acc 0.902, time 10.1 sec\n",
      "epoch 30, loss 0.0006, train acc 0.942, test acc 0.903, time 10.6 sec\n"
     ]
    }
   ],
   "source": [
    "optimizer = torch.optim.Adam(model.parameters())\n",
    "train(model, train_iter, test_iter, optimizer, num_epochs=30)"
   ]
  }
 ],
 "metadata": {
  "colab": {
   "provenance": []
  },
  "kernelspec": {
   "display_name": "Python 3 (ipykernel)",
   "language": "python",
   "name": "python3"
  },
  "language_info": {
   "codemirror_mode": {
    "name": "ipython",
    "version": 3
   },
   "file_extension": ".py",
   "mimetype": "text/x-python",
   "name": "python",
   "nbconvert_exporter": "python",
   "pygments_lexer": "ipython3",
   "version": "3.11.5"
  }
 },
 "nbformat": 4,
 "nbformat_minor": 1
}

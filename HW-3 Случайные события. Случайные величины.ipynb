{
 "cells": [
  {
   "cell_type": "code",
   "execution_count": 1,
   "id": "7b631bf0",
   "metadata": {},
   "outputs": [],
   "source": [
    "import numpy as np"
   ]
  },
  {
   "cell_type": "markdown",
   "id": "b2c3fe13",
   "metadata": {},
   "source": [
    "## Модель"
   ]
  },
  {
   "cell_type": "code",
   "execution_count": 2,
   "id": "5c5b8f44",
   "metadata": {},
   "outputs": [
    {
     "name": "stdout",
     "output_type": "stream",
     "text": [
      "\n",
      "Общий выигрыш: 798511\n",
      "Выгодна ли игра игроку: False\n",
      "За одну игру игрок в среднем приобретает или теряет: -0.201489 рублей\n",
      "\n"
     ]
    }
   ],
   "source": [
    "rubles = 1000000\n",
    "total_win = 0\n",
    "other_wins = {999: 100, 555: 50, 333: 15, 111: 10}\n",
    "\n",
    "for ruble in range(rubles):\n",
    "\n",
    "    result = np.random.randint(0, 1000)\n",
    "    \n",
    "    if result == 777:\n",
    "        total_win += 200\n",
    "        \n",
    "    elif (result + 23) % 100 == 0:\n",
    "        total_win += 5\n",
    "        \n",
    "    elif (result + 3) % 10 == 0:\n",
    "        total_win += 3\n",
    "        \n",
    "    elif result % 100 == 0:\n",
    "        total_win += 2\n",
    "        \n",
    "    elif result % 10 == 0:\n",
    "        total_win += 1\n",
    "    else:\n",
    "        total_win += other_wins.get(result, 0)\n",
    "\n",
    "print(f\"\"\"\n",
    "Общий выигрыш: {total_win}\n",
    "Выгодна ли игра игроку: {total_win > rubles}\n",
    "За одну игру игрок в среднем приобретает или теряет: {(total_win - rubles) / rubles} рублей\n",
    "\"\"\")"
   ]
  },
  {
   "cell_type": "markdown",
   "id": "affa0159",
   "metadata": {},
   "source": [
    "## Теоретический расчет"
   ]
  },
  {
   "cell_type": "code",
   "execution_count": 3,
   "id": "0ccd357d",
   "metadata": {},
   "outputs": [
    {
     "data": {
      "text/plain": [
       "-0.19999999999999996"
      ]
     },
     "execution_count": 3,
     "metadata": {},
     "output_type": "execute_result"
    }
   ],
   "source": [
    "# Вероятности:\n",
    "P1 = 0.001\n",
    "P2 = 0.009\n",
    "P3 = 0.09\n",
    "P4 = 0.01\n",
    "\n",
    "# Выигрыши\n",
    "w777 = 200   #p1\n",
    "w999 = 100   #p1\n",
    "w555 = 50    #p1\n",
    "w333 = 15    #p1\n",
    "w111 = 10    #p1\n",
    "wX77 = 5     #p2\n",
    "wXX7 = 3     #p3\n",
    "wX00 = 2     #p4\n",
    "wXX0 = 1     #p3\n",
    "\n",
    "# Средний выигрыш (проигрыш) при стоимости игры 1 рубль:\n",
    "((w777 + w999 + w555 + w333 + w111) * P1) + (wX77 * P2) + ((wXX7 + wXX0) * P3) + (wX00 * P4) - 1"
   ]
  }
 ],
 "metadata": {
  "kernelspec": {
   "display_name": "Python 3 (ipykernel)",
   "language": "python",
   "name": "python3"
  },
  "language_info": {
   "codemirror_mode": {
    "name": "ipython",
    "version": 3
   },
   "file_extension": ".py",
   "mimetype": "text/x-python",
   "name": "python",
   "nbconvert_exporter": "python",
   "pygments_lexer": "ipython3",
   "version": "3.9.12"
  }
 },
 "nbformat": 4,
 "nbformat_minor": 5
}

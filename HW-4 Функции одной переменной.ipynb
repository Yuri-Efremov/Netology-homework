{
 "cells": [
  {
   "cell_type": "markdown",
   "metadata": {
    "id": "_kX74ytuOfgy"
   },
   "source": [
    "# Домашнее задание \"Функции одной переменной\"."
   ]
  },
  {
   "cell_type": "markdown",
   "metadata": {
    "id": "t69IZulqTZMz"
   },
   "source": [
    "## Уровень 0:\n"
   ]
  },
  {
   "cell_type": "markdown",
   "metadata": {
    "id": "9JUikPzroAL8"
   },
   "source": [
    "### Задание 1"
   ]
  },
  {
   "cell_type": "markdown",
   "metadata": {
    "id": "ya8BlSO5nQ9a"
   },
   "source": [
    "\n",
    "Посчитайте значение первой и второй производной функции:\n",
    "\n",
    "$f(x) = x^5 + 4sin(2x) + cos(3x+3)$ \n",
    "\n",
    "В точке x = 1.\n"
   ]
  },
  {
   "cell_type": "code",
   "execution_count": 1,
   "metadata": {
    "id": "p2gC3FEFnY08"
   },
   "outputs": [],
   "source": [
    "import sympy as sym\n",
    "import numpy as np\n",
    "import matplotlib.pyplot as plt"
   ]
  },
  {
   "cell_type": "code",
   "execution_count": 2,
   "metadata": {},
   "outputs": [],
   "source": [
    "x = sym.Symbol('x')"
   ]
  },
  {
   "cell_type": "code",
   "execution_count": 3,
   "metadata": {},
   "outputs": [
    {
     "data": {
      "text/latex": [
       "$\\displaystyle x^{5} + 4 \\sin{\\left(2 x \\right)} + \\cos{\\left(3 x + 3 \\right)}$"
      ],
      "text/plain": [
       "x**5 + 4*sin(2*x) + cos(3*x + 3)"
      ]
     },
     "execution_count": 3,
     "metadata": {},
     "output_type": "execute_result"
    }
   ],
   "source": [
    "a = x**5 + 4 * sym.sin(2*x) + sym.cos(3*x + 3)\n",
    "a"
   ]
  },
  {
   "cell_type": "markdown",
   "metadata": {},
   "source": [
    "Посчитаем значение первой производной функции в точке x = 1"
   ]
  },
  {
   "cell_type": "code",
   "execution_count": 4,
   "metadata": {},
   "outputs": [
    {
     "data": {
      "text/latex": [
       "$\\displaystyle 5 x^{4} - 3 \\sin{\\left(3 x + 3 \\right)} + 8 \\cos{\\left(2 x \\right)}$"
      ],
      "text/plain": [
       "5*x**4 - 3*sin(3*x + 3) + 8*cos(2*x)"
      ]
     },
     "execution_count": 4,
     "metadata": {},
     "output_type": "execute_result"
    }
   ],
   "source": [
    "res1 = sym.diff(a, x)\n",
    "res1"
   ]
  },
  {
   "cell_type": "code",
   "execution_count": 5,
   "metadata": {},
   "outputs": [
    {
     "data": {
      "text/latex": [
       "$\\displaystyle 8 \\cos{\\left(2 \\right)} - 3 \\sin{\\left(6 \\right)} + 5$"
      ],
      "text/plain": [
       "8*cos(2) - 3*sin(6) + 5"
      ]
     },
     "execution_count": 5,
     "metadata": {},
     "output_type": "execute_result"
    }
   ],
   "source": [
    "res1.subs(x, 1)"
   ]
  },
  {
   "cell_type": "code",
   "execution_count": 6,
   "metadata": {},
   "outputs": [
    {
     "data": {
      "text/plain": [
       "2.5090718022196383"
      ]
     },
     "execution_count": 6,
     "metadata": {},
     "output_type": "execute_result"
    }
   ],
   "source": [
    "8 * np.cos(2) - 3 * np.sin(6) + 5"
   ]
  },
  {
   "cell_type": "markdown",
   "metadata": {},
   "source": [
    "Посчитаем значение второй производной функции в точке x = 1"
   ]
  },
  {
   "cell_type": "code",
   "execution_count": 7,
   "metadata": {},
   "outputs": [
    {
     "data": {
      "text/latex": [
       "$\\displaystyle 20 x^{3} - 16 \\sin{\\left(2 x \\right)} - 9 \\cos{\\left(3 x + 3 \\right)}$"
      ],
      "text/plain": [
       "20*x**3 - 16*sin(2*x) - 9*cos(3*x + 3)"
      ]
     },
     "execution_count": 7,
     "metadata": {},
     "output_type": "execute_result"
    }
   ],
   "source": [
    "res2 = sym.diff(res1, x)\n",
    "res2"
   ]
  },
  {
   "cell_type": "code",
   "execution_count": 8,
   "metadata": {},
   "outputs": [
    {
     "data": {
      "text/latex": [
       "$\\displaystyle - 16 \\sin{\\left(2 \\right)} - 9 \\cos{\\left(6 \\right)} + 20$"
      ],
      "text/plain": [
       "-16*sin(2) - 9*cos(6) + 20"
      ]
     },
     "execution_count": 8,
     "metadata": {},
     "output_type": "execute_result"
    }
   ],
   "source": [
    "res2.subs(x, 1)"
   ]
  },
  {
   "cell_type": "code",
   "execution_count": 9,
   "metadata": {},
   "outputs": [
    {
     "data": {
      "text/plain": [
       "-3.1902914090642014"
      ]
     },
     "execution_count": 9,
     "metadata": {},
     "output_type": "execute_result"
    }
   ],
   "source": [
    "-16 * np.sin(2) - 9 * np.cos(6) + 20"
   ]
  },
  {
   "cell_type": "markdown",
   "metadata": {
    "id": "qZxS_tEVTapE"
   },
   "source": [
    "## Уровень 1:"
   ]
  },
  {
   "cell_type": "markdown",
   "metadata": {
    "id": "gUB5Tx31oDZB"
   },
   "source": [
    "### Задание 2"
   ]
  },
  {
   "cell_type": "markdown",
   "metadata": {
    "id": "Jh-pEPj-TcDQ"
   },
   "source": [
    "Постройте график первой и второй производной функции:\n",
    "\n",
    "$f(x) = sin^5(2x+1)$\n",
    "\n",
    "На отрезке [-5; 5]."
   ]
  },
  {
   "cell_type": "code",
   "execution_count": 10,
   "metadata": {
    "id": "uco5UzhWoHAP"
   },
   "outputs": [],
   "source": [
    "x = sym.Symbol('x')"
   ]
  },
  {
   "cell_type": "code",
   "execution_count": 11,
   "metadata": {},
   "outputs": [
    {
     "data": {
      "text/latex": [
       "$\\displaystyle \\sin^{5}{\\left(2 x + 1 \\right)}$"
      ],
      "text/plain": [
       "sin(2*x + 1)**5"
      ]
     },
     "execution_count": 11,
     "metadata": {},
     "output_type": "execute_result"
    }
   ],
   "source": [
    "a = sym.sin(2*x + 1)**5\n",
    "a"
   ]
  },
  {
   "cell_type": "code",
   "execution_count": 12,
   "metadata": {},
   "outputs": [],
   "source": [
    "i = np.arange(-5, 5.1, 0.1)"
   ]
  },
  {
   "cell_type": "markdown",
   "metadata": {},
   "source": [
    "Построим график первой производной функции"
   ]
  },
  {
   "cell_type": "code",
   "execution_count": 13,
   "metadata": {},
   "outputs": [
    {
     "data": {
      "text/latex": [
       "$\\displaystyle 10 \\sin^{4}{\\left(2 x + 1 \\right)} \\cos{\\left(2 x + 1 \\right)}$"
      ],
      "text/plain": [
       "10*sin(2*x + 1)**4*cos(2*x + 1)"
      ]
     },
     "execution_count": 13,
     "metadata": {},
     "output_type": "execute_result"
    }
   ],
   "source": [
    "res1 = sym.diff(a, x)\n",
    "res1"
   ]
  },
  {
   "cell_type": "code",
   "execution_count": 14,
   "metadata": {},
   "outputs": [],
   "source": [
    "def func1(i):\n",
    "    return (10 * np.sin(2*i + 1)**4) * (np.cos(2*i + 1))"
   ]
  },
  {
   "cell_type": "code",
   "execution_count": 15,
   "metadata": {},
   "outputs": [
    {
     "data": {
      "image/png": "[encoded data removed]",
      "text/plain": [
       "<Figure size 432x288 with 1 Axes>"
      ]
     },
     "metadata": {
      "needs_background": "light"
     },
     "output_type": "display_data"
    }
   ],
   "source": [
    "plt.plot(i, func1(i))\n",
    "plt.show()"
   ]
  },
  {
   "cell_type": "markdown",
   "metadata": {},
   "source": [
    "Построим график второй производной функции"
   ]
  },
  {
   "cell_type": "code",
   "execution_count": 16,
   "metadata": {},
   "outputs": [
    {
     "data": {
      "text/latex": [
       "$\\displaystyle - 20 \\sin^{5}{\\left(2 x + 1 \\right)} + 80 \\sin^{3}{\\left(2 x + 1 \\right)} \\cos^{2}{\\left(2 x + 1 \\right)}$"
      ],
      "text/plain": [
       "-20*sin(2*x + 1)**5 + 80*sin(2*x + 1)**3*cos(2*x + 1)**2"
      ]
     },
     "execution_count": 16,
     "metadata": {},
     "output_type": "execute_result"
    }
   ],
   "source": [
    "res2 = sym.diff(res1, x)\n",
    "res2"
   ]
  },
  {
   "cell_type": "code",
   "execution_count": 17,
   "metadata": {},
   "outputs": [],
   "source": [
    "def func2(i):\n",
    "    return (-20 * np.sin(2*i + 1)**5) + (80 * np.sin(2*i + 1)**3) * (np.cos(2*i + 1)**2)"
   ]
  },
  {
   "cell_type": "code",
   "execution_count": 18,
   "metadata": {},
   "outputs": [
    {
     "data": {
      "image/png": "[encoded data removed]",
      "text/plain": [
       "<Figure size 432x288 with 1 Axes>"
      ]
     },
     "metadata": {
      "needs_background": "light"
     },
     "output_type": "display_data"
    }
   ],
   "source": [
    "plt.plot(i, func2(i))\n",
    "plt.show()"
   ]
  }
 ],
 "metadata": {
  "colab": {
   "collapsed_sections": [],
   "name": "HW_4_upd",
   "provenance": []
  },
  "kernelspec": {
   "display_name": "Python 3 (ipykernel)",
   "language": "python",
   "name": "python3"
  },
  "language_info": {
   "codemirror_mode": {
    "name": "ipython",
    "version": 3
   },
   "file_extension": ".py",
   "mimetype": "text/x-python",
   "name": "python",
   "nbconvert_exporter": "python",
   "pygments_lexer": "ipython3",
   "version": "3.9.12"
  }
 },
 "nbformat": 4,
 "nbformat_minor": 1
}

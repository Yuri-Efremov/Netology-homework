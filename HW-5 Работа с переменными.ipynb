{
 "cells": [
  {
   "cell_type": "code",
   "execution_count": 1,
   "id": "2c83d832",
   "metadata": {},
   "outputs": [],
   "source": [
    "import numpy as np\n",
    "import pandas as pd\n",
    "import seaborn as sns\n",
    "import matplotlib.pyplot as plt"
   ]
  },
  {
   "cell_type": "markdown",
   "id": "84c034df",
   "metadata": {},
   "source": [
    "### 1. Получите данные и загрузите их в рабочую среду. (Jupyter Notebook или другую)"
   ]
  },
  {
   "cell_type": "code",
   "execution_count": 2,
   "id": "76bf739c",
   "metadata": {},
   "outputs": [
    {
     "name": "stdout",
     "output_type": "stream",
     "text": [
      ".. _california_housing_dataset:\n",
      "\n",
      "California Housing dataset\n",
      "--------------------------\n",
      "\n",
      "**Data Set Characteristics:**\n",
      "\n",
      "    :Number of Instances: 20640\n",
      "\n",
      "    :Number of Attributes: 8 numeric, predictive attributes and the target\n",
      "\n",
      "    :Attribute Information:\n",
      "        - MedInc        median income in block group\n",
      "        - HouseAge      median house age in block group\n",
      "        - AveRooms      average number of rooms per household\n",
      "        - AveBedrms     average number of bedrooms per household\n",
      "        - Population    block group population\n",
      "        - AveOccup      average number of household members\n",
      "        - Latitude      block group latitude\n",
      "        - Longitude     block group longitude\n",
      "\n",
      "    :Missing Attribute Values: None\n",
      "\n",
      "This dataset was obtained from the StatLib repository.\n",
      "https://www.dcc.fc.up.pt/~ltorgo/Regression/cal_housing.html\n",
      "\n",
      "The target variable is the median house value for California districts,\n",
      "expressed in hundreds of thousands of dollars ($100,000).\n",
      "\n",
      "This dataset was derived from the 1990 U.S. census, using one row per census\n",
      "block group. A block group is the smallest geographical unit for which the U.S.\n",
      "Census Bureau publishes sample data (a block group typically has a population\n",
      "of 600 to 3,000 people).\n",
      "\n",
      "An household is a group of people residing within a home. Since the average\n",
      "number of rooms and bedrooms in this dataset are provided per household, these\n",
      "columns may take surpinsingly large values for block groups with few households\n",
      "and many empty houses, such as vacation resorts.\n",
      "\n",
      "It can be downloaded/loaded using the\n",
      ":func:`sklearn.datasets.fetch_california_housing` function.\n",
      "\n",
      ".. topic:: References\n",
      "\n",
      "    - Pace, R. Kelley and Ronald Barry, Sparse Spatial Autoregressions,\n",
      "      Statistics and Probability Letters, 33 (1997) 291-297\n",
      "\n"
     ]
    }
   ],
   "source": [
    "from sklearn.datasets import fetch_california_housing\n",
    "data = fetch_california_housing()\n",
    "print(data.DESCR)"
   ]
  },
  {
   "cell_type": "code",
   "execution_count": 3,
   "id": "e656ef63",
   "metadata": {},
   "outputs": [
    {
     "data": {
      "text/html": [
       "<div>\n",
       "<style scoped>\n",
       "    .dataframe tbody tr th:only-of-type {\n",
       "        vertical-align: middle;\n",
       "    }\n",
       "\n",
       "    .dataframe tbody tr th {\n",
       "        vertical-align: top;\n",
       "    }\n",
       "\n",
       "    .dataframe thead th {\n",
       "        text-align: right;\n",
       "    }\n",
       "</style>\n",
       "<table border=\"1\" class=\"dataframe\">\n",
       "  <thead>\n",
       "    <tr style=\"text-align: right;\">\n",
       "      <th></th>\n",
       "      <th>MedInc</th>\n",
       "      <th>HouseAge</th>\n",
       "      <th>AveRooms</th>\n",
       "      <th>AveBedrms</th>\n",
       "      <th>Population</th>\n",
       "      <th>AveOccup</th>\n",
       "      <th>Latitude</th>\n",
       "      <th>Longitude</th>\n",
       "      <th>MedHouseVal</th>\n",
       "    </tr>\n",
       "  </thead>\n",
       "  <tbody>\n",
       "    <tr>\n",
       "      <th>0</th>\n",
       "      <td>8.3252</td>\n",
       "      <td>41.0</td>\n",
       "      <td>6.984127</td>\n",
       "      <td>1.023810</td>\n",
       "      <td>322.0</td>\n",
       "      <td>2.555556</td>\n",
       "      <td>37.88</td>\n",
       "      <td>-122.23</td>\n",
       "      <td>4.526</td>\n",
       "    </tr>\n",
       "    <tr>\n",
       "      <th>1</th>\n",
       "      <td>8.3014</td>\n",
       "      <td>21.0</td>\n",
       "      <td>6.238137</td>\n",
       "      <td>0.971880</td>\n",
       "      <td>2401.0</td>\n",
       "      <td>2.109842</td>\n",
       "      <td>37.86</td>\n",
       "      <td>-122.22</td>\n",
       "      <td>3.585</td>\n",
       "    </tr>\n",
       "    <tr>\n",
       "      <th>2</th>\n",
       "      <td>7.2574</td>\n",
       "      <td>52.0</td>\n",
       "      <td>8.288136</td>\n",
       "      <td>1.073446</td>\n",
       "      <td>496.0</td>\n",
       "      <td>2.802260</td>\n",
       "      <td>37.85</td>\n",
       "      <td>-122.24</td>\n",
       "      <td>3.521</td>\n",
       "    </tr>\n",
       "    <tr>\n",
       "      <th>3</th>\n",
       "      <td>5.6431</td>\n",
       "      <td>52.0</td>\n",
       "      <td>5.817352</td>\n",
       "      <td>1.073059</td>\n",
       "      <td>558.0</td>\n",
       "      <td>2.547945</td>\n",
       "      <td>37.85</td>\n",
       "      <td>-122.25</td>\n",
       "      <td>3.413</td>\n",
       "    </tr>\n",
       "    <tr>\n",
       "      <th>4</th>\n",
       "      <td>3.8462</td>\n",
       "      <td>52.0</td>\n",
       "      <td>6.281853</td>\n",
       "      <td>1.081081</td>\n",
       "      <td>565.0</td>\n",
       "      <td>2.181467</td>\n",
       "      <td>37.85</td>\n",
       "      <td>-122.25</td>\n",
       "      <td>3.422</td>\n",
       "    </tr>\n",
       "  </tbody>\n",
       "</table>\n",
       "</div>"
      ],
      "text/plain": [
       "   MedInc  HouseAge  AveRooms  AveBedrms  Population  AveOccup  Latitude  \\\n",
       "0  8.3252      41.0  6.984127   1.023810       322.0  2.555556     37.88   \n",
       "1  8.3014      21.0  6.238137   0.971880      2401.0  2.109842     37.86   \n",
       "2  7.2574      52.0  8.288136   1.073446       496.0  2.802260     37.85   \n",
       "3  5.6431      52.0  5.817352   1.073059       558.0  2.547945     37.85   \n",
       "4  3.8462      52.0  6.281853   1.081081       565.0  2.181467     37.85   \n",
       "\n",
       "   Longitude  MedHouseVal  \n",
       "0    -122.23        4.526  \n",
       "1    -122.22        3.585  \n",
       "2    -122.24        3.521  \n",
       "3    -122.25        3.413  \n",
       "4    -122.25        3.422  "
      ]
     },
     "execution_count": 3,
     "metadata": {},
     "output_type": "execute_result"
    }
   ],
   "source": [
    "df = pd.DataFrame(data.data, columns=data.feature_names)\n",
    "df[data.target_names[0]] = data.target\n",
    "df.head()"
   ]
  },
  {
   "cell_type": "markdown",
   "id": "df69604c",
   "metadata": {},
   "source": [
    "### 2. Проверьте данные на наличие пропусков. Удалите их в случае обнаружения"
   ]
  },
  {
   "cell_type": "code",
   "execution_count": 4,
   "id": "c892adc8",
   "metadata": {},
   "outputs": [
    {
     "name": "stdout",
     "output_type": "stream",
     "text": [
      "<class 'pandas.core.frame.DataFrame'>\n",
      "RangeIndex: 20640 entries, 0 to 20639\n",
      "Data columns (total 9 columns):\n",
      " #   Column       Non-Null Count  Dtype  \n",
      "---  ------       --------------  -----  \n",
      " 0   MedInc       20640 non-null  float64\n",
      " 1   HouseAge     20640 non-null  float64\n",
      " 2   AveRooms     20640 non-null  float64\n",
      " 3   AveBedrms    20640 non-null  float64\n",
      " 4   Population   20640 non-null  float64\n",
      " 5   AveOccup     20640 non-null  float64\n",
      " 6   Latitude     20640 non-null  float64\n",
      " 7   Longitude    20640 non-null  float64\n",
      " 8   MedHouseVal  20640 non-null  float64\n",
      "dtypes: float64(9)\n",
      "memory usage: 1.4 MB\n"
     ]
    }
   ],
   "source": [
    "df.info()"
   ]
  },
  {
   "cell_type": "code",
   "execution_count": 5,
   "id": "542b9567",
   "metadata": {},
   "outputs": [
    {
     "data": {
      "text/plain": [
       "False"
      ]
     },
     "execution_count": 5,
     "metadata": {},
     "output_type": "execute_result"
    }
   ],
   "source": [
    "0 in df.values"
   ]
  },
  {
   "cell_type": "markdown",
   "id": "382e0e14",
   "metadata": {},
   "source": [
    "### 3. Разделите выборку на обучающее и тестовое подмножества. 80% данных оставить на обучающее множество, 20% - на тестовое\n",
    "### 4. Постройте модель линейной регрессии. Вычислите метрики RMSE, R2 на обучающем и тестовом множестве"
   ]
  },
  {
   "cell_type": "code",
   "execution_count": 6,
   "id": "63ee880a",
   "metadata": {},
   "outputs": [],
   "source": [
    "from sklearn.model_selection import train_test_split\n",
    "from sklearn.linear_model import LinearRegression\n",
    "from sklearn.metrics import mean_squared_error\n",
    "\n",
    "def get_scores(X, y):\n",
    "    \n",
    "    X_train, X_test, y_train, y_test = train_test_split(X, y, test_size=0.2, random_state=42)\n",
    "    \n",
    "    model = LinearRegression()\n",
    "    model.fit(X_train, y_train)\n",
    "    \n",
    "    R2_train = model.score(X_train, y_train)\n",
    "    RMSE_train = mean_squared_error(y_train, model.predict(X_train), squared=False)\n",
    "    \n",
    "    R2_test = model.score(X_test, y_test)\n",
    "    RMSE_test = mean_squared_error(y_test, model.predict(X_test), squared=False)\n",
    "    \n",
    "    return R2_train, RMSE_train, R2_test, RMSE_test"
   ]
  },
  {
   "cell_type": "code",
   "execution_count": 7,
   "id": "6f825a70",
   "metadata": {},
   "outputs": [
    {
     "name": "stdout",
     "output_type": "stream",
     "text": [
      "R2_train: 0.6125511913966952 RMSE_train: 0.7196757085831575\n",
      "R2_test: 0.5757877060324511 RMSE_test: 0.7455813830127761\n"
     ]
    }
   ],
   "source": [
    "X_1 = df.iloc[:,:-1]\n",
    "y = df['MedHouseVal']\n",
    "scores_1 = get_scores(X_1, y)\n",
    "\n",
    "print(f'''R2_train: {scores_1[0]} RMSE_train: {scores_1[1]}\n",
    "R2_test: {scores_1[2]} RMSE_test: {scores_1[3]}''')"
   ]
  },
  {
   "cell_type": "markdown",
   "id": "11da0f91",
   "metadata": {},
   "source": [
    "### 5. Постройте график распределения целевой переменной. Сделайте вывод. Присутствуют ли в этом признаке выбросы?"
   ]
  },
  {
   "cell_type": "code",
   "execution_count": 8,
   "id": "a0413601",
   "metadata": {},
   "outputs": [
    {
     "data": {
      "image/png": "[encoded data removed]",
      "text/plain": [
       "<Figure size 1224x432 with 2 Axes>"
      ]
     },
     "metadata": {
      "needs_background": "light"
     },
     "output_type": "display_data"
    }
   ],
   "source": [
    "fig, axs = plt.subplots(1, 2, figsize=(17, 6))\n",
    "\n",
    "sns.boxplot(x=y, ax=axs[0])\n",
    "sns.histplot(y, ax=axs[1], bins=100)\n",
    "plt.title('Distribution of target variable', x=-0.1)\n",
    "\n",
    "plt.show()"
   ]
  },
  {
   "cell_type": "code",
   "execution_count": 9,
   "id": "31c1fbb3",
   "metadata": {},
   "outputs": [
    {
     "name": "stdout",
     "output_type": "stream",
     "text": [
      "max MedHouseVal:  5.00001\n"
     ]
    },
    {
     "data": {
      "text/plain": [
       "5.00001    965\n",
       "1.37500    122\n",
       "1.62500    117\n",
       "1.12500    103\n",
       "1.87500     93\n",
       "Name: MedHouseVal, dtype: int64"
      ]
     },
     "execution_count": 9,
     "metadata": {},
     "output_type": "execute_result"
    }
   ],
   "source": [
    "print('max MedHouseVal: ', df.MedHouseVal.max())\n",
    "df.MedHouseVal.value_counts().head()"
   ]
  },
  {
   "cell_type": "markdown",
   "id": "126d3c87",
   "metadata": {},
   "source": [
    "На обоих графиках заметно сосредоточение наблюдений в районе значения целевой переменной равного `5`. Боксплот определяет их как выбросы, и, глядя на гистограмму распределения целевой переменной можно сделать аналогичное предположение. Обращает на себя внимание и большое количество в 965 одинаковых значений у целевой переменной, равных `5.00001`, и то, что это наиболее частая цена объекта, и то, что по своей частоте она почти в 8 раз превышает следующую по популярности цену `1.37500`. На основании всего этого я бы сделал предположение, что всю недвижимость дороже 500 000 долл в этом датасете указали со стоимостью `5.00001`. В любом случае для нашей задачи не подойдут данные, имеющие такое распределение целевой переменной, поэтому я предпочту избавиться от объектов дороже 500 000 долл."
   ]
  },
  {
   "cell_type": "code",
   "execution_count": 10,
   "id": "f69480ef",
   "metadata": {},
   "outputs": [],
   "source": [
    "df = df[df.MedHouseVal < 5]"
   ]
  },
  {
   "cell_type": "markdown",
   "id": "62f7878e",
   "metadata": {},
   "source": [
    "### 6. Посчитайте и выведите корреляционную матрицу. Убедитесь, что ячейки матрицы поделены на цветные категории, в ячейках указано числовое значение корреляции\n",
    "- a. Сделайте выводы\n",
    "- b. Удалите признаки на основании полученных значений, выводов\n",
    "- c. Повторите п. 3, п. 4 на измененных данных"
   ]
  },
  {
   "cell_type": "code",
   "execution_count": 11,
   "id": "87dc24e3",
   "metadata": {},
   "outputs": [
    {
     "data": {
      "image/png": "[encoded data removed]",
      "text/plain": [
       "<Figure size 720x432 with 2 Axes>"
      ]
     },
     "metadata": {
      "needs_background": "light"
     },
     "output_type": "display_data"
    }
   ],
   "source": [
    "cor = df.corr()\n",
    "plt.figure(figsize=(10,6))\n",
    "sns.heatmap(cor, annot=True)\n",
    "plt.title('Correlation matrix')\n",
    "plt.show()"
   ]
  },
  {
   "cell_type": "markdown",
   "id": "1a4f4c82",
   "metadata": {},
   "source": [
    "В датасете присутствует несколько признаков с ярковыраженной корреляцией:\n",
    "\n",
    "- `MedHouseVal` и `MedInc` имеют положительную корреляцию уровня `0.65`. Поскольку здесь наблюдается корреляция между одним из признаков и целевой переменной, то коррелирующий признак лучше оставить, чтобы модель смогла с его помощью эффективнее предсказывать таргет. Необходимо при этом держать в уме, что модель будет крайне сильно опираться именно на этот признак, поскольку других, настолько же сильно коррелирующих с целевой переменной параметров нет даже и близко.\n",
    "\n",
    "\n",
    "- `AveRooms` и `AveBedrms` логичным образом также имеют высокий коэффициент корреляции `0.84`. Попробую оставить только один из этих признаков, и выберу тот, который сильнее связан с целевой переменной. `AveRooms` имеет коээфициент корреляции с таргетом `0.11`, поэтому будем оставляю его.\n",
    "\n",
    "\n",
    "- `Latitude` и `Longitude` также показывают высокую степень взаимосвязи с отрицательным коэффициентом корреляции `-0.92`. Это объясняется географической протяженностью территории штата Калифорния с северо-запада на юго-восток. Аналогично предыдущей паре параметров оставлю тот, который показывает более сильную связь с таргетом. Коэффициент корреляции для долготы `Latitude` находится дальше от нуля и равняется `-0.15`, следовательно оставляю его."
   ]
  },
  {
   "cell_type": "code",
   "execution_count": 12,
   "id": "2461ef5a",
   "metadata": {},
   "outputs": [
    {
     "data": {
      "text/html": [
       "<div>\n",
       "<style scoped>\n",
       "    .dataframe tbody tr th:only-of-type {\n",
       "        vertical-align: middle;\n",
       "    }\n",
       "\n",
       "    .dataframe tbody tr th {\n",
       "        vertical-align: top;\n",
       "    }\n",
       "\n",
       "    .dataframe thead th {\n",
       "        text-align: right;\n",
       "    }\n",
       "</style>\n",
       "<table border=\"1\" class=\"dataframe\">\n",
       "  <thead>\n",
       "    <tr style=\"text-align: right;\">\n",
       "      <th></th>\n",
       "      <th>MedInc</th>\n",
       "      <th>HouseAge</th>\n",
       "      <th>AveRooms</th>\n",
       "      <th>Population</th>\n",
       "      <th>AveOccup</th>\n",
       "      <th>Latitude</th>\n",
       "      <th>MedHouseVal</th>\n",
       "    </tr>\n",
       "  </thead>\n",
       "  <tbody>\n",
       "    <tr>\n",
       "      <th>0</th>\n",
       "      <td>8.3252</td>\n",
       "      <td>41.0</td>\n",
       "      <td>6.984127</td>\n",
       "      <td>322.0</td>\n",
       "      <td>2.555556</td>\n",
       "      <td>37.88</td>\n",
       "      <td>4.526</td>\n",
       "    </tr>\n",
       "    <tr>\n",
       "      <th>1</th>\n",
       "      <td>8.3014</td>\n",
       "      <td>21.0</td>\n",
       "      <td>6.238137</td>\n",
       "      <td>2401.0</td>\n",
       "      <td>2.109842</td>\n",
       "      <td>37.86</td>\n",
       "      <td>3.585</td>\n",
       "    </tr>\n",
       "    <tr>\n",
       "      <th>2</th>\n",
       "      <td>7.2574</td>\n",
       "      <td>52.0</td>\n",
       "      <td>8.288136</td>\n",
       "      <td>496.0</td>\n",
       "      <td>2.802260</td>\n",
       "      <td>37.85</td>\n",
       "      <td>3.521</td>\n",
       "    </tr>\n",
       "    <tr>\n",
       "      <th>3</th>\n",
       "      <td>5.6431</td>\n",
       "      <td>52.0</td>\n",
       "      <td>5.817352</td>\n",
       "      <td>558.0</td>\n",
       "      <td>2.547945</td>\n",
       "      <td>37.85</td>\n",
       "      <td>3.413</td>\n",
       "    </tr>\n",
       "    <tr>\n",
       "      <th>4</th>\n",
       "      <td>3.8462</td>\n",
       "      <td>52.0</td>\n",
       "      <td>6.281853</td>\n",
       "      <td>565.0</td>\n",
       "      <td>2.181467</td>\n",
       "      <td>37.85</td>\n",
       "      <td>3.422</td>\n",
       "    </tr>\n",
       "  </tbody>\n",
       "</table>\n",
       "</div>"
      ],
      "text/plain": [
       "   MedInc  HouseAge  AveRooms  Population  AveOccup  Latitude  MedHouseVal\n",
       "0  8.3252      41.0  6.984127       322.0  2.555556     37.88        4.526\n",
       "1  8.3014      21.0  6.238137      2401.0  2.109842     37.86        3.585\n",
       "2  7.2574      52.0  8.288136       496.0  2.802260     37.85        3.521\n",
       "3  5.6431      52.0  5.817352       558.0  2.547945     37.85        3.413\n",
       "4  3.8462      52.0  6.281853       565.0  2.181467     37.85        3.422"
      ]
     },
     "execution_count": 12,
     "metadata": {},
     "output_type": "execute_result"
    }
   ],
   "source": [
    "df = df.drop(['AveBedrms', 'Longitude'], axis=1)\n",
    "df.head()"
   ]
  },
  {
   "cell_type": "code",
   "execution_count": 13,
   "id": "ec380545",
   "metadata": {},
   "outputs": [
    {
     "name": "stdout",
     "output_type": "stream",
     "text": [
      "R2_train: 0.4744677272245674 RMSE_train: 0.7025046832146269\n",
      "R2_test: 0.46664479303059536 RMSE_test: 0.7150820843917173\n"
     ]
    }
   ],
   "source": [
    "X_2 = df.iloc[:,:-1]\n",
    "y = df['MedHouseVal']\n",
    "scores_2 = get_scores(X_2, y)\n",
    "\n",
    "print(f'''R2_train: {scores_2[0]} RMSE_train: {scores_2[1]}\n",
    "R2_test: {scores_2[2]} RMSE_test: {scores_2[3]}''')"
   ]
  },
  {
   "cell_type": "markdown",
   "id": "d37f8251",
   "metadata": {},
   "source": [
    "### 7. Исследуйте оставленные признаки на выбросы\n",
    "- a. Удалите выбросы в случае обнаружения\n",
    "- b. Повторите п. 3, п. 4 на измененных данных"
   ]
  },
  {
   "cell_type": "code",
   "execution_count": 14,
   "id": "5f63a426",
   "metadata": {},
   "outputs": [
    {
     "data": {
      "image/png": "[encoded data removed]",
      "text/plain": [
       "<Figure size 1224x1080 with 12 Axes>"
      ]
     },
     "metadata": {
      "needs_background": "light"
     },
     "output_type": "display_data"
    }
   ],
   "source": [
    "fig, axs = plt.subplots(4, 3, figsize=(17, 15))\n",
    "\n",
    "for i, column in enumerate(df.columns[:-1]):\n",
    "    k = (i//3) * ((i//3) + 1)\n",
    "    sns.boxplot(x=df[column], ax=axs[k, i%3])\n",
    "    sns.histplot(df[column], ax=axs[k+1, i%3])\n",
    "\n",
    "plt.title('Distribution of features', x=-0.7, y=4.6)\n",
    "plt.show()"
   ]
  },
  {
   "cell_type": "code",
   "execution_count": 15,
   "id": "a880aaf1",
   "metadata": {},
   "outputs": [
    {
     "data": {
      "text/html": [
       "<div>\n",
       "<style scoped>\n",
       "    .dataframe tbody tr th:only-of-type {\n",
       "        vertical-align: middle;\n",
       "    }\n",
       "\n",
       "    .dataframe tbody tr th {\n",
       "        vertical-align: top;\n",
       "    }\n",
       "\n",
       "    .dataframe thead th {\n",
       "        text-align: right;\n",
       "    }\n",
       "</style>\n",
       "<table border=\"1\" class=\"dataframe\">\n",
       "  <thead>\n",
       "    <tr style=\"text-align: right;\">\n",
       "      <th></th>\n",
       "      <th>MedInc</th>\n",
       "      <th>HouseAge</th>\n",
       "      <th>AveRooms</th>\n",
       "      <th>Population</th>\n",
       "      <th>AveOccup</th>\n",
       "      <th>Latitude</th>\n",
       "      <th>MedHouseVal</th>\n",
       "    </tr>\n",
       "  </thead>\n",
       "  <tbody>\n",
       "    <tr>\n",
       "      <th>count</th>\n",
       "      <td>19648.000000</td>\n",
       "      <td>19648.000000</td>\n",
       "      <td>19648.000000</td>\n",
       "      <td>19648.000000</td>\n",
       "      <td>19648.000000</td>\n",
       "      <td>19648.000000</td>\n",
       "      <td>19648.000000</td>\n",
       "    </tr>\n",
       "    <tr>\n",
       "      <th>mean</th>\n",
       "      <td>3.676411</td>\n",
       "      <td>28.373066</td>\n",
       "      <td>5.361708</td>\n",
       "      <td>1441.368485</td>\n",
       "      <td>3.096560</td>\n",
       "      <td>35.651872</td>\n",
       "      <td>1.920553</td>\n",
       "    </tr>\n",
       "    <tr>\n",
       "      <th>std</th>\n",
       "      <td>1.570602</td>\n",
       "      <td>12.504050</td>\n",
       "      <td>2.293321</td>\n",
       "      <td>1144.075196</td>\n",
       "      <td>10.639195</td>\n",
       "      <td>2.150066</td>\n",
       "      <td>0.971109</td>\n",
       "    </tr>\n",
       "    <tr>\n",
       "      <th>min</th>\n",
       "      <td>0.499900</td>\n",
       "      <td>1.000000</td>\n",
       "      <td>0.846154</td>\n",
       "      <td>3.000000</td>\n",
       "      <td>0.692308</td>\n",
       "      <td>32.540000</td>\n",
       "      <td>0.149990</td>\n",
       "    </tr>\n",
       "    <tr>\n",
       "      <th>25%</th>\n",
       "      <td>2.526300</td>\n",
       "      <td>18.000000</td>\n",
       "      <td>4.416667</td>\n",
       "      <td>796.000000</td>\n",
       "      <td>2.446614</td>\n",
       "      <td>33.930000</td>\n",
       "      <td>1.164750</td>\n",
       "    </tr>\n",
       "    <tr>\n",
       "      <th>50%</th>\n",
       "      <td>3.449050</td>\n",
       "      <td>28.000000</td>\n",
       "      <td>5.185730</td>\n",
       "      <td>1179.000000</td>\n",
       "      <td>2.837779</td>\n",
       "      <td>34.270000</td>\n",
       "      <td>1.736000</td>\n",
       "    </tr>\n",
       "    <tr>\n",
       "      <th>75%</th>\n",
       "      <td>4.582500</td>\n",
       "      <td>37.000000</td>\n",
       "      <td>5.971083</td>\n",
       "      <td>1746.250000</td>\n",
       "      <td>3.306021</td>\n",
       "      <td>37.730000</td>\n",
       "      <td>2.479000</td>\n",
       "    </tr>\n",
       "    <tr>\n",
       "      <th>max</th>\n",
       "      <td>15.000100</td>\n",
       "      <td>52.000000</td>\n",
       "      <td>132.533333</td>\n",
       "      <td>35682.000000</td>\n",
       "      <td>1243.333333</td>\n",
       "      <td>41.950000</td>\n",
       "      <td>4.991000</td>\n",
       "    </tr>\n",
       "  </tbody>\n",
       "</table>\n",
       "</div>"
      ],
      "text/plain": [
       "             MedInc      HouseAge      AveRooms    Population      AveOccup  \\\n",
       "count  19648.000000  19648.000000  19648.000000  19648.000000  19648.000000   \n",
       "mean       3.676411     28.373066      5.361708   1441.368485      3.096560   \n",
       "std        1.570602     12.504050      2.293321   1144.075196     10.639195   \n",
       "min        0.499900      1.000000      0.846154      3.000000      0.692308   \n",
       "25%        2.526300     18.000000      4.416667    796.000000      2.446614   \n",
       "50%        3.449050     28.000000      5.185730   1179.000000      2.837779   \n",
       "75%        4.582500     37.000000      5.971083   1746.250000      3.306021   \n",
       "max       15.000100     52.000000    132.533333  35682.000000   1243.333333   \n",
       "\n",
       "           Latitude   MedHouseVal  \n",
       "count  19648.000000  19648.000000  \n",
       "mean      35.651872      1.920553  \n",
       "std        2.150066      0.971109  \n",
       "min       32.540000      0.149990  \n",
       "25%       33.930000      1.164750  \n",
       "50%       34.270000      1.736000  \n",
       "75%       37.730000      2.479000  \n",
       "max       41.950000      4.991000  "
      ]
     },
     "execution_count": 15,
     "metadata": {},
     "output_type": "execute_result"
    }
   ],
   "source": [
    "df.describe()"
   ]
  },
  {
   "cell_type": "markdown",
   "id": "7135f26e",
   "metadata": {},
   "source": [
    "- Для параметров `HouseAge` и `Latitude` визуальный анализ не определяет выбросы. От минимума до максимума значения в обоих столбцах лежат во вполне разумных и объяснимых рамках. Попробую этому довериться.\n",
    "\n",
    "\n",
    "- Относительно параметра `AveRooms` в описании датасета сказано, что значения в этом столбце могут быть очень большими для курортных районов, где наблюдается высокая концентрация пустующих домов. Верхние выбросы для этого признака на боксплоте расположены довольно плотно, за исключением одного, самого значительного. Его я и поробую удалить, как и значения меньше `1`."
   ]
  },
  {
   "cell_type": "code",
   "execution_count": 16,
   "id": "9a0927da",
   "metadata": {},
   "outputs": [
    {
     "name": "stdout",
     "output_type": "stream",
     "text": [
      "1979     132.533333\n",
      "12447     62.422222\n",
      "1913      61.812500\n",
      "11862     59.875000\n",
      "1912      56.269231\n",
      "            ...    \n",
      "14818      1.130435\n",
      "17820      1.130435\n",
      "3126       1.000000\n",
      "8219       0.888889\n",
      "5916       0.846154\n",
      "Name: AveRooms, Length: 19648, dtype: float64\n"
     ]
    }
   ],
   "source": [
    "print(df.AveRooms.sort_values(ascending=False))\n",
    "df = df[df.AveRooms.between(1, 100)]"
   ]
  },
  {
   "cell_type": "markdown",
   "id": "924c602a",
   "metadata": {},
   "source": [
    "- Для параметра `MedInc`, обозначающего медианный уровень дохода жителей района я также подчищу выбросы сверху. Я не стану избавляться от выбросов полностью, так как мне не кажется, что это на самом деле ошибки в данных. Скорее всего это районы, в которых действительно значительно более высокий уровень доходов жителей, относительно других районов. Также я помню, что это наиболее сильно коррелирующий с целевой переменной признак. Я избавлюсь от объектов со значением `MedInc` более `11`."
   ]
  },
  {
   "cell_type": "code",
   "execution_count": 17,
   "id": "f0324f0a",
   "metadata": {},
   "outputs": [
    {
     "name": "stdout",
     "output_type": "stream",
     "text": [
      "18504    15.0001\n",
      "1566     15.0001\n",
      "18501    15.0001\n",
      "10517    13.1477\n",
      "10155    13.1107\n",
      "1564     12.5915\n",
      "11912    12.5381\n",
      "16828    12.5000\n",
      "17798    12.3292\n",
      "131      11.6017\n",
      "Name: MedInc, dtype: float64\n"
     ]
    }
   ],
   "source": [
    "print(df.MedInc.sort_values(ascending=False).head(10))\n",
    "df = df[df.MedInc < 11]"
   ]
  },
  {
   "cell_type": "markdown",
   "id": "3d84b0a1",
   "metadata": {},
   "source": [
    "- Про `Population` в описании датасета сказано, что обычно население района составляет от 600 до 3000 человек. На боксплоте примерно со значения `3000` точки как раз начинают классифицироваться как выбросы. Я возьму несколько большее значение `5000` для отсечения верхних выбросов.\n",
    "\n",
    "\n",
    "- Есть сходство с предыдущим признаком в распределении параметра `AveOccup`. Это среднее количество жителей в домах района. Здесь есть как экстремально высокие значения, так и значения меньше `1`. Я избавлюсь от значений свыше `10` и меньше `1`. Это позволит значительно сократить разброс значений и при этом сохранить почти все наблюдения."
   ]
  },
  {
   "cell_type": "code",
   "execution_count": 18,
   "id": "29766176",
   "metadata": {},
   "outputs": [],
   "source": [
    "df = df[df.Population < 5000]\n",
    "df = df[df.AveOccup.between(1, 10)]"
   ]
  },
  {
   "cell_type": "code",
   "execution_count": 19,
   "id": "5e5101c4",
   "metadata": {},
   "outputs": [
    {
     "name": "stdout",
     "output_type": "stream",
     "text": [
      "R2_train: 0.5300923006326124 RMSE_train: 0.6617357685310332\n",
      "R2_test: 0.5544513951756243 RMSE_test: 0.6653300132423112\n"
     ]
    }
   ],
   "source": [
    "X_3 = df.iloc[:,:-1]\n",
    "y = df['MedHouseVal']\n",
    "scores_3 = get_scores(X_3, y)\n",
    "\n",
    "print(f'''R2_train: {scores_3[0]} RMSE_train: {scores_3[1]}\n",
    "R2_test: {scores_3[2]} RMSE_test: {scores_3[3]}''')"
   ]
  },
  {
   "cell_type": "markdown",
   "id": "fe6a28e3",
   "metadata": {},
   "source": [
    "### 8. Измените несколько признаков на выбор математически. Например, вычислите логарифм, возведите в квадрат, извлеките квадратный корень\n",
    "- a. Повторите п. 3, п. 4 на измененных данных."
   ]
  },
  {
   "cell_type": "code",
   "execution_count": 20,
   "id": "e1c329a7",
   "metadata": {},
   "outputs": [
    {
     "data": {
      "text/html": [
       "<div>\n",
       "<style scoped>\n",
       "    .dataframe tbody tr th:only-of-type {\n",
       "        vertical-align: middle;\n",
       "    }\n",
       "\n",
       "    .dataframe tbody tr th {\n",
       "        vertical-align: top;\n",
       "    }\n",
       "\n",
       "    .dataframe thead th {\n",
       "        text-align: right;\n",
       "    }\n",
       "</style>\n",
       "<table border=\"1\" class=\"dataframe\">\n",
       "  <thead>\n",
       "    <tr style=\"text-align: right;\">\n",
       "      <th></th>\n",
       "      <th>MedInc</th>\n",
       "      <th>HouseAge</th>\n",
       "      <th>AveRooms</th>\n",
       "      <th>Population</th>\n",
       "      <th>AveOccup</th>\n",
       "      <th>Latitude</th>\n",
       "      <th>MedHouseVal</th>\n",
       "      <th>MedInc_squared</th>\n",
       "      <th>MedInc_sqrt</th>\n",
       "      <th>MedInc_log</th>\n",
       "      <th>...</th>\n",
       "      <th>AveRooms_log</th>\n",
       "      <th>Population_squared</th>\n",
       "      <th>Population_sqrt</th>\n",
       "      <th>Population_log</th>\n",
       "      <th>AveOccup_squared</th>\n",
       "      <th>AveOccup_sqrt</th>\n",
       "      <th>AveOccup_log</th>\n",
       "      <th>Latitude_squared</th>\n",
       "      <th>Latitude_sqrt</th>\n",
       "      <th>Latitude_log</th>\n",
       "    </tr>\n",
       "  </thead>\n",
       "  <tbody>\n",
       "    <tr>\n",
       "      <th>0</th>\n",
       "      <td>8.3252</td>\n",
       "      <td>41.0</td>\n",
       "      <td>6.984127</td>\n",
       "      <td>322.0</td>\n",
       "      <td>2.555556</td>\n",
       "      <td>37.88</td>\n",
       "      <td>4.526</td>\n",
       "      <td>69.308955</td>\n",
       "      <td>2.885342</td>\n",
       "      <td>2.119287</td>\n",
       "      <td>...</td>\n",
       "      <td>1.943640</td>\n",
       "      <td>103684.0</td>\n",
       "      <td>17.944358</td>\n",
       "      <td>5.774552</td>\n",
       "      <td>6.530864</td>\n",
       "      <td>1.598611</td>\n",
       "      <td>0.938270</td>\n",
       "      <td>1434.8944</td>\n",
       "      <td>6.154673</td>\n",
       "      <td>3.634423</td>\n",
       "    </tr>\n",
       "    <tr>\n",
       "      <th>1</th>\n",
       "      <td>8.3014</td>\n",
       "      <td>21.0</td>\n",
       "      <td>6.238137</td>\n",
       "      <td>2401.0</td>\n",
       "      <td>2.109842</td>\n",
       "      <td>37.86</td>\n",
       "      <td>3.585</td>\n",
       "      <td>68.913242</td>\n",
       "      <td>2.881215</td>\n",
       "      <td>2.116424</td>\n",
       "      <td>...</td>\n",
       "      <td>1.830682</td>\n",
       "      <td>5764801.0</td>\n",
       "      <td>49.000000</td>\n",
       "      <td>7.783641</td>\n",
       "      <td>4.451433</td>\n",
       "      <td>1.452529</td>\n",
       "      <td>0.746613</td>\n",
       "      <td>1433.3796</td>\n",
       "      <td>6.153048</td>\n",
       "      <td>3.633895</td>\n",
       "    </tr>\n",
       "    <tr>\n",
       "      <th>2</th>\n",
       "      <td>7.2574</td>\n",
       "      <td>52.0</td>\n",
       "      <td>8.288136</td>\n",
       "      <td>496.0</td>\n",
       "      <td>2.802260</td>\n",
       "      <td>37.85</td>\n",
       "      <td>3.521</td>\n",
       "      <td>52.669855</td>\n",
       "      <td>2.693956</td>\n",
       "      <td>1.982022</td>\n",
       "      <td>...</td>\n",
       "      <td>2.114825</td>\n",
       "      <td>246016.0</td>\n",
       "      <td>22.271057</td>\n",
       "      <td>6.206576</td>\n",
       "      <td>7.852660</td>\n",
       "      <td>1.673995</td>\n",
       "      <td>1.030426</td>\n",
       "      <td>1432.6225</td>\n",
       "      <td>6.152235</td>\n",
       "      <td>3.633631</td>\n",
       "    </tr>\n",
       "    <tr>\n",
       "      <th>3</th>\n",
       "      <td>5.6431</td>\n",
       "      <td>52.0</td>\n",
       "      <td>5.817352</td>\n",
       "      <td>558.0</td>\n",
       "      <td>2.547945</td>\n",
       "      <td>37.85</td>\n",
       "      <td>3.413</td>\n",
       "      <td>31.844578</td>\n",
       "      <td>2.375521</td>\n",
       "      <td>1.730434</td>\n",
       "      <td>...</td>\n",
       "      <td>1.760845</td>\n",
       "      <td>311364.0</td>\n",
       "      <td>23.622024</td>\n",
       "      <td>6.324359</td>\n",
       "      <td>6.492025</td>\n",
       "      <td>1.596228</td>\n",
       "      <td>0.935287</td>\n",
       "      <td>1432.6225</td>\n",
       "      <td>6.152235</td>\n",
       "      <td>3.633631</td>\n",
       "    </tr>\n",
       "    <tr>\n",
       "      <th>4</th>\n",
       "      <td>3.8462</td>\n",
       "      <td>52.0</td>\n",
       "      <td>6.281853</td>\n",
       "      <td>565.0</td>\n",
       "      <td>2.181467</td>\n",
       "      <td>37.85</td>\n",
       "      <td>3.422</td>\n",
       "      <td>14.793254</td>\n",
       "      <td>1.961173</td>\n",
       "      <td>1.347086</td>\n",
       "      <td>...</td>\n",
       "      <td>1.837665</td>\n",
       "      <td>319225.0</td>\n",
       "      <td>23.769729</td>\n",
       "      <td>6.336826</td>\n",
       "      <td>4.758799</td>\n",
       "      <td>1.476979</td>\n",
       "      <td>0.779998</td>\n",
       "      <td>1432.6225</td>\n",
       "      <td>6.152235</td>\n",
       "      <td>3.633631</td>\n",
       "    </tr>\n",
       "  </tbody>\n",
       "</table>\n",
       "<p>5 rows × 25 columns</p>\n",
       "</div>"
      ],
      "text/plain": [
       "   MedInc  HouseAge  AveRooms  Population  AveOccup  Latitude  MedHouseVal  \\\n",
       "0  8.3252      41.0  6.984127       322.0  2.555556     37.88        4.526   \n",
       "1  8.3014      21.0  6.238137      2401.0  2.109842     37.86        3.585   \n",
       "2  7.2574      52.0  8.288136       496.0  2.802260     37.85        3.521   \n",
       "3  5.6431      52.0  5.817352       558.0  2.547945     37.85        3.413   \n",
       "4  3.8462      52.0  6.281853       565.0  2.181467     37.85        3.422   \n",
       "\n",
       "   MedInc_squared  MedInc_sqrt  MedInc_log  ...  AveRooms_log  \\\n",
       "0       69.308955     2.885342    2.119287  ...      1.943640   \n",
       "1       68.913242     2.881215    2.116424  ...      1.830682   \n",
       "2       52.669855     2.693956    1.982022  ...      2.114825   \n",
       "3       31.844578     2.375521    1.730434  ...      1.760845   \n",
       "4       14.793254     1.961173    1.347086  ...      1.837665   \n",
       "\n",
       "   Population_squared  Population_sqrt  Population_log  AveOccup_squared  \\\n",
       "0            103684.0        17.944358        5.774552          6.530864   \n",
       "1           5764801.0        49.000000        7.783641          4.451433   \n",
       "2            246016.0        22.271057        6.206576          7.852660   \n",
       "3            311364.0        23.622024        6.324359          6.492025   \n",
       "4            319225.0        23.769729        6.336826          4.758799   \n",
       "\n",
       "   AveOccup_sqrt  AveOccup_log  Latitude_squared  Latitude_sqrt  Latitude_log  \n",
       "0       1.598611      0.938270         1434.8944       6.154673      3.634423  \n",
       "1       1.452529      0.746613         1433.3796       6.153048      3.633895  \n",
       "2       1.673995      1.030426         1432.6225       6.152235      3.633631  \n",
       "3       1.596228      0.935287         1432.6225       6.152235      3.633631  \n",
       "4       1.476979      0.779998         1432.6225       6.152235      3.633631  \n",
       "\n",
       "[5 rows x 25 columns]"
      ]
     },
     "execution_count": 20,
     "metadata": {},
     "output_type": "execute_result"
    }
   ],
   "source": [
    "for column in df.columns[:-1]:\n",
    "    df[column+'_squared'] = df[column]**2\n",
    "    df[column+'_sqrt'] = np.sqrt(df[column])\n",
    "    df[column+'_log'] = np.log(df[column])\n",
    "\n",
    "df.head()"
   ]
  },
  {
   "cell_type": "code",
   "execution_count": 21,
   "id": "051a5abc",
   "metadata": {},
   "outputs": [
    {
     "name": "stdout",
     "output_type": "stream",
     "text": [
      "R2_train: 0.5856620334481295 RMSE_train: 0.6213777450347949\n",
      "R2_test: 0.609333056146113 RMSE_test: 0.6230069673181968\n"
     ]
    }
   ],
   "source": [
    "X_4 = df.drop(['MedHouseVal'], axis=1)\n",
    "y = df['MedHouseVal']\n",
    "scores_4 = get_scores(X_4, y)\n",
    "\n",
    "print(f'''R2_train: {scores_4[0]} RMSE_train: {scores_4[1]}\n",
    "R2_test: {scores_4[2]} RMSE_test: {scores_4[3]}''')"
   ]
  },
  {
   "cell_type": "markdown",
   "id": "f014fe42",
   "metadata": {},
   "source": [
    "### 9. Сформулируйте выводы по проделанной работе.\n",
    "- a. Кратко опишите какие преобразования были сделаны с данными.\n",
    "- b. Сравните метрики всех моделей. Желательно оформление в виде таблицы вида |модель|RMSE|R2|признаки, на которых проводилось обучение с указанием их преобразований|.\n",
    "- c. Напишите свое мнение, в полной ли мере модели справились с поставленной задачей."
   ]
  },
  {
   "cell_type": "markdown",
   "id": "bacc8fbf",
   "metadata": {},
   "source": [
    "На последнем этапе работы с переменными я добавил для каждого из оставшихся признаков 4 дополнительных столбца с преобразованными значениями признака:\n",
    "- Возведение в квадрат\n",
    "- Взятие квадратного корня\n",
    "- Взяите натурального логарифма\n",
    "\n",
    "Для сравнения работы моделей я буду обращать внимание на метрики R2 и RMSE для тестового подмножества. На протяжении работы с переменными я получал улучшение показателя RMSE на каждом этапе, то есть потери в работе модели неминуемо сокращались. При этом метрика R2 сначала резко ухудшилась после удаления двух признаков и выбросов в целевой переменной. Сейчас я предполагаю, что такое ухудшение вызвало удаление мной полезного признака `Longitude`. На следующем этапе, после работы с выбросами в других переменных R2 заметно подрос, но не догнал значение метрики на первом этапе.\n",
    "\n",
    "На последнем этапе я не стал выбирать отдельные признаки для преобразований, проделав каждое из выбранных действий со всеми столбцами. В итоге наилучший результат модель показала с полным набором признаков и их преобразований. При этом я бы не назвал получившийся результат сколько-нибудь впечатляющим. Итоговый прирост для R2 получился около 6%, но при этом RMSE показал улучшение на 16%. Вероятно зависимость целевой переменной от имеющихся данных носит более сложный и нелинейный характер, либо в датасете могли быть не учтены другие важные параметры."
   ]
  },
  {
   "cell_type": "code",
   "execution_count": 22,
   "id": "a1e5fbd0",
   "metadata": {},
   "outputs": [
    {
     "data": {
      "text/html": [
       "<div>\n",
       "<style scoped>\n",
       "    .dataframe tbody tr th:only-of-type {\n",
       "        vertical-align: middle;\n",
       "    }\n",
       "\n",
       "    .dataframe tbody tr th {\n",
       "        vertical-align: top;\n",
       "    }\n",
       "\n",
       "    .dataframe thead th {\n",
       "        text-align: right;\n",
       "    }\n",
       "</style>\n",
       "<table border=\"1\" class=\"dataframe\">\n",
       "  <thead>\n",
       "    <tr style=\"text-align: right;\">\n",
       "      <th></th>\n",
       "      <th>model_no</th>\n",
       "      <th>R2_test</th>\n",
       "      <th>RMSE_test</th>\n",
       "      <th>features</th>\n",
       "    </tr>\n",
       "  </thead>\n",
       "  <tbody>\n",
       "    <tr>\n",
       "      <th>0</th>\n",
       "      <td>1</td>\n",
       "      <td>0.575788</td>\n",
       "      <td>0.745581</td>\n",
       "      <td>[MedInc, HouseAge, AveRooms, AveBedrms, Popula...</td>\n",
       "    </tr>\n",
       "    <tr>\n",
       "      <th>1</th>\n",
       "      <td>2</td>\n",
       "      <td>0.466645</td>\n",
       "      <td>0.715082</td>\n",
       "      <td>[MedInc, HouseAge, AveRooms, Population, AveOc...</td>\n",
       "    </tr>\n",
       "    <tr>\n",
       "      <th>2</th>\n",
       "      <td>3</td>\n",
       "      <td>0.554451</td>\n",
       "      <td>0.665330</td>\n",
       "      <td>[MedInc, HouseAge, AveRooms, Population, AveOc...</td>\n",
       "    </tr>\n",
       "    <tr>\n",
       "      <th>3</th>\n",
       "      <td>4</td>\n",
       "      <td>0.609333</td>\n",
       "      <td>0.623007</td>\n",
       "      <td>[MedInc, HouseAge, AveRooms, Population, AveOc...</td>\n",
       "    </tr>\n",
       "  </tbody>\n",
       "</table>\n",
       "</div>"
      ],
      "text/plain": [
       "   model_no   R2_test  RMSE_test  \\\n",
       "0         1  0.575788   0.745581   \n",
       "1         2  0.466645   0.715082   \n",
       "2         3  0.554451   0.665330   \n",
       "3         4  0.609333   0.623007   \n",
       "\n",
       "                                            features  \n",
       "0  [MedInc, HouseAge, AveRooms, AveBedrms, Popula...  \n",
       "1  [MedInc, HouseAge, AveRooms, Population, AveOc...  \n",
       "2  [MedInc, HouseAge, AveRooms, Population, AveOc...  \n",
       "3  [MedInc, HouseAge, AveRooms, Population, AveOc...  "
      ]
     },
     "execution_count": 22,
     "metadata": {},
     "output_type": "execute_result"
    }
   ],
   "source": [
    "pd.DataFrame({'model_no': [1, 2, 3, 4],\n",
    "              'R2_test': [scores_1[2], scores_2[2], scores_3[2], scores_4[2]],\n",
    "              'RMSE_test': [scores_1[3], scores_2[3], scores_3[3], scores_4[3]],\n",
    "              'features': [list(X_1.columns), list(X_2.columns), list(X_3.columns), list(X_4.columns)]})"
   ]
  }
 ],
 "metadata": {
  "kernelspec": {
   "display_name": "Python 3 (ipykernel)",
   "language": "python",
   "name": "python3"
  },
  "language_info": {
   "codemirror_mode": {
    "name": "ipython",
    "version": 3
   },
   "file_extension": ".py",
   "mimetype": "text/x-python",
   "name": "python",
   "nbconvert_exporter": "python",
   "pygments_lexer": "ipython3",
   "version": "3.9.12"
  }
 },
 "nbformat": 4,
 "nbformat_minor": 5
}

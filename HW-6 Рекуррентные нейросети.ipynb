{
  "cells": [
    {
      "cell_type": "code",
      "execution_count": 1,
      "id": "422f5938",
      "metadata": {
        "colab": {
          "base_uri": "https://localhost:8080/"
        },
        "id": "422f5938",
        "outputId": "58317762-1d5e-447b-f8dd-9f36afc171df"
      },
      "outputs": [
        {
          "output_type": "stream",
          "name": "stdout",
          "text": [
            "Mounted at /content/drive\n"
          ]
        }
      ],
      "source": [
        "import pandas as pd\n",
        "import numpy as np\n",
        "import time\n",
        "from tqdm import tqdm\n",
        "import torch\n",
        "from torch import nn\n",
        "\n",
        "import warnings\n",
        "warnings.filterwarnings('ignore')\n",
        "\n",
        "from google.colab import drive\n",
        "drive.mount('/content/drive')"
      ]
    },
    {
      "cell_type": "markdown",
      "source": [
        "# Данные"
      ],
      "metadata": {
        "id": "jdaYTjecIhIO"
      },
      "id": "jdaYTjecIhIO"
    },
    {
      "cell_type": "code",
      "execution_count": 2,
      "id": "53c7f0ea",
      "metadata": {
        "id": "53c7f0ea"
      },
      "outputs": [],
      "source": [
        "INDEX_TO_CHAR = ['none'] + list(' abcdefghijklmnopqrstuvwxyz')\n",
        "CHAR_TO_INDEX = {w: i for i, w in enumerate(INDEX_TO_CHAR)}"
      ]
    },
    {
      "cell_type": "code",
      "execution_count": 3,
      "id": "cf4129ed",
      "metadata": {
        "colab": {
          "base_uri": "https://localhost:8080/"
        },
        "id": "cf4129ed",
        "outputId": "c44036c5-68e2-42eb-f3f8-ed93d75b2fe7"
      },
      "outputs": [
        {
          "output_type": "stream",
          "name": "stdout",
          "text": [
            "['w', 'h', 'e', 'r', 'e', 's', ' ', 'm', 'r', ' ', 'b', 'e', 'r', 'g', 's', 't', 'r', 'o', 'm']\n"
          ]
        }
      ],
      "source": [
        "df = pd.read_csv('drive/MyDrive/simpsons_script_lines.csv')\n",
        "phrases = df['normalized_text'].tolist()\n",
        "text = [[c for c in ph] for ph in phrases if (type(ph) is str) and (set(ph).issubset(INDEX_TO_CHAR))]\n",
        "print(text[1])"
      ]
    },
    {
      "cell_type": "markdown",
      "source": [
        "# Задание 1\n",
        "## Обучите нейронную сеть решать шифр Цезаря"
      ],
      "metadata": {
        "id": "WYIVsZ8sHjRE"
      },
      "id": "WYIVsZ8sHjRE"
    },
    {
      "cell_type": "markdown",
      "source": [
        "### 1. Написать алгоритм шифра Цезаря для генерации выборки (сдвиг на К каждой буквы. Например, при сдвиге на 2 буква “А” переходит в букву “В” и тп)"
      ],
      "metadata": {
        "id": "fpBPuQofHrHy"
      },
      "id": "fpBPuQofHrHy"
    },
    {
      "cell_type": "code",
      "execution_count": null,
      "id": "6a6dec92",
      "metadata": {
        "id": "6a6dec92"
      },
      "outputs": [],
      "source": [
        "MAX_LEN = 50\n",
        "X = torch.zeros((len(text), MAX_LEN), dtype=int)\n",
        "y = torch.zeros((len(text), MAX_LEN), dtype=int)\n",
        "\n",
        "for i in range(len(text)):\n",
        "    K = np.random.choice(range(1, 27))\n",
        "    for j, w in enumerate(text[i]):\n",
        "        if j >= MAX_LEN:\n",
        "            break\n",
        "        idx = CHAR_TO_INDEX[w]\n",
        "        y[i, j] = idx\n",
        "        X[i, j] = int(np.ceil(np.mod(idx + (K - 0.1), 27)))\n",
        "        # здесь немного мудреная логика для того, чтобы среди зашифрованных\n",
        "        # символов не было нулей, которые зарезервированы под 'none'"
      ]
    },
    {
      "cell_type": "code",
      "execution_count": null,
      "id": "5bad3777",
      "metadata": {
        "colab": {
          "base_uri": "https://localhost:8080/"
        },
        "id": "5bad3777",
        "outputId": "5a20b27f-7e9f-4592-c3aa-548b4910bccf"
      },
      "outputs": [
        {
          "output_type": "stream",
          "name": "stdout",
          "text": [
            "Шифр: сдвиг на 7 символов\n",
            "\n",
            "Исходный текст:\n",
            "['n', 'o', ' ', 't', 'h', 'a', 't', ' ', 'm', 'e', 'a', 'n', 's', ' ', 's', 'h', 'e', ' ', 'w', 'a', 's', ' ', 'f', 'a', 'k', 'i', 'n', 'g', ' ', 'i', 't']\n",
            "\n",
            "Исходный текст числами:\n",
            "tensor([15, 16,  1, 21,  9,  2, 21,  1, 14,  6,  2, 15, 20,  1, 20,  9,  6,  1,\n",
            "        24,  2, 20,  1,  7,  2, 12, 10, 15,  8,  1, 10, 21,  0,  0,  0,  0,  0,\n",
            "         0,  0,  0,  0,  0,  0,  0,  0,  0,  0,  0,  0,  0,  0])\n",
            "\n",
            "Зашифрованный текст числами:\n",
            "tensor([22, 23,  8,  1, 16,  9,  1,  8, 21, 13,  9, 22, 27,  8, 27, 16, 13,  8,\n",
            "         4,  9, 27,  8, 14,  9, 19, 17, 22, 15,  8, 17,  1,  0,  0,  0,  0,  0,\n",
            "         0,  0,  0,  0,  0,  0,  0,  0,  0,  0,  0,  0,  0,  0])\n"
          ]
        }
      ],
      "source": [
        "print(f'Шифр: сдвиг на {K} символов\\n')\n",
        "print('Исходный текст:')\n",
        "print(text[-1])\n",
        "print()\n",
        "print('Исходный текст числами:')\n",
        "print(y[-1])\n",
        "print()\n",
        "print('Зашифрованный текст числами:')\n",
        "print(X[-1])"
      ]
    },
    {
      "cell_type": "markdown",
      "source": [
        "### 2. Сделать нейронную сеть"
      ],
      "metadata": {
        "id": "U35DvdF6JeI4"
      },
      "id": "U35DvdF6JeI4"
    },
    {
      "cell_type": "code",
      "execution_count": null,
      "id": "977cf33b",
      "metadata": {
        "id": "977cf33b"
      },
      "outputs": [],
      "source": [
        "class Network(torch.nn.Module):\n",
        "    def __init__(self):\n",
        "        super(Network, self).__init__()\n",
        "        self.embedding = torch.nn.Embedding(28, 32)\n",
        "        self.rnn = torch.nn.RNN(32, 128)\n",
        "        self.out = torch.nn.Linear(128, 28)\n",
        "\n",
        "    def forward(self, sentences, state=None):\n",
        "        x = self.embedding(sentences)\n",
        "        x, s = self.rnn(x)\n",
        "        return self.out(x)"
      ]
    },
    {
      "cell_type": "code",
      "source": [
        "device = \"cuda\" if torch.cuda.is_available() else \"cpu\"\n",
        "device"
      ],
      "metadata": {
        "colab": {
          "base_uri": "https://localhost:8080/",
          "height": 35
        },
        "id": "0WJCXqZW6qoo",
        "outputId": "708066f2-520d-4da7-df5e-11f13d24f5d3"
      },
      "id": "0WJCXqZW6qoo",
      "execution_count": null,
      "outputs": [
        {
          "output_type": "execute_result",
          "data": {
            "text/plain": [
              "'cuda'"
            ],
            "application/vnd.google.colaboratory.intrinsic+json": {
              "type": "string"
            }
          },
          "metadata": {},
          "execution_count": 7
        }
      ]
    },
    {
      "cell_type": "code",
      "execution_count": null,
      "id": "e704e5aa",
      "metadata": {
        "id": "e704e5aa"
      },
      "outputs": [],
      "source": [
        "model = Network()\n",
        "model = model.to(device)\n",
        "criterion = nn.CrossEntropyLoss()\n",
        "optimizer = torch.optim.Adam(model.parameters())"
      ]
    },
    {
      "cell_type": "markdown",
      "source": [
        "### 3. Обучить ее (вход - зашифрованная фраза, выход - дешифрованная фраза)"
      ],
      "metadata": {
        "id": "gO58cNy0JjNi"
      },
      "id": "gO58cNy0JjNi"
    },
    {
      "cell_type": "code",
      "execution_count": null,
      "id": "cf028f81",
      "metadata": {
        "colab": {
          "base_uri": "https://localhost:8080/"
        },
        "id": "cf028f81",
        "outputId": "dc19300e-aa84-40bb-8f06-fdbe7f2a7bab"
      },
      "outputs": [
        {
          "output_type": "stream",
          "name": "stderr",
          "text": [
            "100%|██████████| 117015/117015 [04:01<00:00, 483.71it/s]\n"
          ]
        },
        {
          "output_type": "stream",
          "name": "stdout",
          "text": [
            "Epoch 0. Time: 241.927, Train loss: 0.870\n"
          ]
        },
        {
          "output_type": "stream",
          "name": "stderr",
          "text": [
            "100%|██████████| 117015/117015 [04:01<00:00, 484.44it/s]"
          ]
        },
        {
          "output_type": "stream",
          "name": "stdout",
          "text": [
            "Epoch 1. Time: 241.565, Train loss: 0.715\n"
          ]
        },
        {
          "output_type": "stream",
          "name": "stderr",
          "text": [
            "\n"
          ]
        }
      ],
      "source": [
        "for ep in range(2):\n",
        "    model.train(True)\n",
        "    start = time.time()\n",
        "    train_loss = 0.0\n",
        "    train_passed = 0\n",
        "\n",
        "    queue = list(range(len(X)))\n",
        "    np.random.shuffle(queue)\n",
        "    for i in tqdm(queue):\n",
        "        X_batch = X[i].to(device)\n",
        "        Y_batch = y[i].to(device)\n",
        "\n",
        "        optimizer.zero_grad()\n",
        "        answers = model.forward(X_batch)\n",
        "        loss = criterion(answers, Y_batch)\n",
        "        train_loss += loss.item()\n",
        "\n",
        "        loss.backward()\n",
        "        optimizer.step()\n",
        "        train_passed += 1\n",
        "    print(\"Epoch {}. Time: {:.3f}, Train loss: {:.3f}\".format(ep, time.time() - start, train_loss / train_passed))"
      ]
    },
    {
      "cell_type": "markdown",
      "source": [
        "### 4. Проверить качество"
      ],
      "metadata": {
        "id": "7AoJwsfeJ1fu"
      },
      "id": "7AoJwsfeJ1fu"
    },
    {
      "cell_type": "code",
      "source": [
        "model.train(False)\n",
        "for i in range(5):\n",
        "    idx = np.random.choice(len(X))\n",
        "    pred = model.forward(X[idx].to(device))\n",
        "    print(f'Пример № {i+1}')\n",
        "    print('Исходный текст:')\n",
        "    print(''.join([INDEX_TO_CHAR[i] for i in y[idx] if i != 0]))\n",
        "    print('Расшифрованный текст:')\n",
        "    print(''.join([INDEX_TO_CHAR[i] for i in torch.argmax(pred, dim=1) if i != 0]))\n",
        "    print()"
      ],
      "metadata": {
        "colab": {
          "base_uri": "https://localhost:8080/"
        },
        "id": "fyfbIY_rSdoa",
        "outputId": "15c1e7f8-01ee-488e-8ead-628d125cd499"
      },
      "id": "fyfbIY_rSdoa",
      "execution_count": null,
      "outputs": [
        {
          "output_type": "stream",
          "name": "stdout",
          "text": [
            "Пример № 1\n",
            "Исходный текст:\n",
            "they dont even play their own instruments\n",
            "Расшифрованный текст:\n",
            "ooee dont even play their own instru eat \n",
            "\n",
            "Пример № 2\n",
            "Исходный текст:\n",
            "uh not as such\n",
            "Расшифрованный текст:\n",
            "tou pmtas snwa\n",
            "\n",
            "Пример № 3\n",
            "Исходный текст:\n",
            "maybe one of your tavern wenches can do the laundr\n",
            "Расшифрованный текст:\n",
            "woeid one ofmyour tavern wenches cun do the laundr\n",
            "\n",
            "Пример № 4\n",
            "Исходный текст:\n",
            "wow\n",
            "Расшифрованный текст:\n",
            "yha\n",
            "\n",
            "Пример № 5\n",
            "Исходный текст:\n",
            "that felt good\n",
            "Расшифрованный текст:\n",
            "oot  felt good\n",
            "\n"
          ]
        }
      ]
    },
    {
      "cell_type": "markdown",
      "source": [
        "# Задание 2\n",
        "## Выполнить практическую работу из лекционного ноутбука"
      ],
      "metadata": {
        "id": "VioIcgIComT5"
      },
      "id": "VioIcgIComT5"
    },
    {
      "cell_type": "markdown",
      "source": [
        "### 1. Построить RNN-ячейку на основе полносвязных слоев"
      ],
      "metadata": {
        "id": "pYlE36i6osIT"
      },
      "id": "pYlE36i6osIT"
    },
    {
      "cell_type": "code",
      "source": [
        "MAX_LEN = 50\n",
        "X = torch.zeros((len(text), MAX_LEN), dtype=int)\n",
        "\n",
        "for i in range(len(text)):\n",
        "    for j, w in enumerate(text[i]):\n",
        "        if j >= MAX_LEN:\n",
        "            break\n",
        "        X[i, j] = CHAR_TO_INDEX.get(w, CHAR_TO_INDEX['none'])"
      ],
      "metadata": {
        "id": "6bj6k9qGxkPY"
      },
      "id": "6bj6k9qGxkPY",
      "execution_count": 6,
      "outputs": []
    },
    {
      "cell_type": "code",
      "source": [
        "class Network(torch.nn.Module):\n",
        "    def __init__(self, input_size=28, rnn_input_size=32, rnn_hidden_size=128, output_size=28, batch_size=1):\n",
        "        super(Network, self).__init__()\n",
        "        self.input_size = input_size\n",
        "        self.rnn_input_size = rnn_input_size\n",
        "        self.rnn_hidden_size = rnn_hidden_size\n",
        "        self.output_size = output_size\n",
        "        self.batch_size = batch_size\n",
        "\n",
        "        self.embedding = torch.nn.Embedding(input_size, rnn_input_size)\n",
        "        self.i2h = nn.Linear(rnn_input_size, rnn_hidden_size, bias=False)\n",
        "        self.h2h = nn.Linear(rnn_hidden_size, rnn_hidden_size)\n",
        "        self.h2o = nn.Linear(rnn_hidden_size, rnn_hidden_size)\n",
        "        self.out = nn.Linear(rnn_hidden_size, output_size)\n",
        "\n",
        "    def forward(self, sentences, hidden_state):\n",
        "        x = self.embedding(sentences)\n",
        "        x = self.i2h(x)\n",
        "        hidden_state = self.h2h(hidden_state)\n",
        "        hidden_state = torch.tanh(x + hidden_state)\n",
        "        x, s = self.h2o(hidden_state), hidden_state\n",
        "        return self.out(x)\n",
        "\n",
        "    def init_zero_hidden(self):\n",
        "        return torch.zeros(self.batch_size, self.rnn_hidden_size, requires_grad=False)"
      ],
      "metadata": {
        "id": "_fIyGFzdwn8j"
      },
      "id": "_fIyGFzdwn8j",
      "execution_count": 40,
      "outputs": []
    },
    {
      "cell_type": "code",
      "source": [
        "device = \"cuda\" if torch.cuda.is_available() else \"cpu\"\n",
        "device"
      ],
      "metadata": {
        "colab": {
          "base_uri": "https://localhost:8080/",
          "height": 35
        },
        "id": "Qk7ox1KzxxkK",
        "outputId": "483bb23e-229e-4f4e-9293-cce152094b72"
      },
      "id": "Qk7ox1KzxxkK",
      "execution_count": 41,
      "outputs": [
        {
          "output_type": "execute_result",
          "data": {
            "text/plain": [
              "'cuda'"
            ],
            "application/vnd.google.colaboratory.intrinsic+json": {
              "type": "string"
            }
          },
          "metadata": {},
          "execution_count": 41
        }
      ]
    },
    {
      "cell_type": "code",
      "source": [
        "model = Network()\n",
        "model = model.to(device)\n",
        "criterion = nn.CrossEntropyLoss()\n",
        "optimizer = torch.optim.SGD(model.parameters(), lr=0.05)"
      ],
      "metadata": {
        "id": "QXL_4hcLx4ea"
      },
      "id": "QXL_4hcLx4ea",
      "execution_count": 42,
      "outputs": []
    },
    {
      "cell_type": "code",
      "source": [
        "for ep in range(20):\n",
        "    start = time.time()\n",
        "    train_loss = 0.0\n",
        "    train_passed = 0\n",
        "\n",
        "    for i in range(int(len(X) / model.batch_size)):\n",
        "        batch = X[i*model.batch_size : (i+1)*model.batch_size].to(device)\n",
        "        if len(batch) != model.batch_size:\n",
        "            continue\n",
        "\n",
        "        X_batch = batch[:, :-1]\n",
        "        Y_batch = batch[:, 1:].flatten()\n",
        "        hidden = model.init_zero_hidden().to(device)\n",
        "\n",
        "        optimizer.zero_grad()\n",
        "        answers = model.forward(X_batch, hidden)\n",
        "        answers = answers.view(-1, len(INDEX_TO_CHAR))\n",
        "        loss = criterion(answers, Y_batch)\n",
        "        train_loss += loss.item()\n",
        "\n",
        "        loss.backward()\n",
        "        optimizer.step()\n",
        "        train_passed += 1\n",
        "    print(\"Epoch {}. Time: {:.3f}, Train loss: {:.3f}\".format(ep, time.time() - start, train_loss / train_passed))"
      ],
      "metadata": {
        "colab": {
          "base_uri": "https://localhost:8080/"
        },
        "id": "lfcC4_sWyE4w",
        "outputId": "4310e33d-81e8-4c1a-ffc9-f0e4b38af2c7"
      },
      "id": "lfcC4_sWyE4w",
      "execution_count": 43,
      "outputs": [
        {
          "output_type": "stream",
          "name": "stdout",
          "text": [
            "Epoch 0. Time: 181.206, Train loss: 1.631\n",
            "Epoch 1. Time: 178.882, Train loss: 1.627\n",
            "Epoch 2. Time: 177.386, Train loss: 1.626\n",
            "Epoch 3. Time: 176.278, Train loss: 1.625\n",
            "Epoch 4. Time: 177.802, Train loss: 1.625\n",
            "Epoch 5. Time: 177.992, Train loss: 1.625\n",
            "Epoch 6. Time: 177.428, Train loss: 1.625\n",
            "Epoch 7. Time: 177.132, Train loss: 1.624\n",
            "Epoch 8. Time: 177.160, Train loss: 1.624\n",
            "Epoch 9. Time: 177.284, Train loss: 1.624\n",
            "Epoch 10. Time: 177.050, Train loss: 1.624\n",
            "Epoch 11. Time: 177.762, Train loss: 1.624\n",
            "Epoch 12. Time: 177.157, Train loss: 1.624\n",
            "Epoch 13. Time: 176.865, Train loss: 1.624\n",
            "Epoch 14. Time: 177.191, Train loss: 1.624\n",
            "Epoch 15. Time: 176.865, Train loss: 1.624\n",
            "Epoch 16. Time: 177.363, Train loss: 1.624\n",
            "Epoch 17. Time: 177.211, Train loss: 1.624\n",
            "Epoch 18. Time: 177.000, Train loss: 1.624\n",
            "Epoch 19. Time: 177.169, Train loss: 1.624\n"
          ]
        }
      ]
    },
    {
      "cell_type": "markdown",
      "source": [
        "### 2. Применить построенную ячейку для генерации текста с выражениями героев сериала “Симпсоны”"
      ],
      "metadata": {
        "id": "550lG81j_4kg"
      },
      "id": "550lG81j_4kg"
    },
    {
      "cell_type": "code",
      "source": [
        "def generate_sentence(word):\n",
        "    sentence = list(word)\n",
        "    sentence = [CHAR_TO_INDEX.get(s, 0) for s in sentence]\n",
        "    hidden = model.init_zero_hidden().to(device)\n",
        "    answers = model.forward(torch.tensor(sentence).to(device), hidden)\n",
        "    probas, indices = answers.topk(1)\n",
        "    return ''.join([INDEX_TO_CHAR[ind.item()] for ind in indices.flatten()])"
      ],
      "metadata": {
        "id": "bm24UHnd_iE8"
      },
      "id": "bm24UHnd_iE8",
      "execution_count": 46,
      "outputs": []
    },
    {
      "cell_type": "code",
      "source": [
        "generate_sentence('a dog is running on the street')"
      ],
      "metadata": {
        "colab": {
          "base_uri": "https://localhost:8080/",
          "height": 35
        },
        "id": "aNhjW_UMAd6O",
        "outputId": "873a2678-5495-43e7-cd71-078995b23a11"
      },
      "id": "aNhjW_UMAd6O",
      "execution_count": 47,
      "outputs": [
        {
          "output_type": "execute_result",
          "data": {
            "text/plain": [
              "'nt u tn te   n  tu t e t  e   '"
            ],
            "application/vnd.google.colaboratory.intrinsic+json": {
              "type": "string"
            }
          },
          "metadata": {},
          "execution_count": 47
        }
      ]
    },
    {
      "cell_type": "code",
      "source": [
        "generate_sentence('it is less fun to be sad')"
      ],
      "metadata": {
        "colab": {
          "base_uri": "https://localhost:8080/",
          "height": 35
        },
        "id": "Fsc8qJWMBA2M",
        "outputId": "175eef91-394e-4288-a68e-3a8d573f2a15"
      },
      "id": "Fsc8qJWMBA2M",
      "execution_count": 48,
      "outputs": [
        {
          "output_type": "execute_result",
          "data": {
            "text/plain": [
              "'n tn tl   t   t ute t n '"
            ],
            "application/vnd.google.colaboratory.intrinsic+json": {
              "type": "string"
            }
          },
          "metadata": {},
          "execution_count": 48
        }
      ]
    },
    {
      "cell_type": "code",
      "source": [
        "generate_sentence('my homework is done')"
      ],
      "metadata": {
        "colab": {
          "base_uri": "https://localhost:8080/",
          "height": 35
        },
        "id": "ldAsWO_2DAuf",
        "outputId": "00251717-0ba1-46ec-badb-d08c6345431a"
      },
      "id": "ldAsWO_2DAuf",
      "execution_count": 49,
      "outputs": [
        {
          "output_type": "execute_result",
          "data": {
            "text/plain": [
              "'eoteue eue tn t u  '"
            ],
            "application/vnd.google.colaboratory.intrinsic+json": {
              "type": "string"
            }
          },
          "metadata": {},
          "execution_count": 49
        }
      ]
    }
  ],
  "metadata": {
    "kernelspec": {
      "display_name": "Python 3",
      "name": "python3"
    },
    "language_info": {
      "codemirror_mode": {
        "name": "ipython",
        "version": 3
      },
      "file_extension": ".py",
      "mimetype": "text/x-python",
      "name": "python",
      "nbconvert_exporter": "python",
      "pygments_lexer": "ipython3",
      "version": "3.11.5"
    },
    "colab": {
      "provenance": [],
      "gpuType": "T4"
    },
    "accelerator": "GPU"
  },
  "nbformat": 4,
  "nbformat_minor": 5
}
{
 "cells": [
  {
   "cell_type": "code",
   "execution_count": 1,
   "id": "675acafc",
   "metadata": {},
   "outputs": [],
   "source": [
    "import pandas as pd\n",
    "import numpy as np\n",
    "import matplotlib.pyplot as plt\n",
    "import seaborn as sns"
   ]
  },
  {
   "cell_type": "markdown",
   "id": "9986b2b3",
   "metadata": {},
   "source": [
    "### 1. Получите данные и загрузите их в рабочую среду. (Jupyter Notebook или другую)"
   ]
  },
  {
   "cell_type": "code",
   "execution_count": 2,
   "id": "3a2d200e",
   "metadata": {},
   "outputs": [
    {
     "data": {
      "text/html": [
       "<div>\n",
       "<style scoped>\n",
       "    .dataframe tbody tr th:only-of-type {\n",
       "        vertical-align: middle;\n",
       "    }\n",
       "\n",
       "    .dataframe tbody tr th {\n",
       "        vertical-align: top;\n",
       "    }\n",
       "\n",
       "    .dataframe thead th {\n",
       "        text-align: right;\n",
       "    }\n",
       "</style>\n",
       "<table border=\"1\" class=\"dataframe\">\n",
       "  <thead>\n",
       "    <tr style=\"text-align: right;\">\n",
       "      <th></th>\n",
       "      <th>Age</th>\n",
       "      <th>Sex</th>\n",
       "      <th>ChestPainType</th>\n",
       "      <th>RestingBP</th>\n",
       "      <th>Cholesterol</th>\n",
       "      <th>FastingBS</th>\n",
       "      <th>RestingECG</th>\n",
       "      <th>MaxHR</th>\n",
       "      <th>ExerciseAngina</th>\n",
       "      <th>Oldpeak</th>\n",
       "      <th>ST_Slope</th>\n",
       "      <th>HeartDisease</th>\n",
       "    </tr>\n",
       "  </thead>\n",
       "  <tbody>\n",
       "    <tr>\n",
       "      <th>0</th>\n",
       "      <td>40</td>\n",
       "      <td>M</td>\n",
       "      <td>ATA</td>\n",
       "      <td>140</td>\n",
       "      <td>289</td>\n",
       "      <td>0</td>\n",
       "      <td>Normal</td>\n",
       "      <td>172</td>\n",
       "      <td>N</td>\n",
       "      <td>0.0</td>\n",
       "      <td>Up</td>\n",
       "      <td>0</td>\n",
       "    </tr>\n",
       "    <tr>\n",
       "      <th>1</th>\n",
       "      <td>49</td>\n",
       "      <td>F</td>\n",
       "      <td>NAP</td>\n",
       "      <td>160</td>\n",
       "      <td>180</td>\n",
       "      <td>0</td>\n",
       "      <td>Normal</td>\n",
       "      <td>156</td>\n",
       "      <td>N</td>\n",
       "      <td>1.0</td>\n",
       "      <td>Flat</td>\n",
       "      <td>1</td>\n",
       "    </tr>\n",
       "    <tr>\n",
       "      <th>2</th>\n",
       "      <td>37</td>\n",
       "      <td>M</td>\n",
       "      <td>ATA</td>\n",
       "      <td>130</td>\n",
       "      <td>283</td>\n",
       "      <td>0</td>\n",
       "      <td>ST</td>\n",
       "      <td>98</td>\n",
       "      <td>N</td>\n",
       "      <td>0.0</td>\n",
       "      <td>Up</td>\n",
       "      <td>0</td>\n",
       "    </tr>\n",
       "    <tr>\n",
       "      <th>3</th>\n",
       "      <td>48</td>\n",
       "      <td>F</td>\n",
       "      <td>ASY</td>\n",
       "      <td>138</td>\n",
       "      <td>214</td>\n",
       "      <td>0</td>\n",
       "      <td>Normal</td>\n",
       "      <td>108</td>\n",
       "      <td>Y</td>\n",
       "      <td>1.5</td>\n",
       "      <td>Flat</td>\n",
       "      <td>1</td>\n",
       "    </tr>\n",
       "    <tr>\n",
       "      <th>4</th>\n",
       "      <td>54</td>\n",
       "      <td>M</td>\n",
       "      <td>NAP</td>\n",
       "      <td>150</td>\n",
       "      <td>195</td>\n",
       "      <td>0</td>\n",
       "      <td>Normal</td>\n",
       "      <td>122</td>\n",
       "      <td>N</td>\n",
       "      <td>0.0</td>\n",
       "      <td>Up</td>\n",
       "      <td>0</td>\n",
       "    </tr>\n",
       "  </tbody>\n",
       "</table>\n",
       "</div>"
      ],
      "text/plain": [
       "   Age Sex ChestPainType  RestingBP  Cholesterol  FastingBS RestingECG  MaxHR  \\\n",
       "0   40   M           ATA        140          289          0     Normal    172   \n",
       "1   49   F           NAP        160          180          0     Normal    156   \n",
       "2   37   M           ATA        130          283          0         ST     98   \n",
       "3   48   F           ASY        138          214          0     Normal    108   \n",
       "4   54   M           NAP        150          195          0     Normal    122   \n",
       "\n",
       "  ExerciseAngina  Oldpeak ST_Slope  HeartDisease  \n",
       "0              N      0.0       Up             0  \n",
       "1              N      1.0     Flat             1  \n",
       "2              N      0.0       Up             0  \n",
       "3              Y      1.5     Flat             1  \n",
       "4              N      0.0       Up             0  "
      ]
     },
     "execution_count": 2,
     "metadata": {},
     "output_type": "execute_result"
    }
   ],
   "source": [
    "df = pd.read_csv('heart.csv')\n",
    "df.head()"
   ]
  },
  {
   "cell_type": "markdown",
   "id": "6d7323c2",
   "metadata": {},
   "source": [
    "### 2. Подготовьте датасет к обучению моделей\n",
    "- a) Категориальные переменные переведите в цифровые значения. Можно использовать pd.get_dummies, preprocessing.LabelEncoder. Старайтесь не использовать для этой задачи циклы\n",
    "\n",
    "\n",
    "- b) *Постройте 1-2 графика на выбор. Визуализация должна быть основана на исследуемых данных и быть полезной (из графика можно сделать вывод об особенностях датасета/класса/признака)"
   ]
  },
  {
   "cell_type": "code",
   "execution_count": 3,
   "id": "9310b6e3",
   "metadata": {},
   "outputs": [
    {
     "data": {
      "image/png": "[encoded data removed]",
      "text/plain": [
       "<Figure size 1224x432 with 2 Axes>"
      ]
     },
     "metadata": {
      "needs_background": "light"
     },
     "output_type": "display_data"
    }
   ],
   "source": [
    "fig, axs = plt.subplots(1, 2, figsize=(17,6))\n",
    "plt.title('Age distribution and number of patients depending on gender and the presence of heart disease', x=-0.1)\n",
    "\n",
    "sns.violinplot(x=df.HeartDisease, y=df.Age, hue=df.Sex, split=True, inner=\"quart\", ax=axs[0])\n",
    "\n",
    "df_count = df.groupby(['Sex', 'HeartDisease']).Age.count().reset_index()\n",
    "sns.barplot(x=df_count.HeartDisease, y=df_count.Age, hue=df_count.Sex, hue_order=['M', 'F'])\n",
    "plt.ylabel('Number of patients')\n",
    "\n",
    "plt.show()"
   ]
  },
  {
   "cell_type": "markdown",
   "id": "bd28d5d3",
   "metadata": {},
   "source": [
    "На левом графике изображено распределение возрастов в зависимости от пола и наличия сердечных заболеваний. Отчетливо видно, что средний возраст людей, имеющих сердечные заболевания выше, чем у людей со здоровым сердцем. Также по форме видно, что распределение у здоровых людей несколько более равномерное и охватывает больший диапазон возрастов. У женщин, имеющих сердечные заболевания средний возраст немного выше, чем у мужчин с заболеваниями. Здравый смысл подсказывает, что такие наблюдения в выборке вполне закономерны. Риск наличия проблем со здоровьем сердца действительно увеличивается с возрастом.\n",
    "\n",
    "Что касается смещения среднего возраста женщин с болезнями сердца относительно мужчин, то тут стоит обратиться к графику справа, где представлено количество наблюдаемых пациентов в зависимости от пола и наличия сердечных заболеваний. Заметно существенное преобладание мужчин в датасете, причем если мужчин здоровых примерно в 2 раза больше, чем здоровых женщин, то мужчин с заболеваниями почти кратно больше, чем таковых женщин. Навряд ли это отражает реальную картину соотношения между полами. Такой дисбаланс необходимо учитывать при интерпретации исследований на основе датасета. Делать однозначные выводы о различии тех, или иных показателей в зависимости от пола нужно крайне осторожно."
   ]
  },
  {
   "cell_type": "code",
   "execution_count": 4,
   "id": "2f6cde24",
   "metadata": {},
   "outputs": [],
   "source": [
    "from sklearn.preprocessing import StandardScaler\n",
    "\n",
    "to_scale = ['Age', 'RestingBP', 'Cholesterol', 'MaxHR', 'Oldpeak']\n",
    "\n",
    "scaler = StandardScaler()\n",
    "scaler.fit(df[to_scale])\n",
    "df[to_scale] = scaler.transform(df[to_scale])"
   ]
  },
  {
   "cell_type": "code",
   "execution_count": 5,
   "id": "fd3cd7fc",
   "metadata": {},
   "outputs": [
    {
     "data": {
      "text/html": [
       "<div>\n",
       "<style scoped>\n",
       "    .dataframe tbody tr th:only-of-type {\n",
       "        vertical-align: middle;\n",
       "    }\n",
       "\n",
       "    .dataframe tbody tr th {\n",
       "        vertical-align: top;\n",
       "    }\n",
       "\n",
       "    .dataframe thead th {\n",
       "        text-align: right;\n",
       "    }\n",
       "</style>\n",
       "<table border=\"1\" class=\"dataframe\">\n",
       "  <thead>\n",
       "    <tr style=\"text-align: right;\">\n",
       "      <th></th>\n",
       "      <th>Age</th>\n",
       "      <th>RestingBP</th>\n",
       "      <th>Cholesterol</th>\n",
       "      <th>FastingBS</th>\n",
       "      <th>MaxHR</th>\n",
       "      <th>Oldpeak</th>\n",
       "      <th>HeartDisease</th>\n",
       "      <th>Sex_F</th>\n",
       "      <th>Sex_M</th>\n",
       "      <th>ChestPainType_ASY</th>\n",
       "      <th>...</th>\n",
       "      <th>ChestPainType_NAP</th>\n",
       "      <th>ChestPainType_TA</th>\n",
       "      <th>RestingECG_LVH</th>\n",
       "      <th>RestingECG_Normal</th>\n",
       "      <th>RestingECG_ST</th>\n",
       "      <th>ExerciseAngina_N</th>\n",
       "      <th>ExerciseAngina_Y</th>\n",
       "      <th>ST_Slope_Down</th>\n",
       "      <th>ST_Slope_Flat</th>\n",
       "      <th>ST_Slope_Up</th>\n",
       "    </tr>\n",
       "  </thead>\n",
       "  <tbody>\n",
       "    <tr>\n",
       "      <th>0</th>\n",
       "      <td>-1.433140</td>\n",
       "      <td>0.410909</td>\n",
       "      <td>0.825070</td>\n",
       "      <td>0</td>\n",
       "      <td>1.382928</td>\n",
       "      <td>-0.832432</td>\n",
       "      <td>0</td>\n",
       "      <td>0</td>\n",
       "      <td>1</td>\n",
       "      <td>0</td>\n",
       "      <td>...</td>\n",
       "      <td>0</td>\n",
       "      <td>0</td>\n",
       "      <td>0</td>\n",
       "      <td>1</td>\n",
       "      <td>0</td>\n",
       "      <td>1</td>\n",
       "      <td>0</td>\n",
       "      <td>0</td>\n",
       "      <td>0</td>\n",
       "      <td>1</td>\n",
       "    </tr>\n",
       "    <tr>\n",
       "      <th>1</th>\n",
       "      <td>-0.478484</td>\n",
       "      <td>1.491752</td>\n",
       "      <td>-0.171961</td>\n",
       "      <td>0</td>\n",
       "      <td>0.754157</td>\n",
       "      <td>0.105664</td>\n",
       "      <td>1</td>\n",
       "      <td>1</td>\n",
       "      <td>0</td>\n",
       "      <td>0</td>\n",
       "      <td>...</td>\n",
       "      <td>1</td>\n",
       "      <td>0</td>\n",
       "      <td>0</td>\n",
       "      <td>1</td>\n",
       "      <td>0</td>\n",
       "      <td>1</td>\n",
       "      <td>0</td>\n",
       "      <td>0</td>\n",
       "      <td>1</td>\n",
       "      <td>0</td>\n",
       "    </tr>\n",
       "    <tr>\n",
       "      <th>2</th>\n",
       "      <td>-1.751359</td>\n",
       "      <td>-0.129513</td>\n",
       "      <td>0.770188</td>\n",
       "      <td>0</td>\n",
       "      <td>-1.525138</td>\n",
       "      <td>-0.832432</td>\n",
       "      <td>0</td>\n",
       "      <td>0</td>\n",
       "      <td>1</td>\n",
       "      <td>0</td>\n",
       "      <td>...</td>\n",
       "      <td>0</td>\n",
       "      <td>0</td>\n",
       "      <td>0</td>\n",
       "      <td>0</td>\n",
       "      <td>1</td>\n",
       "      <td>1</td>\n",
       "      <td>0</td>\n",
       "      <td>0</td>\n",
       "      <td>0</td>\n",
       "      <td>1</td>\n",
       "    </tr>\n",
       "    <tr>\n",
       "      <th>3</th>\n",
       "      <td>-0.584556</td>\n",
       "      <td>0.302825</td>\n",
       "      <td>0.139040</td>\n",
       "      <td>0</td>\n",
       "      <td>-1.132156</td>\n",
       "      <td>0.574711</td>\n",
       "      <td>1</td>\n",
       "      <td>1</td>\n",
       "      <td>0</td>\n",
       "      <td>1</td>\n",
       "      <td>...</td>\n",
       "      <td>0</td>\n",
       "      <td>0</td>\n",
       "      <td>0</td>\n",
       "      <td>1</td>\n",
       "      <td>0</td>\n",
       "      <td>0</td>\n",
       "      <td>1</td>\n",
       "      <td>0</td>\n",
       "      <td>1</td>\n",
       "      <td>0</td>\n",
       "    </tr>\n",
       "    <tr>\n",
       "      <th>4</th>\n",
       "      <td>0.051881</td>\n",
       "      <td>0.951331</td>\n",
       "      <td>-0.034755</td>\n",
       "      <td>0</td>\n",
       "      <td>-0.581981</td>\n",
       "      <td>-0.832432</td>\n",
       "      <td>0</td>\n",
       "      <td>0</td>\n",
       "      <td>1</td>\n",
       "      <td>0</td>\n",
       "      <td>...</td>\n",
       "      <td>1</td>\n",
       "      <td>0</td>\n",
       "      <td>0</td>\n",
       "      <td>1</td>\n",
       "      <td>0</td>\n",
       "      <td>1</td>\n",
       "      <td>0</td>\n",
       "      <td>0</td>\n",
       "      <td>0</td>\n",
       "      <td>1</td>\n",
       "    </tr>\n",
       "  </tbody>\n",
       "</table>\n",
       "<p>5 rows × 21 columns</p>\n",
       "</div>"
      ],
      "text/plain": [
       "        Age  RestingBP  Cholesterol  FastingBS     MaxHR   Oldpeak  \\\n",
       "0 -1.433140   0.410909     0.825070          0  1.382928 -0.832432   \n",
       "1 -0.478484   1.491752    -0.171961          0  0.754157  0.105664   \n",
       "2 -1.751359  -0.129513     0.770188          0 -1.525138 -0.832432   \n",
       "3 -0.584556   0.302825     0.139040          0 -1.132156  0.574711   \n",
       "4  0.051881   0.951331    -0.034755          0 -0.581981 -0.832432   \n",
       "\n",
       "   HeartDisease  Sex_F  Sex_M  ChestPainType_ASY  ...  ChestPainType_NAP  \\\n",
       "0             0      0      1                  0  ...                  0   \n",
       "1             1      1      0                  0  ...                  1   \n",
       "2             0      0      1                  0  ...                  0   \n",
       "3             1      1      0                  1  ...                  0   \n",
       "4             0      0      1                  0  ...                  1   \n",
       "\n",
       "   ChestPainType_TA  RestingECG_LVH  RestingECG_Normal  RestingECG_ST  \\\n",
       "0                 0               0                  1              0   \n",
       "1                 0               0                  1              0   \n",
       "2                 0               0                  0              1   \n",
       "3                 0               0                  1              0   \n",
       "4                 0               0                  1              0   \n",
       "\n",
       "   ExerciseAngina_N  ExerciseAngina_Y  ST_Slope_Down  ST_Slope_Flat  \\\n",
       "0                 1                 0              0              0   \n",
       "1                 1                 0              0              1   \n",
       "2                 1                 0              0              0   \n",
       "3                 0                 1              0              1   \n",
       "4                 1                 0              0              0   \n",
       "\n",
       "   ST_Slope_Up  \n",
       "0            1  \n",
       "1            0  \n",
       "2            1  \n",
       "3            0  \n",
       "4            1  \n",
       "\n",
       "[5 rows x 21 columns]"
      ]
     },
     "execution_count": 5,
     "metadata": {},
     "output_type": "execute_result"
    }
   ],
   "source": [
    "cats = df.select_dtypes('object').columns\n",
    "df = pd.get_dummies(df, columns=cats)\n",
    "df.head()"
   ]
  },
  {
   "cell_type": "markdown",
   "id": "7cd5594b",
   "metadata": {},
   "source": [
    "### 3. Разделите выборку на обучающее и тестовое подмножество. 80% данных оставить на обучающее множество, 20% на тестовое"
   ]
  },
  {
   "cell_type": "code",
   "execution_count": 6,
   "id": "d4f2dd2b",
   "metadata": {},
   "outputs": [],
   "source": [
    "from sklearn.model_selection import train_test_split\n",
    "\n",
    "X = df.drop(['HeartDisease'], axis=1)\n",
    "y = df['HeartDisease']\n",
    "\n",
    "X_train, X_test, y_train, y_test = train_test_split(X, y, test_size=0.2, random_state=42)"
   ]
  },
  {
   "cell_type": "markdown",
   "id": "0a024c47",
   "metadata": {},
   "source": [
    "### 4. Обучите дерево решений на обучающем множестве. Используйте следующие модели:\n",
    "- a) tree.DecisionTreeClassifier\n",
    "\n",
    "\n",
    "- b) ensemble.RandomForestClassifier"
   ]
  },
  {
   "cell_type": "code",
   "execution_count": 7,
   "id": "5a6fb7a1",
   "metadata": {},
   "outputs": [
    {
     "data": {
      "text/plain": [
       "RandomForestClassifier(random_state=42)"
      ]
     },
     "execution_count": 7,
     "metadata": {},
     "output_type": "execute_result"
    }
   ],
   "source": [
    "from sklearn.tree import DecisionTreeClassifier\n",
    "from sklearn.ensemble import RandomForestClassifier\n",
    "\n",
    "dt = DecisionTreeClassifier(random_state=42)\n",
    "dt.fit(X_train, y_train)\n",
    "\n",
    "rf = RandomForestClassifier(random_state=42)\n",
    "rf.fit(X_train, y_train)"
   ]
  },
  {
   "cell_type": "markdown",
   "id": "dd04b910",
   "metadata": {},
   "source": [
    "### 5. Для тестового множества сделайте предсказание целевой переменной. Выведите метрики для каждой построенной модели с помощью metrics.classification_report"
   ]
  },
  {
   "cell_type": "code",
   "execution_count": 8,
   "id": "288de77f",
   "metadata": {},
   "outputs": [
    {
     "name": "stdout",
     "output_type": "stream",
     "text": [
      "DecisionTreeClassifier(random_state=42) \n",
      "               precision    recall  f1-score   support\n",
      "\n",
      "           0       0.73      0.83      0.78        77\n",
      "           1       0.86      0.78      0.82       107\n",
      "\n",
      "    accuracy                           0.80       184\n",
      "   macro avg       0.80      0.80      0.80       184\n",
      "weighted avg       0.81      0.80      0.80       184\n",
      "\n",
      "RandomForestClassifier(random_state=42) \n",
      "               precision    recall  f1-score   support\n",
      "\n",
      "           0       0.85      0.87      0.86        77\n",
      "           1       0.90      0.89      0.90       107\n",
      "\n",
      "    accuracy                           0.88       184\n",
      "   macro avg       0.88      0.88      0.88       184\n",
      "weighted avg       0.88      0.88      0.88       184\n",
      "\n"
     ]
    }
   ],
   "source": [
    "from sklearn.metrics import classification_report\n",
    "\n",
    "print(dt, '\\n', classification_report(y_test, dt.predict(X_test)))\n",
    "print(rf, '\\n', classification_report(y_test, rf.predict(X_test)))"
   ]
  },
  {
   "cell_type": "markdown",
   "id": "c201a49a",
   "metadata": {},
   "source": [
    "### 6. Выведите важность признаков, полученную после обучения модели из п. 4b в виде столбчатой диаграммы. Отсортируйте важность по убыванию"
   ]
  },
  {
   "cell_type": "code",
   "execution_count": 9,
   "id": "c0ca8b11",
   "metadata": {},
   "outputs": [
    {
     "data": {
      "image/png": "[encoded data removed]",
      "text/plain": [
       "<Figure size 720x432 with 1 Axes>"
      ]
     },
     "metadata": {
      "needs_background": "light"
     },
     "output_type": "display_data"
    }
   ],
   "source": [
    "plt.figure(figsize=(10,6))\n",
    "plt.title('Feature importances')\n",
    "\n",
    "imp = pd.Series(index=X.columns, data=rf.feature_importances_).sort_values(ascending=False)\n",
    "sns.barplot(x=imp, y=imp.index, color=sns.color_palette()[0])\n",
    "\n",
    "plt.xlabel('Features')\n",
    "plt.ylabel('Gini')\n",
    "plt.show()"
   ]
  },
  {
   "cell_type": "markdown",
   "id": "db3aed10",
   "metadata": {},
   "source": [
    "### 7. Обучите бэггинг над моделью из п. 4a. Используйте ensemble.BaggingClassifier\n",
    "- a) Повторите п. 5"
   ]
  },
  {
   "cell_type": "code",
   "execution_count": 10,
   "id": "79a85905",
   "metadata": {},
   "outputs": [
    {
     "name": "stdout",
     "output_type": "stream",
     "text": [
      "BaggingClassifier(base_estimator=DecisionTreeClassifier(), max_features=0.5,\n",
      "                  max_samples=0.5, n_estimators=100, random_state=42) \n",
      "               precision    recall  f1-score   support\n",
      "\n",
      "           0       0.82      0.86      0.84        77\n",
      "           1       0.89      0.87      0.88       107\n",
      "\n",
      "    accuracy                           0.86       184\n",
      "   macro avg       0.86      0.86      0.86       184\n",
      "weighted avg       0.87      0.86      0.86       184\n",
      "\n"
     ]
    }
   ],
   "source": [
    "from sklearn.ensemble import BaggingClassifier\n",
    "\n",
    "bagging = BaggingClassifier(DecisionTreeClassifier(), n_estimators=100, max_samples=0.5, max_features=0.5, random_state=42)\n",
    "bagging.fit(X_train, y_train)\n",
    "\n",
    "print(bagging, '\\n', classification_report(y_test, bagging.predict(X_test)))"
   ]
  },
  {
   "cell_type": "markdown",
   "id": "7f390ded",
   "metadata": {},
   "source": [
    "### 8. Обучите стекинг трех моделей: из п. 4a, п. 4b и svm.LinearSVC. Используйте ensemble.StackingClassifier\n",
    "- a) Повторите п. 5"
   ]
  },
  {
   "cell_type": "code",
   "execution_count": 11,
   "id": "8ac7d0b5",
   "metadata": {},
   "outputs": [
    {
     "name": "stdout",
     "output_type": "stream",
     "text": [
      "StackingClassifier(estimators=[('dt', DecisionTreeClassifier(random_state=42)),\n",
      "                               ('rf', RandomForestClassifier(random_state=42)),\n",
      "                               ('svc',\n",
      "                                LinearSVC(max_iter=2000, random_state=42))],\n",
      "                   final_estimator=RidgeClassifierCV(alphas=array([ 0.1,  1. , 10. ]))) \n",
      "               precision    recall  f1-score   support\n",
      "\n",
      "           0       0.85      0.86      0.85        77\n",
      "           1       0.90      0.89      0.89       107\n",
      "\n",
      "    accuracy                           0.88       184\n",
      "   macro avg       0.87      0.87      0.87       184\n",
      "weighted avg       0.88      0.88      0.88       184\n",
      "\n"
     ]
    }
   ],
   "source": [
    "from sklearn.ensemble import StackingClassifier\n",
    "from sklearn.svm import LinearSVC\n",
    "from sklearn.linear_model import RidgeClassifierCV\n",
    "\n",
    "stacking = StackingClassifier([('dt', DecisionTreeClassifier(random_state=42)),\n",
    "                               ('rf', RandomForestClassifier(random_state=42)),\n",
    "                               ('svc', LinearSVC(max_iter=2000, random_state=42))], RidgeClassifierCV())\n",
    "stacking.fit(X_train, y_train)\n",
    "\n",
    "print(stacking, '\\n', classification_report(y_test, stacking.predict(X_test)))"
   ]
  },
  {
   "cell_type": "markdown",
   "id": "d76e10e4",
   "metadata": {},
   "source": [
    "### 9. Сформулируйте выводы по проделанной работе\n",
    "- a) Сравните метрики построенных моделей\n",
    "\n",
    "Одно дерево решений без подбора гиперпараметров на рассмотренном датасете сразу продемонстрировало весьма неплохую точность классификации. F1-мера с макроусреднением получилась `0.80`. Случайный лес по умолчанию из 100 деревьев заметно улучшил эту метрику, доведя ее до `0.88`, и в целом по всем проявлениям показал более высокое качество работы.\n",
    "\n",
    "Бэггинг из 100 деревьев приблизился по своим показателям к случайному лесу, его F1-мера с макроусреднением получилась `0.86`. Это вполне естественно, ведь случайный лес по своей сути это и есть бэггинг из деревьев решений. Я предполагаю, что при тщательном подборе параметров можно самостоятельно настроить бэггинг-модель так, чтобы она работала не хуже случайного леса \"из коробки\".\n",
    "\n",
    "Стекинг из 3 моделей (дерево решений, случайный лес, опорные вектора) выдал второй по качеству результат после случайного леса `0.87`. Несмотря на то, что в состав этого стека уже входит случайный лес, в совокупности он показывает чуть худшее качество. Связано ли это с гиперпараметрами, или с тем, что остальным моделям по факту нечем дополнить уже достаточно сильный лес, либо это случайность? Чтобы ответить на эти вопросы нужно проделать дополнительные эксперименты на разных датасетах.\n",
    "\n",
    "- b) Напишите свое мнение, какая модель наилучшая и почему\n",
    "\n",
    "На мой взгляд для задачи классификации этого датасета случайный лес подойдет лучше остальных рассмотренных моделей. Ансамбль из деревьев решений по определению будет лучше справляться с задачей, чем всего одно дерево, что и было видно исходя из прироста F1-меры. Как альтернативу случайному лесу \"из коробки\" можно настроить бэггинг из деревьев решений самостоятельно, но такая модель будет несколько сложнее в реализации, и не факт, что принесет прирост качества. Применять в этой задаче стекинг из нескольких моделей я считаю избыточным. Такой ансамбль получится более сложным, менее стабильным и на подбор его параметров уйдет гораздо больше времени. При этом неизвестно удастся ли превзойти в качестве случайный лес, если уделить его настройке досаточно времени."
   ]
  }
 ],
 "metadata": {
  "kernelspec": {
   "display_name": "Python 3 (ipykernel)",
   "language": "python",
   "name": "python3"
  },
  "language_info": {
   "codemirror_mode": {
    "name": "ipython",
    "version": 3
   },
   "file_extension": ".py",
   "mimetype": "text/x-python",
   "name": "python",
   "nbconvert_exporter": "python",
   "pygments_lexer": "ipython3",
   "version": "3.9.12"
  }
 },
 "nbformat": 4,
 "nbformat_minor": 5
}

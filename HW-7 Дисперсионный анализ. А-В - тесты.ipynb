{
 "cells": [
  {
   "cell_type": "code",
   "execution_count": 1,
   "metadata": {
    "ExecuteTime": {
     "end_time": "2022-03-01T11:31:19.720003Z",
     "start_time": "2022-03-01T11:31:18.356798Z"
    }
   },
   "outputs": [],
   "source": [
    "import pandas as pd\n",
    "import numpy as np\n",
    "import matplotlib\n",
    "import matplotlib.pyplot as plt\n",
    "from scipy import stats \n",
    "matplotlib.style.use('ggplot')\n",
    "%matplotlib inline\n",
    "import seaborn as sns"
   ]
  },
  {
   "cell_type": "markdown",
   "metadata": {},
   "source": [
    "**Замечание: 1** Предполагается, что для решения заданий  № 1-3 будут использоваться разные тесты."
   ]
  },
  {
   "cell_type": "markdown",
   "metadata": {},
   "source": [
    "<div class=\"alert alert-info\">\n",
    "<b>Задание № 1 </b>\n",
    "Вам даны результаты проверки двух препаратов.\n",
    "    \n",
    "Требуется:\n",
    "- Оценить, есть ли различие в эффекте у этих пациентов?\n",
    "- Визуально подтвердить результат\n",
    "    \n",
    "`A` - результаты для группы людей получающих препарат А.\n",
    "\n",
    "`B` - результаты для другой группы людей, получающих препарат B.\n",
    "    \n",
    "</div>"
   ]
  },
  {
   "cell_type": "code",
   "execution_count": 2,
   "metadata": {
    "ExecuteTime": {
     "end_time": "2022-03-01T11:32:15.901529Z",
     "start_time": "2022-03-01T11:32:15.888526Z"
    }
   },
   "outputs": [
    {
     "name": "stdout",
     "output_type": "stream",
     "text": [
      "Различие в эффекте у пациентов незначительно\n",
      "pvalue = 0.08511123469659897\n"
     ]
    },
    {
     "data": {
      "text/plain": [
       "<AxesSubplot:ylabel='Count'>"
      ]
     },
     "execution_count": 2,
     "metadata": {},
     "output_type": "execute_result"
    },
    {
     "data": {
      "image/png": "[encoded data removed]",
      "text/plain": [
       "<Figure size 432x288 with 1 Axes>"
      ]
     },
     "metadata": {
      "needs_background": "light"
     },
     "output_type": "display_data"
    }
   ],
   "source": [
    "H0 = 'Различие в эффекте у пациентов незначительно'\n",
    "H1 = 'Имеется статистически значимое различие в эффекте у пациентов'\n",
    "\n",
    "significance = 0.05\n",
    "\n",
    "np.random.seed(11)\n",
    "A = stats.norm.rvs(scale=30, loc=11, size=100)\n",
    "B = A + stats.norm.rvs(scale=54, loc=11, size=100)\n",
    "\n",
    "t, pvalue = stats.ttest_ind(A, B, equal_var=False)\n",
    "\n",
    "if pvalue < significance:\n",
    "    print(H1)\n",
    "else:\n",
    "    print(H0)\n",
    "print('pvalue =', pvalue)\n",
    "\n",
    "sns.histplot(B, bins=10, color='b')\n",
    "sns.histplot(A, bins=10, color='r')"
   ]
  },
  {
   "cell_type": "markdown",
   "metadata": {},
   "source": [
    "<div class=\"alert alert-info\">\n",
    "<b>Задание № 2 </b>\n",
    "Вам даны результаты проверки двух препаратов. \n",
    "    \n",
    "Требуется: \n",
    "- Оценить, есть ли различие в эффекте у этих пациентов?\n",
    "- Визуально подтвердить результат\n",
    "    \n",
    "`А` - группа людей без препарата.\n",
    "\n",
    "`B` - та же группа людей, но получающая препарат\n",
    "</div>"
   ]
  },
  {
   "cell_type": "code",
   "execution_count": 3,
   "metadata": {
    "ExecuteTime": {
     "end_time": "2022-03-01T11:32:15.917578Z",
     "start_time": "2022-03-01T11:32:15.904528Z"
    }
   },
   "outputs": [
    {
     "name": "stdout",
     "output_type": "stream",
     "text": [
      "Имеется статистически значимое различие в эффекте у пациентов\n",
      "pvalue = 0.03238579156467659\n"
     ]
    },
    {
     "data": {
      "text/plain": [
       "<AxesSubplot:ylabel='Count'>"
      ]
     },
     "execution_count": 3,
     "metadata": {},
     "output_type": "execute_result"
    },
    {
     "data": {
      "image/png": "[encoded data removed]",
      "text/plain": [
       "<Figure size 432x288 with 1 Axes>"
      ]
     },
     "metadata": {
      "needs_background": "light"
     },
     "output_type": "display_data"
    }
   ],
   "source": [
    "H0 = 'Различие в эффекте у пациентов незначительно'\n",
    "H1 = 'Имеется статистически значимое различие в эффекте у пациентов'\n",
    "\n",
    "significance = 0.05\n",
    "\n",
    "np.random.seed(11)\n",
    "A = stats.norm.rvs(scale=30, loc=11, size=100)\n",
    "B = A + stats.norm.rvs(scale=54, loc=11, size=100)\n",
    "\n",
    "t, pvalue = stats.ttest_rel(A, B)\n",
    "\n",
    "if pvalue < significance:\n",
    "    print(H1)\n",
    "else:\n",
    "    print(H0)\n",
    "print('pvalue =', pvalue)\n",
    "\n",
    "sns.histplot(B, bins=10, color='b')\n",
    "sns.histplot(A, bins=10, color='r')"
   ]
  },
  {
   "cell_type": "markdown",
   "metadata": {},
   "source": [
    "## Вывод\n",
    "<div class=\"alert alert-success\">\n",
    "Для заданий 1 и 2 я сделаю общий вывод, так как мы работаем с одними и теми же данными, меняется лишь отношение между выборками.\n",
    "\n",
    " - В первом случае мы имеем дело с независимыми выборками: разные группы людей получают разные препараты. Для сравнения средних значений я использую t-тест Стьюдента для двух выборок.\n",
    " - Во втором слечае группа людей одна, но мы исследуем ее до получения препарата и после, поэтому это зависимые выборки. В этом случае я сравниваю средние значения парным t-тестом Стьюдента.\n",
    "\n",
    "При уровне значимости 5% тесты дают разные результаты. При независимых выборках p-value больше уровня значимости и мы не можем отвергнуть нулевую гипотезу о том, что различие в эффекте у пациентов незначительно. В случае зависимых выборок p-value меньше уровня значимости и мы принимаем альтернативную гипотезу о том, что имеется статистически значимое различие в эффекте у пациентов. Можно заключить, что парный t-тест имеет более строгие критерии похожести между выборками в отличие от обычного t-теста.\n",
    "</div>"
   ]
  },
  {
   "cell_type": "markdown",
   "metadata": {},
   "source": [
    "<div class=\"alert alert-info\">\n",
    "<b>Задание № 3 </b>\n",
    "Допустим вы решили устроить дачный эксперимент. Берем и поливаем одни огурцы водой, другие огурцы водой с удобнением, третью группу огурцов будем поливать минералкой. \n",
    "    \n",
    " - Используя дисперсионный анализ, сделайте выводы о распредлениях результатов. Есть ли эффект от удобрения по сравнению с минералкой? \n",
    " - Помимо результата статистического теста, продемонстрируйте отличия визуально с помощью `boxplot` или `hist`\n",
    "    \n",
    "</div>"
   ]
  },
  {
   "cell_type": "code",
   "execution_count": 4,
   "metadata": {
    "ExecuteTime": {
     "end_time": "2022-03-01T11:32:16.028527Z",
     "start_time": "2022-03-01T11:32:15.924532Z"
    }
   },
   "outputs": [
    {
     "name": "stdout",
     "output_type": "stream",
     "text": [
      "Различие распределений между группами статистически значимое\n",
      "pvalue = 2.9240047906326866e-05\n"
     ]
    }
   ],
   "source": [
    "H0 = 'Различие в распределениях результатов незначительно'\n",
    "H1 = 'Различие распределений между группами статистически значимое'\n",
    "\n",
    "significance = 0.05\n",
    "\n",
    "water = [1, 2, 3, 4, 2, 4, 2, 4, 5, 2, 3, 4, 2, 1, 3, 4, 3, 2, 5, 1]\n",
    "nutri = [1, 2, 4, 6, 5, 6, 7, 5, 4, 5, 6, 7, 4, 3, 5, 5, 6, 5, 4, 3, 5]\n",
    "mineral = [2, 1, 1, 3, 2, 4, 2, 4, 5, 4, 3, 2, 3, 2, 3, 1, 3, 4, 5, 1, 4]\n",
    "\n",
    "f, pvalue = stats.f_oneway(water, nutri, mineral)\n",
    "\n",
    "if pvalue < significance:\n",
    "    print(H1)\n",
    "else:\n",
    "    print(H0)\n",
    "print('pvalue =', pvalue)"
   ]
  },
  {
   "cell_type": "code",
   "execution_count": 5,
   "metadata": {},
   "outputs": [
    {
     "name": "stdout",
     "output_type": "stream",
     "text": [
      "Различие распределений между группами статистически значимое\n",
      "pvalue = 0.00012136733401245426\n"
     ]
    }
   ],
   "source": [
    "t, pvalue = stats.ttest_ind(nutri, mineral)\n",
    "\n",
    "if pvalue < significance:\n",
    "    print(H1)\n",
    "else:\n",
    "    print(H0)\n",
    "print('pvalue =', pvalue)"
   ]
  },
  {
   "cell_type": "code",
   "execution_count": 6,
   "metadata": {},
   "outputs": [
    {
     "data": {
      "image/png": "[encoded data removed]",
      "text/plain": [
       "<Figure size 432x288 with 1 Axes>"
      ]
     },
     "metadata": {
      "needs_background": "light"
     },
     "output_type": "display_data"
    }
   ],
   "source": [
    "df = pd.concat([pd.DataFrame({'liquid': 'water', 'value': water}),\n",
    "                pd.DataFrame({'liquid': 'nutri', 'value': nutri}),\n",
    "                pd.DataFrame({'liquid': 'mineral', 'value': mineral})])\n",
    "\n",
    "sns.boxplot(x='liquid', y='value', data=df, color='g')\n",
    "sns.swarmplot(x='liquid', y='value', data=df, color='r')\n",
    "plt.show()"
   ]
  },
  {
   "cell_type": "markdown",
   "metadata": {},
   "source": [
    "## Вывод\n",
    "<div class=\"alert alert-success\">\n",
    "Дисперсионный анализ показал наличие статистически значимого различия в распределениях между группами, а визуальный анализ подтвердил этот результат. На боксплоте видно, что распределения для огурцов, поливаемых водой и минералкой практически идентичны, в то время как межквартильный размах распределения для огурцов, поливаемых удобрением лежит полностью выше остальных групп. Можно говорить о наличии существенного эффекта от использования удобрения вместо воды или минералки. Это также подверждается результатом t-теста для огурцов на удобрении и на минералке.\n",
    "</div>"
   ]
  },
  {
   "cell_type": "markdown",
   "metadata": {},
   "source": [
    "<div class=\"alert alert-info\">\n",
    "<b>* Задание *</b>\n",
    "    \n",
    "Проанализируем ещё один датасет. Здесь снова данные по урожайности в зависимости от типа используемого удобрения. \n",
    "    \n",
    "Предлагаю самостоятельно исследовать данные и проверить гипотезы, используя тесты, изученные в течение курса.\n",
    "Допустим, вы должны помочь агроному выбрать тип удобрения. Какой вы посоветуете и почему?"
   ]
  },
  {
   "cell_type": "code",
   "execution_count": 7,
   "metadata": {
    "ExecuteTime": {
     "end_time": "2022-03-01T11:37:23.694558Z",
     "start_time": "2022-03-01T11:37:23.440560Z"
    }
   },
   "outputs": [
    {
     "data": {
      "image/png": "[encoded data removed]",
      "text/plain": [
       "<Figure size 864x576 with 1 Axes>"
      ]
     },
     "metadata": {
      "needs_background": "light"
     },
     "output_type": "display_data"
    }
   ],
   "source": [
    "data = pd.read_csv('PlantGrowth.csv')\n",
    "data.boxplot('weight', by='group', figsize=(12, 8));"
   ]
  },
  {
   "cell_type": "code",
   "execution_count": 8,
   "metadata": {},
   "outputs": [],
   "source": [
    "ctrl = data[data['group'] == 'ctrl']['weight']\n",
    "trt1 = data[data['group'] == 'trt1']['weight']\n",
    "trt2 = data[data['group'] == 'trt2']['weight']"
   ]
  },
  {
   "cell_type": "code",
   "execution_count": 9,
   "metadata": {},
   "outputs": [
    {
     "name": "stdout",
     "output_type": "stream",
     "text": [
      "Различие распределений между группами статистически значимое\n",
      "pvalue = 0.0159099583256229\n"
     ]
    }
   ],
   "source": [
    "H0 = 'Различие в распределениях результатов незначительно'\n",
    "H1 = 'Различие распределений между группами статистически значимое'\n",
    "\n",
    "significance = 0.05\n",
    "\n",
    "f, pvalue = stats.f_oneway(ctrl, trt1, trt2)\n",
    "\n",
    "if pvalue < significance:\n",
    "    print(H1)\n",
    "else:\n",
    "    print(H0)\n",
    "print('pvalue =', pvalue)"
   ]
  },
  {
   "cell_type": "code",
   "execution_count": 10,
   "metadata": {},
   "outputs": [
    {
     "name": "stdout",
     "output_type": "stream",
     "text": [
      "Различие распределений между группами статистически значимое\n",
      "pvalue = 0.04685138491157358\n"
     ]
    }
   ],
   "source": [
    "t, pvalue = stats.ttest_ind(ctrl, trt2)\n",
    "\n",
    "if pvalue < significance:\n",
    "    print(H1)\n",
    "else:\n",
    "    print(H0)\n",
    "print('pvalue =', pvalue)"
   ]
  },
  {
   "cell_type": "markdown",
   "metadata": {},
   "source": [
    "## Вывод\n",
    "<div class=\"alert alert-success\">\n",
    "    \n",
    "На уровне значимости 5% дисперсионный анализ показал наличие статистически значимого различия в распределениях между группами. На боксплоте видно, что распределение в группе `trt-2` ближе к верхним границам графика относительно других групп, что должно говорить о большей урожайности. Сравнение с помощью t-теста групп `trt-2` и `ctrl` показало, что p-value \"превосходит\" уровень значимости 5%, поэтому агроному можно рекомендовать использовать удобрение `trt-2`.\n",
    "\n",
    "</div>"
   ]
  },
  {
   "cell_type": "markdown",
   "metadata": {},
   "source": [
    "# Покемоны и AB-тестирование \n",
    "(реальный кейс собеседования на позицию Аналитика).\n",
    "\n",
    "\n",
    "# Описание задачи\n",
    "\n",
    "![banner](https://storage.googleapis.com/kaggle-datasets-images/635/1204/126be74882028aac7241553cef0e27a7/dataset-original.jpg)\n",
    "\n",
    "Покемоны - это маленькие существа, которые сражаются друг с другом на соревнованиях. Все покемоны имеют разные характеристики (сила атаки, защиты и т. д.) И относятся к одному или двум так называемым классам (вода, огонь и т. д.).\n",
    "Профессор Оук является изобретателем Pokedex, портативного устройства, которое хранит информацию обо всех существующих покемонах. Как его ведущий специалист по данным, Вы только что получили от него запрос с просьбой осуществить аналитику данных на всех устройствах Pokedex. \n",
    "\n",
    "## Описание набора данных\n",
    "Профессор Оук скопировал все содержимое в память одного устройства Pokedex, в результате чего получился набор данных, с которым Вы будете работать в этой задаче. В этом файле каждая строка представляет характеристики одного покемона:\n",
    "\n",
    "* `pid`: Numeric - ID покемона\n",
    "* `HP`: Numeric - Очки здоровья\n",
    "* `Attack`: Numeric - Сила обычной атаки\n",
    "* `Defense`: Numeric - Сила обычной защиты\n",
    "* `Sp. Atk`: Numeric - Сила специальной атаки\n",
    "* `Sp. Def`: Numeric - Сила специальной защиты\n",
    "* `Speed`: Numeric - Скорость движений\n",
    "* `Legendary`: Boolean - «True», если покемон редкий\n",
    "* `Class 1`: Categorical - Класс покемона\n",
    "* `Class 2`: Categorical - Класс покемона"
   ]
  },
  {
   "cell_type": "code",
   "execution_count": 11,
   "metadata": {
    "ExecuteTime": {
     "end_time": "2022-03-01T11:32:33.039545Z",
     "start_time": "2022-03-01T11:32:33.004532Z"
    }
   },
   "outputs": [
    {
     "name": "stderr",
     "output_type": "stream",
     "text": [
      "C:\\Users\\79111\\AppData\\Local\\Temp\\ipykernel_2516\\2327316922.py:1: FutureWarning: The error_bad_lines argument has been deprecated and will be removed in a future version. Use on_bad_lines in the future.\n",
      "\n",
      "\n",
      "  pokemon = pd.read_csv('pokemon.csv', error_bad_lines=False)\n"
     ]
    },
    {
     "data": {
      "text/html": [
       "<div>\n",
       "<style scoped>\n",
       "    .dataframe tbody tr th:only-of-type {\n",
       "        vertical-align: middle;\n",
       "    }\n",
       "\n",
       "    .dataframe tbody tr th {\n",
       "        vertical-align: top;\n",
       "    }\n",
       "\n",
       "    .dataframe thead th {\n",
       "        text-align: right;\n",
       "    }\n",
       "</style>\n",
       "<table border=\"1\" class=\"dataframe\">\n",
       "  <thead>\n",
       "    <tr style=\"text-align: right;\">\n",
       "      <th></th>\n",
       "      <th>pid</th>\n",
       "      <th>Name</th>\n",
       "      <th>Class 1</th>\n",
       "      <th>Class 2</th>\n",
       "      <th>HP</th>\n",
       "      <th>Attack</th>\n",
       "      <th>Defense</th>\n",
       "      <th>Sp. Atk</th>\n",
       "      <th>Sp. Def</th>\n",
       "      <th>Speed</th>\n",
       "      <th>Legendary</th>\n",
       "    </tr>\n",
       "  </thead>\n",
       "  <tbody>\n",
       "    <tr>\n",
       "      <th>0</th>\n",
       "      <td>1</td>\n",
       "      <td>Bulbasaur</td>\n",
       "      <td>Grass</td>\n",
       "      <td>Poison</td>\n",
       "      <td>45</td>\n",
       "      <td>49</td>\n",
       "      <td>49</td>\n",
       "      <td>65</td>\n",
       "      <td>65</td>\n",
       "      <td>45</td>\n",
       "      <td>False</td>\n",
       "    </tr>\n",
       "    <tr>\n",
       "      <th>1</th>\n",
       "      <td>2</td>\n",
       "      <td>Ivysaur</td>\n",
       "      <td>Grass</td>\n",
       "      <td>Poison</td>\n",
       "      <td>60</td>\n",
       "      <td>62</td>\n",
       "      <td>63</td>\n",
       "      <td>80</td>\n",
       "      <td>80</td>\n",
       "      <td>60</td>\n",
       "      <td>False</td>\n",
       "    </tr>\n",
       "    <tr>\n",
       "      <th>2</th>\n",
       "      <td>3</td>\n",
       "      <td>Venusaur</td>\n",
       "      <td>Grass</td>\n",
       "      <td>Poison</td>\n",
       "      <td>80</td>\n",
       "      <td>82</td>\n",
       "      <td>83</td>\n",
       "      <td>100</td>\n",
       "      <td>100</td>\n",
       "      <td>80</td>\n",
       "      <td>False</td>\n",
       "    </tr>\n",
       "    <tr>\n",
       "      <th>3</th>\n",
       "      <td>4</td>\n",
       "      <td>Mega Venusaur</td>\n",
       "      <td>Grass</td>\n",
       "      <td>Poison</td>\n",
       "      <td>80</td>\n",
       "      <td>100</td>\n",
       "      <td>123</td>\n",
       "      <td>122</td>\n",
       "      <td>120</td>\n",
       "      <td>80</td>\n",
       "      <td>False</td>\n",
       "    </tr>\n",
       "    <tr>\n",
       "      <th>4</th>\n",
       "      <td>5</td>\n",
       "      <td>Charmander</td>\n",
       "      <td>Fire</td>\n",
       "      <td>NaN</td>\n",
       "      <td>39</td>\n",
       "      <td>52</td>\n",
       "      <td>43</td>\n",
       "      <td>60</td>\n",
       "      <td>50</td>\n",
       "      <td>65</td>\n",
       "      <td>False</td>\n",
       "    </tr>\n",
       "  </tbody>\n",
       "</table>\n",
       "</div>"
      ],
      "text/plain": [
       "   pid           Name Class 1 Class 2  HP  Attack  Defense  Sp. Atk  Sp. Def  \\\n",
       "0    1      Bulbasaur   Grass  Poison  45      49       49       65       65   \n",
       "1    2        Ivysaur   Grass  Poison  60      62       63       80       80   \n",
       "2    3       Venusaur   Grass  Poison  80      82       83      100      100   \n",
       "3    4  Mega Venusaur   Grass  Poison  80     100      123      122      120   \n",
       "4    5     Charmander    Fire     NaN  39      52       43       60       50   \n",
       "\n",
       "   Speed  Legendary  \n",
       "0     45      False  \n",
       "1     60      False  \n",
       "2     80      False  \n",
       "3     80      False  \n",
       "4     65      False  "
      ]
     },
     "execution_count": 11,
     "metadata": {},
     "output_type": "execute_result"
    }
   ],
   "source": [
    "pokemon = pd.read_csv('pokemon.csv', error_bad_lines=False)\n",
    "pokemon.head()\n",
    "\n",
    "# Обратите внимание, что у покемона может быть один или два класса.\n",
    "# Если у покемона два класса, считается, что они имеют одинаковую значимость."
   ]
  },
  {
   "cell_type": "markdown",
   "metadata": {},
   "source": [
    "# Задачи"
   ]
  },
  {
   "cell_type": "markdown",
   "metadata": {},
   "source": [
    "<div class=\"alert alert-info\">\n",
    "<b>Задание № 1:</b>\n",
    "    \n",
    "Профессор Оук подозревает, что покемоны в классе `grass` имеют более сильную обычную атаку, чем у покемонов в классе `rock`. Проверьте, прав ли он, и убедите его в своем выводе статистически.\n",
    "    \n",
    "    \n",
    "Примечание: если есть покемоны, которые относятся к обоим классам, просто выбросьте их;\n",
    "    \n",
    "Вы можете предположить, что распределение обычных атак является нормальным для всех классов покемонов.\n",
    "\n",
    "</div>\n"
   ]
  },
  {
   "cell_type": "code",
   "execution_count": 12,
   "metadata": {},
   "outputs": [
    {
     "name": "stdout",
     "output_type": "stream",
     "text": [
      "Усредненная обычная атака в классе \"Grass\": 74\n",
      "Усредненная обычная атака в классе \"Rock\": 92\n"
     ]
    }
   ],
   "source": [
    "# Отфильтруем покемонов которые относятся к обоим классам\n",
    "filtered = pokemon[~(pokemon['Class 1'].isin(['Grass', 'Rock']) & pokemon['Class 2'].isin(['Grass', 'Rock']))]\n",
    "\n",
    "grass = filtered[(filtered['Class 1'] == 'Grass') | (filtered['Class 2'] == 'Grass')].Attack\n",
    "rock = filtered[(filtered['Class 1'] == 'Rock') | (filtered['Class 2'] == 'Rock')].Attack\n",
    "\n",
    "# Сравним средние значения обычной атаки у двух классов\n",
    "print('Усредненная обычная атака в классе \"Grass\":', round(grass.mean()))\n",
    "print('Усредненная обычная атака в классе \"Rock\":', round(rock.mean()))"
   ]
  },
  {
   "cell_type": "code",
   "execution_count": 13,
   "metadata": {},
   "outputs": [
    {
     "name": "stdout",
     "output_type": "stream",
     "text": [
      "Покемоны в классе \"Rock\" имеют более сильную обычную атаку\n",
      "pvalue = 0.0009640546913545304\n"
     ]
    },
    {
     "data": {
      "text/plain": [
       "<AxesSubplot:xlabel='Attack', ylabel='Count'>"
      ]
     },
     "execution_count": 13,
     "metadata": {},
     "output_type": "execute_result"
    },
    {
     "data": {
      "image/png": "[encoded data removed]",
      "text/plain": [
       "<Figure size 432x288 with 1 Axes>"
      ]
     },
     "metadata": {
      "needs_background": "light"
     },
     "output_type": "display_data"
    }
   ],
   "source": [
    "# Проверим является ли это различие статистически значимым\n",
    "H0 = 'Различие незначительно'\n",
    "H1 = 'Покемоны в классе \"Rock\" имеют более сильную обычную атаку'\n",
    "\n",
    "significance = 0.05\n",
    "\n",
    "t, pvalue = stats.ttest_ind(grass, rock, equal_var=False)\n",
    "\n",
    "if pvalue < significance:\n",
    "    print(H1)\n",
    "else:\n",
    "    print(H0)\n",
    "print('pvalue =', pvalue)\n",
    "\n",
    "sns.histplot(grass, bins=10, color='b')\n",
    "sns.histplot(rock, bins=10, color='r')"
   ]
  },
  {
   "cell_type": "markdown",
   "metadata": {},
   "source": [
    "## Вывод\n",
    "<div class=\"alert alert-success\">\n",
    "    \n",
    "Профессор Оук на этот раз ошибся! На самом деле более сильную обычную атаку имеют покемоны в классе `Rock`, а не в классе `Grass`. По крайней мере если рассматривать классы в целом.\n",
    "</div>"
   ]
  },
  {
   "cell_type": "markdown",
   "metadata": {},
   "source": [
    "<div class=\"alert alert-info\">\n",
    "<b>Задание № 2:</b>\n",
    "    \n",
    "Профессор Оук уже долго не может спать по ночам ведь его волнует вопрос, а правда, что покемоны в классе `Water` в среднем более быстрые, чем покемоны в классе `Normal`. \n",
    "    \n",
    "    \n",
    "Проверьте, прав ли он, и убедите его в своем выводе статистически.\n",
    "    \n",
    "Примечание: если есть покемоны относятся к обоим классам, выбросьте их;\n",
    "    \n",
    "Вы можете предположить, что распределение скорости движения является нормальным для всех классов покемонов.\n",
    "\n",
    "</div>"
   ]
  },
  {
   "cell_type": "code",
   "execution_count": 14,
   "metadata": {},
   "outputs": [
    {
     "name": "stdout",
     "output_type": "stream",
     "text": [
      "Усредненная скорость движения в классе \"Water\": 65\n",
      "Усредненная скорость движения в классе \"Normal\": 72\n"
     ]
    }
   ],
   "source": [
    "# Отфильтруем покемонов которые относятся к обоим классам\n",
    "filtered = pokemon[~(pokemon['Class 1'].isin(['Water', 'Normal']) & pokemon['Class 2'].isin(['Water', 'Normal']))]\n",
    "\n",
    "water = filtered[(filtered['Class 1'] == 'Water') | (filtered['Class 2'] == 'Water')].Speed\n",
    "normal = filtered[(filtered['Class 1'] == 'Normal') | (filtered['Class 2'] == 'Normal')].Speed\n",
    "\n",
    "# Сравним средние значения скорости движения у двух классов\n",
    "print('Усредненная скорость движения в классе \"Water\":', round(water.mean()))\n",
    "print('Усредненная скорость движения в классе \"Normal\":', round(normal.mean()))"
   ]
  },
  {
   "cell_type": "code",
   "execution_count": 15,
   "metadata": {},
   "outputs": [
    {
     "name": "stdout",
     "output_type": "stream",
     "text": [
      "Покемоны в классе \"Normal\" более быстрые\n",
      "pvalue = 0.03694772338274292\n"
     ]
    },
    {
     "data": {
      "text/plain": [
       "<AxesSubplot:xlabel='Speed', ylabel='Count'>"
      ]
     },
     "execution_count": 15,
     "metadata": {},
     "output_type": "execute_result"
    },
    {
     "data": {
      "image/png": "[encoded data removed]",
      "text/plain": [
       "<Figure size 432x288 with 1 Axes>"
      ]
     },
     "metadata": {
      "needs_background": "light"
     },
     "output_type": "display_data"
    }
   ],
   "source": [
    "# Проверим является ли это различие статистически значимым\n",
    "H0 = 'Различие незначительно'\n",
    "H1 = 'Покемоны в классе \"Normal\" более быстрые'\n",
    "\n",
    "significance = 0.05\n",
    "\n",
    "t, pvalue = stats.ttest_ind(water, normal, equal_var=False)\n",
    "\n",
    "if pvalue < significance:\n",
    "    print(H1)\n",
    "else:\n",
    "    print(H0)\n",
    "print('pvalue =', pvalue)\n",
    "\n",
    "sns.histplot(water, bins=10, color='b')\n",
    "sns.histplot(normal, bins=10, color='r')"
   ]
  },
  {
   "cell_type": "markdown",
   "metadata": {},
   "source": [
    "## Вывод\n",
    "<div class=\"alert alert-success\">\n",
    "    \n",
    "Профессор Оук опять не прав! На самом деле статистичеки более быстрыми являются покемоны в классе `Normal`, а не в классе `Water`. По крайней мере при уровне значимости 5%.\n",
    "</div>"
   ]
  },
  {
   "cell_type": "markdown",
   "metadata": {},
   "source": [
    "<div class=\"alert alert-info\">\n",
    "<b>Задание № 4:</b>\n",
    "    \n",
    "Профессор Оук тот еще безумец. Он изобрел сыворотку, способную ускорить покемона. Однако, мы усомнились в эффективности его вакцины. Професоор дал эту сыворотку следующим покемонам: смотри массив `treated_pokemon`. Проверьте, работает ли вообще его сыворотка, убедите всех в своем выводе статистически.\n",
    "    \n",
    "    \n",
    "Вы можете предположить, что распределение скорости движения является нормальным для всех классов покемонов.\n",
    "\n",
    "</div>"
   ]
  },
  {
   "cell_type": "code",
   "execution_count": 16,
   "metadata": {
    "ExecuteTime": {
     "end_time": "2022-03-01T11:32:33.055532Z",
     "start_time": "2022-03-01T11:32:33.044535Z"
    }
   },
   "outputs": [
    {
     "name": "stdout",
     "output_type": "stream",
     "text": [
      "Усредненная скорость движения вакцинированных покемонов: 145\n",
      "Усредненная скорость движения невакцинированных покемонов: 68\n"
     ]
    }
   ],
   "source": [
    "# Покемоны, которые принимали сыворотку увеличения скорости\n",
    "treated_pokemon = ['Mega Beedrill', 'Mega Alakazam', 'Deoxys Normal Forme', 'Mega Lopunny']\n",
    "\n",
    "treated = pokemon[pokemon['Name'].isin(treated_pokemon)].Speed\n",
    "untreated = pokemon[~pokemon['Name'].isin(treated_pokemon)].Speed\n",
    "\n",
    "print('Усредненная скорость движения вакцинированных покемонов:', round(treated.mean()))\n",
    "print('Усредненная скорость движения невакцинированных покемонов:', round(untreated.mean()))"
   ]
  },
  {
   "cell_type": "code",
   "execution_count": 17,
   "metadata": {},
   "outputs": [
    {
     "data": {
      "image/png": "[encoded data removed]",
      "text/plain": [
       "<Figure size 432x288 with 1 Axes>"
      ]
     },
     "metadata": {},
     "output_type": "display_data"
    }
   ],
   "source": [
    "# Проведем сравнение скорости вакцинированных покемонов с остальными покемонами из 1000 случайных выборок\n",
    "significance = 0.05\n",
    "result = np.zeros(1000, dtype=bool)\n",
    "\n",
    "for i in range(1000):\n",
    "    t, pvalue = stats.ttest_ind(treated, untreated.sample(4), equal_var=False)\n",
    "    if pvalue < significance:\n",
    "        result[i] = True\n",
    "\n",
    "unique, counts = np.unique(result, return_counts=True)\n",
    "percentage = counts/result.size\n",
    "plt.pie(percentage, labels=unique, autopct='%.0f%%');"
   ]
  },
  {
   "cell_type": "markdown",
   "metadata": {},
   "source": [
    "## Вывод\n",
    "<div class=\"alert alert-success\">\n",
    "    \n",
    "Средняя скорость покемонов, получивших сыворотку более чем в два раза больше чем у всех невакцинированных. Но сравнивать две настолько разные по размеру выборки не корректно, поэтому я провел 1000 t-тестов сравнивая распределения скорости покемонов из массива `treated_pokemon` со случайными выборками невакцинированных покемонов такого же размера. В результате статистически значимые различия на уровне значимости 5% я получил в 93% случаев. Тем не менее результаты этого теста невозможно интерпретировать для ответа на вопрос работает ли сыворотка доктора Оука, поскольку у нас нет данных о том какую скорость изначально имели покемоны, получившие сыворотку.\n",
    "</div>"
   ]
  },
  {
   "cell_type": "markdown",
   "metadata": {},
   "source": [
    "<div class=\"alert alert-info\">\n",
    "<b>Задание № 5:</b>\n",
    "    \n",
    "Профессор Оук всегда любил истории про легендарных покемонов. Однако, профессор не очень уверен, что они самые лучшие относительно остальных покемонов. Оук предложил разобраться в этом нам. Проверьте, действительно ли сумма характеристик `HP`,`Attack`,`Defense` у легендарных покемонов выше, чем у других покемонов? А произведение этих же параметров?? Найдите ответы на эти вопросы и убедите всех в своем выводе статистически.\n",
    "   \n",
    "\n",
    "Вы можете предположить, что распределение сумм и произведений этих параметров является нормальным для всех классов покемонов.\n",
    "\n",
    "</div>"
   ]
  },
  {
   "cell_type": "code",
   "execution_count": 18,
   "metadata": {},
   "outputs": [
    {
     "name": "stdout",
     "output_type": "stream",
     "text": [
      "Средняя сумма характеристик легендарных покемонов: 309\n",
      "Средняя сумма характеристик остальных покемонов: 214\n",
      "\n",
      "Среднее произведение характеристик легендарных покемонов: 1085942\n",
      "Среднее произведение характеристик остальных покемонов: 425041\n"
     ]
    }
   ],
   "source": [
    "legendary = pokemon[pokemon['Legendary']]\n",
    "legendary_sum = legendary['HP'] + legendary['Attack'] + legendary['Defense']\n",
    "legendary_product = legendary['HP'] * legendary['Attack'] * legendary['Defense']\n",
    "\n",
    "non_legendary = pokemon[~pokemon['Legendary']]\n",
    "non_legendary_sum = non_legendary['HP'] + non_legendary['Attack'] + non_legendary['Defense']\n",
    "non_legendary_product = non_legendary['HP'] * non_legendary['Attack'] * non_legendary['Defense']\n",
    "\n",
    "print('Средняя сумма характеристик легендарных покемонов:', round(legendary_sum.mean()))\n",
    "print('Средняя сумма характеристик остальных покемонов:', round(non_legendary_sum.mean()))\n",
    "print()\n",
    "print('Среднее произведение характеристик легендарных покемонов:', round(legendary_product.mean()))\n",
    "print('Среднее произведение характеристик остальных покемонов:', round(non_legendary_product.mean()))"
   ]
  },
  {
   "cell_type": "code",
   "execution_count": 19,
   "metadata": {},
   "outputs": [
    {
     "data": {
      "image/png": "[encoded data removed]",
      "text/plain": [
       "<Figure size 432x288 with 1 Axes>"
      ]
     },
     "metadata": {},
     "output_type": "display_data"
    },
    {
     "data": {
      "image/png": "[encoded data removed]",
      "text/plain": [
       "<Figure size 432x288 with 1 Axes>"
      ]
     },
     "metadata": {},
     "output_type": "display_data"
    }
   ],
   "source": [
    "# Проведем сравнение характеристик легендарных покемонов с остальными покемонами из 1000 случайных выборок\n",
    "significance = 0.001\n",
    "result_by_sum = np.zeros(1000, dtype=bool)\n",
    "result_by_product = np.zeros(1000, dtype=bool)\n",
    "\n",
    "for i in range(1000):\n",
    "    t, pvalue = stats.ttest_ind(legendary_sum, non_legendary_sum.sample(len(legendary)), equal_var=False)\n",
    "    if pvalue < significance:\n",
    "        result_by_sum[i] = True\n",
    "    \n",
    "    t, pvalue = stats.ttest_ind(legendary_product, non_legendary_product.sample(len(legendary)), equal_var=False)\n",
    "    if pvalue < significance:\n",
    "        result_by_product[i] = True\n",
    "\n",
    "\n",
    "unique, counts = np.unique(result_by_sum, return_counts=True)\n",
    "percentage = counts/result_by_sum.size\n",
    "plt.pie(percentage, labels=unique, autopct='%.0f%%')\n",
    "plt.title('Процент статистически значимых различий по сумме характеристик')\n",
    "plt.show()\n",
    "\n",
    "unique, counts = np.unique(result_by_product, return_counts=True)\n",
    "percentage = counts/result_by_product.size\n",
    "plt.pie(percentage, labels=unique, autopct='%.0f%%')\n",
    "plt.title('Процент статистически значимых различий по произведению характеристик')\n",
    "plt.show()"
   ]
  },
  {
   "cell_type": "markdown",
   "metadata": {},
   "source": [
    "## Вывод\n",
    "<div class=\"alert alert-success\">\n",
    "    \n",
    "Средние сумма и произведение характеристик `HP`,`Attack`,`Defense` у легендарных покемонов заметно выше, чем у других покемонов. Для статистического сравнения разных по размеру выборок я опять же воспользовался множеством из 1000 t-тестов, в которых провел сопоставление распределений средних характеристик легендарных покемонов с параметрами других покемонов из случайно генерируемых выборок того же размера. На этот раз уровень значимости я установил 0.1% и получил статистически значимые различия между выборками в 100% случаев. Доктор Оук в этот раз оказался прав! Легендарные покемоны действительно значительно превосходят своих собратьев по параметрам `HP`,`Attack`,`Defense`.\n",
    "</div>"
   ]
  },
  {
   "cell_type": "markdown",
   "metadata": {},
   "source": [
    "<div class=\"alert alert-info\">\n",
    "<b>Задание № 6:</b>\n",
    "    \n",
    "Профессор Оук частенько наблюдает за боями покемонов. После очередных таких боев Оук выделил три класса `best_defence_class`, которые на его взгляд одинаковы по \"силе обычной защиты\" `Defense`. Проверьте, действительно ли эти классы покемонов не отличаются по уровню защиты статистически значимо? Все та же статистика вам в помощь! \n",
    "   \n",
    "\n",
    "Вы можете предположить, что распределение сумм и произведений этих параметров является нормальным для всех классов покемонов.\n",
    "\n",
    "</div>"
   ]
  },
  {
   "cell_type": "code",
   "execution_count": 20,
   "metadata": {
    "ExecuteTime": {
     "end_time": "2022-03-01T11:32:33.070533Z",
     "start_time": "2022-03-01T11:32:33.060532Z"
    }
   },
   "outputs": [],
   "source": [
    "# Разобъем покемонов на группы в зависимости от их класса\n",
    "best_defence_class = ['Rock', 'Ground', 'Steel', 'Ice']\n",
    "\n",
    "rock = pokemon[(pokemon['Class 1'] == 'Rock') | (pokemon['Class 2'] == 'Rock')].Defense\n",
    "ground = pokemon[(pokemon['Class 1'] == 'Ground') | (pokemon['Class 2'] == 'Ground')].Defense\n",
    "steel = pokemon[(pokemon['Class 1'] == 'Steel') | (pokemon['Class 2'] == 'Steel')].Defense\n",
    "ice = pokemon[(pokemon['Class 1'] == 'Ice') | (pokemon['Class 2'] == 'Ice')].Defense"
   ]
  },
  {
   "cell_type": "code",
   "execution_count": 21,
   "metadata": {},
   "outputs": [
    {
     "name": "stdout",
     "output_type": "stream",
     "text": [
      "Различие в уровне защиты статистически значимое\n",
      "pvalue = 1.231528168152447e-06\n"
     ]
    }
   ],
   "source": [
    "# Оценим действительно ли эти классы покемонов не отличаются по уровню защиты статистически значимо\n",
    "H0 = 'Различие в уровне защиты незначительно'\n",
    "H1 = 'Различие в уровне защиты статистически значимое'\n",
    "\n",
    "significance = 0.05\n",
    "\n",
    "f, pvalue = stats.f_oneway(rock, ground, steel, ice)\n",
    "\n",
    "if pvalue < significance:\n",
    "    print(H1)\n",
    "else:\n",
    "    print(H0)\n",
    "print('pvalue =', pvalue)"
   ]
  },
  {
   "cell_type": "code",
   "execution_count": 22,
   "metadata": {},
   "outputs": [
    {
     "data": {
      "image/png": "[encoded data removed]",
      "text/plain": [
       "<Figure size 432x288 with 1 Axes>"
      ]
     },
     "metadata": {
      "needs_background": "light"
     },
     "output_type": "display_data"
    }
   ],
   "source": [
    "# Теперь оценим это визуально\n",
    "df = pd.concat([pd.DataFrame({'Class': 'Rock', 'Defense': rock}),\n",
    "                pd.DataFrame({'Class': 'Ground', 'Defense': ground}),\n",
    "                pd.DataFrame({'Class': 'Steel', 'Defense': steel}),\n",
    "                pd.DataFrame({'Class': 'Ice', 'Defense': ice})])\n",
    "\n",
    "sns.boxplot(x='Class', y='Defense', data=df, color='g')\n",
    "sns.swarmplot(x='Class', y='Defense', data=df, color='r')\n",
    "plt.show()"
   ]
  },
  {
   "cell_type": "code",
   "execution_count": 23,
   "metadata": {},
   "outputs": [
    {
     "data": {
      "image/png": "[encoded data removed]",
      "text/plain": [
       "<Figure size 432x288 with 1 Axes>"
      ]
     },
     "metadata": {
      "needs_background": "light"
     },
     "output_type": "display_data"
    },
    {
     "name": "stdout",
     "output_type": "stream",
     "text": [
      "Различие в уровне защиты незначительно\n",
      "pvalue = 0.20801798048000042\n"
     ]
    },
    {
     "data": {
      "image/png": "[encoded data removed]",
      "text/plain": [
       "<Figure size 432x288 with 1 Axes>"
      ]
     },
     "metadata": {
      "needs_background": "light"
     },
     "output_type": "display_data"
    },
    {
     "name": "stdout",
     "output_type": "stream",
     "text": [
      "Различие в уровне защиты незначительно\n",
      "pvalue = 0.14053946217093266\n"
     ]
    }
   ],
   "source": [
    "# Разделим исследуемые группы покемонов на две пары и оценим их различия в уровне защиты теперь\n",
    "group_1 = ['Rock', 'Steel']\n",
    "group_2 = ['Ground', 'Ice']\n",
    "\n",
    "sns.boxplot(x='Class', y='Defense', data=df[df.Class.isin(group_1)], color='g')\n",
    "sns.swarmplot(x='Class', y='Defense', data=df[df.Class.isin(group_1)], color='r')\n",
    "plt.show()\n",
    "\n",
    "f, pvalue = stats.f_oneway(rock, steel)\n",
    "\n",
    "if pvalue < significance:\n",
    "    print(H1)\n",
    "else:\n",
    "    print(H0)\n",
    "print('pvalue =', pvalue)\n",
    "\n",
    "sns.boxplot(x='Class', y='Defense', data=df[df.Class.isin(group_2)], color='g')\n",
    "sns.swarmplot(x='Class', y='Defense', data=df[df.Class.isin(group_2)], color='r')\n",
    "plt.show()\n",
    "\n",
    "f, pvalue = stats.f_oneway(ground, ice)\n",
    "\n",
    "if pvalue < significance:\n",
    "    print(H1)\n",
    "else:\n",
    "    print(H0)\n",
    "print('pvalue =', pvalue)"
   ]
  },
  {
   "cell_type": "markdown",
   "metadata": {},
   "source": [
    "## Вывод\n",
    "<div class=\"alert alert-success\">\n",
    "    \n",
    "Дисперсионный анализ показал, что классы покемонов `Rock, Ground, Steel, Ice` статистически значимо отличаются по уровню защиты. В этом доктор Оук оказался не прав. Но визуальный анализ показал, что среди этих классов есть пары более похожие по уровню защиты, а именно пара классов `Rock, Steel` и пара `Ground, Ice`. Статистический анализ этих пар по отдельности как раз показал незначительное различие в уровне защиты. Возможно доктору Оуку стоит более внимательно наблюдать за покемонами!\n",
    "</div>"
   ]
  }
 ],
 "metadata": {
  "kernelspec": {
   "display_name": "Python 3 (ipykernel)",
   "language": "python",
   "name": "python3"
  },
  "language_info": {
   "codemirror_mode": {
    "name": "ipython",
    "version": 3
   },
   "file_extension": ".py",
   "mimetype": "text/x-python",
   "name": "python",
   "nbconvert_exporter": "python",
   "pygments_lexer": "ipython3",
   "version": "3.9.12"
  },
  "toc": {
   "base_numbering": 1,
   "nav_menu": {},
   "number_sections": true,
   "sideBar": true,
   "skip_h1_title": false,
   "title_cell": "Table of Contents",
   "title_sidebar": "Contents",
   "toc_cell": false,
   "toc_position": {},
   "toc_section_display": true,
   "toc_window_display": false
  }
 },
 "nbformat": 4,
 "nbformat_minor": 4
}

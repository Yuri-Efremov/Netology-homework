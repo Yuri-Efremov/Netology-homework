{
  "cells": [
    {
      "cell_type": "code",
      "execution_count": 1,
      "id": "bb77b6ff",
      "metadata": {
        "id": "bb77b6ff"
      },
      "outputs": [],
      "source": [
        "import pandas as pd\n",
        "import numpy as np\n",
        "import time\n",
        "from tqdm import tqdm\n",
        "import torch\n",
        "from torch import nn\n",
        "\n",
        "import warnings\n",
        "warnings.filterwarnings('ignore')"
      ]
    },
    {
      "cell_type": "code",
      "execution_count": 2,
      "id": "f459ed3f",
      "metadata": {
        "colab": {
          "base_uri": "https://localhost:8080/"
        },
        "id": "f459ed3f",
        "outputId": "98c1abba-bba5-4449-8eba-cd2c53f5c4b9"
      },
      "outputs": [
        {
          "output_type": "execute_result",
          "data": {
            "text/plain": [
              "(tensor([[6, 2, 2],\n",
              "         [9, 4, 1]]),\n",
              " tensor([[6, 8, 8],\n",
              "         [9, 3, 0]]))"
            ]
          },
          "metadata": {},
          "execution_count": 2
        }
      ],
      "source": [
        "def make_data(size: int, length: int):\n",
        "    X = np.random.randint(0, 10, (size, length))\n",
        "    y = np.zeros_like(X)\n",
        "    for i in range(len(X)):\n",
        "        y[i] = [X[i][0]] + [np.mod(x + X[i][0], 10) for x in X[i][1:]]\n",
        "    return torch.tensor(X), torch.tensor(y)\n",
        "\n",
        "make_data(size=2, length=3)"
      ]
    },
    {
      "cell_type": "code",
      "source": [
        "def train(model, X, y, epochs):\n",
        "    for ep in range(epochs):\n",
        "        model.train(True)\n",
        "        start = time.time()\n",
        "        train_loss = 0.0\n",
        "        train_passed = 0\n",
        "\n",
        "        queue = list(range(len(X)))\n",
        "        np.random.shuffle(queue)\n",
        "        for i in tqdm(queue):\n",
        "            X_batch = X[i].to(device)\n",
        "            Y_batch = y[i].to(device)\n",
        "\n",
        "            optimizer.zero_grad()\n",
        "            answers = model.forward(X_batch)\n",
        "            loss = criterion(answers, Y_batch)\n",
        "            train_loss += loss.item()\n",
        "\n",
        "            loss.backward()\n",
        "            optimizer.step()\n",
        "            train_passed += 1\n",
        "        print(\"\\nEpoch {}. Time: {:.3f}, Train loss: {:.3f}\".format(ep, time.time() - start, train_loss / train_passed))\n",
        "    return model"
      ],
      "metadata": {
        "id": "7IFmgETIY8lE"
      },
      "id": "7IFmgETIY8lE",
      "execution_count": 3,
      "outputs": []
    },
    {
      "cell_type": "code",
      "source": [
        "def evaluate(model, X, y):\n",
        "    model.train(False)\n",
        "    for i in range(5):\n",
        "        idx = np.random.choice(len(X))\n",
        "        pred = model.forward(X[idx].to(device))\n",
        "        print(f'Пример № {i+1}')\n",
        "        print('Исходная последовательность:')\n",
        "        print(y[idx])\n",
        "        print('Предсказанная последовательность:')\n",
        "        print(torch.argmax(pred, dim=1))\n",
        "        print()"
      ],
      "metadata": {
        "id": "u9p9ApwKZhgb"
      },
      "id": "u9p9ApwKZhgb",
      "execution_count": 4,
      "outputs": []
    },
    {
      "cell_type": "code",
      "execution_count": 5,
      "id": "e5510611",
      "metadata": {
        "id": "e5510611"
      },
      "outputs": [],
      "source": [
        "class Network(torch.nn.Module):\n",
        "    def __init__(self, rnnClass):\n",
        "        super(Network, self).__init__()\n",
        "        self.embedding = torch.nn.Embedding(10, 32)\n",
        "        self.rnn = rnnClass(32, 128)\n",
        "        self.out = torch.nn.Linear(128, 10)\n",
        "\n",
        "    def forward(self, seqs, state=None):\n",
        "        x = self.embedding(seqs)\n",
        "        x, s = self.rnn(x)\n",
        "        return self.out(x)"
      ]
    },
    {
      "cell_type": "code",
      "execution_count": 6,
      "id": "80b88613",
      "metadata": {
        "colab": {
          "base_uri": "https://localhost:8080/",
          "height": 35
        },
        "id": "80b88613",
        "outputId": "5973631b-a340-4f1a-8dce-cc599126daf8"
      },
      "outputs": [
        {
          "output_type": "execute_result",
          "data": {
            "text/plain": [
              "'cuda'"
            ],
            "application/vnd.google.colaboratory.intrinsic+json": {
              "type": "string"
            }
          },
          "metadata": {},
          "execution_count": 6
        }
      ],
      "source": [
        "device = \"cuda\" if torch.cuda.is_available() else \"cpu\"\n",
        "device"
      ]
    },
    {
      "cell_type": "code",
      "source": [
        "X, y = make_data(size=100000, length=50)"
      ],
      "metadata": {
        "id": "xV6axgm2byzg"
      },
      "id": "xV6axgm2byzg",
      "execution_count": 7,
      "outputs": []
    },
    {
      "cell_type": "markdown",
      "source": [
        "# RNN"
      ],
      "metadata": {
        "id": "uW4i47xjaA_V"
      },
      "id": "uW4i47xjaA_V"
    },
    {
      "cell_type": "code",
      "execution_count": 8,
      "id": "a9514abe",
      "metadata": {
        "colab": {
          "base_uri": "https://localhost:8080/"
        },
        "id": "a9514abe",
        "outputId": "d1d6c6ce-2f8c-4d50-baaf-511b3e53ef05"
      },
      "outputs": [
        {
          "output_type": "stream",
          "name": "stderr",
          "text": [
            "100%|██████████| 100000/100000 [03:30<00:00, 475.10it/s]\n"
          ]
        },
        {
          "output_type": "stream",
          "name": "stdout",
          "text": [
            "\n",
            "Epoch 0. Time: 210.494, Train loss: 1.597\n"
          ]
        },
        {
          "output_type": "stream",
          "name": "stderr",
          "text": [
            "100%|██████████| 100000/100000 [03:27<00:00, 482.02it/s]"
          ]
        },
        {
          "output_type": "stream",
          "name": "stdout",
          "text": [
            "\n",
            "Epoch 1. Time: 207.479, Train loss: 0.275\n"
          ]
        },
        {
          "output_type": "stream",
          "name": "stderr",
          "text": [
            "\n"
          ]
        }
      ],
      "source": [
        "model_rnn = Network(rnnClass=torch.nn.RNN)\n",
        "model_rnn = model_rnn.to(device)\n",
        "\n",
        "criterion = nn.CrossEntropyLoss()\n",
        "optimizer = torch.optim.Adam(model_rnn.parameters())\n",
        "\n",
        "model_rnn = train(model_rnn, X, y, epochs=2)"
      ]
    },
    {
      "cell_type": "code",
      "execution_count": 9,
      "id": "456e91dd",
      "metadata": {
        "colab": {
          "base_uri": "https://localhost:8080/"
        },
        "id": "456e91dd",
        "outputId": "7ef01ae8-7639-4036-9b45-a83849c83871"
      },
      "outputs": [
        {
          "output_type": "stream",
          "name": "stdout",
          "text": [
            "Пример № 1\n",
            "Исходная последовательность:\n",
            "tensor([9, 2, 0, 0, 9, 3, 7, 4, 8, 6, 3, 8, 3, 7, 4, 5, 1, 5, 5, 5, 8, 6, 8, 1,\n",
            "        5, 1, 9, 0, 0, 4, 6, 5, 8, 6, 6, 9, 0, 5, 0, 6, 7, 3, 5, 4, 8, 4, 4, 2,\n",
            "        3, 1])\n",
            "Предсказанная последовательность:\n",
            "tensor([9, 2, 0, 0, 9, 3, 7, 4, 8, 6, 3, 8, 3, 7, 4, 5, 1, 5, 5, 5, 8, 6, 8, 1,\n",
            "        5, 1, 9, 0, 0, 4, 6, 5, 8, 6, 6, 9, 0, 5, 0, 6, 7, 3, 5, 4, 8, 4, 4, 2,\n",
            "        3, 1], device='cuda:0')\n",
            "\n",
            "Пример № 2\n",
            "Исходная последовательность:\n",
            "tensor([6, 8, 9, 4, 5, 8, 6, 9, 3, 5, 3, 7, 8, 1, 1, 9, 3, 7, 6, 7, 5, 7, 2, 9,\n",
            "        0, 0, 3, 4, 0, 2, 5, 1, 2, 6, 2, 3, 8, 9, 5, 4, 5, 3, 1, 6, 5, 6, 6, 6,\n",
            "        2, 0])\n",
            "Предсказанная последовательность:\n",
            "tensor([6, 8, 9, 4, 5, 8, 6, 9, 3, 5, 3, 7, 8, 1, 1, 9, 3, 7, 6, 7, 5, 7, 2, 9,\n",
            "        0, 0, 3, 4, 0, 2, 5, 1, 2, 6, 2, 3, 8, 9, 5, 4, 5, 3, 1, 6, 5, 6, 6, 6,\n",
            "        2, 0], device='cuda:0')\n",
            "\n",
            "Пример № 3\n",
            "Исходная последовательность:\n",
            "tensor([6, 2, 1, 0, 3, 5, 5, 9, 4, 6, 7, 2, 1, 3, 1, 3, 0, 0, 1, 3, 9, 7, 3, 6,\n",
            "        7, 3, 1, 9, 7, 2, 7, 6, 1, 9, 8, 2, 9, 2, 4, 8, 1, 8, 1, 1, 6, 4, 6, 5,\n",
            "        3, 7])\n",
            "Предсказанная последовательность:\n",
            "tensor([6, 2, 1, 0, 3, 5, 5, 9, 4, 6, 7, 2, 1, 3, 1, 3, 0, 0, 1, 3, 9, 7, 3, 6,\n",
            "        7, 3, 1, 9, 7, 2, 7, 6, 1, 9, 8, 2, 9, 2, 4, 8, 1, 8, 1, 1, 6, 4, 6, 5,\n",
            "        3, 7], device='cuda:0')\n",
            "\n",
            "Пример № 4\n",
            "Исходная последовательность:\n",
            "tensor([0, 0, 9, 3, 4, 3, 5, 1, 2, 7, 3, 3, 1, 6, 5, 7, 7, 2, 4, 0, 7, 4, 8, 4,\n",
            "        5, 2, 3, 5, 7, 7, 1, 6, 7, 6, 6, 3, 6, 3, 6, 5, 3, 9, 6, 7, 7, 0, 6, 1,\n",
            "        3, 9])\n",
            "Предсказанная последовательность:\n",
            "tensor([0, 0, 9, 3, 4, 3, 5, 1, 2, 7, 3, 3, 1, 6, 5, 7, 7, 2, 4, 0, 7, 4, 8, 4,\n",
            "        5, 2, 3, 5, 7, 7, 1, 6, 7, 6, 6, 3, 6, 3, 6, 5, 3, 9, 6, 7, 7, 0, 6, 1,\n",
            "        3, 9], device='cuda:0')\n",
            "\n",
            "Пример № 5\n",
            "Исходная последовательность:\n",
            "tensor([0, 7, 0, 4, 8, 8, 7, 1, 0, 3, 3, 3, 4, 0, 4, 0, 7, 8, 0, 6, 7, 9, 6, 4,\n",
            "        8, 9, 3, 3, 9, 0, 4, 8, 7, 7, 9, 1, 0, 3, 9, 4, 6, 2, 5, 2, 3, 7, 9, 5,\n",
            "        5, 8])\n",
            "Предсказанная последовательность:\n",
            "tensor([0, 7, 0, 4, 8, 8, 7, 1, 0, 3, 3, 3, 4, 0, 4, 0, 7, 8, 0, 6, 7, 9, 6, 4,\n",
            "        8, 9, 3, 3, 9, 0, 4, 8, 7, 7, 9, 1, 0, 3, 9, 4, 6, 2, 5, 2, 3, 7, 9, 5,\n",
            "        5, 8], device='cuda:0')\n",
            "\n"
          ]
        }
      ],
      "source": [
        "evaluate(model_rnn, X, y)"
      ]
    },
    {
      "cell_type": "markdown",
      "source": [
        "# LSTM"
      ],
      "metadata": {
        "id": "bYAWhEf9bOEW"
      },
      "id": "bYAWhEf9bOEW"
    },
    {
      "cell_type": "code",
      "execution_count": 10,
      "metadata": {
        "colab": {
          "base_uri": "https://localhost:8080/"
        },
        "outputId": "9c930827-085a-45e9-fb54-887dbb33a66c",
        "id": "OdbnDAiPbOEX"
      },
      "outputs": [
        {
          "output_type": "stream",
          "name": "stderr",
          "text": [
            "100%|██████████| 100000/100000 [03:45<00:00, 443.67it/s]\n"
          ]
        },
        {
          "output_type": "stream",
          "name": "stdout",
          "text": [
            "\n",
            "Epoch 0. Time: 225.403, Train loss: 0.112\n"
          ]
        },
        {
          "output_type": "stream",
          "name": "stderr",
          "text": [
            "100%|██████████| 100000/100000 [03:43<00:00, 447.12it/s]"
          ]
        },
        {
          "output_type": "stream",
          "name": "stdout",
          "text": [
            "\n",
            "Epoch 1. Time: 223.676, Train loss: 0.000\n"
          ]
        },
        {
          "output_type": "stream",
          "name": "stderr",
          "text": [
            "\n"
          ]
        }
      ],
      "source": [
        "model_lstm = Network(rnnClass=torch.nn.LSTM)\n",
        "model_lstm = model_lstm.to(device)\n",
        "\n",
        "criterion = nn.CrossEntropyLoss()\n",
        "optimizer = torch.optim.Adam(model_lstm.parameters())\n",
        "\n",
        "model_lstm = train(model_lstm, X, y, epochs=2)"
      ],
      "id": "OdbnDAiPbOEX"
    },
    {
      "cell_type": "code",
      "execution_count": 11,
      "metadata": {
        "colab": {
          "base_uri": "https://localhost:8080/"
        },
        "id": "eePqlnZbbOEX",
        "outputId": "699a2242-97a8-4a81-fdd5-609e7be50723"
      },
      "outputs": [
        {
          "output_type": "stream",
          "name": "stdout",
          "text": [
            "Пример № 1\n",
            "Исходная последовательность:\n",
            "tensor([6, 1, 8, 5, 4, 4, 5, 6, 2, 5, 4, 4, 1, 5, 4, 3, 3, 1, 7, 9, 1, 2, 4, 1,\n",
            "        8, 4, 4, 6, 4, 8, 5, 1, 1, 1, 0, 4, 5, 6, 0, 4, 7, 3, 9, 7, 1, 0, 8, 6,\n",
            "        7, 0])\n",
            "Предсказанная последовательность:\n",
            "tensor([6, 1, 8, 5, 4, 4, 5, 6, 2, 5, 4, 4, 1, 5, 4, 3, 3, 1, 7, 9, 1, 2, 4, 1,\n",
            "        8, 4, 4, 6, 4, 8, 5, 1, 1, 1, 0, 4, 5, 6, 0, 4, 7, 3, 9, 7, 1, 0, 8, 6,\n",
            "        7, 0], device='cuda:0')\n",
            "\n",
            "Пример № 2\n",
            "Исходная последовательность:\n",
            "tensor([5, 8, 7, 4, 1, 8, 4, 2, 8, 7, 2, 9, 0, 3, 5, 7, 8, 3, 1, 6, 1, 1, 8, 8,\n",
            "        4, 6, 5, 0, 4, 3, 3, 8, 0, 0, 8, 5, 0, 4, 8, 4, 3, 1, 0, 3, 9, 4, 3, 3,\n",
            "        6, 7])\n",
            "Предсказанная последовательность:\n",
            "tensor([5, 8, 7, 4, 1, 8, 4, 2, 8, 7, 2, 9, 0, 3, 5, 7, 8, 3, 1, 6, 1, 1, 8, 8,\n",
            "        4, 6, 5, 0, 4, 3, 3, 8, 0, 0, 8, 5, 0, 4, 8, 4, 3, 1, 0, 3, 9, 4, 3, 3,\n",
            "        6, 7], device='cuda:0')\n",
            "\n",
            "Пример № 3\n",
            "Исходная последовательность:\n",
            "tensor([7, 8, 3, 7, 5, 2, 1, 9, 7, 0, 3, 8, 7, 4, 4, 6, 9, 5, 7, 1, 0, 0, 5, 5,\n",
            "        8, 9, 1, 4, 0, 4, 9, 7, 4, 0, 4, 0, 5, 6, 3, 5, 5, 6, 8, 7, 5, 8, 2, 2,\n",
            "        0, 7])\n",
            "Предсказанная последовательность:\n",
            "tensor([7, 8, 3, 7, 5, 2, 1, 9, 7, 0, 3, 8, 7, 4, 4, 6, 9, 5, 7, 1, 0, 0, 5, 5,\n",
            "        8, 9, 1, 4, 0, 4, 9, 7, 4, 0, 4, 0, 5, 6, 3, 5, 5, 6, 8, 7, 5, 8, 2, 2,\n",
            "        0, 7], device='cuda:0')\n",
            "\n",
            "Пример № 4\n",
            "Исходная последовательность:\n",
            "tensor([4, 6, 2, 1, 3, 1, 0, 4, 4, 9, 6, 2, 1, 8, 2, 1, 5, 4, 5, 6, 6, 4, 1, 6,\n",
            "        8, 7, 9, 2, 1, 8, 1, 2, 1, 1, 6, 5, 5, 1, 6, 5, 3, 6, 0, 0, 1, 0, 9, 4,\n",
            "        5, 8])\n",
            "Предсказанная последовательность:\n",
            "tensor([4, 6, 2, 1, 3, 1, 0, 4, 4, 9, 6, 2, 1, 8, 2, 1, 5, 4, 5, 6, 6, 4, 1, 6,\n",
            "        8, 7, 9, 2, 1, 8, 1, 2, 1, 1, 6, 5, 5, 1, 6, 5, 3, 6, 0, 0, 1, 0, 9, 4,\n",
            "        5, 8], device='cuda:0')\n",
            "\n",
            "Пример № 5\n",
            "Исходная последовательность:\n",
            "tensor([4, 4, 1, 5, 5, 1, 6, 1, 3, 4, 5, 5, 9, 8, 4, 5, 2, 1, 5, 8, 6, 3, 2, 0,\n",
            "        4, 6, 4, 1, 9, 8, 5, 2, 5, 8, 1, 5, 1, 6, 2, 4, 3, 5, 8, 9, 8, 7, 5, 7,\n",
            "        3, 7])\n",
            "Предсказанная последовательность:\n",
            "tensor([4, 4, 1, 5, 5, 1, 6, 1, 3, 4, 5, 5, 9, 8, 4, 5, 2, 1, 5, 8, 6, 3, 2, 0,\n",
            "        4, 6, 4, 1, 9, 8, 5, 2, 5, 8, 1, 5, 1, 6, 2, 4, 3, 5, 8, 9, 8, 7, 5, 7,\n",
            "        3, 7], device='cuda:0')\n",
            "\n"
          ]
        }
      ],
      "source": [
        "evaluate(model_lstm, X, y)"
      ],
      "id": "eePqlnZbbOEX"
    },
    {
      "cell_type": "markdown",
      "source": [
        "# GRU"
      ],
      "metadata": {
        "id": "0Dz1FIdfbbOX"
      },
      "id": "0Dz1FIdfbbOX"
    },
    {
      "cell_type": "code",
      "execution_count": 12,
      "metadata": {
        "colab": {
          "base_uri": "https://localhost:8080/"
        },
        "outputId": "8d4a6891-ecb6-45db-8319-632e88d5089c",
        "id": "Wof3IxQtbbOY"
      },
      "outputs": [
        {
          "output_type": "stream",
          "name": "stderr",
          "text": [
            "100%|██████████| 100000/100000 [03:33<00:00, 467.36it/s]\n"
          ]
        },
        {
          "output_type": "stream",
          "name": "stdout",
          "text": [
            "\n",
            "Epoch 0. Time: 213.983, Train loss: 0.096\n"
          ]
        },
        {
          "output_type": "stream",
          "name": "stderr",
          "text": [
            "100%|██████████| 100000/100000 [03:34<00:00, 466.35it/s]"
          ]
        },
        {
          "output_type": "stream",
          "name": "stdout",
          "text": [
            "\n",
            "Epoch 1. Time: 214.448, Train loss: 0.001\n"
          ]
        },
        {
          "output_type": "stream",
          "name": "stderr",
          "text": [
            "\n"
          ]
        }
      ],
      "source": [
        "model_gru = Network(rnnClass=torch.nn.GRU)\n",
        "model_gru = model_gru.to(device)\n",
        "\n",
        "criterion = nn.CrossEntropyLoss()\n",
        "optimizer = torch.optim.Adam(model_gru.parameters())\n",
        "\n",
        "model_gru = train(model_gru, X, y, epochs=2)"
      ],
      "id": "Wof3IxQtbbOY"
    },
    {
      "cell_type": "code",
      "execution_count": 13,
      "metadata": {
        "colab": {
          "base_uri": "https://localhost:8080/"
        },
        "id": "iGsPdW55bbOZ",
        "outputId": "04807ec0-0c65-47de-a6ef-19c7f2d5faf3"
      },
      "outputs": [
        {
          "output_type": "stream",
          "name": "stdout",
          "text": [
            "Пример № 1\n",
            "Исходная последовательность:\n",
            "tensor([6, 9, 6, 1, 8, 1, 0, 5, 4, 3, 7, 3, 4, 4, 1, 5, 4, 3, 5, 0, 0, 1, 4, 5,\n",
            "        1, 6, 3, 8, 3, 4, 0, 1, 3, 6, 5, 1, 9, 0, 0, 5, 4, 6, 2, 5, 3, 9, 2, 0,\n",
            "        8, 3])\n",
            "Предсказанная последовательность:\n",
            "tensor([6, 9, 6, 1, 8, 1, 0, 5, 4, 3, 7, 3, 4, 4, 1, 5, 4, 3, 5, 0, 0, 1, 4, 5,\n",
            "        1, 6, 3, 8, 3, 4, 0, 1, 3, 6, 5, 1, 9, 0, 0, 5, 4, 6, 2, 5, 3, 9, 2, 0,\n",
            "        8, 3], device='cuda:0')\n",
            "\n",
            "Пример № 2\n",
            "Исходная последовательность:\n",
            "tensor([4, 4, 2, 5, 0, 3, 4, 7, 0, 7, 1, 9, 3, 3, 1, 1, 5, 5, 7, 7, 8, 8, 9, 2,\n",
            "        1, 2, 5, 7, 4, 4, 3, 2, 3, 4, 2, 0, 3, 8, 8, 0, 1, 1, 9, 4, 2, 6, 1, 6,\n",
            "        6, 3])\n",
            "Предсказанная последовательность:\n",
            "tensor([4, 4, 2, 5, 0, 3, 4, 7, 0, 7, 1, 9, 3, 3, 1, 1, 5, 5, 7, 7, 8, 8, 9, 2,\n",
            "        1, 2, 5, 7, 4, 4, 3, 2, 3, 4, 2, 0, 3, 8, 8, 0, 1, 1, 9, 4, 2, 6, 1, 6,\n",
            "        6, 3], device='cuda:0')\n",
            "\n",
            "Пример № 3\n",
            "Исходная последовательность:\n",
            "tensor([7, 8, 3, 2, 0, 8, 7, 8, 8, 5, 6, 2, 8, 2, 0, 7, 5, 9, 5, 2, 9, 4, 3, 9,\n",
            "        8, 6, 0, 5, 6, 7, 6, 9, 6, 6, 4, 6, 6, 7, 6, 3, 7, 0, 9, 2, 3, 8, 7, 8,\n",
            "        5, 8])\n",
            "Предсказанная последовательность:\n",
            "tensor([7, 8, 3, 2, 0, 8, 7, 8, 8, 5, 6, 2, 8, 2, 0, 7, 5, 9, 5, 2, 9, 4, 3, 9,\n",
            "        8, 6, 0, 5, 6, 7, 6, 9, 6, 6, 4, 6, 6, 7, 6, 3, 7, 0, 9, 2, 3, 8, 7, 8,\n",
            "        5, 8], device='cuda:0')\n",
            "\n",
            "Пример № 4\n",
            "Исходная последовательность:\n",
            "tensor([1, 2, 0, 9, 3, 4, 0, 2, 0, 6, 9, 6, 0, 7, 1, 5, 0, 7, 2, 9, 5, 9, 6, 5,\n",
            "        0, 4, 9, 3, 0, 0, 7, 0, 2, 4, 6, 2, 8, 0, 1, 7, 8, 0, 9, 8, 8, 8, 3, 5,\n",
            "        8, 3])\n",
            "Предсказанная последовательность:\n",
            "tensor([1, 2, 0, 9, 3, 4, 0, 2, 0, 6, 9, 6, 0, 7, 1, 5, 0, 7, 2, 9, 5, 9, 6, 5,\n",
            "        0, 4, 9, 3, 0, 0, 7, 0, 2, 4, 6, 2, 8, 0, 1, 7, 8, 0, 9, 8, 8, 8, 3, 5,\n",
            "        8, 3], device='cuda:0')\n",
            "\n",
            "Пример № 5\n",
            "Исходная последовательность:\n",
            "tensor([7, 0, 9, 2, 0, 2, 6, 4, 1, 1, 7, 3, 7, 3, 9, 5, 6, 1, 3, 2, 5, 5, 7, 9,\n",
            "        0, 6, 0, 5, 5, 8, 1, 7, 2, 8, 5, 3, 4, 6, 4, 4, 3, 6, 7, 8, 4, 5, 2, 0,\n",
            "        7, 1])\n",
            "Предсказанная последовательность:\n",
            "tensor([7, 0, 9, 2, 0, 2, 6, 4, 1, 1, 7, 3, 7, 3, 9, 5, 6, 1, 3, 2, 5, 5, 7, 9,\n",
            "        0, 6, 0, 5, 5, 8, 1, 7, 2, 8, 5, 3, 4, 6, 4, 4, 3, 6, 7, 8, 4, 5, 2, 0,\n",
            "        7, 1], device='cuda:0')\n",
            "\n"
          ]
        }
      ],
      "source": [
        "evaluate(model_gru, X, y)"
      ],
      "id": "iGsPdW55bbOZ"
    }
  ],
  "metadata": {
    "kernelspec": {
      "display_name": "Python 3",
      "name": "python3"
    },
    "language_info": {
      "codemirror_mode": {
        "name": "ipython",
        "version": 3
      },
      "file_extension": ".py",
      "mimetype": "text/x-python",
      "name": "python",
      "nbconvert_exporter": "python",
      "pygments_lexer": "ipython3",
      "version": "3.11.5"
    },
    "colab": {
      "provenance": [],
      "gpuType": "T4"
    },
    "accelerator": "GPU"
  },
  "nbformat": 4,
  "nbformat_minor": 5
}
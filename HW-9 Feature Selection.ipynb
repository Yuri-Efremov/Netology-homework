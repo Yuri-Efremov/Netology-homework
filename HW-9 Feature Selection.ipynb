{
 "cells": [
  {
   "cell_type": "code",
   "execution_count": 1,
   "id": "259a4c36",
   "metadata": {},
   "outputs": [],
   "source": [
    "import pandas as pd\n",
    "import numpy as np\n",
    "import seaborn as sns\n",
    "import matplotlib.pyplot as plt"
   ]
  },
  {
   "cell_type": "markdown",
   "id": "e8885f23",
   "metadata": {},
   "source": [
    "### 1. Сгенерируйте данные с помощью кода"
   ]
  },
  {
   "cell_type": "code",
   "execution_count": 2,
   "id": "ae721ee9",
   "metadata": {},
   "outputs": [],
   "source": [
    "from sklearn.datasets import make_classification\n",
    "x_data_generated, y_data_generated = make_classification(scale=1, random_state=9)"
   ]
  },
  {
   "cell_type": "code",
   "execution_count": 3,
   "id": "1c07740a",
   "metadata": {},
   "outputs": [
    {
     "name": "stdout",
     "output_type": "stream",
     "text": [
      "Features shape: (100, 20)\n",
      "Target counts: (array([0, 1]), array([51, 49], dtype=int64))\n"
     ]
    }
   ],
   "source": [
    "print('Features shape:', x_data_generated.shape)\n",
    "print('Target counts:', np.unique(y_data_generated, return_counts=True))"
   ]
  },
  {
   "cell_type": "markdown",
   "id": "b8d1f881",
   "metadata": {},
   "source": [
    "### 2. Постройте модель логистической регрессии и оцените среднюю точность"
   ]
  },
  {
   "cell_type": "code",
   "execution_count": 4,
   "id": "ddba5bab",
   "metadata": {},
   "outputs": [],
   "source": [
    "from sklearn.model_selection import cross_val_score\n",
    "from sklearn.linear_model import LogisticRegression\n",
    "\n",
    "results = pd.DataFrame(columns=['selection_method', 'no_of_features', 'mean_accuracy_score'])\n",
    "\n",
    "def to_results(x, method_name):\n",
    "    no_of_features = x.shape[1]\n",
    "    score = cross_val_score(LogisticRegression(), x, y_data_generated, scoring='accuracy').mean()\n",
    "    results.loc[len(results)] = [method_name, no_of_features, score]\n",
    "    return results"
   ]
  },
  {
   "cell_type": "code",
   "execution_count": 5,
   "id": "a50d7a76",
   "metadata": {},
   "outputs": [
    {
     "data": {
      "text/html": [
       "<div>\n",
       "<style scoped>\n",
       "    .dataframe tbody tr th:only-of-type {\n",
       "        vertical-align: middle;\n",
       "    }\n",
       "\n",
       "    .dataframe tbody tr th {\n",
       "        vertical-align: top;\n",
       "    }\n",
       "\n",
       "    .dataframe thead th {\n",
       "        text-align: right;\n",
       "    }\n",
       "</style>\n",
       "<table border=\"1\" class=\"dataframe\">\n",
       "  <thead>\n",
       "    <tr style=\"text-align: right;\">\n",
       "      <th></th>\n",
       "      <th>selection_method</th>\n",
       "      <th>no_of_features</th>\n",
       "      <th>mean_accuracy_score</th>\n",
       "    </tr>\n",
       "  </thead>\n",
       "  <tbody>\n",
       "    <tr>\n",
       "      <th>0</th>\n",
       "      <td>Without selection</td>\n",
       "      <td>20</td>\n",
       "      <td>0.86</td>\n",
       "    </tr>\n",
       "  </tbody>\n",
       "</table>\n",
       "</div>"
      ],
      "text/plain": [
       "    selection_method  no_of_features  mean_accuracy_score\n",
       "0  Without selection              20                 0.86"
      ]
     },
     "execution_count": 5,
     "metadata": {},
     "output_type": "execute_result"
    }
   ],
   "source": [
    "to_results(x_data_generated, 'Without selection')"
   ]
  },
  {
   "cell_type": "markdown",
   "id": "b54f615c",
   "metadata": {},
   "source": [
    "### 3. Используйте статистические методы для отбора признаков:\n",
    "- a) Выберите признаки на основе матрицы корреляции.\n",
    "- b) Отсеките низковариативные признаки (VarianceThreshold).\n",
    "- c) Повторите п. 2 на отобранных признаках в п. 3a, п. 3b."
   ]
  },
  {
   "cell_type": "code",
   "execution_count": 6,
   "id": "e181ec61",
   "metadata": {},
   "outputs": [
    {
     "data": {
      "text/html": [
       "<div>\n",
       "<style scoped>\n",
       "    .dataframe tbody tr th:only-of-type {\n",
       "        vertical-align: middle;\n",
       "    }\n",
       "\n",
       "    .dataframe tbody tr th {\n",
       "        vertical-align: top;\n",
       "    }\n",
       "\n",
       "    .dataframe thead th {\n",
       "        text-align: right;\n",
       "    }\n",
       "</style>\n",
       "<table border=\"1\" class=\"dataframe\">\n",
       "  <thead>\n",
       "    <tr style=\"text-align: right;\">\n",
       "      <th></th>\n",
       "      <th>0</th>\n",
       "      <th>1</th>\n",
       "      <th>2</th>\n",
       "      <th>3</th>\n",
       "      <th>4</th>\n",
       "      <th>5</th>\n",
       "      <th>6</th>\n",
       "      <th>7</th>\n",
       "      <th>8</th>\n",
       "      <th>9</th>\n",
       "      <th>...</th>\n",
       "      <th>11</th>\n",
       "      <th>12</th>\n",
       "      <th>13</th>\n",
       "      <th>14</th>\n",
       "      <th>15</th>\n",
       "      <th>16</th>\n",
       "      <th>17</th>\n",
       "      <th>18</th>\n",
       "      <th>19</th>\n",
       "      <th>target</th>\n",
       "    </tr>\n",
       "  </thead>\n",
       "  <tbody>\n",
       "    <tr>\n",
       "      <th>0</th>\n",
       "      <td>-0.061000</td>\n",
       "      <td>-0.868975</td>\n",
       "      <td>0.043621</td>\n",
       "      <td>-2.757511</td>\n",
       "      <td>-1.304449</td>\n",
       "      <td>0.074567</td>\n",
       "      <td>-1.990860</td>\n",
       "      <td>-1.336837</td>\n",
       "      <td>-0.486052</td>\n",
       "      <td>0.954555</td>\n",
       "      <td>...</td>\n",
       "      <td>0.769176</td>\n",
       "      <td>1.529572</td>\n",
       "      <td>0.338366</td>\n",
       "      <td>-2.621578</td>\n",
       "      <td>1.159243</td>\n",
       "      <td>0.956275</td>\n",
       "      <td>-0.437646</td>\n",
       "      <td>0.347415</td>\n",
       "      <td>0.476281</td>\n",
       "      <td>1</td>\n",
       "    </tr>\n",
       "    <tr>\n",
       "      <th>1</th>\n",
       "      <td>-1.058712</td>\n",
       "      <td>-1.282205</td>\n",
       "      <td>0.167144</td>\n",
       "      <td>0.144471</td>\n",
       "      <td>-0.861473</td>\n",
       "      <td>0.158882</td>\n",
       "      <td>1.756368</td>\n",
       "      <td>-1.897736</td>\n",
       "      <td>-0.651007</td>\n",
       "      <td>0.337486</td>\n",
       "      <td>...</td>\n",
       "      <td>0.915471</td>\n",
       "      <td>-1.796172</td>\n",
       "      <td>1.798489</td>\n",
       "      <td>-0.541945</td>\n",
       "      <td>0.236401</td>\n",
       "      <td>-0.176654</td>\n",
       "      <td>-0.503043</td>\n",
       "      <td>-1.063231</td>\n",
       "      <td>-0.854900</td>\n",
       "      <td>1</td>\n",
       "    </tr>\n",
       "    <tr>\n",
       "      <th>2</th>\n",
       "      <td>1.101442</td>\n",
       "      <td>-1.398838</td>\n",
       "      <td>-0.583313</td>\n",
       "      <td>0.137913</td>\n",
       "      <td>1.249654</td>\n",
       "      <td>1.336861</td>\n",
       "      <td>-0.715492</td>\n",
       "      <td>0.029136</td>\n",
       "      <td>-0.058943</td>\n",
       "      <td>0.337582</td>\n",
       "      <td>...</td>\n",
       "      <td>1.100319</td>\n",
       "      <td>-0.936254</td>\n",
       "      <td>1.818105</td>\n",
       "      <td>1.387800</td>\n",
       "      <td>0.430021</td>\n",
       "      <td>0.341622</td>\n",
       "      <td>-0.609006</td>\n",
       "      <td>-0.914463</td>\n",
       "      <td>1.141516</td>\n",
       "      <td>1</td>\n",
       "    </tr>\n",
       "    <tr>\n",
       "      <th>3</th>\n",
       "      <td>0.267982</td>\n",
       "      <td>0.357477</td>\n",
       "      <td>-1.460234</td>\n",
       "      <td>-0.544337</td>\n",
       "      <td>-1.042708</td>\n",
       "      <td>0.319371</td>\n",
       "      <td>0.367953</td>\n",
       "      <td>0.152713</td>\n",
       "      <td>-1.500331</td>\n",
       "      <td>1.182636</td>\n",
       "      <td>...</td>\n",
       "      <td>0.219119</td>\n",
       "      <td>1.275841</td>\n",
       "      <td>2.415371</td>\n",
       "      <td>-0.128888</td>\n",
       "      <td>-0.622297</td>\n",
       "      <td>-1.067046</td>\n",
       "      <td>-0.095031</td>\n",
       "      <td>-2.354515</td>\n",
       "      <td>-0.044146</td>\n",
       "      <td>0</td>\n",
       "    </tr>\n",
       "    <tr>\n",
       "      <th>4</th>\n",
       "      <td>-0.621145</td>\n",
       "      <td>0.470908</td>\n",
       "      <td>0.158531</td>\n",
       "      <td>1.003873</td>\n",
       "      <td>0.371210</td>\n",
       "      <td>0.121555</td>\n",
       "      <td>-1.006374</td>\n",
       "      <td>-0.274246</td>\n",
       "      <td>-0.124201</td>\n",
       "      <td>0.668889</td>\n",
       "      <td>...</td>\n",
       "      <td>0.075988</td>\n",
       "      <td>-0.152468</td>\n",
       "      <td>1.226548</td>\n",
       "      <td>0.796282</td>\n",
       "      <td>1.754514</td>\n",
       "      <td>-1.301110</td>\n",
       "      <td>-0.027984</td>\n",
       "      <td>-1.228003</td>\n",
       "      <td>2.252981</td>\n",
       "      <td>0</td>\n",
       "    </tr>\n",
       "  </tbody>\n",
       "</table>\n",
       "<p>5 rows × 21 columns</p>\n",
       "</div>"
      ],
      "text/plain": [
       "          0         1         2         3         4         5         6  \\\n",
       "0 -0.061000 -0.868975  0.043621 -2.757511 -1.304449  0.074567 -1.990860   \n",
       "1 -1.058712 -1.282205  0.167144  0.144471 -0.861473  0.158882  1.756368   \n",
       "2  1.101442 -1.398838 -0.583313  0.137913  1.249654  1.336861 -0.715492   \n",
       "3  0.267982  0.357477 -1.460234 -0.544337 -1.042708  0.319371  0.367953   \n",
       "4 -0.621145  0.470908  0.158531  1.003873  0.371210  0.121555 -1.006374   \n",
       "\n",
       "          7         8         9  ...        11        12        13        14  \\\n",
       "0 -1.336837 -0.486052  0.954555  ...  0.769176  1.529572  0.338366 -2.621578   \n",
       "1 -1.897736 -0.651007  0.337486  ...  0.915471 -1.796172  1.798489 -0.541945   \n",
       "2  0.029136 -0.058943  0.337582  ...  1.100319 -0.936254  1.818105  1.387800   \n",
       "3  0.152713 -1.500331  1.182636  ...  0.219119  1.275841  2.415371 -0.128888   \n",
       "4 -0.274246 -0.124201  0.668889  ...  0.075988 -0.152468  1.226548  0.796282   \n",
       "\n",
       "         15        16        17        18        19  target  \n",
       "0  1.159243  0.956275 -0.437646  0.347415  0.476281       1  \n",
       "1  0.236401 -0.176654 -0.503043 -1.063231 -0.854900       1  \n",
       "2  0.430021  0.341622 -0.609006 -0.914463  1.141516       1  \n",
       "3 -0.622297 -1.067046 -0.095031 -2.354515 -0.044146       0  \n",
       "4  1.754514 -1.301110 -0.027984 -1.228003  2.252981       0  \n",
       "\n",
       "[5 rows x 21 columns]"
      ]
     },
     "execution_count": 6,
     "metadata": {},
     "output_type": "execute_result"
    }
   ],
   "source": [
    "df = pd.DataFrame(x_data_generated)\n",
    "df['target'] = y_data_generated\n",
    "df.head()"
   ]
  },
  {
   "cell_type": "markdown",
   "id": "70af2f72",
   "metadata": {},
   "source": [
    "**Создаю матрицу корреляции и отбираю признаки, коэффициент корреляции которых с целевой переменной более или равен `0.1`**"
   ]
  },
  {
   "cell_type": "code",
   "execution_count": 7,
   "id": "205620c2",
   "metadata": {},
   "outputs": [
    {
     "data": {
      "text/plain": [
       "0         0.161469\n",
       "1        -0.113391\n",
       "2        -0.088631\n",
       "3        -0.058947\n",
       "4        -0.066213\n",
       "5         0.136104\n",
       "6         0.074869\n",
       "7        -0.062309\n",
       "8        -0.030969\n",
       "9        -0.065364\n",
       "10       -0.163456\n",
       "11        0.776704\n",
       "12       -0.027492\n",
       "13        0.493303\n",
       "14        0.093541\n",
       "15       -0.125132\n",
       "16        0.016228\n",
       "17       -0.777922\n",
       "18        0.002078\n",
       "19       -0.045429\n",
       "target    1.000000\n",
       "Name: target, dtype: float64"
      ]
     },
     "execution_count": 7,
     "metadata": {},
     "output_type": "execute_result"
    }
   ],
   "source": [
    "corr_matrix = df.corr()\n",
    "corr_matrix.target"
   ]
  },
  {
   "cell_type": "code",
   "execution_count": 8,
   "id": "699e90fe",
   "metadata": {},
   "outputs": [
    {
     "data": {
      "text/plain": [
       "[0, 1, 5, 10, 11, 13, 15, 17, 'target']"
      ]
     },
     "execution_count": 8,
     "metadata": {},
     "output_type": "execute_result"
    }
   ],
   "source": [
    "features_by_corr = list(corr_matrix.target[np.abs(corr_matrix.target) >= 0.1].index)\n",
    "features_by_corr"
   ]
  },
  {
   "cell_type": "code",
   "execution_count": 9,
   "id": "6ef285e3",
   "metadata": {},
   "outputs": [
    {
     "data": {
      "image/png": "[encoded data removed]",
      "text/plain": [
       "<Figure size 720x432 with 2 Axes>"
      ]
     },
     "metadata": {
      "needs_background": "light"
     },
     "output_type": "display_data"
    }
   ],
   "source": [
    "plt.figure(figsize=(10,6))\n",
    "sns.heatmap(corr_matrix[features_by_corr].loc[features_by_corr], annot=True)\n",
    "plt.show()"
   ]
  },
  {
   "cell_type": "markdown",
   "id": "3332e30c",
   "metadata": {},
   "source": [
    "**На тепловой карте видно, что есть два признака максимально скоррелированных между собой: `11` и `17`. Необходимо избавиться от одного из них**"
   ]
  },
  {
   "cell_type": "code",
   "execution_count": 10,
   "id": "8034e09f",
   "metadata": {},
   "outputs": [
    {
     "data": {
      "text/plain": [
       "[0, 1, 5, 10, 11, 13, 15]"
      ]
     },
     "execution_count": 10,
     "metadata": {},
     "output_type": "execute_result"
    }
   ],
   "source": [
    "del features_by_corr[-2:]\n",
    "features_by_corr"
   ]
  },
  {
   "cell_type": "code",
   "execution_count": 11,
   "id": "fc470d25",
   "metadata": {},
   "outputs": [
    {
     "data": {
      "text/html": [
       "<div>\n",
       "<style scoped>\n",
       "    .dataframe tbody tr th:only-of-type {\n",
       "        vertical-align: middle;\n",
       "    }\n",
       "\n",
       "    .dataframe tbody tr th {\n",
       "        vertical-align: top;\n",
       "    }\n",
       "\n",
       "    .dataframe thead th {\n",
       "        text-align: right;\n",
       "    }\n",
       "</style>\n",
       "<table border=\"1\" class=\"dataframe\">\n",
       "  <thead>\n",
       "    <tr style=\"text-align: right;\">\n",
       "      <th></th>\n",
       "      <th>selection_method</th>\n",
       "      <th>no_of_features</th>\n",
       "      <th>mean_accuracy_score</th>\n",
       "    </tr>\n",
       "  </thead>\n",
       "  <tbody>\n",
       "    <tr>\n",
       "      <th>0</th>\n",
       "      <td>Without selection</td>\n",
       "      <td>20</td>\n",
       "      <td>0.86</td>\n",
       "    </tr>\n",
       "    <tr>\n",
       "      <th>1</th>\n",
       "      <td>Correlation matrix</td>\n",
       "      <td>7</td>\n",
       "      <td>0.89</td>\n",
       "    </tr>\n",
       "  </tbody>\n",
       "</table>\n",
       "</div>"
      ],
      "text/plain": [
       "     selection_method  no_of_features  mean_accuracy_score\n",
       "0   Without selection              20                 0.86\n",
       "1  Correlation matrix               7                 0.89"
      ]
     },
     "execution_count": 11,
     "metadata": {},
     "output_type": "execute_result"
    }
   ],
   "source": [
    "x = x_data_generated.T[features_by_corr].T\n",
    "\n",
    "to_results(x, 'Correlation matrix')"
   ]
  },
  {
   "cell_type": "markdown",
   "id": "653d8891",
   "metadata": {},
   "source": [
    "**Отсеку признаки, дисперсия которых ниже средней дисперсии по всему набору признаков**"
   ]
  },
  {
   "cell_type": "code",
   "execution_count": 12,
   "id": "8ea23fcd",
   "metadata": {},
   "outputs": [
    {
     "data": {
      "text/html": [
       "<div>\n",
       "<style scoped>\n",
       "    .dataframe tbody tr th:only-of-type {\n",
       "        vertical-align: middle;\n",
       "    }\n",
       "\n",
       "    .dataframe tbody tr th {\n",
       "        vertical-align: top;\n",
       "    }\n",
       "\n",
       "    .dataframe thead th {\n",
       "        text-align: right;\n",
       "    }\n",
       "</style>\n",
       "<table border=\"1\" class=\"dataframe\">\n",
       "  <thead>\n",
       "    <tr style=\"text-align: right;\">\n",
       "      <th></th>\n",
       "      <th>selection_method</th>\n",
       "      <th>no_of_features</th>\n",
       "      <th>mean_accuracy_score</th>\n",
       "    </tr>\n",
       "  </thead>\n",
       "  <tbody>\n",
       "    <tr>\n",
       "      <th>0</th>\n",
       "      <td>Without selection</td>\n",
       "      <td>20</td>\n",
       "      <td>0.86</td>\n",
       "    </tr>\n",
       "    <tr>\n",
       "      <th>1</th>\n",
       "      <td>Correlation matrix</td>\n",
       "      <td>7</td>\n",
       "      <td>0.89</td>\n",
       "    </tr>\n",
       "    <tr>\n",
       "      <th>2</th>\n",
       "      <td>Variance threshold</td>\n",
       "      <td>5</td>\n",
       "      <td>0.91</td>\n",
       "    </tr>\n",
       "  </tbody>\n",
       "</table>\n",
       "</div>"
      ],
      "text/plain": [
       "     selection_method  no_of_features  mean_accuracy_score\n",
       "0   Without selection              20                 0.86\n",
       "1  Correlation matrix               7                 0.89\n",
       "2  Variance threshold               5                 0.91"
      ]
     },
     "execution_count": 12,
     "metadata": {},
     "output_type": "execute_result"
    }
   ],
   "source": [
    "from sklearn.feature_selection import VarianceThreshold\n",
    "\n",
    "x = VarianceThreshold(x_data_generated.var()).fit_transform(x_data_generated)\n",
    "\n",
    "to_results(x, 'Variance threshold')"
   ]
  },
  {
   "cell_type": "markdown",
   "id": "28c3eedc",
   "metadata": {},
   "source": [
    "### 4. Осуществите отбор признаков на основе дисперсионного анализа:\n",
    "- a) Выберите 5 лучших признаков с помощью скоринговой функции для классификации f_classif (SelectKBest(f_classif, k=5)).\n",
    "- b) Повторите п. 2 на отобранных признаках."
   ]
  },
  {
   "cell_type": "code",
   "execution_count": 13,
   "id": "c46659f1",
   "metadata": {},
   "outputs": [
    {
     "data": {
      "text/html": [
       "<div>\n",
       "<style scoped>\n",
       "    .dataframe tbody tr th:only-of-type {\n",
       "        vertical-align: middle;\n",
       "    }\n",
       "\n",
       "    .dataframe tbody tr th {\n",
       "        vertical-align: top;\n",
       "    }\n",
       "\n",
       "    .dataframe thead th {\n",
       "        text-align: right;\n",
       "    }\n",
       "</style>\n",
       "<table border=\"1\" class=\"dataframe\">\n",
       "  <thead>\n",
       "    <tr style=\"text-align: right;\">\n",
       "      <th></th>\n",
       "      <th>selection_method</th>\n",
       "      <th>no_of_features</th>\n",
       "      <th>mean_accuracy_score</th>\n",
       "    </tr>\n",
       "  </thead>\n",
       "  <tbody>\n",
       "    <tr>\n",
       "      <th>0</th>\n",
       "      <td>Without selection</td>\n",
       "      <td>20</td>\n",
       "      <td>0.86</td>\n",
       "    </tr>\n",
       "    <tr>\n",
       "      <th>1</th>\n",
       "      <td>Correlation matrix</td>\n",
       "      <td>7</td>\n",
       "      <td>0.89</td>\n",
       "    </tr>\n",
       "    <tr>\n",
       "      <th>2</th>\n",
       "      <td>Variance threshold</td>\n",
       "      <td>5</td>\n",
       "      <td>0.91</td>\n",
       "    </tr>\n",
       "    <tr>\n",
       "      <th>3</th>\n",
       "      <td>Analysis of variance</td>\n",
       "      <td>5</td>\n",
       "      <td>0.89</td>\n",
       "    </tr>\n",
       "  </tbody>\n",
       "</table>\n",
       "</div>"
      ],
      "text/plain": [
       "       selection_method  no_of_features  mean_accuracy_score\n",
       "0     Without selection              20                 0.86\n",
       "1    Correlation matrix               7                 0.89\n",
       "2    Variance threshold               5                 0.91\n",
       "3  Analysis of variance               5                 0.89"
      ]
     },
     "execution_count": 13,
     "metadata": {},
     "output_type": "execute_result"
    }
   ],
   "source": [
    "from sklearn.feature_selection import SelectKBest\n",
    "\n",
    "x = SelectKBest(k=5).fit_transform(x_data_generated, y_data_generated)\n",
    "\n",
    "to_results(x, 'Analysis of variance')"
   ]
  },
  {
   "cell_type": "markdown",
   "id": "0088c09e",
   "metadata": {},
   "source": [
    "### 5. Отбор с использованием моделей:\n",
    "- a) Реализуйте отбор признаков с помощью логистической регрессии. Отобранные признаки подайте далее на вход в саму логистическую регрессию (SelectFromModel). Используйте L1 регуляризацию.\n",
    "- b) Реализуйте отбор признаков с помощью модели RandomForest и встроенного атрибута feature_impotance.\n",
    "- c) Повторите п. 2 на отобранных признаках в п. 5a, п. 5b."
   ]
  },
  {
   "cell_type": "markdown",
   "id": "5241fe23",
   "metadata": {},
   "source": [
    "**Я установил параметр `C=0.2` для большей силы регуляризации, чтобы было отобрано меньшее количество признаков**"
   ]
  },
  {
   "cell_type": "code",
   "execution_count": 14,
   "id": "0efa67c3",
   "metadata": {},
   "outputs": [
    {
     "data": {
      "text/html": [
       "<div>\n",
       "<style scoped>\n",
       "    .dataframe tbody tr th:only-of-type {\n",
       "        vertical-align: middle;\n",
       "    }\n",
       "\n",
       "    .dataframe tbody tr th {\n",
       "        vertical-align: top;\n",
       "    }\n",
       "\n",
       "    .dataframe thead th {\n",
       "        text-align: right;\n",
       "    }\n",
       "</style>\n",
       "<table border=\"1\" class=\"dataframe\">\n",
       "  <thead>\n",
       "    <tr style=\"text-align: right;\">\n",
       "      <th></th>\n",
       "      <th>selection_method</th>\n",
       "      <th>no_of_features</th>\n",
       "      <th>mean_accuracy_score</th>\n",
       "    </tr>\n",
       "  </thead>\n",
       "  <tbody>\n",
       "    <tr>\n",
       "      <th>0</th>\n",
       "      <td>Without selection</td>\n",
       "      <td>20</td>\n",
       "      <td>0.86</td>\n",
       "    </tr>\n",
       "    <tr>\n",
       "      <th>1</th>\n",
       "      <td>Correlation matrix</td>\n",
       "      <td>7</td>\n",
       "      <td>0.89</td>\n",
       "    </tr>\n",
       "    <tr>\n",
       "      <th>2</th>\n",
       "      <td>Variance threshold</td>\n",
       "      <td>5</td>\n",
       "      <td>0.91</td>\n",
       "    </tr>\n",
       "    <tr>\n",
       "      <th>3</th>\n",
       "      <td>Analysis of variance</td>\n",
       "      <td>5</td>\n",
       "      <td>0.89</td>\n",
       "    </tr>\n",
       "    <tr>\n",
       "      <th>4</th>\n",
       "      <td>Lasso logistic regression</td>\n",
       "      <td>4</td>\n",
       "      <td>0.91</td>\n",
       "    </tr>\n",
       "  </tbody>\n",
       "</table>\n",
       "</div>"
      ],
      "text/plain": [
       "            selection_method  no_of_features  mean_accuracy_score\n",
       "0          Without selection              20                 0.86\n",
       "1         Correlation matrix               7                 0.89\n",
       "2         Variance threshold               5                 0.91\n",
       "3       Analysis of variance               5                 0.89\n",
       "4  Lasso logistic regression               4                 0.91"
      ]
     },
     "execution_count": 14,
     "metadata": {},
     "output_type": "execute_result"
    }
   ],
   "source": [
    "from sklearn.feature_selection import SelectFromModel\n",
    "\n",
    "estimator = LogisticRegression(penalty='l1', solver='liblinear', C=0.2)\n",
    "x = SelectFromModel(estimator).fit_transform(x_data_generated, y_data_generated)\n",
    "\n",
    "to_results(x, 'Lasso logistic regression')"
   ]
  },
  {
   "cell_type": "code",
   "execution_count": 15,
   "id": "e6d3f6b4",
   "metadata": {},
   "outputs": [
    {
     "data": {
      "image/png": "[encoded data removed]",
      "text/plain": [
       "<Figure size 720x432 with 1 Axes>"
      ]
     },
     "metadata": {
      "needs_background": "light"
     },
     "output_type": "display_data"
    }
   ],
   "source": [
    "from sklearn.ensemble import RandomForestClassifier\n",
    "\n",
    "features_score = RandomForestClassifier(random_state=42).fit(x_data_generated, y_data_generated).feature_importances_\n",
    "\n",
    "plt.figure(figsize=(10,6))\n",
    "plt.bar(range(20), features_score)\n",
    "plt.xticks(range(20))\n",
    "plt.xlabel('Features')\n",
    "plt.ylabel('Feature importances')\n",
    "plt.show()"
   ]
  },
  {
   "cell_type": "markdown",
   "id": "cd51fc86",
   "metadata": {},
   "source": [
    "**Наиболее важными признаками случайный лес признал `11`, `13` и `17`. Но как было выяснено ранее при рассмотрении корреляционной матрицы, признаки `11` и `17` скоррелированы с максимальным коэффициентом `1`, поэтому я оставлю лишь два признака `11` и `13`**"
   ]
  },
  {
   "cell_type": "code",
   "execution_count": 16,
   "id": "f3d4a85f",
   "metadata": {},
   "outputs": [
    {
     "data": {
      "text/html": [
       "<div>\n",
       "<style scoped>\n",
       "    .dataframe tbody tr th:only-of-type {\n",
       "        vertical-align: middle;\n",
       "    }\n",
       "\n",
       "    .dataframe tbody tr th {\n",
       "        vertical-align: top;\n",
       "    }\n",
       "\n",
       "    .dataframe thead th {\n",
       "        text-align: right;\n",
       "    }\n",
       "</style>\n",
       "<table border=\"1\" class=\"dataframe\">\n",
       "  <thead>\n",
       "    <tr style=\"text-align: right;\">\n",
       "      <th></th>\n",
       "      <th>selection_method</th>\n",
       "      <th>no_of_features</th>\n",
       "      <th>mean_accuracy_score</th>\n",
       "    </tr>\n",
       "  </thead>\n",
       "  <tbody>\n",
       "    <tr>\n",
       "      <th>0</th>\n",
       "      <td>Without selection</td>\n",
       "      <td>20</td>\n",
       "      <td>0.86</td>\n",
       "    </tr>\n",
       "    <tr>\n",
       "      <th>1</th>\n",
       "      <td>Correlation matrix</td>\n",
       "      <td>7</td>\n",
       "      <td>0.89</td>\n",
       "    </tr>\n",
       "    <tr>\n",
       "      <th>2</th>\n",
       "      <td>Variance threshold</td>\n",
       "      <td>5</td>\n",
       "      <td>0.91</td>\n",
       "    </tr>\n",
       "    <tr>\n",
       "      <th>3</th>\n",
       "      <td>Analysis of variance</td>\n",
       "      <td>5</td>\n",
       "      <td>0.89</td>\n",
       "    </tr>\n",
       "    <tr>\n",
       "      <th>4</th>\n",
       "      <td>Lasso logistic regression</td>\n",
       "      <td>4</td>\n",
       "      <td>0.91</td>\n",
       "    </tr>\n",
       "    <tr>\n",
       "      <th>5</th>\n",
       "      <td>Random forest</td>\n",
       "      <td>2</td>\n",
       "      <td>0.90</td>\n",
       "    </tr>\n",
       "  </tbody>\n",
       "</table>\n",
       "</div>"
      ],
      "text/plain": [
       "            selection_method  no_of_features  mean_accuracy_score\n",
       "0          Without selection              20                 0.86\n",
       "1         Correlation matrix               7                 0.89\n",
       "2         Variance threshold               5                 0.91\n",
       "3       Analysis of variance               5                 0.89\n",
       "4  Lasso logistic regression               4                 0.91\n",
       "5              Random forest               2                 0.90"
      ]
     },
     "execution_count": 16,
     "metadata": {},
     "output_type": "execute_result"
    }
   ],
   "source": [
    "x = x_data_generated.T[[11, 13]].T\n",
    "\n",
    "to_results(x, 'Random forest')"
   ]
  },
  {
   "cell_type": "markdown",
   "id": "3c5eae9f",
   "metadata": {},
   "source": [
    "### 6. Перебор признаков:\n",
    "- a) SequentialFeatureSelector.\n",
    "- b) Повторите п. 2 на отобранных признаках."
   ]
  },
  {
   "cell_type": "markdown",
   "id": "f5841470",
   "metadata": {},
   "source": [
    "**Похоже, что двух признаков должно быть достаточно для того, чтобы добиться точности не менее 90%. Попрошу SequentialFeatureSelector оставить только два признака**"
   ]
  },
  {
   "cell_type": "code",
   "execution_count": 17,
   "id": "abf8eb9f",
   "metadata": {},
   "outputs": [
    {
     "data": {
      "text/html": [
       "<div>\n",
       "<style scoped>\n",
       "    .dataframe tbody tr th:only-of-type {\n",
       "        vertical-align: middle;\n",
       "    }\n",
       "\n",
       "    .dataframe tbody tr th {\n",
       "        vertical-align: top;\n",
       "    }\n",
       "\n",
       "    .dataframe thead th {\n",
       "        text-align: right;\n",
       "    }\n",
       "</style>\n",
       "<table border=\"1\" class=\"dataframe\">\n",
       "  <thead>\n",
       "    <tr style=\"text-align: right;\">\n",
       "      <th></th>\n",
       "      <th>selection_method</th>\n",
       "      <th>no_of_features</th>\n",
       "      <th>mean_accuracy_score</th>\n",
       "    </tr>\n",
       "  </thead>\n",
       "  <tbody>\n",
       "    <tr>\n",
       "      <th>0</th>\n",
       "      <td>Without selection</td>\n",
       "      <td>20</td>\n",
       "      <td>0.86</td>\n",
       "    </tr>\n",
       "    <tr>\n",
       "      <th>1</th>\n",
       "      <td>Correlation matrix</td>\n",
       "      <td>7</td>\n",
       "      <td>0.89</td>\n",
       "    </tr>\n",
       "    <tr>\n",
       "      <th>2</th>\n",
       "      <td>Variance threshold</td>\n",
       "      <td>5</td>\n",
       "      <td>0.91</td>\n",
       "    </tr>\n",
       "    <tr>\n",
       "      <th>3</th>\n",
       "      <td>Analysis of variance</td>\n",
       "      <td>5</td>\n",
       "      <td>0.89</td>\n",
       "    </tr>\n",
       "    <tr>\n",
       "      <th>4</th>\n",
       "      <td>Lasso logistic regression</td>\n",
       "      <td>4</td>\n",
       "      <td>0.91</td>\n",
       "    </tr>\n",
       "    <tr>\n",
       "      <th>5</th>\n",
       "      <td>Random forest</td>\n",
       "      <td>2</td>\n",
       "      <td>0.90</td>\n",
       "    </tr>\n",
       "    <tr>\n",
       "      <th>6</th>\n",
       "      <td>Sequential Feature Selector</td>\n",
       "      <td>2</td>\n",
       "      <td>0.93</td>\n",
       "    </tr>\n",
       "  </tbody>\n",
       "</table>\n",
       "</div>"
      ],
      "text/plain": [
       "              selection_method  no_of_features  mean_accuracy_score\n",
       "0            Without selection              20                 0.86\n",
       "1           Correlation matrix               7                 0.89\n",
       "2           Variance threshold               5                 0.91\n",
       "3         Analysis of variance               5                 0.89\n",
       "4    Lasso logistic regression               4                 0.91\n",
       "5                Random forest               2                 0.90\n",
       "6  Sequential Feature Selector               2                 0.93"
      ]
     },
     "execution_count": 17,
     "metadata": {},
     "output_type": "execute_result"
    }
   ],
   "source": [
    "from sklearn.feature_selection import SequentialFeatureSelector\n",
    "\n",
    "x = SequentialFeatureSelector(LogisticRegression(), n_features_to_select=2).fit_transform(x_data_generated, y_data_generated)\n",
    "\n",
    "to_results(x, 'Sequential Feature Selector')"
   ]
  },
  {
   "cell_type": "markdown",
   "id": "75730ec2",
   "metadata": {},
   "source": [
    "### 7. Сформулируйте выводы по проделанной работе:\n",
    "\n",
    "На мой взгляд при должной настройке с помощью любого из рассмотренных методов можно достичь желаемого результата. Необходимо учитывать специфику данных при выборе метода. К примеру, в моем случае оказалось достаточно всего двух признаков, чтобы добиться максимальной точности классификации, не прибегая к другим методам, кроме отбора признаков.\n",
    "\n",
    "В такой ситуации, когда данных и признаков относительно немного, `Sequential Feature Selector` может сработать быстрее и качественнее других методов, поскольку он просто переберет все возможные варианты и выдаст оптимальный. Необходимо только определиться с тем сколько признаков оставить. Но и это решение можно делегировать `SFS`, установив для параметра `n_features_to_select` значение `auto`."
   ]
  }
 ],
 "metadata": {
  "kernelspec": {
   "display_name": "Python 3 (ipykernel)",
   "language": "python",
   "name": "python3"
  },
  "language_info": {
   "codemirror_mode": {
    "name": "ipython",
    "version": 3
   },
   "file_extension": ".py",
   "mimetype": "text/x-python",
   "name": "python",
   "nbconvert_exporter": "python",
   "pygments_lexer": "ipython3",
   "version": "3.9.12"
  }
 },
 "nbformat": 4,
 "nbformat_minor": 5
}
